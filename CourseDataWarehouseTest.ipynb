{
 "cells": [
  {
   "cell_type": "code",
   "execution_count": 1,
   "metadata": {},
   "outputs": [],
   "source": [
    "%load_ext sql"
   ]
  },
  {
   "cell_type": "code",
   "execution_count": 2,
   "metadata": {},
   "outputs": [
    {
     "data": {
      "text/plain": [
       "'Connected: @CourseDataWareHouse.db'"
      ]
     },
     "execution_count": 2,
     "metadata": {},
     "output_type": "execute_result"
    }
   ],
   "source": [
    "%%sql\n",
    "sqlite:///CourseDataWareHouse.db"
   ]
  },
  {
   "cell_type": "markdown",
   "metadata": {},
   "source": [
    "## Domain integrity"
   ]
  },
  {
   "cell_type": "markdown",
   "metadata": {},
   "source": [
    "Check Data Types for tables"
   ]
  },
  {
   "cell_type": "code",
   "execution_count": 3,
   "metadata": {},
   "outputs": [
    {
     "name": "stdout",
     "output_type": "stream",
     "text": [
      " * sqlite:///CourseDataWareHouse.db\n",
      "Done.\n"
     ]
    },
    {
     "data": {
      "text/html": [
       "<table>\n",
       "    <tr>\n",
       "        <th>typeof(CC_ID)</th>\n",
       "        <th>typeof(COURSE_TITLE)</th>\n",
       "        <th>typeof(PRE_REQS)</th>\n",
       "        <th>typeof(CO_REQS)</th>\n",
       "    </tr>\n",
       "    <tr>\n",
       "        <td>integer</td>\n",
       "        <td>text</td>\n",
       "        <td>null</td>\n",
       "        <td>null</td>\n",
       "    </tr>\n",
       "</table>"
      ],
      "text/plain": [
       "[('integer', 'text', 'null', 'null')]"
      ]
     },
     "execution_count": 3,
     "metadata": {},
     "output_type": "execute_result"
    }
   ],
   "source": [
    "%%sql\n",
    "SELECT typeof(CC_ID),typeof(COURSE_TITLE),typeof(PRE_REQS),typeof(CO_REQS)\n",
    "FROM COURSES\n",
    "limit 1;"
   ]
  },
  {
   "cell_type": "code",
   "execution_count": 4,
   "metadata": {},
   "outputs": [
    {
     "name": "stdout",
     "output_type": "stream",
     "text": [
      " * sqlite:///CourseDataWareHouse.db\n",
      "Done.\n"
     ]
    },
    {
     "data": {
      "text/html": [
       "<table>\n",
       "    <tr>\n",
       "        <th>typeof(ROOM_ID)</th>\n",
       "        <th>typeof(ROOM_NO)</th>\n",
       "    </tr>\n",
       "    <tr>\n",
       "        <td>integer</td>\n",
       "        <td>text</td>\n",
       "    </tr>\n",
       "</table>"
      ],
      "text/plain": [
       "[('integer', 'text')]"
      ]
     },
     "execution_count": 4,
     "metadata": {},
     "output_type": "execute_result"
    }
   ],
   "source": [
    "%%sql\n",
    "SELECT typeof(ROOM_ID),typeof(ROOM_NO)\n",
    "FROM MEETINGS\n",
    "limit 1;"
   ]
  },
  {
   "cell_type": "code",
   "execution_count": 5,
   "metadata": {},
   "outputs": [
    {
     "name": "stdout",
     "output_type": "stream",
     "text": [
      " * sqlite:///CourseDataWareHouse.db\n",
      "Done.\n"
     ]
    },
    {
     "data": {
      "text/html": [
       "<table>\n",
       "    <tr>\n",
       "        <th>typeof(I_ID)</th>\n",
       "        <th>typeof(NAME)</th>\n",
       "        <th>typeof(COURSE_TITLE)</th>\n",
       "    </tr>\n",
       "    <tr>\n",
       "        <td>integer</td>\n",
       "        <td>text</td>\n",
       "        <td>text</td>\n",
       "    </tr>\n",
       "</table>"
      ],
      "text/plain": [
       "[('integer', 'text', 'text')]"
      ]
     },
     "execution_count": 5,
     "metadata": {},
     "output_type": "execute_result"
    }
   ],
   "source": [
    "%%sql\n",
    "SELECT typeof(I_ID),typeof(NAME),typeof(COURSE_TITLE)\n",
    "FROM PROFESSOR\n",
    "limit 1;"
   ]
  },
  {
   "cell_type": "code",
   "execution_count": 7,
   "metadata": {},
   "outputs": [
    {
     "name": "stdout",
     "output_type": "stream",
     "text": [
      " * sqlite:///CourseDataWareHouse.db\n",
      "Done.\n"
     ]
    },
    {
     "data": {
      "text/html": [
       "<table>\n",
       "    <tr>\n",
       "        <th>typeof(TIME_ID)</th>\n",
       "        <th>typeof(START_TIME)</th>\n",
       "        <th>typeof(END_TIME)</th>\n",
       "    </tr>\n",
       "    <tr>\n",
       "        <td>integer</td>\n",
       "        <td>text</td>\n",
       "        <td>text</td>\n",
       "    </tr>\n",
       "</table>"
      ],
      "text/plain": [
       "[('integer', 'text', 'text')]"
      ]
     },
     "execution_count": 7,
     "metadata": {},
     "output_type": "execute_result"
    }
   ],
   "source": [
    "%%sql\n",
    "SELECT typeof(TIME_ID), typeof(START_TIME), typeof(END_TIME)\n",
    "FROM TIME\n",
    "limit 1;"
   ]
  },
  {
   "cell_type": "code",
   "execution_count": 25,
   "metadata": {},
   "outputs": [
    {
     "name": "stdout",
     "output_type": "stream",
     "text": [
      " * sqlite:///CourseDataWareHouse.db\n",
      "Done.\n"
     ]
    },
    {
     "data": {
      "text/html": [
       "<table>\n",
       "    <tr>\n",
       "        <th>typeof(CF_ID)</th>\n",
       "        <th>typeof(ACT)</th>\n",
       "        <th>typeof(CAP)</th>\n",
       "        <th>typeof(REM)</th>\n",
       "        <th>typeof(CC_ID)</th>\n",
       "        <th>typeof(I_ID)</th>\n",
       "        <th>typeof(ROOM_ID)</th>\n",
       "        <th>typeof(TIME_ID)</th>\n",
       "        <th>typeof(TERM_NAME)</th>\n",
       "        <th>typeof(CRN)</th>\n",
       "    </tr>\n",
       "    <tr>\n",
       "        <td>integer</td>\n",
       "        <td>integer</td>\n",
       "        <td>integer</td>\n",
       "        <td>integer</td>\n",
       "        <td>integer</td>\n",
       "        <td>integer</td>\n",
       "        <td>integer</td>\n",
       "        <td>integer</td>\n",
       "        <td>text</td>\n",
       "        <td>integer</td>\n",
       "    </tr>\n",
       "</table>"
      ],
      "text/plain": [
       "[('integer', 'integer', 'integer', 'integer', 'integer', 'integer', 'integer', 'integer', 'text', 'integer')]"
      ]
     },
     "execution_count": 25,
     "metadata": {},
     "output_type": "execute_result"
    }
   ],
   "source": [
    "%%sql\n",
    "SELECT typeof(CF_ID), typeof(ACT), typeof(CAP),typeof(REM), typeof(CC_ID), typeof(I_ID)\n",
    ", typeof(ROOM_ID), typeof(TIME_ID), typeof(TERM_NAME), typeof(CRN)\n",
    "FROM COURSE_FACTS\n",
    "where room_id is not null\n",
    "and time_id is not null\n",
    "limit 1;"
   ]
  },
  {
   "cell_type": "markdown",
   "metadata": {},
   "source": [
    "## Entity integrity"
   ]
  },
  {
   "cell_type": "markdown",
   "metadata": {},
   "source": [
    "Check for duplicates in tables"
   ]
  },
  {
   "cell_type": "code",
   "execution_count": 11,
   "metadata": {},
   "outputs": [
    {
     "name": "stdout",
     "output_type": "stream",
     "text": [
      " * sqlite:///CourseDataWareHouse.db\n",
      "Done.\n"
     ]
    },
    {
     "data": {
      "text/html": [
       "<table>\n",
       "    <tr>\n",
       "        <th>COUNT(CC_ID)</th>\n",
       "    </tr>\n",
       "    <tr>\n",
       "        <td>2220</td>\n",
       "    </tr>\n",
       "</table>"
      ],
      "text/plain": [
       "[(2220,)]"
      ]
     },
     "execution_count": 11,
     "metadata": {},
     "output_type": "execute_result"
    }
   ],
   "source": [
    "%%sql\n",
    "SELECT COUNT(CC_ID)\n",
    "FROM COURSES;"
   ]
  },
  {
   "cell_type": "code",
   "execution_count": 12,
   "metadata": {},
   "outputs": [
    {
     "name": "stdout",
     "output_type": "stream",
     "text": [
      " * sqlite:///CourseDataWareHouse.db\n",
      "Done.\n"
     ]
    },
    {
     "data": {
      "text/html": [
       "<table>\n",
       "    <tr>\n",
       "        <th>COUNT(CC_ID)</th>\n",
       "    </tr>\n",
       "    <tr>\n",
       "        <td>2220</td>\n",
       "    </tr>\n",
       "</table>"
      ],
      "text/plain": [
       "[(2220,)]"
      ]
     },
     "execution_count": 12,
     "metadata": {},
     "output_type": "execute_result"
    }
   ],
   "source": [
    "%%sql\n",
    "SELECT DISTINCT COUNT(CC_ID)\n",
    "FROM COURSES;"
   ]
  },
  {
   "cell_type": "code",
   "execution_count": 15,
   "metadata": {},
   "outputs": [
    {
     "name": "stdout",
     "output_type": "stream",
     "text": [
      " * sqlite:///CourseDataWareHouse.db\n",
      "Done.\n"
     ]
    },
    {
     "data": {
      "text/html": [
       "<table>\n",
       "    <tr>\n",
       "        <th>COUNT(ROOM_ID)</th>\n",
       "    </tr>\n",
       "    <tr>\n",
       "        <td>13032</td>\n",
       "    </tr>\n",
       "</table>"
      ],
      "text/plain": [
       "[(13032,)]"
      ]
     },
     "execution_count": 15,
     "metadata": {},
     "output_type": "execute_result"
    }
   ],
   "source": [
    "%%sql\n",
    "SELECT COUNT(ROOM_ID)\n",
    "FROM MEETINGS;"
   ]
  },
  {
   "cell_type": "code",
   "execution_count": 16,
   "metadata": {},
   "outputs": [
    {
     "name": "stdout",
     "output_type": "stream",
     "text": [
      " * sqlite:///CourseDataWareHouse.db\n",
      "Done.\n"
     ]
    },
    {
     "data": {
      "text/html": [
       "<table>\n",
       "    <tr>\n",
       "        <th>COUNT(ROOM_ID)</th>\n",
       "    </tr>\n",
       "    <tr>\n",
       "        <td>13032</td>\n",
       "    </tr>\n",
       "</table>"
      ],
      "text/plain": [
       "[(13032,)]"
      ]
     },
     "execution_count": 16,
     "metadata": {},
     "output_type": "execute_result"
    }
   ],
   "source": [
    "%%sql\n",
    "SELECT DISTINCT COUNT(ROOM_ID)\n",
    "FROM MEETINGS;"
   ]
  },
  {
   "cell_type": "code",
   "execution_count": 17,
   "metadata": {},
   "outputs": [
    {
     "name": "stdout",
     "output_type": "stream",
     "text": [
      " * sqlite:///CourseDataWareHouse.db\n",
      "Done.\n"
     ]
    },
    {
     "data": {
      "text/html": [
       "<table>\n",
       "    <tr>\n",
       "        <th>COUNT(I_ID)</th>\n",
       "    </tr>\n",
       "    <tr>\n",
       "        <td>14330</td>\n",
       "    </tr>\n",
       "</table>"
      ],
      "text/plain": [
       "[(14330,)]"
      ]
     },
     "execution_count": 17,
     "metadata": {},
     "output_type": "execute_result"
    }
   ],
   "source": [
    "%%sql\n",
    "SELECT COUNT(I_ID)\n",
    "FROM PROFESSOR;"
   ]
  },
  {
   "cell_type": "code",
   "execution_count": 18,
   "metadata": {},
   "outputs": [
    {
     "name": "stdout",
     "output_type": "stream",
     "text": [
      " * sqlite:///CourseDataWareHouse.db\n",
      "Done.\n"
     ]
    },
    {
     "data": {
      "text/html": [
       "<table>\n",
       "    <tr>\n",
       "        <th>COUNT(I_ID)</th>\n",
       "    </tr>\n",
       "    <tr>\n",
       "        <td>14330</td>\n",
       "    </tr>\n",
       "</table>"
      ],
      "text/plain": [
       "[(14330,)]"
      ]
     },
     "execution_count": 18,
     "metadata": {},
     "output_type": "execute_result"
    }
   ],
   "source": [
    "%%sql\n",
    "SELECT DISTINCT COUNT(I_ID)\n",
    "FROM PROFESSOR;"
   ]
  },
  {
   "cell_type": "code",
   "execution_count": 19,
   "metadata": {},
   "outputs": [
    {
     "name": "stdout",
     "output_type": "stream",
     "text": [
      " * sqlite:///CourseDataWareHouse.db\n",
      "Done.\n"
     ]
    },
    {
     "data": {
      "text/html": [
       "<table>\n",
       "    <tr>\n",
       "        <th>COUNT(TIME_ID)</th>\n",
       "    </tr>\n",
       "    <tr>\n",
       "        <td>296781</td>\n",
       "    </tr>\n",
       "</table>"
      ],
      "text/plain": [
       "[(296781,)]"
      ]
     },
     "execution_count": 19,
     "metadata": {},
     "output_type": "execute_result"
    }
   ],
   "source": [
    "%%sql\n",
    "SELECT COUNT(TIME_ID)\n",
    "FROM TIME;"
   ]
  },
  {
   "cell_type": "code",
   "execution_count": 20,
   "metadata": {},
   "outputs": [
    {
     "name": "stdout",
     "output_type": "stream",
     "text": [
      " * sqlite:///CourseDataWareHouse.db\n",
      "Done.\n"
     ]
    },
    {
     "data": {
      "text/html": [
       "<table>\n",
       "    <tr>\n",
       "        <th>COUNT(TIME_ID)</th>\n",
       "    </tr>\n",
       "    <tr>\n",
       "        <td>296781</td>\n",
       "    </tr>\n",
       "</table>"
      ],
      "text/plain": [
       "[(296781,)]"
      ]
     },
     "execution_count": 20,
     "metadata": {},
     "output_type": "execute_result"
    }
   ],
   "source": [
    "%%sql\n",
    "SELECT DISTINCT COUNT(TIME_ID)\n",
    "FROM TIME;"
   ]
  },
  {
   "cell_type": "code",
   "execution_count": 23,
   "metadata": {},
   "outputs": [
    {
     "name": "stdout",
     "output_type": "stream",
     "text": [
      " * sqlite:///CourseDataWareHouse.db\n",
      "Done.\n"
     ]
    },
    {
     "data": {
      "text/html": [
       "<table>\n",
       "    <tr>\n",
       "        <th>COUNT(ACT)</th>\n",
       "    </tr>\n",
       "    <tr>\n",
       "        <td>2899784</td>\n",
       "    </tr>\n",
       "</table>"
      ],
      "text/plain": [
       "[(2899784,)]"
      ]
     },
     "execution_count": 23,
     "metadata": {},
     "output_type": "execute_result"
    }
   ],
   "source": [
    "%%sql\n",
    "SELECT COUNT(ACT)\n",
    "FROM COURSE_FACTS;"
   ]
  },
  {
   "cell_type": "code",
   "execution_count": 24,
   "metadata": {},
   "outputs": [
    {
     "name": "stdout",
     "output_type": "stream",
     "text": [
      " * sqlite:///CourseDataWareHouse.db\n",
      "Done.\n"
     ]
    },
    {
     "data": {
      "text/html": [
       "<table>\n",
       "    <tr>\n",
       "        <th>COUNT(ACT)</th>\n",
       "    </tr>\n",
       "    <tr>\n",
       "        <td>2899784</td>\n",
       "    </tr>\n",
       "</table>"
      ],
      "text/plain": [
       "[(2899784,)]"
      ]
     },
     "execution_count": 24,
     "metadata": {},
     "output_type": "execute_result"
    }
   ],
   "source": [
    "%%sql\n",
    "SELECT DISTINCT COUNT(ACT)\n",
    "FROM COURSE_FACTS;"
   ]
  },
  {
   "cell_type": "markdown",
   "metadata": {},
   "source": [
    "## Relational integrity"
   ]
  },
  {
   "cell_type": "markdown",
   "metadata": {},
   "source": [
    "Foreign Keys Joins compatible with the Primary Keys"
   ]
  },
  {
   "cell_type": "code",
   "execution_count": 27,
   "metadata": {},
   "outputs": [
    {
     "name": "stdout",
     "output_type": "stream",
     "text": [
      " * sqlite:///CourseDataWareHouse.db\n",
      "Done.\n"
     ]
    },
    {
     "data": {
      "text/html": [
       "<table>\n",
       "    <tr>\n",
       "        <th>CF_ID</th>\n",
       "        <th>ACT</th>\n",
       "        <th>CAP</th>\n",
       "        <th>REM</th>\n",
       "        <th>AVG_CAP</th>\n",
       "        <th>MAX_CAP</th>\n",
       "        <th>MIN_CAP</th>\n",
       "        <th>CC_ID</th>\n",
       "        <th>ROOM_ID</th>\n",
       "        <th>I_ID</th>\n",
       "        <th>TIME_ID</th>\n",
       "        <th>TERM_NAME</th>\n",
       "        <th>CRN</th>\n",
       "        <th>TIME_ID_1</th>\n",
       "        <th>START_TIME</th>\n",
       "        <th>END_TIME</th>\n",
       "        <th>I_ID_1</th>\n",
       "        <th>NAME</th>\n",
       "        <th>COURSE_TITLE</th>\n",
       "        <th>ROOM_ID_1</th>\n",
       "        <th>ROOM_NO</th>\n",
       "        <th>CC_ID_1</th>\n",
       "        <th>COURSE_TITLE_1</th>\n",
       "        <th>PRE_REQS</th>\n",
       "        <th>CO_REQS</th>\n",
       "    </tr>\n",
       "    <tr>\n",
       "        <td>29166</td>\n",
       "        <td>0</td>\n",
       "        <td>0</td>\n",
       "        <td>0</td>\n",
       "        <td>0</td>\n",
       "        <td>0</td>\n",
       "        <td>0</td>\n",
       "        <td>1101</td>\n",
       "        <td>5074</td>\n",
       "        <td>5363</td>\n",
       "        <td>119417</td>\n",
       "        <td>Fall2018</td>\n",
       "        <td>74970</td>\n",
       "        <td>119417</td>\n",
       "        <td>2018-09-05T11:00:00</td>\n",
       "        <td>2018-09-05T13:30:00</td>\n",
       "        <td>5363</td>\n",
       "        <td>Catherine J.  Andersen</td>\n",
       "        <td>Biology Research IV</td>\n",
       "        <td>5074</td>\n",
       "        <td>BNW 127</td>\n",
       "        <td>1101</td>\n",
       "        <td>Biology Research IV</td>\n",
       "        <td>None</td>\n",
       "        <td>None</td>\n",
       "    </tr>\n",
       "</table>"
      ],
      "text/plain": [
       "[(29166, 0, 0, 0, 0, 0, 0, 1101, 5074, 5363, 119417, 'Fall2018', 74970, 119417, '2018-09-05T11:00:00', '2018-09-05T13:30:00', 5363, 'Catherine J.  Andersen', 'Biology Research IV', 5074, 'BNW 127', 1101, 'Biology Research IV', None, None)]"
      ]
     },
     "execution_count": 27,
     "metadata": {},
     "output_type": "execute_result"
    }
   ],
   "source": [
    "%%sql\n",
    "SELECT *\n",
    "FROM COURSE_FACTS a, TIME b, PROFESSOR c, MEETINGS d, COURSES e\n",
    "WHERE a.TIME_ID=b.TIME_ID\n",
    "and a.I_ID=c.i_ID\n",
    "and a.ROOM_ID=d.ROOM_ID\n",
    "and a.CC_ID=e.CC_ID\n",
    "limit 1;"
   ]
  }
 ],
 "metadata": {
  "kernelspec": {
   "display_name": "Python 3",
   "language": "python",
   "name": "python3"
  },
  "language_info": {
   "codemirror_mode": {
    "name": "ipython",
    "version": 3
   },
   "file_extension": ".py",
   "mimetype": "text/x-python",
   "name": "python",
   "nbconvert_exporter": "python",
   "pygments_lexer": "ipython3",
   "version": "3.6.5"
  }
 },
 "nbformat": 4,
 "nbformat_minor": 2
}
