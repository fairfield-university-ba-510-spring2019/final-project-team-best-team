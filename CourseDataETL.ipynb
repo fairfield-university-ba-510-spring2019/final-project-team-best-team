{
 "cells": [
  {
   "cell_type": "code",
   "execution_count": 17,
   "metadata": {},
   "outputs": [],
   "source": [
    "import pandas as pd \n",
    "import numpy as np\n",
    "import sqlite3\n",
    "conn = sqlite3.connect('CourseData.db')\n",
    "c = conn.cursor()"
   ]
  },
  {
   "cell_type": "markdown",
   "metadata": {},
   "source": [
    "## Run this to set up %sql and %%sql magics"
   ]
  },
  {
   "cell_type": "code",
   "execution_count": 18,
   "metadata": {},
   "outputs": [
    {
     "name": "stdout",
     "output_type": "stream",
     "text": [
      "The sql extension is already loaded. To reload it, use:\n",
      "  %reload_ext sql\n"
     ]
    }
   ],
   "source": [
    "%load_ext sql"
   ]
  },
  {
   "cell_type": "code",
   "execution_count": 19,
   "metadata": {},
   "outputs": [
    {
     "data": {
      "text/plain": [
       "'Connected: @CourseData.db'"
      ]
     },
     "execution_count": 19,
     "metadata": {},
     "output_type": "execute_result"
    }
   ],
   "source": [
    "%%sql\n",
    "sqlite:///CourseData.db"
   ]
  },
  {
   "cell_type": "markdown",
   "metadata": {},
   "source": [
    "## Drop Import Tables For Any Future Rerun of Code"
   ]
  },
  {
   "cell_type": "code",
   "execution_count": 20,
   "metadata": {},
   "outputs": [
    {
     "name": "stdout",
     "output_type": "stream",
     "text": [
      " * sqlite:///CourseData.db\n",
      "Done.\n"
     ]
    },
    {
     "data": {
      "text/plain": [
       "[]"
      ]
     },
     "execution_count": 20,
     "metadata": {},
     "output_type": "execute_result"
    }
   ],
   "source": [
    "%%sql\n",
    "drop table if exists import_courses;"
   ]
  },
  {
   "cell_type": "code",
   "execution_count": 21,
   "metadata": {},
   "outputs": [
    {
     "name": "stdout",
     "output_type": "stream",
     "text": [
      " * sqlite:///CourseData.db\n",
      "Done.\n"
     ]
    },
    {
     "data": {
      "text/plain": [
       "[]"
      ]
     },
     "execution_count": 21,
     "metadata": {},
     "output_type": "execute_result"
    }
   ],
   "source": [
    "%%sql\n",
    "drop table if exists import_cmeetings;"
   ]
  },
  {
   "cell_type": "code",
   "execution_count": 22,
   "metadata": {},
   "outputs": [
    {
     "name": "stdout",
     "output_type": "stream",
     "text": [
      " * sqlite:///CourseData.db\n",
      "Done.\n"
     ]
    },
    {
     "data": {
      "text/plain": [
       "[]"
      ]
     },
     "execution_count": 22,
     "metadata": {},
     "output_type": "execute_result"
    }
   ],
   "source": [
    "%%sql\n",
    "drop table if exists import_catalog;"
   ]
  },
  {
   "cell_type": "markdown",
   "metadata": {},
   "source": [
    "## Drop ERD Tables For Any Future Rerun of Code"
   ]
  },
  {
   "cell_type": "markdown",
   "metadata": {},
   "source": [
    "In individual cells so we could drop individual tables as needed"
   ]
  },
  {
   "cell_type": "code",
   "execution_count": 23,
   "metadata": {},
   "outputs": [
    {
     "name": "stdout",
     "output_type": "stream",
     "text": [
      " * sqlite:///CourseData.db\n",
      "Done.\n"
     ]
    },
    {
     "data": {
      "text/plain": [
       "[]"
      ]
     },
     "execution_count": 23,
     "metadata": {},
     "output_type": "execute_result"
    }
   ],
   "source": [
    "%%sql\n",
    "drop table if exists catalog_program;"
   ]
  },
  {
   "cell_type": "code",
   "execution_count": 24,
   "metadata": {},
   "outputs": [
    {
     "name": "stdout",
     "output_type": "stream",
     "text": [
      " * sqlite:///CourseData.db\n",
      "Done.\n"
     ]
    },
    {
     "data": {
      "text/plain": [
       "[]"
      ]
     },
     "execution_count": 24,
     "metadata": {},
     "output_type": "execute_result"
    }
   ],
   "source": [
    "%%sql\n",
    "drop table if exists catalog_course;"
   ]
  },
  {
   "cell_type": "code",
   "execution_count": 25,
   "metadata": {},
   "outputs": [
    {
     "name": "stdout",
     "output_type": "stream",
     "text": [
      " * sqlite:///CourseData.db\n",
      "Done.\n"
     ]
    },
    {
     "data": {
      "text/plain": [
       "[]"
      ]
     },
     "execution_count": 25,
     "metadata": {},
     "output_type": "execute_result"
    }
   ],
   "source": [
    "%%sql\n",
    "drop table if exists term;"
   ]
  },
  {
   "cell_type": "code",
   "execution_count": 29,
   "metadata": {},
   "outputs": [
    {
     "name": "stdout",
     "output_type": "stream",
     "text": [
      " * sqlite:///CourseData.db\n",
      "Done.\n"
     ]
    },
    {
     "data": {
      "text/plain": [
       "[]"
      ]
     },
     "execution_count": 29,
     "metadata": {},
     "output_type": "execute_result"
    }
   ],
   "source": [
    "%%sql\n",
    "drop table if exists course_offering;"
   ]
  },
  {
   "cell_type": "code",
   "execution_count": 30,
   "metadata": {},
   "outputs": [
    {
     "name": "stdout",
     "output_type": "stream",
     "text": [
      " * sqlite:///CourseData.db\n",
      "Done.\n"
     ]
    },
    {
     "data": {
      "text/plain": [
       "[]"
      ]
     },
     "execution_count": 30,
     "metadata": {},
     "output_type": "execute_result"
    }
   ],
   "source": [
    "%%sql\n",
    "drop table if exists instructor;"
   ]
  },
  {
   "cell_type": "code",
   "execution_count": 31,
   "metadata": {},
   "outputs": [
    {
     "name": "stdout",
     "output_type": "stream",
     "text": [
      " * sqlite:///CourseData.db\n",
      "Done.\n"
     ]
    },
    {
     "data": {
      "text/plain": [
       "[]"
      ]
     },
     "execution_count": 31,
     "metadata": {},
     "output_type": "execute_result"
    }
   ],
   "source": [
    "%%sql\n",
    "drop table if exists course_meeting;"
   ]
  },
  {
   "cell_type": "code",
   "execution_count": 32,
   "metadata": {},
   "outputs": [
    {
     "name": "stdout",
     "output_type": "stream",
     "text": [
      " * sqlite:///CourseData.db\n",
      "Done.\n"
     ]
    },
    {
     "data": {
      "text/plain": [
       "[]"
      ]
     },
     "execution_count": 32,
     "metadata": {},
     "output_type": "execute_result"
    }
   ],
   "source": [
    "%%sql\n",
    "drop table if exists time_code;"
   ]
  },
  {
   "cell_type": "code",
   "execution_count": 33,
   "metadata": {},
   "outputs": [
    {
     "name": "stdout",
     "output_type": "stream",
     "text": [
      " * sqlite:///CourseData.db\n",
      "Done.\n"
     ]
    },
    {
     "data": {
      "text/plain": [
       "[]"
      ]
     },
     "execution_count": 33,
     "metadata": {},
     "output_type": "execute_result"
    }
   ],
   "source": [
    "%%sql\n",
    "drop table if exists location;"
   ]
  },
  {
   "cell_type": "markdown",
   "metadata": {},
   "source": [
    "## Create Import Tables"
   ]
  },
  {
   "cell_type": "code",
   "execution_count": 34,
   "metadata": {},
   "outputs": [
    {
     "name": "stdout",
     "output_type": "stream",
     "text": [
      " * sqlite:///CourseData.db\n",
      "Done.\n"
     ]
    },
    {
     "data": {
      "text/plain": [
       "[]"
      ]
     },
     "execution_count": 34,
     "metadata": {},
     "output_type": "execute_result"
    }
   ],
   "source": [
    "%%sql\n",
    "create table 'import_catalog' (\n",
    "    program_code TEXT NOT NULL,\n",
    "    program_name VARCHAR NOT NULL,\n",
    "    catalog_id VARCHAR NOT NULL,\n",
    "    course_title VARCHAR NOT NULL, \n",
    "    credits VARCHAR NOT NULL,\n",
    "    prereqs VARCHAR, \n",
    "    coreqs VARCHAR,\n",
    "    fees VARCHAR,\n",
    "    attributes VARCHAR,\n",
    "    description VARCHAR \n",
    ");"
   ]
  },
  {
   "cell_type": "code",
   "execution_count": 35,
   "metadata": {},
   "outputs": [
    {
     "name": "stdout",
     "output_type": "stream",
     "text": [
      " * sqlite:///CourseData.db\n",
      "Done.\n"
     ]
    },
    {
     "data": {
      "text/plain": [
       "[]"
      ]
     },
     "execution_count": 35,
     "metadata": {},
     "output_type": "execute_result"
    }
   ],
   "source": [
    "%%sql\n",
    "create table 'import_cmeetings' (\n",
    "    term VARCHAR NOT NULL,\n",
    "    crn INTEGER NOT NULL,\n",
    "    location VARCHAR NOT NULL,\n",
    "    day TEXT NOT NULL,\n",
    "    start VARCHAR NOT NULL,\n",
    "    end VARCHAR NOT NULL \n",
    ");"
   ]
  },
  {
   "cell_type": "code",
   "execution_count": 36,
   "metadata": {},
   "outputs": [
    {
     "name": "stdout",
     "output_type": "stream",
     "text": [
      " * sqlite:///CourseData.db\n",
      "Done.\n"
     ]
    },
    {
     "data": {
      "text/plain": [
       "[]"
      ]
     },
     "execution_count": 36,
     "metadata": {},
     "output_type": "execute_result"
    }
   ],
   "source": [
    "%%sql\n",
    "create table 'import_courses' (\n",
    "    term VARCHAR NOT NULL,\n",
    "    crn INTEGER NOT NULL,\n",
    "    catalog_id VARCHAR NOT NULL,\n",
    "    section VARCHAR NOT NULL,\n",
    "    credits VARCHAR,\n",
    "    title VARCHAR, \n",
    "    meetings VARCHAR,\n",
    "    timecodes VARCHAR, \n",
    "    primary_instructor TEXT,\n",
    "    cap INTEGER, \n",
    "    act INTEGER, \n",
    "    rem INTEGER \n",
    ");"
   ]
  },
  {
   "cell_type": "markdown",
   "metadata": {},
   "source": [
    "## Create Database Tables From ERD"
   ]
  },
  {
   "cell_type": "code",
   "execution_count": 37,
   "metadata": {},
   "outputs": [
    {
     "name": "stdout",
     "output_type": "stream",
     "text": [
      " * sqlite:///CourseData.db\n",
      "Done.\n"
     ]
    },
    {
     "data": {
      "text/plain": [
       "[]"
      ]
     },
     "execution_count": 37,
     "metadata": {},
     "output_type": "execute_result"
    }
   ],
   "source": [
    "%%sql\n",
    "create table CATALOG_PROGRAM (\n",
    "    CATALOG_ID VARCHAR PRIMARY KEY,\n",
    "    PROGRAM_CODE TEXT NOT NULL,\n",
    "    PROGRAM_NAME VARCHAR NOT NULL,\n",
    "    COURSE_TITLE VARCHAR NOT NULL\n",
    ");"
   ]
  },
  {
   "cell_type": "code",
   "execution_count": 38,
   "metadata": {},
   "outputs": [
    {
     "name": "stdout",
     "output_type": "stream",
     "text": [
      " * sqlite:///CourseData.db\n",
      "Done.\n"
     ]
    },
    {
     "data": {
      "text/plain": [
       "[]"
      ]
     },
     "execution_count": 38,
     "metadata": {},
     "output_type": "execute_result"
    }
   ],
   "source": [
    "%%sql\n",
    "create table CATALOG_COURSE (\n",
    "    CC_ID INTEGER PRIMARY KEY,\n",
    "    COURSE_TITLE VARCHAR NOT NULL,\n",
    "    PRE_REQS VARCHAR,\n",
    "    CO_REQS VARCHAR,\n",
    "    CATALOG_ID VARCHAR NOT NULL,\n",
    "    FOREIGN KEY (CATALOG_ID) REFERENCES CATALOG_PROGRAM (CATALOG_ID)\n",
    ");"
   ]
  },
  {
   "cell_type": "code",
   "execution_count": 39,
   "metadata": {},
   "outputs": [
    {
     "name": "stdout",
     "output_type": "stream",
     "text": [
      " * sqlite:///CourseData.db\n",
      "Done.\n"
     ]
    },
    {
     "data": {
      "text/plain": [
       "[]"
      ]
     },
     "execution_count": 39,
     "metadata": {},
     "output_type": "execute_result"
    }
   ],
   "source": [
    "%%sql\n",
    "create table TERM (\n",
    "    TERM_ID INTEGER PRIMARY KEY,\n",
    "    TERM_NAME VARCHAR NOT NULL,\n",
    "    CRN INTEGER NOT NULL,\n",
    "    FOREIGN KEY (CRN) REFERENCES CATALOG_COURSE (CRN)\n",
    ");"
   ]
  },
  {
   "cell_type": "code",
   "execution_count": 40,
   "metadata": {},
   "outputs": [
    {
     "name": "stdout",
     "output_type": "stream",
     "text": [
      " * sqlite:///CourseData.db\n",
      "Done.\n"
     ]
    },
    {
     "data": {
      "text/plain": [
       "[]"
      ]
     },
     "execution_count": 40,
     "metadata": {},
     "output_type": "execute_result"
    }
   ],
   "source": [
    "%%sql\n",
    "create table COURSE_OFFERING (\n",
    "    CO_ID INTEGER PRIMARY KEY,\n",
    "    CRN INTEGER NOT NULL,\n",
    "    SECTION VARCHAR NOT NULL,\n",
    "    COURSE_TITLE VARCHAR NOT NULL,\n",
    "    CREDITS VARCHAR NOT NULL,\n",
    "    FOREIGN KEY (CRN) REFERENCES CATALOG_COURSE (CRN)\n",
    ");"
   ]
  },
  {
   "cell_type": "code",
   "execution_count": 41,
   "metadata": {},
   "outputs": [
    {
     "name": "stdout",
     "output_type": "stream",
     "text": [
      " * sqlite:///CourseData.db\n",
      "Done.\n"
     ]
    },
    {
     "data": {
      "text/plain": [
       "[]"
      ]
     },
     "execution_count": 41,
     "metadata": {},
     "output_type": "execute_result"
    }
   ],
   "source": [
    "%%sql\n",
    "create table INSTRUCTOR (\n",
    "    I_ID INTEGER PRIMARY KEY,\n",
    "    NAME TEXT NOT NULL,\n",
    "    COURSE_TITLE VARCHAR NOT NULL,\n",
    "    CRN INTEGER NOT NULL,\n",
    "    FOREIGN KEY (CRN) REFERENCES COURSE_OFFERING (CRN)\n",
    ");"
   ]
  },
  {
   "cell_type": "code",
   "execution_count": 42,
   "metadata": {},
   "outputs": [
    {
     "name": "stdout",
     "output_type": "stream",
     "text": [
      " * sqlite:///CourseData.db\n",
      "Done.\n"
     ]
    },
    {
     "data": {
      "text/plain": [
       "[]"
      ]
     },
     "execution_count": 42,
     "metadata": {},
     "output_type": "execute_result"
    }
   ],
   "source": [
    "%%sql\n",
    "create table COURSE_MEETING (\n",
    "    CM_ID INTEGER PRIMARY KEY,\n",
    "    CRN INTEGER NOT NULL,\n",
    "    CAP INTEGER NOT NULL,\n",
    "    ACT INTEGER,\n",
    "    REM INTEGER,\n",
    "    SECTION VARCHAR NOT NULL,\n",
    "    FOREIGN KEY (SECTION) REFERENCES COURSE_OFFERING (SECTION)\n",
    ");"
   ]
  },
  {
   "cell_type": "code",
   "execution_count": 43,
   "metadata": {},
   "outputs": [
    {
     "name": "stdout",
     "output_type": "stream",
     "text": [
      " * sqlite:///CourseData.db\n",
      "Done.\n"
     ]
    },
    {
     "data": {
      "text/plain": [
       "[]"
      ]
     },
     "execution_count": 43,
     "metadata": {},
     "output_type": "execute_result"
    }
   ],
   "source": [
    "%%sql\n",
    "create table TIME_CODE (\n",
    "    TIME_ID INTEGER PRIMARY KEY,\n",
    "    START_TIME VARCHAR NOT NULL,\n",
    "    END_TIME VARCHAR NOT NULL,\n",
    "    CRN INTEGER NOT NULL,\n",
    "    FOREIGN KEY (CRN) REFERENCES COURSE_OFFERING (CRN)\n",
    ");"
   ]
  },
  {
   "cell_type": "code",
   "execution_count": 44,
   "metadata": {},
   "outputs": [
    {
     "name": "stdout",
     "output_type": "stream",
     "text": [
      " * sqlite:///CourseData.db\n",
      "Done.\n"
     ]
    },
    {
     "data": {
      "text/plain": [
       "[]"
      ]
     },
     "execution_count": 44,
     "metadata": {},
     "output_type": "execute_result"
    }
   ],
   "source": [
    "%%sql\n",
    "create table LOCATION (\n",
    "    ROOM_ID INTEGER PRIMARY KEY,\n",
    "    Room_No VARCHAR NOT NULL,\n",
    "    CRN INTEGER NOT NULL,\n",
    "    FOREIGN KEY (CRN) REFERENCES COURSE_MEETING (CRN)\n",
    ");"
   ]
  },
  {
   "cell_type": "markdown",
   "metadata": {},
   "source": [
    "## Import CSV Files"
   ]
  },
  {
   "cell_type": "markdown",
   "metadata": {},
   "source": [
    "#### Import Courses CSVs using Python Pandas"
   ]
  },
  {
   "cell_type": "code",
   "execution_count": 45,
   "metadata": {},
   "outputs": [],
   "source": [
    "fall = ['SourceData/Fall2014/courses.csv',\n",
    "        'SourceData/Fall2015/courses.csv', \n",
    "        'SourceData/Fall2016/courses.csv',\n",
    "        'SourceData/Fall2017/courses.csv',\n",
    "        'SourceData/Fall2018/courses.csv']\n",
    "fall_0 = pd.read_csv(fall[0])\n",
    "fall_1 = pd.read_csv(fall[1])\n",
    "fall_2 = pd.read_csv(fall[2])    \n",
    "fall_3 = pd.read_csv(fall[3])\n",
    "fall_4 = pd.read_csv(fall[4])"
   ]
  },
  {
   "cell_type": "code",
   "execution_count": 46,
   "metadata": {},
   "outputs": [],
   "source": [
    "winter = ['SourceData/Winter2015/courses.csv', \n",
    "          'SourceData/Winter2016/courses.csv',\n",
    "          'SourceData/Winter2017/courses.csv',\n",
    "          'SourceData/Winter2018/courses.csv']\n",
    "winter_0 = pd.read_csv(winter[0])\n",
    "winter_1 = pd.read_csv(winter[1])\n",
    "winter_2 = pd.read_csv(winter[2])    \n",
    "winter_3 = pd.read_csv(winter[3])"
   ]
  },
  {
   "cell_type": "code",
   "execution_count": 47,
   "metadata": {},
   "outputs": [],
   "source": [
    "spring = ['SourceData/Spring2015/courses.csv',\n",
    "          'SourceData/Spring2016/courses.csv', \n",
    "          'SourceData/Spring2017/courses.csv',\n",
    "          'SourceData/Spring2018/courses.csv',\n",
    "          'SourceData/Spring2019/courses.csv',\n",
    "          'SourceData/SpringBreak2017/courses.csv']\n",
    "spring_0 = pd.read_csv(spring[0])\n",
    "spring_1 = pd.read_csv(spring[1])\n",
    "spring_2 = pd.read_csv(spring[2])    \n",
    "spring_3 = pd.read_csv(spring[3])\n",
    "spring_4 = pd.read_csv(spring[4])\n",
    "spring_5 = pd.read_csv(spring[5])"
   ]
  },
  {
   "cell_type": "code",
   "execution_count": 48,
   "metadata": {},
   "outputs": [],
   "source": [
    "summer = ['SourceData/Summer2015/courses.csv', \n",
    "          'SourceData/Summer2016/courses.csv',\n",
    "          'SourceData/Summer2017/courses.csv',\n",
    "          'SourceData/Summer2018/courses.csv']\n",
    "summer_0 = pd.read_csv(summer[0])\n",
    "summer_1 = pd.read_csv(summer[1])\n",
    "summer_2 = pd.read_csv(summer[2])    \n",
    "summer_3 = pd.read_csv(summer[3])"
   ]
  },
  {
   "cell_type": "code",
   "execution_count": 49,
   "metadata": {},
   "outputs": [],
   "source": [
    "df_fall = pd.concat([fall_0,fall_1,fall_2,fall_3,fall_4], axis=0)"
   ]
  },
  {
   "cell_type": "code",
   "execution_count": 50,
   "metadata": {},
   "outputs": [],
   "source": [
    "df_winter = pd.concat([winter_0,winter_1,winter_2,winter_3], axis=0)"
   ]
  },
  {
   "cell_type": "code",
   "execution_count": 51,
   "metadata": {},
   "outputs": [],
   "source": [
    "df_spring = pd.concat([spring_0,spring_1,spring_2,spring_3,spring_4,spring_5], axis=0)"
   ]
  },
  {
   "cell_type": "code",
   "execution_count": 52,
   "metadata": {},
   "outputs": [],
   "source": [
    "df_summer = pd.concat([summer_0,summer_1,summer_2,summer_3], axis=0)"
   ]
  },
  {
   "cell_type": "code",
   "execution_count": 53,
   "metadata": {},
   "outputs": [],
   "source": [
    "df_course = pd.concat([df_fall, df_winter, df_spring, df_summer], axis=0)"
   ]
  },
  {
   "cell_type": "code",
   "execution_count": 54,
   "metadata": {},
   "outputs": [
    {
     "data": {
      "text/html": [
       "<div>\n",
       "<style scoped>\n",
       "    .dataframe tbody tr th:only-of-type {\n",
       "        vertical-align: middle;\n",
       "    }\n",
       "\n",
       "    .dataframe tbody tr th {\n",
       "        vertical-align: top;\n",
       "    }\n",
       "\n",
       "    .dataframe thead th {\n",
       "        text-align: right;\n",
       "    }\n",
       "</style>\n",
       "<table border=\"1\" class=\"dataframe\">\n",
       "  <thead>\n",
       "    <tr style=\"text-align: right;\">\n",
       "      <th></th>\n",
       "      <th>term</th>\n",
       "      <th>crn</th>\n",
       "      <th>catalog_id</th>\n",
       "      <th>section</th>\n",
       "      <th>credits</th>\n",
       "      <th>title</th>\n",
       "      <th>meetings</th>\n",
       "      <th>timecodes</th>\n",
       "      <th>primary_instructor</th>\n",
       "      <th>cap</th>\n",
       "      <th>act</th>\n",
       "      <th>rem</th>\n",
       "    </tr>\n",
       "  </thead>\n",
       "  <tbody>\n",
       "    <tr>\n",
       "      <th>0</th>\n",
       "      <td>Fall2014</td>\n",
       "      <td>70384</td>\n",
       "      <td>AC 0011</td>\n",
       "      <td>C01</td>\n",
       "      <td>3.000</td>\n",
       "      <td>Introduction to Financial Accounting</td>\n",
       "      <td>[{'days': 'TF', 'times': '0800am-0915am', 'dat...</td>\n",
       "      <td>['TF 0800am-0915am 09/02-12/08 DSB 105']</td>\n",
       "      <td>Michael P.  Coyne</td>\n",
       "      <td>0</td>\n",
       "      <td>31</td>\n",
       "      <td>-31</td>\n",
       "    </tr>\n",
       "  </tbody>\n",
       "</table>\n",
       "</div>"
      ],
      "text/plain": [
       "       term    crn catalog_id section credits  \\\n",
       "0  Fall2014  70384    AC 0011     C01   3.000   \n",
       "\n",
       "                                  title  \\\n",
       "0  Introduction to Financial Accounting   \n",
       "\n",
       "                                            meetings  \\\n",
       "0  [{'days': 'TF', 'times': '0800am-0915am', 'dat...   \n",
       "\n",
       "                                  timecodes primary_instructor  cap  act  rem  \n",
       "0  ['TF 0800am-0915am 09/02-12/08 DSB 105']  Michael P.  Coyne    0   31  -31  "
      ]
     },
     "execution_count": 54,
     "metadata": {},
     "output_type": "execute_result"
    }
   ],
   "source": [
    "df_fall.head(1)"
   ]
  },
  {
   "cell_type": "code",
   "execution_count": 55,
   "metadata": {},
   "outputs": [
    {
     "data": {
      "text/html": [
       "<div>\n",
       "<style scoped>\n",
       "    .dataframe tbody tr th:only-of-type {\n",
       "        vertical-align: middle;\n",
       "    }\n",
       "\n",
       "    .dataframe tbody tr th {\n",
       "        vertical-align: top;\n",
       "    }\n",
       "\n",
       "    .dataframe thead th {\n",
       "        text-align: right;\n",
       "    }\n",
       "</style>\n",
       "<table border=\"1\" class=\"dataframe\">\n",
       "  <thead>\n",
       "    <tr style=\"text-align: right;\">\n",
       "      <th></th>\n",
       "      <th>term</th>\n",
       "      <th>crn</th>\n",
       "      <th>catalog_id</th>\n",
       "      <th>section</th>\n",
       "      <th>credits</th>\n",
       "      <th>title</th>\n",
       "      <th>meetings</th>\n",
       "      <th>timecodes</th>\n",
       "      <th>primary_instructor</th>\n",
       "      <th>cap</th>\n",
       "      <th>act</th>\n",
       "      <th>rem</th>\n",
       "    </tr>\n",
       "  </thead>\n",
       "  <tbody>\n",
       "    <tr>\n",
       "      <th>0</th>\n",
       "      <td>Winter2015</td>\n",
       "      <td>10913</td>\n",
       "      <td>AC 0555</td>\n",
       "      <td>01</td>\n",
       "      <td>3.000</td>\n",
       "      <td>Issues in Internal Audit</td>\n",
       "      <td>[{'days': 'MTWRF', 'times': '1000am-0600pm', '...</td>\n",
       "      <td>['MTWRF 1000am-0600pm 01/05-01/17 DSB 115', 'S...</td>\n",
       "      <td>Dawn W  Massey</td>\n",
       "      <td>18</td>\n",
       "      <td>10</td>\n",
       "      <td>8</td>\n",
       "    </tr>\n",
       "  </tbody>\n",
       "</table>\n",
       "</div>"
      ],
      "text/plain": [
       "         term    crn catalog_id section credits                     title  \\\n",
       "0  Winter2015  10913    AC 0555      01   3.000  Issues in Internal Audit   \n",
       "\n",
       "                                            meetings  \\\n",
       "0  [{'days': 'MTWRF', 'times': '1000am-0600pm', '...   \n",
       "\n",
       "                                           timecodes primary_instructor  cap  \\\n",
       "0  ['MTWRF 1000am-0600pm 01/05-01/17 DSB 115', 'S...     Dawn W  Massey   18   \n",
       "\n",
       "   act  rem  \n",
       "0   10    8  "
      ]
     },
     "execution_count": 55,
     "metadata": {},
     "output_type": "execute_result"
    }
   ],
   "source": [
    "df_winter.head(1)"
   ]
  },
  {
   "cell_type": "code",
   "execution_count": 56,
   "metadata": {},
   "outputs": [
    {
     "data": {
      "text/html": [
       "<div>\n",
       "<style scoped>\n",
       "    .dataframe tbody tr th:only-of-type {\n",
       "        vertical-align: middle;\n",
       "    }\n",
       "\n",
       "    .dataframe tbody tr th {\n",
       "        vertical-align: top;\n",
       "    }\n",
       "\n",
       "    .dataframe thead th {\n",
       "        text-align: right;\n",
       "    }\n",
       "</style>\n",
       "<table border=\"1\" class=\"dataframe\">\n",
       "  <thead>\n",
       "    <tr style=\"text-align: right;\">\n",
       "      <th></th>\n",
       "      <th>term</th>\n",
       "      <th>crn</th>\n",
       "      <th>catalog_id</th>\n",
       "      <th>section</th>\n",
       "      <th>credits</th>\n",
       "      <th>title</th>\n",
       "      <th>meetings</th>\n",
       "      <th>timecodes</th>\n",
       "      <th>primary_instructor</th>\n",
       "      <th>cap</th>\n",
       "      <th>act</th>\n",
       "      <th>rem</th>\n",
       "    </tr>\n",
       "  </thead>\n",
       "  <tbody>\n",
       "    <tr>\n",
       "      <th>0</th>\n",
       "      <td>Spring2015</td>\n",
       "      <td>32436</td>\n",
       "      <td>AC 0011</td>\n",
       "      <td>A</td>\n",
       "      <td>3.000</td>\n",
       "      <td>Introduction to Financial Accounting</td>\n",
       "      <td>[{'days': 'MR', 'times': '0200pm-0315pm', 'dat...</td>\n",
       "      <td>['MR 0200pm-0315pm 01/20-04/30 DSB 108']</td>\n",
       "      <td>Dawn W  Massey</td>\n",
       "      <td>28</td>\n",
       "      <td>28</td>\n",
       "      <td>0</td>\n",
       "    </tr>\n",
       "  </tbody>\n",
       "</table>\n",
       "</div>"
      ],
      "text/plain": [
       "         term    crn catalog_id section credits  \\\n",
       "0  Spring2015  32436    AC 0011       A   3.000   \n",
       "\n",
       "                                  title  \\\n",
       "0  Introduction to Financial Accounting   \n",
       "\n",
       "                                            meetings  \\\n",
       "0  [{'days': 'MR', 'times': '0200pm-0315pm', 'dat...   \n",
       "\n",
       "                                  timecodes primary_instructor  cap  act  rem  \n",
       "0  ['MR 0200pm-0315pm 01/20-04/30 DSB 108']     Dawn W  Massey   28   28    0  "
      ]
     },
     "execution_count": 56,
     "metadata": {},
     "output_type": "execute_result"
    }
   ],
   "source": [
    "df_spring.head(1)"
   ]
  },
  {
   "cell_type": "code",
   "execution_count": 57,
   "metadata": {},
   "outputs": [
    {
     "data": {
      "text/html": [
       "<div>\n",
       "<style scoped>\n",
       "    .dataframe tbody tr th:only-of-type {\n",
       "        vertical-align: middle;\n",
       "    }\n",
       "\n",
       "    .dataframe tbody tr th {\n",
       "        vertical-align: top;\n",
       "    }\n",
       "\n",
       "    .dataframe thead th {\n",
       "        text-align: right;\n",
       "    }\n",
       "</style>\n",
       "<table border=\"1\" class=\"dataframe\">\n",
       "  <thead>\n",
       "    <tr style=\"text-align: right;\">\n",
       "      <th></th>\n",
       "      <th>term</th>\n",
       "      <th>crn</th>\n",
       "      <th>catalog_id</th>\n",
       "      <th>section</th>\n",
       "      <th>credits</th>\n",
       "      <th>title</th>\n",
       "      <th>meetings</th>\n",
       "      <th>timecodes</th>\n",
       "      <th>primary_instructor</th>\n",
       "      <th>cap</th>\n",
       "      <th>act</th>\n",
       "      <th>rem</th>\n",
       "    </tr>\n",
       "  </thead>\n",
       "  <tbody>\n",
       "    <tr>\n",
       "      <th>0</th>\n",
       "      <td>Summer2015</td>\n",
       "      <td>55230</td>\n",
       "      <td>AC 0203</td>\n",
       "      <td>A</td>\n",
       "      <td>3.000</td>\n",
       "      <td>Intermediate Accounting I</td>\n",
       "      <td>[{'days': 'MW', 'times': '0600pm-0930pm', 'dat...</td>\n",
       "      <td>['MW 0600pm-0930pm 05/18-06/24 DSB 106', 'TR 0...</td>\n",
       "      <td>Scott M  Brenner</td>\n",
       "      <td>25</td>\n",
       "      <td>9</td>\n",
       "      <td>16</td>\n",
       "    </tr>\n",
       "  </tbody>\n",
       "</table>\n",
       "</div>"
      ],
      "text/plain": [
       "         term    crn catalog_id section credits                      title  \\\n",
       "0  Summer2015  55230    AC 0203       A   3.000  Intermediate Accounting I   \n",
       "\n",
       "                                            meetings  \\\n",
       "0  [{'days': 'MW', 'times': '0600pm-0930pm', 'dat...   \n",
       "\n",
       "                                           timecodes primary_instructor  cap  \\\n",
       "0  ['MW 0600pm-0930pm 05/18-06/24 DSB 106', 'TR 0...   Scott M  Brenner   25   \n",
       "\n",
       "   act  rem  \n",
       "0    9   16  "
      ]
     },
     "execution_count": 57,
     "metadata": {},
     "output_type": "execute_result"
    }
   ],
   "source": [
    "df_summer.head(1)"
   ]
  },
  {
   "cell_type": "code",
   "execution_count": 58,
   "metadata": {},
   "outputs": [
    {
     "data": {
      "text/html": [
       "<div>\n",
       "<style scoped>\n",
       "    .dataframe tbody tr th:only-of-type {\n",
       "        vertical-align: middle;\n",
       "    }\n",
       "\n",
       "    .dataframe tbody tr th {\n",
       "        vertical-align: top;\n",
       "    }\n",
       "\n",
       "    .dataframe thead th {\n",
       "        text-align: right;\n",
       "    }\n",
       "</style>\n",
       "<table border=\"1\" class=\"dataframe\">\n",
       "  <thead>\n",
       "    <tr style=\"text-align: right;\">\n",
       "      <th></th>\n",
       "      <th>term</th>\n",
       "      <th>crn</th>\n",
       "      <th>catalog_id</th>\n",
       "      <th>section</th>\n",
       "      <th>credits</th>\n",
       "      <th>title</th>\n",
       "      <th>meetings</th>\n",
       "      <th>timecodes</th>\n",
       "      <th>primary_instructor</th>\n",
       "      <th>cap</th>\n",
       "      <th>act</th>\n",
       "      <th>rem</th>\n",
       "    </tr>\n",
       "  </thead>\n",
       "  <tbody>\n",
       "    <tr>\n",
       "      <th>0</th>\n",
       "      <td>Fall2014</td>\n",
       "      <td>70384</td>\n",
       "      <td>AC 0011</td>\n",
       "      <td>C01</td>\n",
       "      <td>3.000</td>\n",
       "      <td>Introduction to Financial Accounting</td>\n",
       "      <td>[{'days': 'TF', 'times': '0800am-0915am', 'dat...</td>\n",
       "      <td>['TF 0800am-0915am 09/02-12/08 DSB 105']</td>\n",
       "      <td>Michael P.  Coyne</td>\n",
       "      <td>0</td>\n",
       "      <td>31</td>\n",
       "      <td>-31</td>\n",
       "    </tr>\n",
       "  </tbody>\n",
       "</table>\n",
       "</div>"
      ],
      "text/plain": [
       "       term    crn catalog_id section credits  \\\n",
       "0  Fall2014  70384    AC 0011     C01   3.000   \n",
       "\n",
       "                                  title  \\\n",
       "0  Introduction to Financial Accounting   \n",
       "\n",
       "                                            meetings  \\\n",
       "0  [{'days': 'TF', 'times': '0800am-0915am', 'dat...   \n",
       "\n",
       "                                  timecodes primary_instructor  cap  act  rem  \n",
       "0  ['TF 0800am-0915am 09/02-12/08 DSB 105']  Michael P.  Coyne    0   31  -31  "
      ]
     },
     "execution_count": 58,
     "metadata": {},
     "output_type": "execute_result"
    }
   ],
   "source": [
    "df_course.head(1)"
   ]
  },
  {
   "cell_type": "code",
   "execution_count": 59,
   "metadata": {},
   "outputs": [],
   "source": [
    "df_course.to_sql('import_courses', conn, if_exists='append', index=False)"
   ]
  },
  {
   "cell_type": "code",
   "execution_count": 60,
   "metadata": {},
   "outputs": [
    {
     "name": "stdout",
     "output_type": "stream",
     "text": [
      " * sqlite:///CourseData.db\n",
      "Done.\n"
     ]
    },
    {
     "data": {
      "text/html": [
       "<table>\n",
       "    <tr>\n",
       "        <th>term</th>\n",
       "        <th>crn</th>\n",
       "        <th>catalog_id</th>\n",
       "        <th>section</th>\n",
       "        <th>credits</th>\n",
       "        <th>title</th>\n",
       "        <th>meetings</th>\n",
       "        <th>timecodes</th>\n",
       "        <th>primary_instructor</th>\n",
       "        <th>cap</th>\n",
       "        <th>act</th>\n",
       "        <th>rem</th>\n",
       "    </tr>\n",
       "    <tr>\n",
       "        <td>Fall2014</td>\n",
       "        <td>70384</td>\n",
       "        <td>AC 0011</td>\n",
       "        <td>C01</td>\n",
       "        <td>3.000</td>\n",
       "        <td>Introduction to Financial Accounting</td>\n",
       "        <td>[{&#x27;days&#x27;: &#x27;TF&#x27;, &#x27;times&#x27;: &#x27;0800am-0915am&#x27;, &#x27;dates&#x27;: &#x27;09/02-12/08&#x27;, &#x27;location&#x27;: &#x27;DSB 105&#x27;}]</td>\n",
       "        <td>[&#x27;TF 0800am-0915am 09/02-12/08 DSB 105&#x27;]</td>\n",
       "        <td>Michael P.  Coyne</td>\n",
       "        <td>0</td>\n",
       "        <td>31</td>\n",
       "        <td>-31</td>\n",
       "    </tr>\n",
       "</table>"
      ],
      "text/plain": [
       "[('Fall2014', 70384, 'AC 0011', 'C01', '3.000', 'Introduction to Financial Accounting', \"[{'days': 'TF', 'times': '0800am-0915am', 'dates': '09/02-12/08', 'location': 'DSB 105'}]\", \"['TF 0800am-0915am 09/02-12/08 DSB 105']\", 'Michael P.  Coyne', 0, 31, -31)]"
      ]
     },
     "execution_count": 60,
     "metadata": {},
     "output_type": "execute_result"
    }
   ],
   "source": [
    "%%sql\n",
    "select *\n",
    "from import_courses\n",
    "limit 1;"
   ]
  },
  {
   "cell_type": "markdown",
   "metadata": {},
   "source": [
    "#### Import Course Meetings CSVs using Python Pandas"
   ]
  },
  {
   "cell_type": "code",
   "execution_count": 61,
   "metadata": {},
   "outputs": [],
   "source": [
    "fall_2 = ['SourceData/Fall2014/course_meetings.csv',\n",
    "         'SourceData/Fall2015/course_meetings.csv',\n",
    "         'SourceData/Fall2016/course_meetings.csv',\n",
    "         'SourceData/Fall2017/course_meetings.csv',\n",
    "         'SourceData/Fall2018/course_meetings.csv']\n",
    "fall_2_0  = pd.read_csv(fall_2[0])\n",
    "fall_2_1  = pd.read_csv(fall_2[1])\n",
    "fall_2_2  = pd.read_csv(fall_2[2])\n",
    "fall_2_3  = pd.read_csv(fall_2[3])\n",
    "fall_2_4  = pd.read_csv(fall_2[4])"
   ]
  },
  {
   "cell_type": "code",
   "execution_count": 62,
   "metadata": {},
   "outputs": [],
   "source": [
    "winter_2 = ['SourceData/Winter2015/course_meetings.csv',\n",
    "           'SourceData/Winter2016/course_meetings.csv',\n",
    "           'SourceData/Winter2017/course_meetings.csv',\n",
    "           'SourceData/Winter2018/course_meetings.csv']\n",
    "winter_2_0  = pd.read_csv(winter_2[0])\n",
    "winter_2_1  = pd.read_csv(winter_2[1])\n",
    "winter_2_2  = pd.read_csv(winter_2[2])\n",
    "winter_2_3  = pd.read_csv(winter_2[3])"
   ]
  },
  {
   "cell_type": "code",
   "execution_count": 63,
   "metadata": {},
   "outputs": [],
   "source": [
    "spring_2 = ['SourceData/Spring2015/course_meetings.csv',\n",
    "           'SourceData/Spring2016/course_meetings.csv',\n",
    "           'SourceData/Spring2017/course_meetings.csv',\n",
    "           'SourceData/Spring2018/course_meetings.csv',\n",
    "           'SourceData/Spring2019/course_meetings.csv',\n",
    "           'SourceData/SpringBreak2017/course_meetings.csv']\n",
    "spring_2_0  = pd.read_csv(spring_2[0])\n",
    "spring_2_1  = pd.read_csv(spring_2[1])\n",
    "spring_2_2  = pd.read_csv(spring_2[2])\n",
    "spring_2_3  = pd.read_csv(spring_2[3])\n",
    "spring_2_4  = pd.read_csv(spring_2[4])\n",
    "spring_2_5  = pd.read_csv(spring_2[5])"
   ]
  },
  {
   "cell_type": "code",
   "execution_count": 64,
   "metadata": {},
   "outputs": [],
   "source": [
    "summer_2 = ['SourceData/Summer2015/course_meetings.csv',\n",
    "           'SourceData/Summer2016/course_meetings.csv',\n",
    "           'SourceData/Summer2017/course_meetings.csv',\n",
    "           'SourceData/Summer2018/course_meetings.csv']\n",
    "summer_2_0  = pd.read_csv(summer_2[0])\n",
    "summer_2_1  = pd.read_csv(summer_2[1])\n",
    "summer_2_2  = pd.read_csv(summer_2[2])\n",
    "summer_2_3  = pd.read_csv(summer_2[3])"
   ]
  },
  {
   "cell_type": "code",
   "execution_count": 65,
   "metadata": {},
   "outputs": [],
   "source": [
    "df_fall_2 = pd.concat([fall_2_0,fall_2_1,fall_2_2,fall_2_3,fall_2_4], axis=0)"
   ]
  },
  {
   "cell_type": "code",
   "execution_count": 66,
   "metadata": {},
   "outputs": [],
   "source": [
    "df_winter_2 = pd.concat([winter_2_0,winter_2_1,winter_2_2,winter_2_3], axis=0)"
   ]
  },
  {
   "cell_type": "code",
   "execution_count": 67,
   "metadata": {},
   "outputs": [],
   "source": [
    "df_spring_2 = pd.concat([spring_2_0,spring_2_1,spring_2_2,spring_2_3,\n",
    "spring_2_4,spring_2_5], axis=0)"
   ]
  },
  {
   "cell_type": "code",
   "execution_count": 68,
   "metadata": {},
   "outputs": [],
   "source": [
    "df_summer_2 = pd.concat([summer_2_0,summer_2_1,summer_2_2,summer_2_3], axis=0)"
   ]
  },
  {
   "cell_type": "code",
   "execution_count": 69,
   "metadata": {},
   "outputs": [],
   "source": [
    "df_cmeetings = pd.concat([df_fall_2,df_winter_2,df_spring_2,df_summer_2], axis=0)"
   ]
  },
  {
   "cell_type": "code",
   "execution_count": 70,
   "metadata": {},
   "outputs": [
    {
     "data": {
      "text/html": [
       "<div>\n",
       "<style scoped>\n",
       "    .dataframe tbody tr th:only-of-type {\n",
       "        vertical-align: middle;\n",
       "    }\n",
       "\n",
       "    .dataframe tbody tr th {\n",
       "        vertical-align: top;\n",
       "    }\n",
       "\n",
       "    .dataframe thead th {\n",
       "        text-align: right;\n",
       "    }\n",
       "</style>\n",
       "<table border=\"1\" class=\"dataframe\">\n",
       "  <thead>\n",
       "    <tr style=\"text-align: right;\">\n",
       "      <th></th>\n",
       "      <th>term</th>\n",
       "      <th>crn</th>\n",
       "      <th>location</th>\n",
       "      <th>day</th>\n",
       "      <th>start</th>\n",
       "      <th>end</th>\n",
       "    </tr>\n",
       "  </thead>\n",
       "  <tbody>\n",
       "    <tr>\n",
       "      <th>0</th>\n",
       "      <td>Fall2014</td>\n",
       "      <td>70384</td>\n",
       "      <td>DSB 105</td>\n",
       "      <td>T</td>\n",
       "      <td>2014-09-02T08:00:00</td>\n",
       "      <td>2014-09-02T09:15:00</td>\n",
       "    </tr>\n",
       "  </tbody>\n",
       "</table>\n",
       "</div>"
      ],
      "text/plain": [
       "       term    crn location day                start                  end\n",
       "0  Fall2014  70384  DSB 105   T  2014-09-02T08:00:00  2014-09-02T09:15:00"
      ]
     },
     "execution_count": 70,
     "metadata": {},
     "output_type": "execute_result"
    }
   ],
   "source": [
    "df_fall_2.head(1)"
   ]
  },
  {
   "cell_type": "code",
   "execution_count": 71,
   "metadata": {},
   "outputs": [
    {
     "data": {
      "text/html": [
       "<div>\n",
       "<style scoped>\n",
       "    .dataframe tbody tr th:only-of-type {\n",
       "        vertical-align: middle;\n",
       "    }\n",
       "\n",
       "    .dataframe tbody tr th {\n",
       "        vertical-align: top;\n",
       "    }\n",
       "\n",
       "    .dataframe thead th {\n",
       "        text-align: right;\n",
       "    }\n",
       "</style>\n",
       "<table border=\"1\" class=\"dataframe\">\n",
       "  <thead>\n",
       "    <tr style=\"text-align: right;\">\n",
       "      <th></th>\n",
       "      <th>term</th>\n",
       "      <th>crn</th>\n",
       "      <th>location</th>\n",
       "      <th>day</th>\n",
       "      <th>start</th>\n",
       "      <th>end</th>\n",
       "    </tr>\n",
       "  </thead>\n",
       "  <tbody>\n",
       "    <tr>\n",
       "      <th>0</th>\n",
       "      <td>Winter2015</td>\n",
       "      <td>10913</td>\n",
       "      <td>DSB 115</td>\n",
       "      <td>M</td>\n",
       "      <td>2015-01-05T10:00:00</td>\n",
       "      <td>2015-01-05T18:00:00</td>\n",
       "    </tr>\n",
       "  </tbody>\n",
       "</table>\n",
       "</div>"
      ],
      "text/plain": [
       "         term    crn location day                start                  end\n",
       "0  Winter2015  10913  DSB 115   M  2015-01-05T10:00:00  2015-01-05T18:00:00"
      ]
     },
     "execution_count": 71,
     "metadata": {},
     "output_type": "execute_result"
    }
   ],
   "source": [
    "df_winter_2.head(1)"
   ]
  },
  {
   "cell_type": "code",
   "execution_count": 72,
   "metadata": {},
   "outputs": [
    {
     "data": {
      "text/html": [
       "<div>\n",
       "<style scoped>\n",
       "    .dataframe tbody tr th:only-of-type {\n",
       "        vertical-align: middle;\n",
       "    }\n",
       "\n",
       "    .dataframe tbody tr th {\n",
       "        vertical-align: top;\n",
       "    }\n",
       "\n",
       "    .dataframe thead th {\n",
       "        text-align: right;\n",
       "    }\n",
       "</style>\n",
       "<table border=\"1\" class=\"dataframe\">\n",
       "  <thead>\n",
       "    <tr style=\"text-align: right;\">\n",
       "      <th></th>\n",
       "      <th>term</th>\n",
       "      <th>crn</th>\n",
       "      <th>location</th>\n",
       "      <th>day</th>\n",
       "      <th>start</th>\n",
       "      <th>end</th>\n",
       "    </tr>\n",
       "  </thead>\n",
       "  <tbody>\n",
       "    <tr>\n",
       "      <th>0</th>\n",
       "      <td>Spring2015</td>\n",
       "      <td>32436</td>\n",
       "      <td>DSB 108</td>\n",
       "      <td>R</td>\n",
       "      <td>2015-01-22T14:00:00</td>\n",
       "      <td>2015-01-22T15:15:00</td>\n",
       "    </tr>\n",
       "  </tbody>\n",
       "</table>\n",
       "</div>"
      ],
      "text/plain": [
       "         term    crn location day                start                  end\n",
       "0  Spring2015  32436  DSB 108   R  2015-01-22T14:00:00  2015-01-22T15:15:00"
      ]
     },
     "execution_count": 72,
     "metadata": {},
     "output_type": "execute_result"
    }
   ],
   "source": [
    "df_spring_2.head(1)"
   ]
  },
  {
   "cell_type": "code",
   "execution_count": 73,
   "metadata": {},
   "outputs": [
    {
     "data": {
      "text/html": [
       "<div>\n",
       "<style scoped>\n",
       "    .dataframe tbody tr th:only-of-type {\n",
       "        vertical-align: middle;\n",
       "    }\n",
       "\n",
       "    .dataframe tbody tr th {\n",
       "        vertical-align: top;\n",
       "    }\n",
       "\n",
       "    .dataframe thead th {\n",
       "        text-align: right;\n",
       "    }\n",
       "</style>\n",
       "<table border=\"1\" class=\"dataframe\">\n",
       "  <thead>\n",
       "    <tr style=\"text-align: right;\">\n",
       "      <th></th>\n",
       "      <th>term</th>\n",
       "      <th>crn</th>\n",
       "      <th>location</th>\n",
       "      <th>day</th>\n",
       "      <th>start</th>\n",
       "      <th>end</th>\n",
       "    </tr>\n",
       "  </thead>\n",
       "  <tbody>\n",
       "    <tr>\n",
       "      <th>0</th>\n",
       "      <td>Summer2015</td>\n",
       "      <td>55230</td>\n",
       "      <td>DSB 106</td>\n",
       "      <td>M</td>\n",
       "      <td>2015-05-18T18:00:00</td>\n",
       "      <td>2015-05-18T21:30:00</td>\n",
       "    </tr>\n",
       "  </tbody>\n",
       "</table>\n",
       "</div>"
      ],
      "text/plain": [
       "         term    crn location day                start                  end\n",
       "0  Summer2015  55230  DSB 106   M  2015-05-18T18:00:00  2015-05-18T21:30:00"
      ]
     },
     "execution_count": 73,
     "metadata": {},
     "output_type": "execute_result"
    }
   ],
   "source": [
    "df_summer_2.head(1)"
   ]
  },
  {
   "cell_type": "code",
   "execution_count": 74,
   "metadata": {},
   "outputs": [
    {
     "data": {
      "text/html": [
       "<div>\n",
       "<style scoped>\n",
       "    .dataframe tbody tr th:only-of-type {\n",
       "        vertical-align: middle;\n",
       "    }\n",
       "\n",
       "    .dataframe tbody tr th {\n",
       "        vertical-align: top;\n",
       "    }\n",
       "\n",
       "    .dataframe thead th {\n",
       "        text-align: right;\n",
       "    }\n",
       "</style>\n",
       "<table border=\"1\" class=\"dataframe\">\n",
       "  <thead>\n",
       "    <tr style=\"text-align: right;\">\n",
       "      <th></th>\n",
       "      <th>term</th>\n",
       "      <th>crn</th>\n",
       "      <th>location</th>\n",
       "      <th>day</th>\n",
       "      <th>start</th>\n",
       "      <th>end</th>\n",
       "    </tr>\n",
       "  </thead>\n",
       "  <tbody>\n",
       "    <tr>\n",
       "      <th>0</th>\n",
       "      <td>Fall2014</td>\n",
       "      <td>70384</td>\n",
       "      <td>DSB 105</td>\n",
       "      <td>T</td>\n",
       "      <td>2014-09-02T08:00:00</td>\n",
       "      <td>2014-09-02T09:15:00</td>\n",
       "    </tr>\n",
       "  </tbody>\n",
       "</table>\n",
       "</div>"
      ],
      "text/plain": [
       "       term    crn location day                start                  end\n",
       "0  Fall2014  70384  DSB 105   T  2014-09-02T08:00:00  2014-09-02T09:15:00"
      ]
     },
     "execution_count": 74,
     "metadata": {},
     "output_type": "execute_result"
    }
   ],
   "source": [
    "df_cmeetings.head(1)"
   ]
  },
  {
   "cell_type": "code",
   "execution_count": 76,
   "metadata": {},
   "outputs": [],
   "source": [
    "df_cmeetings.to_sql('import_cmeetings', conn, if_exists='append', index=False)"
   ]
  },
  {
   "cell_type": "code",
   "execution_count": 77,
   "metadata": {},
   "outputs": [
    {
     "name": "stdout",
     "output_type": "stream",
     "text": [
      " * sqlite:///CourseData.db\n",
      "Done.\n"
     ]
    },
    {
     "data": {
      "text/html": [
       "<table>\n",
       "    <tr>\n",
       "        <th>term</th>\n",
       "        <th>crn</th>\n",
       "        <th>location</th>\n",
       "        <th>day</th>\n",
       "        <th>start</th>\n",
       "        <th>end</th>\n",
       "    </tr>\n",
       "    <tr>\n",
       "        <td>Fall2014</td>\n",
       "        <td>70384</td>\n",
       "        <td>DSB 105</td>\n",
       "        <td>T</td>\n",
       "        <td>2014-09-02T08:00:00</td>\n",
       "        <td>2014-09-02T09:15:00</td>\n",
       "    </tr>\n",
       "</table>"
      ],
      "text/plain": [
       "[('Fall2014', 70384, 'DSB 105', 'T', '2014-09-02T08:00:00', '2014-09-02T09:15:00')]"
      ]
     },
     "execution_count": 77,
     "metadata": {},
     "output_type": "execute_result"
    }
   ],
   "source": [
    "%%sql\n",
    "select *\n",
    "from import_cmeetings\n",
    "limit 1;"
   ]
  },
  {
   "cell_type": "markdown",
   "metadata": {},
   "source": [
    "#### Import CourseCatalog CSVs"
   ]
  },
  {
   "cell_type": "code",
   "execution_count": 78,
   "metadata": {},
   "outputs": [],
   "source": [
    "catalog2017 = ['SourceData/Catalogs/CourseCatalog2017_2018.csv']\n",
    "catalog2017_2018 = pd.read_csv(catalog2017[0])"
   ]
  },
  {
   "cell_type": "code",
   "execution_count": 79,
   "metadata": {},
   "outputs": [],
   "source": [
    "catalog2018 = ['SourceData/Catalogs/CourseCatalog2018_2019.csv']\n",
    "catalog2018_2019 = pd.read_csv(catalog2018[0])"
   ]
  },
  {
   "cell_type": "code",
   "execution_count": 80,
   "metadata": {},
   "outputs": [],
   "source": [
    "df_catalog = pd.concat([catalog2017_2018,catalog2018_2019], axis=0)"
   ]
  },
  {
   "cell_type": "code",
   "execution_count": 81,
   "metadata": {},
   "outputs": [],
   "source": [
    "df_catalog.to_sql('import_catalog', conn, if_exists='append', index=False)"
   ]
  },
  {
   "cell_type": "code",
   "execution_count": 82,
   "metadata": {},
   "outputs": [
    {
     "name": "stdout",
     "output_type": "stream",
     "text": [
      " * sqlite:///CourseData.db\n",
      "Done.\n"
     ]
    },
    {
     "data": {
      "text/html": [
       "<table>\n",
       "    <tr>\n",
       "        <th>program_code</th>\n",
       "        <th>program_name</th>\n",
       "        <th>catalog_id</th>\n",
       "        <th>course_title</th>\n",
       "        <th>credits</th>\n",
       "        <th>prereqs</th>\n",
       "        <th>coreqs</th>\n",
       "        <th>fees</th>\n",
       "        <th>attributes</th>\n",
       "        <th>description</th>\n",
       "    </tr>\n",
       "    <tr>\n",
       "        <td>AN</td>\n",
       "        <td>Asian Studies</td>\n",
       "        <td>AN 0301</td>\n",
       "        <td>Independent Study</td>\n",
       "        <td>1-3 Credits</td>\n",
       "        <td>None</td>\n",
       "        <td>None</td>\n",
       "        <td>None</td>\n",
       "        <td>None</td>\n",
       "        <td>Students undertake an individualized program of study in consultation with a director from the Asian studies faculty.</td>\n",
       "    </tr>\n",
       "</table>"
      ],
      "text/plain": [
       "[('AN', 'Asian Studies', 'AN 0301', 'Independent Study', '1-3 Credits', None, None, None, None, 'Students undertake an individualized program of study in consultation with a director from the Asian studies faculty.')]"
      ]
     },
     "execution_count": 82,
     "metadata": {},
     "output_type": "execute_result"
    }
   ],
   "source": [
    "%%sql\n",
    "select *\n",
    "from import_catalog\n",
    "limit 1;"
   ]
  },
  {
   "cell_type": "markdown",
   "metadata": {},
   "source": [
    "#### Insert Data to ERD Tables"
   ]
  },
  {
   "cell_type": "code",
   "execution_count": 84,
   "metadata": {},
   "outputs": [
    {
     "name": "stdout",
     "output_type": "stream",
     "text": [
      " * sqlite:///CourseData.db\n",
      "2220 rows affected.\n"
     ]
    },
    {
     "data": {
      "text/plain": [
       "[]"
      ]
     },
     "execution_count": 84,
     "metadata": {},
     "output_type": "execute_result"
    }
   ],
   "source": [
    "%%sql\n",
    "INSERT INTO CATALOG_PROGRAM (CATALOG_ID, PROGRAM_CODE, PROGRAM_NAME, COURSE_TITLE)\n",
    "    SELECT DISTINCT CATALOG_ID, PROGRAM_CODE, PROGRAM_NAME, COURSE_TITLE\n",
    "    FROM IMPORT_CATALOG;"
   ]
  },
  {
   "cell_type": "code",
   "execution_count": 88,
   "metadata": {},
   "outputs": [
    {
     "name": "stdout",
     "output_type": "stream",
     "text": [
      " * sqlite:///CourseData.db\n",
      "2220 rows affected.\n"
     ]
    },
    {
     "data": {
      "text/plain": [
       "[]"
      ]
     },
     "execution_count": 88,
     "metadata": {},
     "output_type": "execute_result"
    }
   ],
   "source": [
    "%%sql\n",
    "INSERT INTO CATALOG_COURSE (COURSE_TITLE, PRE_REQS, CO_REQS, CATALOG_ID)\n",
    "    SELECT DISTINCT import_catalog.course_title, prereqs, coreqs, import_catalog.CATALOG_ID\n",
    "    FROM IMPORT_CATALOG\n",
    "    JOIN CATALOG_PROGRAM ON (IMPORT_CATALOG.catalog_id = CATALOG_PROGRAM.CATALOG_ID);"
   ]
  },
  {
   "cell_type": "code",
   "execution_count": 89,
   "metadata": {},
   "outputs": [
    {
     "name": "stdout",
     "output_type": "stream",
     "text": [
      " * sqlite:///CourseData.db\n",
      "14330 rows affected.\n"
     ]
    },
    {
     "data": {
      "text/plain": [
       "[]"
      ]
     },
     "execution_count": 89,
     "metadata": {},
     "output_type": "execute_result"
    }
   ],
   "source": [
    "%%sql\n",
    "INSERT INTO COURSE_OFFERING (CRN, SECTION, COURSE_TITLE, CREDITS)\n",
    "    SELECT DISTINCT CRN, SECTION, COURSE_TITLE, CREDITS\n",
    "    FROM IMPORT_COURSES\n",
    "    JOIN CATALOG_COURSE ON (CATALOG_COURSE.COURSE_TITLE = IMPORT_COURSES.title);"
   ]
  },
  {
   "cell_type": "code",
   "execution_count": 90,
   "metadata": {},
   "outputs": [
    {
     "name": "stdout",
     "output_type": "stream",
     "text": [
      " * sqlite:///CourseData.db\n",
      "12697 rows affected.\n"
     ]
    },
    {
     "data": {
      "text/plain": [
       "[]"
      ]
     },
     "execution_count": 90,
     "metadata": {},
     "output_type": "execute_result"
    }
   ],
   "source": [
    "%%sql\n",
    "INSERT INTO TERM (TERM_NAME, CRN)\n",
    "    SELECT DISTINCT TERM, IMPORT_CMEETINGS.CRN\n",
    "    FROM IMPORT_CMEETINGS\n",
    "    JOIN COURSE_OFFERING ON (COURSE_OFFERING.CRN = IMPORT_CMEETINGS.CRN);"
   ]
  },
  {
   "cell_type": "code",
   "execution_count": 92,
   "metadata": {},
   "outputs": [
    {
     "name": "stdout",
     "output_type": "stream",
     "text": [
      " * sqlite:///CourseData.db\n",
      "15908 rows affected.\n"
     ]
    },
    {
     "data": {
      "text/plain": [
       "[]"
      ]
     },
     "execution_count": 92,
     "metadata": {},
     "output_type": "execute_result"
    }
   ],
   "source": [
    "%%sql\n",
    "INSERT INTO COURSE_MEETING (CRN, SECTION, CAP, ACT, REM)\n",
    "    SELECT DISTINCT IMPORT_COURSES.CRN, IMPORT_COURSES.SECTION, CAP, ACT, REM\n",
    "    FROM IMPORT_COURSES\n",
    "    JOIN COURSE_OFFERING ON (COURSE_OFFERING.SECTION = IMPORT_COURSES.section);"
   ]
  },
  {
   "cell_type": "code",
   "execution_count": 93,
   "metadata": {},
   "outputs": [
    {
     "name": "stdout",
     "output_type": "stream",
     "text": [
      " * sqlite:///CourseData.db\n",
      "14329 rows affected.\n"
     ]
    },
    {
     "data": {
      "text/plain": [
       "[]"
      ]
     },
     "execution_count": 93,
     "metadata": {},
     "output_type": "execute_result"
    }
   ],
   "source": [
    "%%sql\n",
    "INSERT INTO INSTRUCTOR (NAME, COURSE_TITLE, CRN)\n",
    "    SELECT DISTINCT primary_instructor, COURSE_TITLE, IMPORT_COURSES.CRN\n",
    "    FROM IMPORT_COURSES\n",
    "    JOIN COURSE_OFFERING ON (COURSE_OFFERING.COURSE_TITLE = IMPORT_COURSES.title);"
   ]
  },
  {
   "cell_type": "code",
   "execution_count": 95,
   "metadata": {},
   "outputs": [
    {
     "name": "stdout",
     "output_type": "stream",
     "text": [
      " * sqlite:///CourseData.db\n",
      "296781 rows affected.\n"
     ]
    },
    {
     "data": {
      "text/plain": [
       "[]"
      ]
     },
     "execution_count": 95,
     "metadata": {},
     "output_type": "execute_result"
    }
   ],
   "source": [
    "%%sql\n",
    "INSERT INTO TIME_CODE (CRN, START_TIME, END_TIME)\n",
    "    SELECT DISTINCT IMPORT_CMEETINGS.CRN, START, END\n",
    "    FROM IMPORT_CMEETINGS\n",
    "    JOIN COURSE_OFFERING ON (COURSE_OFFERING.CRN = IMPORT_CMEETINGS.crn);"
   ]
  },
  {
   "cell_type": "code",
   "execution_count": 96,
   "metadata": {},
   "outputs": [
    {
     "name": "stdout",
     "output_type": "stream",
     "text": [
      " * sqlite:///CourseData.db\n",
      "13731 rows affected.\n"
     ]
    },
    {
     "data": {
      "text/plain": [
       "[]"
      ]
     },
     "execution_count": 96,
     "metadata": {},
     "output_type": "execute_result"
    }
   ],
   "source": [
    "%%sql\n",
    "INSERT INTO LOCATION (ROOM_NO, CRN)\n",
    "    SELECT DISTINCT LOCATION, IMPORT_CMEETINGS.CRN\n",
    "    FROM IMPORT_CMEETINGS\n",
    "    JOIN COURSE_MEETING ON (COURSE_MEETING.CRN = IMPORT_CMEETINGS.crn);"
   ]
  },
  {
   "cell_type": "markdown",
   "metadata": {},
   "source": [
    "#### Data Checks"
   ]
  },
  {
   "cell_type": "code",
   "execution_count": 97,
   "metadata": {},
   "outputs": [
    {
     "name": "stdout",
     "output_type": "stream",
     "text": [
      " * sqlite:///CourseData.db\n",
      "Done.\n"
     ]
    },
    {
     "data": {
      "text/html": [
       "<table>\n",
       "    <tr>\n",
       "        <th>CATALOG_ID</th>\n",
       "        <th>PROGRAM_CODE</th>\n",
       "        <th>PROGRAM_NAME</th>\n",
       "        <th>COURSE_TITLE</th>\n",
       "    </tr>\n",
       "    <tr>\n",
       "        <td>AN 0301</td>\n",
       "        <td>AN</td>\n",
       "        <td>Asian Studies</td>\n",
       "        <td>Independent Study</td>\n",
       "    </tr>\n",
       "</table>"
      ],
      "text/plain": [
       "[('AN 0301', 'AN', 'Asian Studies', 'Independent Study')]"
      ]
     },
     "execution_count": 97,
     "metadata": {},
     "output_type": "execute_result"
    }
   ],
   "source": [
    "%%sql\n",
    "select * from CATALOG_PROGRAM limit 1;"
   ]
  },
  {
   "cell_type": "code",
   "execution_count": 98,
   "metadata": {},
   "outputs": [
    {
     "name": "stdout",
     "output_type": "stream",
     "text": [
      " * sqlite:///CourseData.db\n",
      "Done.\n"
     ]
    },
    {
     "data": {
      "text/html": [
       "<table>\n",
       "    <tr>\n",
       "        <th>CC_ID</th>\n",
       "        <th>COURSE_TITLE</th>\n",
       "        <th>PRE_REQS</th>\n",
       "        <th>CO_REQS</th>\n",
       "        <th>CATALOG_ID</th>\n",
       "    </tr>\n",
       "    <tr>\n",
       "        <td>1</td>\n",
       "        <td>Independent Study</td>\n",
       "        <td>None</td>\n",
       "        <td>None</td>\n",
       "        <td>AN 0301</td>\n",
       "    </tr>\n",
       "</table>"
      ],
      "text/plain": [
       "[(1, 'Independent Study', None, None, 'AN 0301')]"
      ]
     },
     "execution_count": 98,
     "metadata": {},
     "output_type": "execute_result"
    }
   ],
   "source": [
    "%%sql\n",
    "select * from CATALOG_COURSE limit 1;"
   ]
  },
  {
   "cell_type": "code",
   "execution_count": 99,
   "metadata": {},
   "outputs": [
    {
     "name": "stdout",
     "output_type": "stream",
     "text": [
      " * sqlite:///CourseData.db\n",
      "Done.\n"
     ]
    },
    {
     "data": {
      "text/html": [
       "<table>\n",
       "    <tr>\n",
       "        <th>CO_ID</th>\n",
       "        <th>CRN</th>\n",
       "        <th>SECTION</th>\n",
       "        <th>COURSE_TITLE</th>\n",
       "        <th>CREDITS</th>\n",
       "    </tr>\n",
       "    <tr>\n",
       "        <td>1</td>\n",
       "        <td>70384</td>\n",
       "        <td>C01</td>\n",
       "        <td>Introduction to Financial Accounting</td>\n",
       "        <td>3.000</td>\n",
       "    </tr>\n",
       "</table>"
      ],
      "text/plain": [
       "[(1, 70384, 'C01', 'Introduction to Financial Accounting', '3.000')]"
      ]
     },
     "execution_count": 99,
     "metadata": {},
     "output_type": "execute_result"
    }
   ],
   "source": [
    "%%sql\n",
    "select * from COURSE_OFFERING limit 1;"
   ]
  },
  {
   "cell_type": "code",
   "execution_count": 100,
   "metadata": {},
   "outputs": [
    {
     "name": "stdout",
     "output_type": "stream",
     "text": [
      " * sqlite:///CourseData.db\n",
      "Done.\n"
     ]
    },
    {
     "data": {
      "text/html": [
       "<table>\n",
       "    <tr>\n",
       "        <th>TERM_ID</th>\n",
       "        <th>TERM_NAME</th>\n",
       "        <th>CRN</th>\n",
       "    </tr>\n",
       "    <tr>\n",
       "        <td>1</td>\n",
       "        <td>Fall2014</td>\n",
       "        <td>70384</td>\n",
       "    </tr>\n",
       "</table>"
      ],
      "text/plain": [
       "[(1, 'Fall2014', 70384)]"
      ]
     },
     "execution_count": 100,
     "metadata": {},
     "output_type": "execute_result"
    }
   ],
   "source": [
    "%%sql\n",
    "select * from TERM limit 1;"
   ]
  },
  {
   "cell_type": "code",
   "execution_count": 101,
   "metadata": {},
   "outputs": [
    {
     "name": "stdout",
     "output_type": "stream",
     "text": [
      " * sqlite:///CourseData.db\n",
      "Done.\n"
     ]
    },
    {
     "data": {
      "text/html": [
       "<table>\n",
       "    <tr>\n",
       "        <th>CM_ID</th>\n",
       "        <th>CRN</th>\n",
       "        <th>CAP</th>\n",
       "        <th>ACT</th>\n",
       "        <th>REM</th>\n",
       "        <th>SECTION</th>\n",
       "    </tr>\n",
       "    <tr>\n",
       "        <td>1</td>\n",
       "        <td>70384</td>\n",
       "        <td>0</td>\n",
       "        <td>31</td>\n",
       "        <td>-31</td>\n",
       "        <td>C01</td>\n",
       "    </tr>\n",
       "</table>"
      ],
      "text/plain": [
       "[(1, 70384, 0, 31, -31, 'C01')]"
      ]
     },
     "execution_count": 101,
     "metadata": {},
     "output_type": "execute_result"
    }
   ],
   "source": [
    "%%sql\n",
    "select * from COURSE_MEETING limit 1;"
   ]
  },
  {
   "cell_type": "code",
   "execution_count": 102,
   "metadata": {},
   "outputs": [
    {
     "name": "stdout",
     "output_type": "stream",
     "text": [
      " * sqlite:///CourseData.db\n",
      "Done.\n"
     ]
    },
    {
     "data": {
      "text/html": [
       "<table>\n",
       "    <tr>\n",
       "        <th>I_ID</th>\n",
       "        <th>NAME</th>\n",
       "        <th>COURSE_TITLE</th>\n",
       "        <th>CRN</th>\n",
       "    </tr>\n",
       "    <tr>\n",
       "        <td>1</td>\n",
       "        <td>Michael P.  Coyne</td>\n",
       "        <td>Introduction to Financial Accounting</td>\n",
       "        <td>70384</td>\n",
       "    </tr>\n",
       "</table>"
      ],
      "text/plain": [
       "[(1, 'Michael P.  Coyne', 'Introduction to Financial Accounting', 70384)]"
      ]
     },
     "execution_count": 102,
     "metadata": {},
     "output_type": "execute_result"
    }
   ],
   "source": [
    "%%sql\n",
    "select * from INSTRUCTOR limit 1;"
   ]
  },
  {
   "cell_type": "code",
   "execution_count": 103,
   "metadata": {},
   "outputs": [
    {
     "name": "stdout",
     "output_type": "stream",
     "text": [
      " * sqlite:///CourseData.db\n",
      "Done.\n"
     ]
    },
    {
     "data": {
      "text/html": [
       "<table>\n",
       "    <tr>\n",
       "        <th>TIME_ID</th>\n",
       "        <th>START_TIME</th>\n",
       "        <th>END_TIME</th>\n",
       "        <th>CRN</th>\n",
       "    </tr>\n",
       "    <tr>\n",
       "        <td>1</td>\n",
       "        <td>2014-09-02T08:00:00</td>\n",
       "        <td>2014-09-02T09:15:00</td>\n",
       "        <td>70384</td>\n",
       "    </tr>\n",
       "</table>"
      ],
      "text/plain": [
       "[(1, '2014-09-02T08:00:00', '2014-09-02T09:15:00', 70384)]"
      ]
     },
     "execution_count": 103,
     "metadata": {},
     "output_type": "execute_result"
    }
   ],
   "source": [
    "%%sql\n",
    "select * from TIME_CODE limit 1;"
   ]
  },
  {
   "cell_type": "code",
   "execution_count": 104,
   "metadata": {},
   "outputs": [
    {
     "name": "stdout",
     "output_type": "stream",
     "text": [
      " * sqlite:///CourseData.db\n",
      "Done.\n"
     ]
    },
    {
     "data": {
      "text/html": [
       "<table>\n",
       "    <tr>\n",
       "        <th>ROOM_ID</th>\n",
       "        <th>Room_No</th>\n",
       "        <th>CRN</th>\n",
       "    </tr>\n",
       "    <tr>\n",
       "        <td>1</td>\n",
       "        <td>DSB 105</td>\n",
       "        <td>70384</td>\n",
       "    </tr>\n",
       "</table>"
      ],
      "text/plain": [
       "[(1, 'DSB 105', 70384)]"
      ]
     },
     "execution_count": 104,
     "metadata": {},
     "output_type": "execute_result"
    }
   ],
   "source": [
    "%%sql\n",
    "select * from LOCATION limit 1;"
   ]
  },
  {
   "cell_type": "markdown",
   "metadata": {},
   "source": [
    "#### Queries on Database"
   ]
  },
  {
   "cell_type": "markdown",
   "metadata": {},
   "source": [
    "How many 5 credit classes are offered across the whole timeframe?"
   ]
  },
  {
   "cell_type": "code",
   "execution_count": 116,
   "metadata": {},
   "outputs": [
    {
     "name": "stdout",
     "output_type": "stream",
     "text": [
      " * sqlite:///CourseData.db\n",
      "Done.\n"
     ]
    },
    {
     "data": {
      "text/html": [
       "<table>\n",
       "    <tr>\n",
       "        <th>count(CO_ID)</th>\n",
       "    </tr>\n",
       "    <tr>\n",
       "        <td>38</td>\n",
       "    </tr>\n",
       "</table>"
      ],
      "text/plain": [
       "[(38,)]"
      ]
     },
     "execution_count": 116,
     "metadata": {},
     "output_type": "execute_result"
    }
   ],
   "source": [
    "%%sql\n",
    "select count(CO_ID)\n",
    "from course_offering\n",
    "where credits = '5.000';"
   ]
  },
  {
   "cell_type": "markdown",
   "metadata": {},
   "source": [
    "Which terms has Python for Business Analytics been offered? "
   ]
  },
  {
   "cell_type": "code",
   "execution_count": 115,
   "metadata": {},
   "outputs": [
    {
     "name": "stdout",
     "output_type": "stream",
     "text": [
      " * sqlite:///CourseData.db\n",
      "Done.\n"
     ]
    },
    {
     "data": {
      "text/html": [
       "<table>\n",
       "    <tr>\n",
       "        <th>CATALOG_ID</th>\n",
       "        <th>CRN</th>\n",
       "        <th>COURSE_TITLE</th>\n",
       "        <th>CREDITS</th>\n",
       "        <th>TERM_NAME</th>\n",
       "    </tr>\n",
       "    <tr>\n",
       "        <td>IS 0505</td>\n",
       "        <td>72913</td>\n",
       "        <td>Python for Business Analytics</td>\n",
       "        <td>3.000</td>\n",
       "        <td>Fall2014</td>\n",
       "    </tr>\n",
       "    <tr>\n",
       "        <td>IS 0505</td>\n",
       "        <td>72913</td>\n",
       "        <td>Python for Business Analytics</td>\n",
       "        <td>3.000</td>\n",
       "        <td>Fall2017</td>\n",
       "    </tr>\n",
       "    <tr>\n",
       "        <td>IS 0505</td>\n",
       "        <td>75942</td>\n",
       "        <td>Python for Business Analytics</td>\n",
       "        <td>3.000</td>\n",
       "        <td>Fall2018</td>\n",
       "    </tr>\n",
       "</table>"
      ],
      "text/plain": [
       "[('IS 0505', 72913, 'Python for Business Analytics', '3.000', 'Fall2014'),\n",
       " ('IS 0505', 72913, 'Python for Business Analytics', '3.000', 'Fall2017'),\n",
       " ('IS 0505', 75942, 'Python for Business Analytics', '3.000', 'Fall2018')]"
      ]
     },
     "execution_count": 115,
     "metadata": {},
     "output_type": "execute_result"
    }
   ],
   "source": [
    "%%sql\n",
    "select a.CATALOG_ID, b.CRN, b.COURSE_TITLE, b.CREDITS, c.TERM_NAME\n",
    "from CATALOG_COURSE a, COURSE_OFFERING b, TERM c\n",
    "where a.COURSE_TITLE=b.COURSE_TITLE\n",
    "and b.CRN=c.CRN\n",
    "and a.COURSE_TITLE = 'Python for Business Analytics';"
   ]
  },
  {
   "cell_type": "markdown",
   "metadata": {},
   "source": [
    "Which instructors have taught/teach General Chemistry?"
   ]
  },
  {
   "cell_type": "code",
   "execution_count": 114,
   "metadata": {},
   "outputs": [
    {
     "name": "stdout",
     "output_type": "stream",
     "text": [
      " * sqlite:///CourseData.db\n",
      "Done.\n"
     ]
    },
    {
     "data": {
      "text/html": [
       "<table>\n",
       "    <tr>\n",
       "        <th>NAME</th>\n",
       "        <th>COURSE_TITLE</th>\n",
       "    </tr>\n",
       "    <tr>\n",
       "        <td>Donald J.  Wolanin</td>\n",
       "        <td>General Chemistry I</td>\n",
       "    </tr>\n",
       "    <tr>\n",
       "        <td>Gary H.  Weddle</td>\n",
       "        <td>General Chemistry I</td>\n",
       "    </tr>\n",
       "    <tr>\n",
       "        <td>Jillian E.  Smith-Carpenter</td>\n",
       "        <td>General Chemistry I</td>\n",
       "    </tr>\n",
       "    <tr>\n",
       "        <td>John R.  Miecznikowski</td>\n",
       "        <td>General Chemistry I</td>\n",
       "    </tr>\n",
       "    <tr>\n",
       "        <td>Matthew A.  Kubasik</td>\n",
       "        <td>General Chemistry I</td>\n",
       "    </tr>\n",
       "    <tr>\n",
       "        <td>Robert G.  Fischer</td>\n",
       "        <td>General Chemistry I</td>\n",
       "    </tr>\n",
       "    <tr>\n",
       "        <td>Sangamithra   Chintapalli</td>\n",
       "        <td>General Chemistry I</td>\n",
       "    </tr>\n",
       "</table>"
      ],
      "text/plain": [
       "[('Donald J.  Wolanin', 'General Chemistry I'),\n",
       " ('Gary H.  Weddle', 'General Chemistry I'),\n",
       " ('Jillian E.  Smith-Carpenter', 'General Chemistry I'),\n",
       " ('John R.  Miecznikowski', 'General Chemistry I'),\n",
       " ('Matthew A.  Kubasik', 'General Chemistry I'),\n",
       " ('Robert G.  Fischer', 'General Chemistry I'),\n",
       " ('Sangamithra   Chintapalli', 'General Chemistry I')]"
      ]
     },
     "execution_count": 114,
     "metadata": {},
     "output_type": "execute_result"
    }
   ],
   "source": [
    "%%sql\n",
    "select distinct b.name, a.course_title\n",
    "from COURSE_OFFERING a, INSTRUCTOR b\n",
    "where a.COURSE_TITLE=b.COURSE_TITLE\n",
    "and a.COURSE_TITLE = 'General Chemistry I';"
   ]
  },
  {
   "cell_type": "markdown",
   "metadata": {},
   "source": [
    "Which rooms has Money and Banking been taught in?"
   ]
  },
  {
   "cell_type": "code",
   "execution_count": 113,
   "metadata": {},
   "outputs": [
    {
     "name": "stdout",
     "output_type": "stream",
     "text": [
      " * sqlite:///CourseData.db\n",
      "Done.\n"
     ]
    },
    {
     "data": {
      "text/html": [
       "<table>\n",
       "    <tr>\n",
       "        <th>Room_No</th>\n",
       "        <th>COURSE_TITLE</th>\n",
       "    </tr>\n",
       "    <tr>\n",
       "        <td>CNS 1</td>\n",
       "        <td>Money and Banking</td>\n",
       "    </tr>\n",
       "    <tr>\n",
       "        <td>CNS 15</td>\n",
       "        <td>Money and Banking</td>\n",
       "    </tr>\n",
       "    <tr>\n",
       "        <td>CNS 305</td>\n",
       "        <td>Money and Banking</td>\n",
       "    </tr>\n",
       "    <tr>\n",
       "        <td>DMH 149</td>\n",
       "        <td>Money and Banking</td>\n",
       "    </tr>\n",
       "    <tr>\n",
       "        <td>BNW 341</td>\n",
       "        <td>Money and Banking</td>\n",
       "    </tr>\n",
       "    <tr>\n",
       "        <td>LYL 227B</td>\n",
       "        <td>Money and Banking</td>\n",
       "    </tr>\n",
       "    <tr>\n",
       "        <td>NHS 403</td>\n",
       "        <td>Money and Banking</td>\n",
       "    </tr>\n",
       "    <tr>\n",
       "        <td>LNG 109</td>\n",
       "        <td>Money and Banking</td>\n",
       "    </tr>\n",
       "    <tr>\n",
       "        <td>DMH 350</td>\n",
       "        <td>Money and Banking</td>\n",
       "    </tr>\n",
       "    <tr>\n",
       "        <td>DMH 347</td>\n",
       "        <td>Money and Banking</td>\n",
       "    </tr>\n",
       "</table>"
      ],
      "text/plain": [
       "[('CNS 1', 'Money and Banking'),\n",
       " ('CNS 15', 'Money and Banking'),\n",
       " ('CNS 305', 'Money and Banking'),\n",
       " ('DMH 149', 'Money and Banking'),\n",
       " ('BNW 341', 'Money and Banking'),\n",
       " ('LYL 227B', 'Money and Banking'),\n",
       " ('NHS 403', 'Money and Banking'),\n",
       " ('LNG 109', 'Money and Banking'),\n",
       " ('DMH 350', 'Money and Banking'),\n",
       " ('DMH 347', 'Money and Banking')]"
      ]
     },
     "execution_count": 113,
     "metadata": {},
     "output_type": "execute_result"
    }
   ],
   "source": [
    "%%sql\n",
    "select distinct c.ROOM_NO, a.COURSE_TITLE \n",
    "from COURSE_OFFERING a, COURSE_MEETING b, LOCATION c\n",
    "where a.CRN=b.CRN\n",
    "and b.CRN=c.CRN\n",
    "and a.COURSE_TITLE = 'Money and Banking';"
   ]
  },
  {
   "cell_type": "markdown",
   "metadata": {},
   "source": [
    "Which classes in Fall 2018 were over overcapacity?"
   ]
  },
  {
   "cell_type": "code",
   "execution_count": 112,
   "metadata": {},
   "outputs": [
    {
     "name": "stdout",
     "output_type": "stream",
     "text": [
      " * sqlite:///CourseData.db\n",
      "Done.\n"
     ]
    },
    {
     "data": {
      "text/html": [
       "<table>\n",
       "    <tr>\n",
       "        <th>COURSE_TITLE</th>\n",
       "        <th>CAP</th>\n",
       "        <th>ACT</th>\n",
       "    </tr>\n",
       "    <tr>\n",
       "        <td>Introduction to Financial Accounting</td>\n",
       "        <td>31</td>\n",
       "        <td>33</td>\n",
       "    </tr>\n",
       "    <tr>\n",
       "        <td>Introduction to Financial Accounting</td>\n",
       "        <td>31</td>\n",
       "        <td>33</td>\n",
       "    </tr>\n",
       "    <tr>\n",
       "        <td>Introduction to Financial Accounting</td>\n",
       "        <td>31</td>\n",
       "        <td>32</td>\n",
       "    </tr>\n",
       "    <tr>\n",
       "        <td>Intermediate Accounting I</td>\n",
       "        <td>22</td>\n",
       "        <td>24</td>\n",
       "    </tr>\n",
       "    <tr>\n",
       "        <td>Intermediate Accounting I</td>\n",
       "        <td>22</td>\n",
       "        <td>24</td>\n",
       "    </tr>\n",
       "    <tr>\n",
       "        <td>General Biology I</td>\n",
       "        <td>22</td>\n",
       "        <td>24</td>\n",
       "    </tr>\n",
       "    <tr>\n",
       "        <td>Intermediate Accounting I</td>\n",
       "        <td>22</td>\n",
       "        <td>24</td>\n",
       "    </tr>\n",
       "    <tr>\n",
       "        <td>Auditing</td>\n",
       "        <td>27</td>\n",
       "        <td>28</td>\n",
       "    </tr>\n",
       "    <tr>\n",
       "        <td>Issues in Accounting Ethics</td>\n",
       "        <td>15</td>\n",
       "        <td>18</td>\n",
       "    </tr>\n",
       "    <tr>\n",
       "        <td>Issues in Accounting Ethics</td>\n",
       "        <td>15</td>\n",
       "        <td>16</td>\n",
       "    </tr>\n",
       "    <tr>\n",
       "        <td>Issues in Accounting Ethics</td>\n",
       "        <td>15</td>\n",
       "        <td>17</td>\n",
       "    </tr>\n",
       "    <tr>\n",
       "        <td>Issues in Accounting Ethics</td>\n",
       "        <td>16</td>\n",
       "        <td>17</td>\n",
       "    </tr>\n",
       "    <tr>\n",
       "        <td>Operations Management</td>\n",
       "        <td>16</td>\n",
       "        <td>17</td>\n",
       "    </tr>\n",
       "    <tr>\n",
       "        <td>Research on Contemporary Issues in Accounting</td>\n",
       "        <td>15</td>\n",
       "        <td>17</td>\n",
       "    </tr>\n",
       "    <tr>\n",
       "        <td>Operations Management</td>\n",
       "        <td>15</td>\n",
       "        <td>17</td>\n",
       "    </tr>\n",
       "    <tr>\n",
       "        <td>Research on Contemporary Issues in Accounting</td>\n",
       "        <td>15</td>\n",
       "        <td>17</td>\n",
       "    </tr>\n",
       "    <tr>\n",
       "        <td>Introduction to Four-Field Anthropology</td>\n",
       "        <td>28</td>\n",
       "        <td>29</td>\n",
       "    </tr>\n",
       "    <tr>\n",
       "        <td>Art of Africa, the Caribbean, and the Americas</td>\n",
       "        <td>25</td>\n",
       "        <td>26</td>\n",
       "    </tr>\n",
       "    <tr>\n",
       "        <td>Art and Archaeology of Ancient Egypt: Images for Eternity</td>\n",
       "        <td>25</td>\n",
       "        <td>26</td>\n",
       "    </tr>\n",
       "    <tr>\n",
       "        <td>Intermediate French I</td>\n",
       "        <td>25</td>\n",
       "        <td>26</td>\n",
       "    </tr>\n",
       "    <tr>\n",
       "        <td>Human Biology: Form and Function</td>\n",
       "        <td>24</td>\n",
       "        <td>25</td>\n",
       "    </tr>\n",
       "    <tr>\n",
       "        <td>Environmental Science</td>\n",
       "        <td>12</td>\n",
       "        <td>13</td>\n",
       "    </tr>\n",
       "    <tr>\n",
       "        <td>Texts and Contexts I: Writing as Craft and Inquiry</td>\n",
       "        <td>12</td>\n",
       "        <td>13</td>\n",
       "    </tr>\n",
       "    <tr>\n",
       "        <td>Human Anatomy and Physiology I</td>\n",
       "        <td>13</td>\n",
       "        <td>14</td>\n",
       "    </tr>\n",
       "    <tr>\n",
       "        <td>Human Anatomy and Physiology I</td>\n",
       "        <td>18</td>\n",
       "        <td>20</td>\n",
       "    </tr>\n",
       "    <tr>\n",
       "        <td>Introductory Principles of Epidemiology</td>\n",
       "        <td>5</td>\n",
       "        <td>6</td>\n",
       "    </tr>\n",
       "    <tr>\n",
       "        <td>Pediatric Nursing Clinical</td>\n",
       "        <td>5</td>\n",
       "        <td>6</td>\n",
       "    </tr>\n",
       "    <tr>\n",
       "        <td>Biochemistry II</td>\n",
       "        <td>12</td>\n",
       "        <td>13</td>\n",
       "    </tr>\n",
       "    <tr>\n",
       "        <td>Evolutionary Biology Lab</td>\n",
       "        <td>7</td>\n",
       "        <td>8</td>\n",
       "    </tr>\n",
       "    <tr>\n",
       "        <td>Medical Surgical Nursing II Clinical</td>\n",
       "        <td>7</td>\n",
       "        <td>8</td>\n",
       "    </tr>\n",
       "    <tr>\n",
       "        <td>Biology Research VI</td>\n",
       "        <td>7</td>\n",
       "        <td>8</td>\n",
       "    </tr>\n",
       "    <tr>\n",
       "        <td>Medical Surgical Nursing II Clinical</td>\n",
       "        <td>7</td>\n",
       "        <td>8</td>\n",
       "    </tr>\n",
       "    <tr>\n",
       "        <td>Legal Environment of Business</td>\n",
       "        <td>25</td>\n",
       "        <td>27</td>\n",
       "    </tr>\n",
       "    <tr>\n",
       "        <td>Communication Research Design and Methodologies</td>\n",
       "        <td>20</td>\n",
       "        <td>32</td>\n",
       "    </tr>\n",
       "    <tr>\n",
       "        <td>Python for Business Analytics</td>\n",
       "        <td>20</td>\n",
       "        <td>27</td>\n",
       "    </tr>\n",
       "    <tr>\n",
       "        <td>General Chemistry for Health Science</td>\n",
       "        <td>20</td>\n",
       "        <td>21</td>\n",
       "    </tr>\n",
       "    <tr>\n",
       "        <td>General Psychology</td>\n",
       "        <td>24</td>\n",
       "        <td>25</td>\n",
       "    </tr>\n",
       "    <tr>\n",
       "        <td>Molecules of Life</td>\n",
       "        <td>24</td>\n",
       "        <td>25</td>\n",
       "    </tr>\n",
       "    <tr>\n",
       "        <td>Organic Chemistry I</td>\n",
       "        <td>25</td>\n",
       "        <td>26</td>\n",
       "    </tr>\n",
       "    <tr>\n",
       "        <td>Biochemistry I</td>\n",
       "        <td>12</td>\n",
       "        <td>17</td>\n",
       "    </tr>\n",
       "    <tr>\n",
       "        <td>Fundamentals of Nursing Care Lab</td>\n",
       "        <td>5</td>\n",
       "        <td>8</td>\n",
       "    </tr>\n",
       "    <tr>\n",
       "        <td>Hellenistic World, 336-30 BCE</td>\n",
       "        <td>5</td>\n",
       "        <td>8</td>\n",
       "    </tr>\n",
       "    <tr>\n",
       "        <td>Introduction to Organizational Communication</td>\n",
       "        <td>35</td>\n",
       "        <td>37</td>\n",
       "    </tr>\n",
       "    <tr>\n",
       "        <td>Alcohol, Addiction and Culture</td>\n",
       "        <td>23</td>\n",
       "        <td>24</td>\n",
       "    </tr>\n",
       "    <tr>\n",
       "        <td>Research Projects in Communication: Capstone</td>\n",
       "        <td>15</td>\n",
       "        <td>16</td>\n",
       "    </tr>\n",
       "    <tr>\n",
       "        <td>Children as Media Consumers</td>\n",
       "        <td>20</td>\n",
       "        <td>22</td>\n",
       "    </tr>\n",
       "    <tr>\n",
       "        <td>Communication Philosophies, Theories, and Research Traditions</td>\n",
       "        <td>15</td>\n",
       "        <td>16</td>\n",
       "    </tr>\n",
       "    <tr>\n",
       "        <td>Futures and Options Markets</td>\n",
       "        <td>15</td>\n",
       "        <td>16</td>\n",
       "    </tr>\n",
       "    <tr>\n",
       "        <td>Applied Business Statistics</td>\n",
       "        <td>3</td>\n",
       "        <td>4</td>\n",
       "    </tr>\n",
       "    <tr>\n",
       "        <td>Visual Communication</td>\n",
       "        <td>3</td>\n",
       "        <td>4</td>\n",
       "    </tr>\n",
       "    <tr>\n",
       "        <td>Health Risk Communication</td>\n",
       "        <td>20</td>\n",
       "        <td>21</td>\n",
       "    </tr>\n",
       "    <tr>\n",
       "        <td>Introduction to Computing</td>\n",
       "        <td>20</td>\n",
       "        <td>24</td>\n",
       "    </tr>\n",
       "    <tr>\n",
       "        <td>Probability Theory</td>\n",
       "        <td>20</td>\n",
       "        <td>24</td>\n",
       "    </tr>\n",
       "    <tr>\n",
       "        <td>Introduction to Computing</td>\n",
       "        <td>15</td>\n",
       "        <td>17</td>\n",
       "    </tr>\n",
       "    <tr>\n",
       "        <td>Microcontroller Lab</td>\n",
       "        <td>15</td>\n",
       "        <td>17</td>\n",
       "    </tr>\n",
       "    <tr>\n",
       "        <td>Introduction to Financial Accounting</td>\n",
       "        <td>29</td>\n",
       "        <td>30</td>\n",
       "    </tr>\n",
       "    <tr>\n",
       "        <td>Programming Workshop Lab</td>\n",
       "        <td>29</td>\n",
       "        <td>30</td>\n",
       "    </tr>\n",
       "    <tr>\n",
       "        <td>The Law of Commercial Transactions: Advanced Studies in the Uniform Commerical Code</td>\n",
       "        <td>15</td>\n",
       "        <td>19</td>\n",
       "    </tr>\n",
       "    <tr>\n",
       "        <td>Assessment in Counseling</td>\n",
       "        <td>18</td>\n",
       "        <td>21</td>\n",
       "    </tr>\n",
       "    <tr>\n",
       "        <td>Introduction to Microeconomics</td>\n",
       "        <td>26</td>\n",
       "        <td>27</td>\n",
       "    </tr>\n",
       "    <tr>\n",
       "        <td>Introduction to Microeconomics</td>\n",
       "        <td>26</td>\n",
       "        <td>28</td>\n",
       "    </tr>\n",
       "    <tr>\n",
       "        <td>Introduction to Microeconomics</td>\n",
       "        <td>26</td>\n",
       "        <td>27</td>\n",
       "    </tr>\n",
       "    <tr>\n",
       "        <td>Evolutionary Biology</td>\n",
       "        <td>16</td>\n",
       "        <td>17</td>\n",
       "    </tr>\n",
       "    <tr>\n",
       "        <td>Industrial Organization and Competitive Strategy</td>\n",
       "        <td>16</td>\n",
       "        <td>17</td>\n",
       "    </tr>\n",
       "    <tr>\n",
       "        <td>Advanced Linear Systems</td>\n",
       "        <td>37</td>\n",
       "        <td>40</td>\n",
       "    </tr>\n",
       "    <tr>\n",
       "        <td>General Chemistry I</td>\n",
       "        <td>37</td>\n",
       "        <td>40</td>\n",
       "    </tr>\n",
       "    <tr>\n",
       "        <td>Electric Circuits Lab</td>\n",
       "        <td>13</td>\n",
       "        <td>15</td>\n",
       "    </tr>\n",
       "    <tr>\n",
       "        <td>Electric Circuits Lab</td>\n",
       "        <td>12</td>\n",
       "        <td>13</td>\n",
       "    </tr>\n",
       "    <tr>\n",
       "        <td>Electric Circuits Lab</td>\n",
       "        <td>13</td>\n",
       "        <td>14</td>\n",
       "    </tr>\n",
       "    <tr>\n",
       "        <td>Engineering Graphics II</td>\n",
       "        <td>30</td>\n",
       "        <td>31</td>\n",
       "    </tr>\n",
       "    <tr>\n",
       "        <td>Public Relations</td>\n",
       "        <td>30</td>\n",
       "        <td>31</td>\n",
       "    </tr>\n",
       "    <tr>\n",
       "        <td>Senior Design Project I</td>\n",
       "        <td>60</td>\n",
       "        <td>62</td>\n",
       "    </tr>\n",
       "    <tr>\n",
       "        <td>Texts and Contexts I: Writing as Craft and Inquiry</td>\n",
       "        <td>19</td>\n",
       "        <td>20</td>\n",
       "    </tr>\n",
       "    <tr>\n",
       "        <td>Origins and Transformations in Western Art</td>\n",
       "        <td>19</td>\n",
       "        <td>20</td>\n",
       "    </tr>\n",
       "    <tr>\n",
       "        <td>Texts and Contexts I: Writing as Craft and Inquiry</td>\n",
       "        <td>19</td>\n",
       "        <td>20</td>\n",
       "    </tr>\n",
       "    <tr>\n",
       "        <td>19th-Century Russian Novel and World Literature</td>\n",
       "        <td>25</td>\n",
       "        <td>28</td>\n",
       "    </tr>\n",
       "    <tr>\n",
       "        <td>Auditing</td>\n",
       "        <td>25</td>\n",
       "        <td>28</td>\n",
       "    </tr>\n",
       "    <tr>\n",
       "        <td>American Short Story</td>\n",
       "        <td>25</td>\n",
       "        <td>26</td>\n",
       "    </tr>\n",
       "    <tr>\n",
       "        <td>People, Places, and Global Issues</td>\n",
       "        <td>25</td>\n",
       "        <td>26</td>\n",
       "    </tr>\n",
       "    <tr>\n",
       "        <td>Production Practicum in Film, Television, and Media Arts</td>\n",
       "        <td>10</td>\n",
       "        <td>17</td>\n",
       "    </tr>\n",
       "    <tr>\n",
       "        <td>The Woman Question: Early Feminism and 19th Century Transatlantic Literature</td>\n",
       "        <td>10</td>\n",
       "        <td>17</td>\n",
       "    </tr>\n",
       "    <tr>\n",
       "        <td>Introduction to Film and Video Production</td>\n",
       "        <td>29</td>\n",
       "        <td>30</td>\n",
       "    </tr>\n",
       "    <tr>\n",
       "        <td>Introduction to Finance</td>\n",
       "        <td>25</td>\n",
       "        <td>27</td>\n",
       "    </tr>\n",
       "    <tr>\n",
       "        <td>Fundamentals of Nursing Care Lab</td>\n",
       "        <td>25</td>\n",
       "        <td>26</td>\n",
       "    </tr>\n",
       "    <tr>\n",
       "        <td>Introduction to Finance</td>\n",
       "        <td>25</td>\n",
       "        <td>26</td>\n",
       "    </tr>\n",
       "    <tr>\n",
       "        <td>Global Capital Markets</td>\n",
       "        <td>25</td>\n",
       "        <td>27</td>\n",
       "    </tr>\n",
       "    <tr>\n",
       "        <td>Global Capital Markets</td>\n",
       "        <td>27</td>\n",
       "        <td>28</td>\n",
       "    </tr>\n",
       "    <tr>\n",
       "        <td>Introduction to Political Theory</td>\n",
       "        <td>27</td>\n",
       "        <td>28</td>\n",
       "    </tr>\n",
       "    <tr>\n",
       "        <td>Principles of Investment</td>\n",
       "        <td>28</td>\n",
       "        <td>29</td>\n",
       "    </tr>\n",
       "    <tr>\n",
       "        <td>Principles of Investment</td>\n",
       "        <td>28</td>\n",
       "        <td>29</td>\n",
       "    </tr>\n",
       "    <tr>\n",
       "        <td>Financial Management</td>\n",
       "        <td>25</td>\n",
       "        <td>26</td>\n",
       "    </tr>\n",
       "    <tr>\n",
       "        <td>Financial Management</td>\n",
       "        <td>25</td>\n",
       "        <td>27</td>\n",
       "    </tr>\n",
       "    <tr>\n",
       "        <td>Financial Management</td>\n",
       "        <td>26</td>\n",
       "        <td>27</td>\n",
       "    </tr>\n",
       "    <tr>\n",
       "        <td>Operations Management</td>\n",
       "        <td>26</td>\n",
       "        <td>27</td>\n",
       "    </tr>\n",
       "    <tr>\n",
       "        <td>Accelerated Statistics</td>\n",
       "        <td>28</td>\n",
       "        <td>29</td>\n",
       "    </tr>\n",
       "    <tr>\n",
       "        <td>Financial Trading and Strategic Simulations</td>\n",
       "        <td>28</td>\n",
       "        <td>29</td>\n",
       "    </tr>\n",
       "    <tr>\n",
       "        <td>Financial Trading and Strategic Simulations</td>\n",
       "        <td>15</td>\n",
       "        <td>16</td>\n",
       "    </tr>\n",
       "    <tr>\n",
       "        <td>Educational Psychology</td>\n",
       "        <td>18</td>\n",
       "        <td>19</td>\n",
       "    </tr>\n",
       "    <tr>\n",
       "        <td>Introduction to Health Studies</td>\n",
       "        <td>25</td>\n",
       "        <td>26</td>\n",
       "    </tr>\n",
       "    <tr>\n",
       "        <td>Introduction to Health Studies</td>\n",
       "        <td>20</td>\n",
       "        <td>22</td>\n",
       "    </tr>\n",
       "    <tr>\n",
       "        <td>Introduction to Health Studies</td>\n",
       "        <td>25</td>\n",
       "        <td>26</td>\n",
       "    </tr>\n",
       "    <tr>\n",
       "        <td>Logic</td>\n",
       "        <td>20</td>\n",
       "        <td>23</td>\n",
       "    </tr>\n",
       "    <tr>\n",
       "        <td>Origins of the Modern World Since 1500</td>\n",
       "        <td>20</td>\n",
       "        <td>23</td>\n",
       "    </tr>\n",
       "    <tr>\n",
       "        <td>Introduction to Microeconomics</td>\n",
       "        <td>25</td>\n",
       "        <td>26</td>\n",
       "    </tr>\n",
       "    <tr>\n",
       "        <td>Origins of the Modern World Since 1500</td>\n",
       "        <td>25</td>\n",
       "        <td>26</td>\n",
       "    </tr>\n",
       "    <tr>\n",
       "        <td>Origins of the Modern World Since 1500</td>\n",
       "        <td>26</td>\n",
       "        <td>27</td>\n",
       "    </tr>\n",
       "    <tr>\n",
       "        <td>History of Western Science</td>\n",
       "        <td>29</td>\n",
       "        <td>30</td>\n",
       "    </tr>\n",
       "    <tr>\n",
       "        <td>Hellenistic World, 336-30 BCE</td>\n",
       "        <td>20</td>\n",
       "        <td>22</td>\n",
       "    </tr>\n",
       "    <tr>\n",
       "        <td>Research Methods for Evidenced-Based Practice</td>\n",
       "        <td>20</td>\n",
       "        <td>22</td>\n",
       "    </tr>\n",
       "    <tr>\n",
       "        <td>Adult Health I</td>\n",
       "        <td>15</td>\n",
       "        <td>16</td>\n",
       "    </tr>\n",
       "    <tr>\n",
       "        <td>The Holocaust in History and Memory</td>\n",
       "        <td>15</td>\n",
       "        <td>16</td>\n",
       "    </tr>\n",
       "    <tr>\n",
       "        <td>Mental Health Nursing Clinical</td>\n",
       "        <td>6</td>\n",
       "        <td>7</td>\n",
       "    </tr>\n",
       "    <tr>\n",
       "        <td>Introduction to Information Systems</td>\n",
       "        <td>25</td>\n",
       "        <td>27</td>\n",
       "    </tr>\n",
       "    <tr>\n",
       "        <td>Introduction to Information Systems</td>\n",
       "        <td>27</td>\n",
       "        <td>28</td>\n",
       "    </tr>\n",
       "    <tr>\n",
       "        <td>Introduction to Information Systems</td>\n",
       "        <td>27</td>\n",
       "        <td>28</td>\n",
       "    </tr>\n",
       "    <tr>\n",
       "        <td>Business Strategies in the Global Environment</td>\n",
       "        <td>20</td>\n",
       "        <td>22</td>\n",
       "    </tr>\n",
       "    <tr>\n",
       "        <td>Fundamentals of Business Analytics</td>\n",
       "        <td>20</td>\n",
       "        <td>22</td>\n",
       "    </tr>\n",
       "    <tr>\n",
       "        <td>Fundamentals of Business Analytics</td>\n",
       "        <td>19</td>\n",
       "        <td>21</td>\n",
       "    </tr>\n",
       "    <tr>\n",
       "        <td>Senior Capstone Seminar</td>\n",
       "        <td>10</td>\n",
       "        <td>12</td>\n",
       "    </tr>\n",
       "    <tr>\n",
       "        <td>Managing Human Resources</td>\n",
       "        <td>25</td>\n",
       "        <td>26</td>\n",
       "    </tr>\n",
       "    <tr>\n",
       "        <td>Leading and Managing People</td>\n",
       "        <td>26</td>\n",
       "        <td>28</td>\n",
       "    </tr>\n",
       "    <tr>\n",
       "        <td>Business Strategies in the Global Environment</td>\n",
       "        <td>25</td>\n",
       "        <td>26</td>\n",
       "    </tr>\n",
       "    <tr>\n",
       "        <td>Principles of Marketing</td>\n",
       "        <td>27</td>\n",
       "        <td>29</td>\n",
       "    </tr>\n",
       "    <tr>\n",
       "        <td>Principles of Marketing</td>\n",
       "        <td>27</td>\n",
       "        <td>29</td>\n",
       "    </tr>\n",
       "    <tr>\n",
       "        <td>Principles of Marketing</td>\n",
       "        <td>27</td>\n",
       "        <td>28</td>\n",
       "    </tr>\n",
       "    <tr>\n",
       "        <td>Principles of Marketing</td>\n",
       "        <td>27</td>\n",
       "        <td>29</td>\n",
       "    </tr>\n",
       "    <tr>\n",
       "        <td>Principles of Marketing</td>\n",
       "        <td>28</td>\n",
       "        <td>29</td>\n",
       "    </tr>\n",
       "    <tr>\n",
       "        <td>Principles of Marketing</td>\n",
       "        <td>27</td>\n",
       "        <td>28</td>\n",
       "    </tr>\n",
       "    <tr>\n",
       "        <td>Principles of Marketing</td>\n",
       "        <td>27</td>\n",
       "        <td>28</td>\n",
       "    </tr>\n",
       "    <tr>\n",
       "        <td>Marine Invertebrate Zoology Lab</td>\n",
       "        <td>27</td>\n",
       "        <td>29</td>\n",
       "    </tr>\n",
       "    <tr>\n",
       "        <td>Principles of Marketing</td>\n",
       "        <td>27</td>\n",
       "        <td>29</td>\n",
       "    </tr>\n",
       "    <tr>\n",
       "        <td>Digital Marketing</td>\n",
       "        <td>25</td>\n",
       "        <td>26</td>\n",
       "    </tr>\n",
       "    <tr>\n",
       "        <td>Principles of Marketing</td>\n",
       "        <td>25</td>\n",
       "        <td>26</td>\n",
       "    </tr>\n",
       "    <tr>\n",
       "        <td>Digital Marketing</td>\n",
       "        <td>16</td>\n",
       "        <td>17</td>\n",
       "    </tr>\n",
       "    <tr>\n",
       "        <td>Evolutionary Biology Lab</td>\n",
       "        <td>16</td>\n",
       "        <td>17</td>\n",
       "    </tr>\n",
       "    <tr>\n",
       "        <td>Fundamentals of Microbiology Lab</td>\n",
       "        <td>16</td>\n",
       "        <td>17</td>\n",
       "    </tr>\n",
       "    <tr>\n",
       "        <td>Social Media Marketing</td>\n",
       "        <td>16</td>\n",
       "        <td>17</td>\n",
       "    </tr>\n",
       "    <tr>\n",
       "        <td>Marketing Research</td>\n",
       "        <td>30</td>\n",
       "        <td>31</td>\n",
       "    </tr>\n",
       "    <tr>\n",
       "        <td>Marketing Research</td>\n",
       "        <td>28</td>\n",
       "        <td>29</td>\n",
       "    </tr>\n",
       "    <tr>\n",
       "        <td>Global Marketing</td>\n",
       "        <td>25</td>\n",
       "        <td>26</td>\n",
       "    </tr>\n",
       "    <tr>\n",
       "        <td>Intermediate Accounting I</td>\n",
       "        <td>24</td>\n",
       "        <td>34</td>\n",
       "    </tr>\n",
       "    <tr>\n",
       "        <td>Techniques of Narrative and Solution-Focused Therapy</td>\n",
       "        <td>24</td>\n",
       "        <td>34</td>\n",
       "    </tr>\n",
       "    <tr>\n",
       "        <td>Divorce, Single-Parenting, and Remarriage</td>\n",
       "        <td>21</td>\n",
       "        <td>22</td>\n",
       "    </tr>\n",
       "    <tr>\n",
       "        <td>Federal Income Taxation I</td>\n",
       "        <td>25</td>\n",
       "        <td>26</td>\n",
       "    </tr>\n",
       "    <tr>\n",
       "        <td>Practicum in Family Therapy II</td>\n",
       "        <td>25</td>\n",
       "        <td>26</td>\n",
       "    </tr>\n",
       "    <tr>\n",
       "        <td>Practicum in Family Therapy II</td>\n",
       "        <td>28</td>\n",
       "        <td>29</td>\n",
       "    </tr>\n",
       "    <tr>\n",
       "        <td>Principles of Investment</td>\n",
       "        <td>28</td>\n",
       "        <td>29</td>\n",
       "    </tr>\n",
       "    <tr>\n",
       "        <td>Accelerated Statistics</td>\n",
       "        <td>28</td>\n",
       "        <td>29</td>\n",
       "    </tr>\n",
       "    <tr>\n",
       "        <td>Practicum in Family Therapy II</td>\n",
       "        <td>28</td>\n",
       "        <td>29</td>\n",
       "    </tr>\n",
       "    <tr>\n",
       "        <td>Introduction to Sociology</td>\n",
       "        <td>20</td>\n",
       "        <td>22</td>\n",
       "    </tr>\n",
       "    <tr>\n",
       "        <td>Precalculus</td>\n",
       "        <td>20</td>\n",
       "        <td>22</td>\n",
       "    </tr>\n",
       "    <tr>\n",
       "        <td>Concepts of Calculus</td>\n",
       "        <td>25</td>\n",
       "        <td>26</td>\n",
       "    </tr>\n",
       "    <tr>\n",
       "        <td>Music Theory and Composition I</td>\n",
       "        <td>25</td>\n",
       "        <td>26</td>\n",
       "    </tr>\n",
       "    <tr>\n",
       "        <td>Concepts of Calculus</td>\n",
       "        <td>25</td>\n",
       "        <td>26</td>\n",
       "    </tr>\n",
       "    <tr>\n",
       "        <td>Introduction to the Music Industry</td>\n",
       "        <td>25</td>\n",
       "        <td>26</td>\n",
       "    </tr>\n",
       "    <tr>\n",
       "        <td>Applied Calculus I</td>\n",
       "        <td>30</td>\n",
       "        <td>31</td>\n",
       "    </tr>\n",
       "    <tr>\n",
       "        <td>Applied Calculus I</td>\n",
       "        <td>30</td>\n",
       "        <td>31</td>\n",
       "    </tr>\n",
       "    <tr>\n",
       "        <td>Calculus I for Chemistry, Engineering, and Physics Majors</td>\n",
       "        <td>25</td>\n",
       "        <td>26</td>\n",
       "    </tr>\n",
       "    <tr>\n",
       "        <td>Accelerated Statistics</td>\n",
       "        <td>28</td>\n",
       "        <td>29</td>\n",
       "    </tr>\n",
       "    <tr>\n",
       "        <td>Calculus III for Chemistry, Engineering, and Physics Majors</td>\n",
       "        <td>25</td>\n",
       "        <td>26</td>\n",
       "    </tr>\n",
       "    <tr>\n",
       "        <td>Engineering Statics</td>\n",
       "        <td>15</td>\n",
       "        <td>17</td>\n",
       "    </tr>\n",
       "    <tr>\n",
       "        <td>Materials Science</td>\n",
       "        <td>15</td>\n",
       "        <td>24</td>\n",
       "    </tr>\n",
       "    <tr>\n",
       "        <td>Materials Science</td>\n",
       "        <td>15</td>\n",
       "        <td>23</td>\n",
       "    </tr>\n",
       "    <tr>\n",
       "        <td>Software Engineering Methods</td>\n",
       "        <td>15</td>\n",
       "        <td>23</td>\n",
       "    </tr>\n",
       "    <tr>\n",
       "        <td>Machine Design</td>\n",
       "        <td>15</td>\n",
       "        <td>17</td>\n",
       "    </tr>\n",
       "    <tr>\n",
       "        <td>Engineering Systems Dynamics</td>\n",
       "        <td>17</td>\n",
       "        <td>18</td>\n",
       "    </tr>\n",
       "    <tr>\n",
       "        <td>Heat Transfer</td>\n",
       "        <td>17</td>\n",
       "        <td>19</td>\n",
       "    </tr>\n",
       "    <tr>\n",
       "        <td>Introduction to Microeconomics</td>\n",
       "        <td>17</td>\n",
       "        <td>19</td>\n",
       "    </tr>\n",
       "    <tr>\n",
       "        <td>Energy Transfer Lab</td>\n",
       "        <td>15</td>\n",
       "        <td>16</td>\n",
       "    </tr>\n",
       "    <tr>\n",
       "        <td>Applications of Finite Element Analysis</td>\n",
       "        <td>18</td>\n",
       "        <td>21</td>\n",
       "    </tr>\n",
       "    <tr>\n",
       "        <td>Comprehensive Exam in Applied Psychology</td>\n",
       "        <td>18</td>\n",
       "        <td>21</td>\n",
       "    </tr>\n",
       "    <tr>\n",
       "        <td>Existentialism</td>\n",
       "        <td>20</td>\n",
       "        <td>23</td>\n",
       "    </tr>\n",
       "    <tr>\n",
       "        <td>History of Choral Music</td>\n",
       "        <td>20</td>\n",
       "        <td>23</td>\n",
       "    </tr>\n",
       "    <tr>\n",
       "        <td>Introduction to Asian Philosophies</td>\n",
       "        <td>20</td>\n",
       "        <td>21</td>\n",
       "    </tr>\n",
       "    <tr>\n",
       "        <td>Popular Music Theory and Composition</td>\n",
       "        <td>20</td>\n",
       "        <td>21</td>\n",
       "    </tr>\n",
       "    <tr>\n",
       "        <td>Geriatric Nursing Clinical</td>\n",
       "        <td>25</td>\n",
       "        <td>26</td>\n",
       "    </tr>\n",
       "    <tr>\n",
       "        <td>Literature by Women: Vision and Revision</td>\n",
       "        <td>25</td>\n",
       "        <td>26</td>\n",
       "    </tr>\n",
       "    <tr>\n",
       "        <td>Basic Pathophysiology and Pharmacology</td>\n",
       "        <td>24</td>\n",
       "        <td>25</td>\n",
       "    </tr>\n",
       "    <tr>\n",
       "        <td>Fundamentals of Nursing Care</td>\n",
       "        <td>64</td>\n",
       "        <td>65</td>\n",
       "    </tr>\n",
       "    <tr>\n",
       "        <td>Maternal and Newborn Nursing Clinical</td>\n",
       "        <td>25</td>\n",
       "        <td>26</td>\n",
       "    </tr>\n",
       "    <tr>\n",
       "        <td>The Nature of the Universe</td>\n",
       "        <td>25</td>\n",
       "        <td>26</td>\n",
       "    </tr>\n",
       "    <tr>\n",
       "        <td>Mental Health Nursing Clinical</td>\n",
       "        <td>31</td>\n",
       "        <td>32</td>\n",
       "    </tr>\n",
       "    <tr>\n",
       "        <td>Pediatric Nursing</td>\n",
       "        <td>31</td>\n",
       "        <td>32</td>\n",
       "    </tr>\n",
       "    <tr>\n",
       "        <td>Financial Management</td>\n",
       "        <td>28</td>\n",
       "        <td>29</td>\n",
       "    </tr>\n",
       "    <tr>\n",
       "        <td>Pediatric Nursing Clinical</td>\n",
       "        <td>28</td>\n",
       "        <td>29</td>\n",
       "    </tr>\n",
       "    <tr>\n",
       "        <td>Advanced Nursing Roles and Reflective Practice</td>\n",
       "        <td>25</td>\n",
       "        <td>27</td>\n",
       "    </tr>\n",
       "    <tr>\n",
       "        <td>Managing Human Resources</td>\n",
       "        <td>25</td>\n",
       "        <td>27</td>\n",
       "    </tr>\n",
       "    <tr>\n",
       "        <td>Career Planning</td>\n",
       "        <td>25</td>\n",
       "        <td>33</td>\n",
       "    </tr>\n",
       "    <tr>\n",
       "        <td>Population Health</td>\n",
       "        <td>25</td>\n",
       "        <td>33</td>\n",
       "    </tr>\n",
       "    <tr>\n",
       "        <td>Operations Management</td>\n",
       "        <td>25</td>\n",
       "        <td>26</td>\n",
       "    </tr>\n",
       "    <tr>\n",
       "        <td>Operations Management</td>\n",
       "        <td>25</td>\n",
       "        <td>26</td>\n",
       "    </tr>\n",
       "    <tr>\n",
       "        <td>Operations Management</td>\n",
       "        <td>25</td>\n",
       "        <td>26</td>\n",
       "    </tr>\n",
       "    <tr>\n",
       "        <td>Introduction to Philosophy</td>\n",
       "        <td>25</td>\n",
       "        <td>26</td>\n",
       "    </tr>\n",
       "    <tr>\n",
       "        <td>Modern Philosophy</td>\n",
       "        <td>20</td>\n",
       "        <td>21</td>\n",
       "    </tr>\n",
       "    <tr>\n",
       "        <td>Ancient Medicine and Philosophy</td>\n",
       "        <td>20</td>\n",
       "        <td>21</td>\n",
       "    </tr>\n",
       "    <tr>\n",
       "        <td>Elements of Microbiology Lab</td>\n",
       "        <td>20</td>\n",
       "        <td>21</td>\n",
       "    </tr>\n",
       "    <tr>\n",
       "        <td>Advertising</td>\n",
       "        <td>20</td>\n",
       "        <td>21</td>\n",
       "    </tr>\n",
       "    <tr>\n",
       "        <td>Philosophy of Science</td>\n",
       "        <td>20</td>\n",
       "        <td>21</td>\n",
       "    </tr>\n",
       "    <tr>\n",
       "        <td>Introduction to Asian Philosophies</td>\n",
       "        <td>20</td>\n",
       "        <td>22</td>\n",
       "    </tr>\n",
       "    <tr>\n",
       "        <td>General Physics I</td>\n",
       "        <td>24</td>\n",
       "        <td>25</td>\n",
       "    </tr>\n",
       "    <tr>\n",
       "        <td>General Physics I</td>\n",
       "        <td>24</td>\n",
       "        <td>26</td>\n",
       "    </tr>\n",
       "    <tr>\n",
       "        <td>Systems Analysis and Logical Design</td>\n",
       "        <td>24</td>\n",
       "        <td>26</td>\n",
       "    </tr>\n",
       "    <tr>\n",
       "        <td>General Physics I</td>\n",
       "        <td>25</td>\n",
       "        <td>26</td>\n",
       "    </tr>\n",
       "    <tr>\n",
       "        <td>Leading and Managing People</td>\n",
       "        <td>25</td>\n",
       "        <td>26</td>\n",
       "    </tr>\n",
       "    <tr>\n",
       "        <td>Diversity in the Workplace</td>\n",
       "        <td>24</td>\n",
       "        <td>25</td>\n",
       "    </tr>\n",
       "    <tr>\n",
       "        <td>General Physics I</td>\n",
       "        <td>24</td>\n",
       "        <td>25</td>\n",
       "    </tr>\n",
       "    <tr>\n",
       "        <td>Diversity in the Workplace</td>\n",
       "        <td>25</td>\n",
       "        <td>26</td>\n",
       "    </tr>\n",
       "    <tr>\n",
       "        <td>General Physics I</td>\n",
       "        <td>25</td>\n",
       "        <td>26</td>\n",
       "    </tr>\n",
       "    <tr>\n",
       "        <td>General Physics I</td>\n",
       "        <td>24</td>\n",
       "        <td>25</td>\n",
       "    </tr>\n",
       "    <tr>\n",
       "        <td>Calculus III for Chemistry, Engineering, and Physics Majors</td>\n",
       "        <td>30</td>\n",
       "        <td>32</td>\n",
       "    </tr>\n",
       "    <tr>\n",
       "        <td>General Psychology</td>\n",
       "        <td>10</td>\n",
       "        <td>12</td>\n",
       "    </tr>\n",
       "    <tr>\n",
       "        <td>Lifespan Human Development</td>\n",
       "        <td>10</td>\n",
       "        <td>12</td>\n",
       "    </tr>\n",
       "    <tr>\n",
       "        <td>Developmental Psychology for Non-Majors</td>\n",
       "        <td>1</td>\n",
       "        <td>23</td>\n",
       "    </tr>\n",
       "    <tr>\n",
       "        <td>Developmental Psychology for Non-Majors</td>\n",
       "        <td>1</td>\n",
       "        <td>25</td>\n",
       "    </tr>\n",
       "    <tr>\n",
       "        <td>Abnormal Psychology for Non-Majors</td>\n",
       "        <td>8</td>\n",
       "        <td>9</td>\n",
       "    </tr>\n",
       "    <tr>\n",
       "        <td>Health and Wellness Clinical</td>\n",
       "        <td>8</td>\n",
       "        <td>9</td>\n",
       "    </tr>\n",
       "    <tr>\n",
       "        <td>Health and Wellness Clinical</td>\n",
       "        <td>8</td>\n",
       "        <td>9</td>\n",
       "    </tr>\n",
       "    <tr>\n",
       "        <td>Sensation and Perception</td>\n",
       "        <td>8</td>\n",
       "        <td>9</td>\n",
       "    </tr>\n",
       "    <tr>\n",
       "        <td>Health and Wellness Clinical</td>\n",
       "        <td>8</td>\n",
       "        <td>9</td>\n",
       "    </tr>\n",
       "    <tr>\n",
       "        <td>Senior Seminar: Current Issues in Clinical Psychology</td>\n",
       "        <td>8</td>\n",
       "        <td>9</td>\n",
       "    </tr>\n",
       "    <tr>\n",
       "        <td>Financial Management and Budgeting</td>\n",
       "        <td>15</td>\n",
       "        <td>18</td>\n",
       "    </tr>\n",
       "    <tr>\n",
       "        <td>Business Forecasting and Predictive Analytics</td>\n",
       "        <td>20</td>\n",
       "        <td>27</td>\n",
       "    </tr>\n",
       "    <tr>\n",
       "        <td>Developmental Literacy I: Fundamentals of Reading and Language Development</td>\n",
       "        <td>10</td>\n",
       "        <td>12</td>\n",
       "    </tr>\n",
       "    <tr>\n",
       "        <td>Introduction to Philosophy</td>\n",
       "        <td>10</td>\n",
       "        <td>12</td>\n",
       "    </tr>\n",
       "    <tr>\n",
       "        <td>Guided Reflective Practice in Tier I Reading and Language Arts Programming</td>\n",
       "        <td>20</td>\n",
       "        <td>21</td>\n",
       "    </tr>\n",
       "    <tr>\n",
       "        <td>Introduction to Philosophy</td>\n",
       "        <td>20</td>\n",
       "        <td>21</td>\n",
       "    </tr>\n",
       "    <tr>\n",
       "        <td>Assessment and Differentiated Instruction</td>\n",
       "        <td>16</td>\n",
       "        <td>21</td>\n",
       "    </tr>\n",
       "    <tr>\n",
       "        <td>Exploring Religion: Peoples of the Book, Sacred Texts, and Their Communities</td>\n",
       "        <td>16</td>\n",
       "        <td>21</td>\n",
       "    </tr>\n",
       "    <tr>\n",
       "        <td>Criminology</td>\n",
       "        <td>25</td>\n",
       "        <td>27</td>\n",
       "    </tr>\n",
       "    <tr>\n",
       "        <td>The Reformation Era</td>\n",
       "        <td>25</td>\n",
       "        <td>27</td>\n",
       "    </tr>\n",
       "    <tr>\n",
       "        <td>Catholic Social Teaching</td>\n",
       "        <td>25</td>\n",
       "        <td>26</td>\n",
       "    </tr>\n",
       "    <tr>\n",
       "        <td>Strategic Management of Technology and Innovation: The Entrepreneurial Firm</td>\n",
       "        <td>25</td>\n",
       "        <td>26</td>\n",
       "    </tr>\n",
       "    <tr>\n",
       "        <td>I&#x27;m Spiritual, Not Religious: The American Spiritual Tradition</td>\n",
       "        <td>15</td>\n",
       "        <td>18</td>\n",
       "    </tr>\n",
       "    <tr>\n",
       "        <td>The Law of Commercial Transactions: Advanced Studies in the Uniform Commerical Code</td>\n",
       "        <td>15</td>\n",
       "        <td>18</td>\n",
       "    </tr>\n",
       "    <tr>\n",
       "        <td>Race, Gender, and Ethnic Relations</td>\n",
       "        <td>28</td>\n",
       "        <td>30</td>\n",
       "    </tr>\n",
       "    <tr>\n",
       "        <td>Health and Wellness Clinical</td>\n",
       "        <td>8</td>\n",
       "        <td>9</td>\n",
       "    </tr>\n",
       "    <tr>\n",
       "        <td>Urban/Suburban Sociology: NYC</td>\n",
       "        <td>8</td>\n",
       "        <td>9</td>\n",
       "    </tr>\n",
       "    <tr>\n",
       "        <td>Feminism, Gender, and Everyday Life</td>\n",
       "        <td>20</td>\n",
       "        <td>22</td>\n",
       "    </tr>\n",
       "    <tr>\n",
       "        <td>Health and Wellness Clinical</td>\n",
       "        <td>8</td>\n",
       "        <td>9</td>\n",
       "    </tr>\n",
       "    <tr>\n",
       "        <td>Population: Birth, Death, and Migration</td>\n",
       "        <td>8</td>\n",
       "        <td>9</td>\n",
       "    </tr>\n",
       "    <tr>\n",
       "        <td>Web Development</td>\n",
       "        <td>22</td>\n",
       "        <td>23</td>\n",
       "    </tr>\n",
       "    <tr>\n",
       "        <td>Advanced Programming in Java</td>\n",
       "        <td>24</td>\n",
       "        <td>25</td>\n",
       "    </tr>\n",
       "    <tr>\n",
       "        <td>Introduction to Microeconomics</td>\n",
       "        <td>11</td>\n",
       "        <td>12</td>\n",
       "    </tr>\n",
       "    <tr>\n",
       "        <td>Software Project Management</td>\n",
       "        <td>11</td>\n",
       "        <td>12</td>\n",
       "    </tr>\n",
       "    <tr>\n",
       "        <td>Elementary Spanish I</td>\n",
       "        <td>24</td>\n",
       "        <td>31</td>\n",
       "    </tr>\n",
       "    <tr>\n",
       "        <td>Intermediate Accounting I</td>\n",
       "        <td>24</td>\n",
       "        <td>31</td>\n",
       "    </tr>\n",
       "    <tr>\n",
       "        <td>Elementary Spanish II</td>\n",
       "        <td>18</td>\n",
       "        <td>19</td>\n",
       "    </tr>\n",
       "    <tr>\n",
       "        <td>Intermediate Spanish I</td>\n",
       "        <td>19</td>\n",
       "        <td>20</td>\n",
       "    </tr>\n",
       "    <tr>\n",
       "        <td>Intermediate Spanish II</td>\n",
       "        <td>18</td>\n",
       "        <td>19</td>\n",
       "    </tr>\n",
       "    <tr>\n",
       "        <td>Topics in Language and Culture</td>\n",
       "        <td>25</td>\n",
       "        <td>27</td>\n",
       "    </tr>\n",
       "    <tr>\n",
       "        <td>Analysis and Interpretation of Hispanic Literature</td>\n",
       "        <td>35</td>\n",
       "        <td>39</td>\n",
       "    </tr>\n",
       "    <tr>\n",
       "        <td>Precalculus</td>\n",
       "        <td>35</td>\n",
       "        <td>39</td>\n",
       "    </tr>\n",
       "    <tr>\n",
       "        <td>Maternal and Newborn Nursing Clinical</td>\n",
       "        <td>6</td>\n",
       "        <td>7</td>\n",
       "    </tr>\n",
       "    <tr>\n",
       "        <td>Popular Culture in Latin America</td>\n",
       "        <td>6</td>\n",
       "        <td>7</td>\n",
       "    </tr>\n",
       "    <tr>\n",
       "        <td>Accelerated Statistics</td>\n",
       "        <td>28</td>\n",
       "        <td>29</td>\n",
       "    </tr>\n",
       "    <tr>\n",
       "        <td>Management Techniques in Special Education</td>\n",
       "        <td>28</td>\n",
       "        <td>29</td>\n",
       "    </tr>\n",
       "    <tr>\n",
       "        <td>Issues in Accounting Ethics</td>\n",
       "        <td>15</td>\n",
       "        <td>17</td>\n",
       "    </tr>\n",
       "    <tr>\n",
       "        <td>Student Teaching and Practica Seminar in Special Education</td>\n",
       "        <td>15</td>\n",
       "        <td>17</td>\n",
       "    </tr>\n",
       "    <tr>\n",
       "        <td>Special Learners in the Bilingual/ESL Classroom</td>\n",
       "        <td>10</td>\n",
       "        <td>11</td>\n",
       "    </tr>\n",
       "    <tr>\n",
       "        <td>Texts and Contexts I: Writing as Craft and Inquiry</td>\n",
       "        <td>10</td>\n",
       "        <td>11</td>\n",
       "    </tr>\n",
       "    <tr>\n",
       "        <td>Elementary Student Teaching: Immersion in a Community of Practice</td>\n",
       "        <td>15</td>\n",
       "        <td>16</td>\n",
       "    </tr>\n",
       "    <tr>\n",
       "        <td>Special Learners in the Bilingual/ESL Classroom</td>\n",
       "        <td>15</td>\n",
       "        <td>16</td>\n",
       "    </tr>\n",
       "    <tr>\n",
       "        <td>Linguistic Foundations of English Acquisition</td>\n",
       "        <td>12</td>\n",
       "        <td>14</td>\n",
       "    </tr>\n",
       "    <tr>\n",
       "        <td>Research on Contemporary Issues in Accounting</td>\n",
       "        <td>12</td>\n",
       "        <td>14</td>\n",
       "    </tr>\n",
       "    <tr>\n",
       "        <td>Research on Contemporary Issues in Accounting</td>\n",
       "        <td>12</td>\n",
       "        <td>14</td>\n",
       "    </tr>\n",
       "    <tr>\n",
       "        <td>Entity Taxation</td>\n",
       "        <td>23</td>\n",
       "        <td>26</td>\n",
       "    </tr>\n",
       "</table>"
      ],
      "text/plain": [
       "[('Introduction to Financial Accounting', 31, 33),\n",
       " ('Introduction to Financial Accounting', 31, 33),\n",
       " ('Introduction to Financial Accounting', 31, 32),\n",
       " ('Intermediate Accounting I', 22, 24),\n",
       " ('Intermediate Accounting I', 22, 24),\n",
       " ('General Biology I', 22, 24),\n",
       " ('Intermediate Accounting I', 22, 24),\n",
       " ('Auditing', 27, 28),\n",
       " ('Issues in Accounting Ethics', 15, 18),\n",
       " ('Issues in Accounting Ethics', 15, 16),\n",
       " ('Issues in Accounting Ethics', 15, 17),\n",
       " ('Issues in Accounting Ethics', 16, 17),\n",
       " ('Operations Management', 16, 17),\n",
       " ('Research on Contemporary Issues in Accounting', 15, 17),\n",
       " ('Operations Management', 15, 17),\n",
       " ('Research on Contemporary Issues in Accounting', 15, 17),\n",
       " ('Introduction to Four-Field Anthropology', 28, 29),\n",
       " ('Art of Africa, the Caribbean, and the Americas', 25, 26),\n",
       " ('Art and Archaeology of Ancient Egypt: Images for Eternity', 25, 26),\n",
       " ('Intermediate French I', 25, 26),\n",
       " ('Human Biology: Form and Function', 24, 25),\n",
       " ('Environmental Science', 12, 13),\n",
       " ('Texts and Contexts I: Writing as Craft and Inquiry', 12, 13),\n",
       " ('Human Anatomy and Physiology I', 13, 14),\n",
       " ('Human Anatomy and Physiology I', 18, 20),\n",
       " ('Introductory Principles of Epidemiology', 5, 6),\n",
       " ('Pediatric Nursing Clinical', 5, 6),\n",
       " ('Biochemistry II', 12, 13),\n",
       " ('Evolutionary Biology Lab', 7, 8),\n",
       " ('Medical Surgical Nursing II Clinical', 7, 8),\n",
       " ('Biology Research VI', 7, 8),\n",
       " ('Medical Surgical Nursing II Clinical', 7, 8),\n",
       " ('Legal Environment of Business', 25, 27),\n",
       " ('Communication Research Design and Methodologies', 20, 32),\n",
       " ('Python for Business Analytics', 20, 27),\n",
       " ('General Chemistry for Health Science', 20, 21),\n",
       " ('General Psychology', 24, 25),\n",
       " ('Molecules of Life', 24, 25),\n",
       " ('Organic Chemistry I', 25, 26),\n",
       " ('Biochemistry I', 12, 17),\n",
       " ('Fundamentals of Nursing Care Lab', 5, 8),\n",
       " ('Hellenistic World, 336-30 BCE', 5, 8),\n",
       " ('Introduction to Organizational Communication', 35, 37),\n",
       " ('Alcohol, Addiction and Culture', 23, 24),\n",
       " ('Research Projects in Communication: Capstone', 15, 16),\n",
       " ('Children as Media Consumers', 20, 22),\n",
       " ('Communication Philosophies, Theories, and Research Traditions', 15, 16),\n",
       " ('Futures and Options Markets', 15, 16),\n",
       " ('Applied Business Statistics', 3, 4),\n",
       " ('Visual Communication', 3, 4),\n",
       " ('Health Risk Communication', 20, 21),\n",
       " ('Introduction to Computing', 20, 24),\n",
       " ('Probability Theory', 20, 24),\n",
       " ('Introduction to Computing', 15, 17),\n",
       " ('Microcontroller Lab', 15, 17),\n",
       " ('Introduction to Financial Accounting', 29, 30),\n",
       " ('Programming Workshop Lab', 29, 30),\n",
       " ('The Law of Commercial Transactions: Advanced Studies in the Uniform Commerical Code', 15, 19),\n",
       " ('Assessment in Counseling', 18, 21),\n",
       " ('Introduction to Microeconomics', 26, 27),\n",
       " ('Introduction to Microeconomics', 26, 28),\n",
       " ('Introduction to Microeconomics', 26, 27),\n",
       " ('Evolutionary Biology', 16, 17),\n",
       " ('Industrial Organization and Competitive Strategy', 16, 17),\n",
       " ('Advanced Linear Systems', 37, 40),\n",
       " ('General Chemistry I', 37, 40),\n",
       " ('Electric Circuits Lab', 13, 15),\n",
       " ('Electric Circuits Lab', 12, 13),\n",
       " ('Electric Circuits Lab', 13, 14),\n",
       " ('Engineering Graphics II', 30, 31),\n",
       " ('Public Relations', 30, 31),\n",
       " ('Senior Design Project I', 60, 62),\n",
       " ('Texts and Contexts I: Writing as Craft and Inquiry', 19, 20),\n",
       " ('Origins and Transformations in Western Art', 19, 20),\n",
       " ('Texts and Contexts I: Writing as Craft and Inquiry', 19, 20),\n",
       " ('19th-Century Russian Novel and World Literature', 25, 28),\n",
       " ('Auditing', 25, 28),\n",
       " ('American Short Story', 25, 26),\n",
       " ('People, Places, and Global Issues', 25, 26),\n",
       " ('Production Practicum in Film, Television, and Media Arts', 10, 17),\n",
       " ('The Woman Question: Early Feminism and 19th Century Transatlantic Literature', 10, 17),\n",
       " ('Introduction to Film and Video Production', 29, 30),\n",
       " ('Introduction to Finance', 25, 27),\n",
       " ('Fundamentals of Nursing Care Lab', 25, 26),\n",
       " ('Introduction to Finance', 25, 26),\n",
       " ('Global Capital Markets', 25, 27),\n",
       " ('Global Capital Markets', 27, 28),\n",
       " ('Introduction to Political Theory', 27, 28),\n",
       " ('Principles of Investment', 28, 29),\n",
       " ('Principles of Investment', 28, 29),\n",
       " ('Financial Management', 25, 26),\n",
       " ('Financial Management', 25, 27),\n",
       " ('Financial Management', 26, 27),\n",
       " ('Operations Management', 26, 27),\n",
       " ('Accelerated Statistics', 28, 29),\n",
       " ('Financial Trading and Strategic Simulations', 28, 29),\n",
       " ('Financial Trading and Strategic Simulations', 15, 16),\n",
       " ('Educational Psychology', 18, 19),\n",
       " ('Introduction to Health Studies', 25, 26),\n",
       " ('Introduction to Health Studies', 20, 22),\n",
       " ('Introduction to Health Studies', 25, 26),\n",
       " ('Logic', 20, 23),\n",
       " ('Origins of the Modern World Since 1500', 20, 23),\n",
       " ('Introduction to Microeconomics', 25, 26),\n",
       " ('Origins of the Modern World Since 1500', 25, 26),\n",
       " ('Origins of the Modern World Since 1500', 26, 27),\n",
       " ('History of Western Science', 29, 30),\n",
       " ('Hellenistic World, 336-30 BCE', 20, 22),\n",
       " ('Research Methods for Evidenced-Based Practice', 20, 22),\n",
       " ('Adult Health I', 15, 16),\n",
       " ('The Holocaust in History and Memory', 15, 16),\n",
       " ('Mental Health Nursing Clinical', 6, 7),\n",
       " ('Introduction to Information Systems', 25, 27),\n",
       " ('Introduction to Information Systems', 27, 28),\n",
       " ('Introduction to Information Systems', 27, 28),\n",
       " ('Business Strategies in the Global Environment', 20, 22),\n",
       " ('Fundamentals of Business Analytics', 20, 22),\n",
       " ('Fundamentals of Business Analytics', 19, 21),\n",
       " ('Senior Capstone Seminar', 10, 12),\n",
       " ('Managing Human Resources', 25, 26),\n",
       " ('Leading and Managing People', 26, 28),\n",
       " ('Business Strategies in the Global Environment', 25, 26),\n",
       " ('Principles of Marketing', 27, 29),\n",
       " ('Principles of Marketing', 27, 29),\n",
       " ('Principles of Marketing', 27, 28),\n",
       " ('Principles of Marketing', 27, 29),\n",
       " ('Principles of Marketing', 28, 29),\n",
       " ('Principles of Marketing', 27, 28),\n",
       " ('Principles of Marketing', 27, 28),\n",
       " ('Marine Invertebrate Zoology Lab', 27, 29),\n",
       " ('Principles of Marketing', 27, 29),\n",
       " ('Digital Marketing', 25, 26),\n",
       " ('Principles of Marketing', 25, 26),\n",
       " ('Digital Marketing', 16, 17),\n",
       " ('Evolutionary Biology Lab', 16, 17),\n",
       " ('Fundamentals of Microbiology Lab', 16, 17),\n",
       " ('Social Media Marketing', 16, 17),\n",
       " ('Marketing Research', 30, 31),\n",
       " ('Marketing Research', 28, 29),\n",
       " ('Global Marketing', 25, 26),\n",
       " ('Intermediate Accounting I', 24, 34),\n",
       " ('Techniques of Narrative and Solution-Focused Therapy', 24, 34),\n",
       " ('Divorce, Single-Parenting, and Remarriage', 21, 22),\n",
       " ('Federal Income Taxation I', 25, 26),\n",
       " ('Practicum in Family Therapy II', 25, 26),\n",
       " ('Practicum in Family Therapy II', 28, 29),\n",
       " ('Principles of Investment', 28, 29),\n",
       " ('Accelerated Statistics', 28, 29),\n",
       " ('Practicum in Family Therapy II', 28, 29),\n",
       " ('Introduction to Sociology', 20, 22),\n",
       " ('Precalculus', 20, 22),\n",
       " ('Concepts of Calculus', 25, 26),\n",
       " ('Music Theory and Composition I', 25, 26),\n",
       " ('Concepts of Calculus', 25, 26),\n",
       " ('Introduction to the Music Industry', 25, 26),\n",
       " ('Applied Calculus I', 30, 31),\n",
       " ('Applied Calculus I', 30, 31),\n",
       " ('Calculus I for Chemistry, Engineering, and Physics Majors', 25, 26),\n",
       " ('Accelerated Statistics', 28, 29),\n",
       " ('Calculus III for Chemistry, Engineering, and Physics Majors', 25, 26),\n",
       " ('Engineering Statics', 15, 17),\n",
       " ('Materials Science', 15, 24),\n",
       " ('Materials Science', 15, 23),\n",
       " ('Software Engineering Methods', 15, 23),\n",
       " ('Machine Design', 15, 17),\n",
       " ('Engineering Systems Dynamics', 17, 18),\n",
       " ('Heat Transfer', 17, 19),\n",
       " ('Introduction to Microeconomics', 17, 19),\n",
       " ('Energy Transfer Lab', 15, 16),\n",
       " ('Applications of Finite Element Analysis', 18, 21),\n",
       " ('Comprehensive Exam in Applied Psychology', 18, 21),\n",
       " ('Existentialism', 20, 23),\n",
       " ('History of Choral Music', 20, 23),\n",
       " ('Introduction to Asian Philosophies', 20, 21),\n",
       " ('Popular Music Theory and Composition', 20, 21),\n",
       " ('Geriatric Nursing Clinical', 25, 26),\n",
       " ('Literature by Women: Vision and Revision', 25, 26),\n",
       " ('Basic Pathophysiology and Pharmacology', 24, 25),\n",
       " ('Fundamentals of Nursing Care', 64, 65),\n",
       " ('Maternal and Newborn Nursing Clinical', 25, 26),\n",
       " ('The Nature of the Universe', 25, 26),\n",
       " ('Mental Health Nursing Clinical', 31, 32),\n",
       " ('Pediatric Nursing', 31, 32),\n",
       " ('Financial Management', 28, 29),\n",
       " ('Pediatric Nursing Clinical', 28, 29),\n",
       " ('Advanced Nursing Roles and Reflective Practice', 25, 27),\n",
       " ('Managing Human Resources', 25, 27),\n",
       " ('Career Planning', 25, 33),\n",
       " ('Population Health', 25, 33),\n",
       " ('Operations Management', 25, 26),\n",
       " ('Operations Management', 25, 26),\n",
       " ('Operations Management', 25, 26),\n",
       " ('Introduction to Philosophy', 25, 26),\n",
       " ('Modern Philosophy', 20, 21),\n",
       " ('Ancient Medicine and Philosophy', 20, 21),\n",
       " ('Elements of Microbiology Lab', 20, 21),\n",
       " ('Advertising', 20, 21),\n",
       " ('Philosophy of Science', 20, 21),\n",
       " ('Introduction to Asian Philosophies', 20, 22),\n",
       " ('General Physics I', 24, 25),\n",
       " ('General Physics I', 24, 26),\n",
       " ('Systems Analysis and Logical Design', 24, 26),\n",
       " ('General Physics I', 25, 26),\n",
       " ('Leading and Managing People', 25, 26),\n",
       " ('Diversity in the Workplace', 24, 25),\n",
       " ('General Physics I', 24, 25),\n",
       " ('Diversity in the Workplace', 25, 26),\n",
       " ('General Physics I', 25, 26),\n",
       " ('General Physics I', 24, 25),\n",
       " ('Calculus III for Chemistry, Engineering, and Physics Majors', 30, 32),\n",
       " ('General Psychology', 10, 12),\n",
       " ('Lifespan Human Development', 10, 12),\n",
       " ('Developmental Psychology for Non-Majors', 1, 23),\n",
       " ('Developmental Psychology for Non-Majors', 1, 25),\n",
       " ('Abnormal Psychology for Non-Majors', 8, 9),\n",
       " ('Health and Wellness Clinical', 8, 9),\n",
       " ('Health and Wellness Clinical', 8, 9),\n",
       " ('Sensation and Perception', 8, 9),\n",
       " ('Health and Wellness Clinical', 8, 9),\n",
       " ('Senior Seminar: Current Issues in Clinical Psychology', 8, 9),\n",
       " ('Financial Management and Budgeting', 15, 18),\n",
       " ('Business Forecasting and Predictive Analytics', 20, 27),\n",
       " ('Developmental Literacy I: Fundamentals of Reading and Language Development', 10, 12),\n",
       " ('Introduction to Philosophy', 10, 12),\n",
       " ('Guided Reflective Practice in Tier I Reading and Language Arts Programming', 20, 21),\n",
       " ('Introduction to Philosophy', 20, 21),\n",
       " ('Assessment and Differentiated Instruction', 16, 21),\n",
       " ('Exploring Religion: Peoples of the Book, Sacred Texts, and Their Communities', 16, 21),\n",
       " ('Criminology', 25, 27),\n",
       " ('The Reformation Era', 25, 27),\n",
       " ('Catholic Social Teaching', 25, 26),\n",
       " ('Strategic Management of Technology and Innovation: The Entrepreneurial Firm', 25, 26),\n",
       " (\"I'm Spiritual, Not Religious: The American Spiritual Tradition\", 15, 18),\n",
       " ('The Law of Commercial Transactions: Advanced Studies in the Uniform Commerical Code', 15, 18),\n",
       " ('Race, Gender, and Ethnic Relations', 28, 30),\n",
       " ('Health and Wellness Clinical', 8, 9),\n",
       " ('Urban/Suburban Sociology: NYC', 8, 9),\n",
       " ('Feminism, Gender, and Everyday Life', 20, 22),\n",
       " ('Health and Wellness Clinical', 8, 9),\n",
       " ('Population: Birth, Death, and Migration', 8, 9),\n",
       " ('Web Development', 22, 23),\n",
       " ('Advanced Programming in Java', 24, 25),\n",
       " ('Introduction to Microeconomics', 11, 12),\n",
       " ('Software Project Management', 11, 12),\n",
       " ('Elementary Spanish I', 24, 31),\n",
       " ('Intermediate Accounting I', 24, 31),\n",
       " ('Elementary Spanish II', 18, 19),\n",
       " ('Intermediate Spanish I', 19, 20),\n",
       " ('Intermediate Spanish II', 18, 19),\n",
       " ('Topics in Language and Culture', 25, 27),\n",
       " ('Analysis and Interpretation of Hispanic Literature', 35, 39),\n",
       " ('Precalculus', 35, 39),\n",
       " ('Maternal and Newborn Nursing Clinical', 6, 7),\n",
       " ('Popular Culture in Latin America', 6, 7),\n",
       " ('Accelerated Statistics', 28, 29),\n",
       " ('Management Techniques in Special Education', 28, 29),\n",
       " ('Issues in Accounting Ethics', 15, 17),\n",
       " ('Student Teaching and Practica Seminar in Special Education', 15, 17),\n",
       " ('Special Learners in the Bilingual/ESL Classroom', 10, 11),\n",
       " ('Texts and Contexts I: Writing as Craft and Inquiry', 10, 11),\n",
       " ('Elementary Student Teaching: Immersion in a Community of Practice', 15, 16),\n",
       " ('Special Learners in the Bilingual/ESL Classroom', 15, 16),\n",
       " ('Linguistic Foundations of English Acquisition', 12, 14),\n",
       " ('Research on Contemporary Issues in Accounting', 12, 14),\n",
       " ('Research on Contemporary Issues in Accounting', 12, 14),\n",
       " ('Entity Taxation', 23, 26)]"
      ]
     },
     "execution_count": 112,
     "metadata": {},
     "output_type": "execute_result"
    }
   ],
   "source": [
    "%%sql\n",
    "select a.course_title, b.CAP, b.ACT\n",
    "from COURSE_OFFERING a, COURSE_MEETING b, TERM c\n",
    "where a.CRN=b.CRN\n",
    "and b.CRN=c.CRN\n",
    "and b.act > b.cap\n",
    "and cap <> 0\n",
    "and c.term_name = 'Fall2018';"
   ]
  },
  {
   "cell_type": "markdown",
   "metadata": {},
   "source": [
    "#### Drop Import Tables to Save Space"
   ]
  },
  {
   "cell_type": "code",
   "execution_count": 117,
   "metadata": {},
   "outputs": [
    {
     "name": "stdout",
     "output_type": "stream",
     "text": [
      " * sqlite:///CourseData.db\n",
      "Done.\n",
      "Done.\n",
      "Done.\n",
      "Done.\n"
     ]
    },
    {
     "data": {
      "text/plain": [
       "[]"
      ]
     },
     "execution_count": 117,
     "metadata": {},
     "output_type": "execute_result"
    }
   ],
   "source": [
    "%%sql\n",
    "DROP TABLE IF EXISTS import_courses;\n",
    "DROP TABLE IF EXISTS import_cmeetings;\n",
    "DROP TABLE IF EXISTS import_catalog;\n",
    "vacuum;"
   ]
  }
 ],
 "metadata": {
  "kernelspec": {
   "display_name": "Python 3",
   "language": "python",
   "name": "python3"
  },
  "language_info": {
   "codemirror_mode": {
    "name": "ipython",
    "version": 3
   },
   "file_extension": ".py",
   "mimetype": "text/x-python",
   "name": "python",
   "nbconvert_exporter": "python",
   "pygments_lexer": "ipython3",
   "version": "3.6.5"
  }
 },
 "nbformat": 4,
 "nbformat_minor": 2
}
