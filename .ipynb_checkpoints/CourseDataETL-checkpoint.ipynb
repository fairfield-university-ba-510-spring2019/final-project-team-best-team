{
 "cells": [
  {
   "cell_type": "code",
   "execution_count": 20,
   "metadata": {},
   "outputs": [],
   "source": [
    "import pandas as pd \n",
    "import numpy as np\n",
    "import sqlite3\n",
    "conn = sqlite3.connect('CourseData.db')\n",
    "c = conn.cursor()"
   ]
  },
  {
   "cell_type": "markdown",
   "metadata": {},
   "source": [
    "## Run this to set up %sql and %%sql magics"
   ]
  },
  {
   "cell_type": "code",
   "execution_count": 3,
   "metadata": {},
   "outputs": [
    {
     "name": "stdout",
     "output_type": "stream",
     "text": [
      "The sql extension is already loaded. To reload it, use:\n",
      "  %reload_ext sql\n"
     ]
    }
   ],
   "source": [
    "%load_ext sql"
   ]
  },
  {
   "cell_type": "code",
   "execution_count": 4,
   "metadata": {},
   "outputs": [
    {
     "data": {
      "text/plain": [
       "'Connected: @CourseData.db'"
      ]
     },
     "execution_count": 4,
     "metadata": {},
     "output_type": "execute_result"
    }
   ],
   "source": [
    "%%sql\n",
    "sqlite:///CourseData.db"
   ]
  },
  {
   "cell_type": "markdown",
   "metadata": {},
   "source": [
    "## Drop Import Tables For Any Future Rerun of Code"
   ]
  },
  {
   "cell_type": "code",
   "execution_count": 77,
   "metadata": {},
   "outputs": [
    {
     "name": "stdout",
     "output_type": "stream",
     "text": [
      " * sqlite:///CourseData.db\n",
      "Done.\n"
     ]
    },
    {
     "data": {
      "text/plain": [
       "[]"
      ]
     },
     "execution_count": 77,
     "metadata": {},
     "output_type": "execute_result"
    }
   ],
   "source": [
    "%%sql\n",
    "drop table if exists courses;"
   ]
  },
  {
   "cell_type": "code",
   "execution_count": 78,
   "metadata": {},
   "outputs": [
    {
     "name": "stdout",
     "output_type": "stream",
     "text": [
      " * sqlite:///CourseData.db\n",
      "Done.\n"
     ]
    },
    {
     "data": {
      "text/plain": [
       "[]"
      ]
     },
     "execution_count": 78,
     "metadata": {},
     "output_type": "execute_result"
    }
   ],
   "source": [
    "%%sql\n",
    "drop table if exists cmeetings;"
   ]
  },
  {
   "cell_type": "code",
   "execution_count": 79,
   "metadata": {},
   "outputs": [
    {
     "name": "stdout",
     "output_type": "stream",
     "text": [
      " * sqlite:///CourseData.db\n",
      "Done.\n"
     ]
    },
    {
     "data": {
      "text/plain": [
       "[]"
      ]
     },
     "execution_count": 79,
     "metadata": {},
     "output_type": "execute_result"
    }
   ],
   "source": [
    "%%sql\n",
    "drop table if exists catalog;"
   ]
  },
  {
   "cell_type": "markdown",
   "metadata": {},
   "source": [
    "## Drop ERD Tables For Any Future Rerun of Code"
   ]
  },
  {
   "cell_type": "code",
   "execution_count": 135,
   "metadata": {},
   "outputs": [
    {
     "name": "stdout",
     "output_type": "stream",
     "text": [
      " * sqlite:///CourseData.db\n",
      "Done.\n"
     ]
    },
    {
     "data": {
      "text/plain": [
       "[]"
      ]
     },
     "execution_count": 135,
     "metadata": {},
     "output_type": "execute_result"
    }
   ],
   "source": [
    "%%sql\n",
    "drop table if exists catalog_program;"
   ]
  },
  {
   "cell_type": "code",
   "execution_count": 136,
   "metadata": {},
   "outputs": [
    {
     "name": "stdout",
     "output_type": "stream",
     "text": [
      " * sqlite:///CourseData.db\n",
      "Done.\n"
     ]
    },
    {
     "data": {
      "text/plain": [
       "[]"
      ]
     },
     "execution_count": 136,
     "metadata": {},
     "output_type": "execute_result"
    }
   ],
   "source": [
    "%%sql\n",
    "drop table if exists catalog_course;"
   ]
  },
  {
   "cell_type": "code",
   "execution_count": 137,
   "metadata": {},
   "outputs": [
    {
     "name": "stdout",
     "output_type": "stream",
     "text": [
      " * sqlite:///CourseData.db\n",
      "Done.\n"
     ]
    },
    {
     "data": {
      "text/plain": [
       "[]"
      ]
     },
     "execution_count": 137,
     "metadata": {},
     "output_type": "execute_result"
    }
   ],
   "source": [
    "%%sql\n",
    "drop table if exists term;"
   ]
  },
  {
   "cell_type": "code",
   "execution_count": 138,
   "metadata": {},
   "outputs": [
    {
     "name": "stdout",
     "output_type": "stream",
     "text": [
      " * sqlite:///CourseData.db\n",
      "Done.\n"
     ]
    },
    {
     "data": {
      "text/plain": [
       "[]"
      ]
     },
     "execution_count": 138,
     "metadata": {},
     "output_type": "execute_result"
    }
   ],
   "source": [
    "%%sql\n",
    "drop table if exists course_offering;"
   ]
  },
  {
   "cell_type": "code",
   "execution_count": 139,
   "metadata": {},
   "outputs": [
    {
     "name": "stdout",
     "output_type": "stream",
     "text": [
      " * sqlite:///CourseData.db\n",
      "Done.\n"
     ]
    },
    {
     "data": {
      "text/plain": [
       "[]"
      ]
     },
     "execution_count": 139,
     "metadata": {},
     "output_type": "execute_result"
    }
   ],
   "source": [
    "%%sql\n",
    "drop table if exists instructor;"
   ]
  },
  {
   "cell_type": "code",
   "execution_count": 140,
   "metadata": {},
   "outputs": [
    {
     "name": "stdout",
     "output_type": "stream",
     "text": [
      " * sqlite:///CourseData.db\n",
      "Done.\n"
     ]
    },
    {
     "data": {
      "text/plain": [
       "[]"
      ]
     },
     "execution_count": 140,
     "metadata": {},
     "output_type": "execute_result"
    }
   ],
   "source": [
    "%%sql\n",
    "drop table if exists course_meeting;"
   ]
  },
  {
   "cell_type": "code",
   "execution_count": 141,
   "metadata": {},
   "outputs": [
    {
     "name": "stdout",
     "output_type": "stream",
     "text": [
      " * sqlite:///CourseData.db\n",
      "Done.\n"
     ]
    },
    {
     "data": {
      "text/plain": [
       "[]"
      ]
     },
     "execution_count": 141,
     "metadata": {},
     "output_type": "execute_result"
    }
   ],
   "source": [
    "%%sql\n",
    "drop table if exists timecode;"
   ]
  },
  {
   "cell_type": "code",
   "execution_count": 142,
   "metadata": {},
   "outputs": [
    {
     "name": "stdout",
     "output_type": "stream",
     "text": [
      " * sqlite:///CourseData.db\n",
      "Done.\n"
     ]
    },
    {
     "data": {
      "text/plain": [
       "[]"
      ]
     },
     "execution_count": 142,
     "metadata": {},
     "output_type": "execute_result"
    }
   ],
   "source": [
    "%%sql\n",
    "drop table if exists location;"
   ]
  },
  {
   "cell_type": "markdown",
   "metadata": {},
   "source": [
    "## Create Import Tables"
   ]
  },
  {
   "cell_type": "code",
   "execution_count": 82,
   "metadata": {},
   "outputs": [
    {
     "name": "stdout",
     "output_type": "stream",
     "text": [
      " * sqlite:///CourseData.db\n",
      "Done.\n"
     ]
    },
    {
     "data": {
      "text/plain": [
       "[]"
      ]
     },
     "execution_count": 82,
     "metadata": {},
     "output_type": "execute_result"
    }
   ],
   "source": [
    "%%sql\n",
    "create table 'catalog' (\n",
    "    program_code TEXT NOT NULL,\n",
    "    program_name VARCHAR NOT NULL,\n",
    "    catalog_id VARCHAR NOT NULL,\n",
    "    course_title VARCHAR NOT NULL, \n",
    "    credits VARCHAR NOT NULL,\n",
    "    prereqs VARCHAR, \n",
    "    coreqs VARCHAR,\n",
    "    fees VARCHAR,\n",
    "    attributes VARCHAR,\n",
    "    description VARCHAR \n",
    ");"
   ]
  },
  {
   "cell_type": "code",
   "execution_count": 81,
   "metadata": {},
   "outputs": [
    {
     "name": "stdout",
     "output_type": "stream",
     "text": [
      " * sqlite:///CourseData.db\n",
      "Done.\n"
     ]
    },
    {
     "data": {
      "text/plain": [
       "[]"
      ]
     },
     "execution_count": 81,
     "metadata": {},
     "output_type": "execute_result"
    }
   ],
   "source": [
    "%%sql\n",
    "create table 'cmeetings' (\n",
    "    term VARCHAR NOT NULL,\n",
    "    crn INTEGER NOT NULL,\n",
    "    location VARCHAR NOT NULL,\n",
    "    day TEXT NOT NULL,\n",
    "    start VARCHAR NOT NULL,\n",
    "    end VARCHAR NOT NULL \n",
    ");"
   ]
  },
  {
   "cell_type": "code",
   "execution_count": 80,
   "metadata": {},
   "outputs": [
    {
     "name": "stdout",
     "output_type": "stream",
     "text": [
      " * sqlite:///CourseData.db\n",
      "Done.\n"
     ]
    },
    {
     "data": {
      "text/plain": [
       "[]"
      ]
     },
     "execution_count": 80,
     "metadata": {},
     "output_type": "execute_result"
    }
   ],
   "source": [
    "%%sql\n",
    "create table 'courses' (\n",
    "    term VARCHAR NOT NULL,\n",
    "    crn INTEGER NOT NULL,\n",
    "    catalog_id VARCHAR NOT NULL,\n",
    "    section VARCHAR NOT NULL,\n",
    "    credits VARCHAR,\n",
    "    title VARCHAR, \n",
    "    meetings VARCHAR,\n",
    "    timecodes VARCHAR, \n",
    "    primary_instructor TEXT,\n",
    "    cap INTEGER, \n",
    "    act INTEGER, \n",
    "    rem INTEGER \n",
    ");"
   ]
  },
  {
   "cell_type": "markdown",
   "metadata": {},
   "source": [
    "## Create Database Tables From ERD"
   ]
  },
  {
   "cell_type": "code",
   "execution_count": 143,
   "metadata": {},
   "outputs": [
    {
     "name": "stdout",
     "output_type": "stream",
     "text": [
      " * sqlite:///CourseData.db\n",
      "Done.\n"
     ]
    },
    {
     "data": {
      "text/plain": [
       "[]"
      ]
     },
     "execution_count": 143,
     "metadata": {},
     "output_type": "execute_result"
    }
   ],
   "source": [
    "%%sql\n",
    "create table CATALOG_PROGRAM (\n",
    "    CP_ID INTEGER PRIMARY KEY,\n",
    "    PROGRAM_CODE TEXT NOT NULL,\n",
    "    PROGRAM_NAME TEXT NOT NULL,\n",
    "    COURSE_TITLE TEXT\n",
    ");"
   ]
  },
  {
   "cell_type": "code",
   "execution_count": 144,
   "metadata": {},
   "outputs": [
    {
     "name": "stdout",
     "output_type": "stream",
     "text": [
      " * sqlite:///CourseData.db\n",
      "Done.\n"
     ]
    },
    {
     "data": {
      "text/plain": [
       "[]"
      ]
     },
     "execution_count": 144,
     "metadata": {},
     "output_type": "execute_result"
    }
   ],
   "source": [
    "%%sql\n",
    "create table CATALOG_COURSE (\n",
    "    CC_ID INTEGER PRIMARY KEY,\n",
    "    CRN INTEGER NOT NULL,\n",
    "    COURSE_TITLE TEXT NOT NULL,\n",
    "    PRE_REQS TEXT,\n",
    "    CO_REQS TEXT,\n",
    "    CP_ID INTEGER NOT NULL,\n",
    "    FOREIGN KEY (CP_ID) REFERENCES CATALOG_PROGRAM (CP_ID)\n",
    ");"
   ]
  },
  {
   "cell_type": "code",
   "execution_count": 145,
   "metadata": {},
   "outputs": [
    {
     "name": "stdout",
     "output_type": "stream",
     "text": [
      " * sqlite:///CourseData.db\n",
      "Done.\n"
     ]
    },
    {
     "data": {
      "text/plain": [
       "[]"
      ]
     },
     "execution_count": 145,
     "metadata": {},
     "output_type": "execute_result"
    }
   ],
   "source": [
    "%%sql\n",
    "create table TERM (\n",
    "    TERM_ID INTEGER PRIMARY KEY,\n",
    "    TERM_NAME TEXT NOT NULL,\n",
    "    CRN INTEGER NOT NULL,\n",
    "    FOREIGN KEY (CRN) REFERENCES CATALOG_COURSE (CRN)\n",
    ");"
   ]
  },
  {
   "cell_type": "code",
   "execution_count": 148,
   "metadata": {},
   "outputs": [
    {
     "name": "stdout",
     "output_type": "stream",
     "text": [
      " * sqlite:///CourseData.db\n",
      "Done.\n"
     ]
    },
    {
     "data": {
      "text/plain": [
       "[]"
      ]
     },
     "execution_count": 148,
     "metadata": {},
     "output_type": "execute_result"
    }
   ],
   "source": [
    "%%sql\n",
    "create table COURSE_OFFERING (\n",
    "    CO_ID INTEGER PRIMARY KEY,\n",
    "    CRN INTEGER NOT NULL,\n",
    "    SECTION TEXT NOT NULL,\n",
    "    COURSE_TITLE \n",
    "    CREDITS INTEGER NOT NULL,\n",
    "    FOREIGN KEY (CRN) REFERENCES CATALOG_COURSE (CRN)\n",
    ");"
   ]
  },
  {
   "cell_type": "code",
   "execution_count": 149,
   "metadata": {},
   "outputs": [
    {
     "name": "stdout",
     "output_type": "stream",
     "text": [
      " * sqlite:///CourseData.db\n",
      "Done.\n"
     ]
    },
    {
     "data": {
      "text/plain": [
       "[]"
      ]
     },
     "execution_count": 149,
     "metadata": {},
     "output_type": "execute_result"
    }
   ],
   "source": [
    "%%sql\n",
    "create table INSTRUCTOR (\n",
    "    I_ID INTEGER PRIMARY KEY,\n",
    "    NAME TEXT NOT NULL,\n",
    "    CRN INTEGER NOT NULL,\n",
    "    CO_ID INTEGER NOT NULL,\n",
    "    FOREIGN KEY (CO_ID) REFERENCES COURSE_OFFERING (CO_ID)\n",
    ");"
   ]
  },
  {
   "cell_type": "code",
   "execution_count": 150,
   "metadata": {},
   "outputs": [
    {
     "name": "stdout",
     "output_type": "stream",
     "text": [
      " * sqlite:///CourseData.db\n",
      "Done.\n"
     ]
    },
    {
     "data": {
      "text/plain": [
       "[]"
      ]
     },
     "execution_count": 150,
     "metadata": {},
     "output_type": "execute_result"
    }
   ],
   "source": [
    "%%sql\n",
    "create table COURSE_MEETING (\n",
    "    CM_ID INTEGER PRIMARY KEY,\n",
    "    CAP INTEGER NOT NULL,\n",
    "    ACT INTEGER,\n",
    "    REM INTEGER,\n",
    "    START TEXT NOT NULL,\n",
    "    END TEXT NOT NULL,\n",
    "    CRN INTEGER NOT NULL,\n",
    "    FOREIGN KEY (CRN) REFERENCES COURSE_OFFERINGS (CRN)\n",
    ");"
   ]
  },
  {
   "cell_type": "code",
   "execution_count": 153,
   "metadata": {},
   "outputs": [
    {
     "name": "stdout",
     "output_type": "stream",
     "text": [
      " * sqlite:///CourseData.db\n",
      "Done.\n"
     ]
    },
    {
     "data": {
      "text/plain": [
       "[]"
      ]
     },
     "execution_count": 153,
     "metadata": {},
     "output_type": "execute_result"
    }
   ],
   "source": [
    "%%sql\n",
    "create table TIME_CODE (\n",
    "    TC_ID INTEGER PRIMARY KEY,\n",
    "    START_TIME TEXT NOT NULL,\n",
    "    END_TIME TEXT NOT NULL,\n",
    "    CO_ID INTEGER NOT NULL,\n",
    "    FOREIGN KEY (CO_ID) REFERENCES COURSE_OFFERING (CO_ID)\n",
    ");"
   ]
  },
  {
   "cell_type": "code",
   "execution_count": 155,
   "metadata": {},
   "outputs": [
    {
     "name": "stdout",
     "output_type": "stream",
     "text": [
      " * sqlite:///CourseData.db\n",
      "Done.\n"
     ]
    },
    {
     "data": {
      "text/plain": [
       "[]"
      ]
     },
     "execution_count": 155,
     "metadata": {},
     "output_type": "execute_result"
    }
   ],
   "source": [
    "%%sql\n",
    "create table LOCATION (\n",
    "    L_ID INTEGER PRIMARY KEY,\n",
    "    BUILDING_NAME TEXT NOT NULL,\n",
    "    CM_ID INTEGER NOT NULL,\n",
    "    FOREIGN KEY (CM_ID) REFERENCES COURSE_MEETING (CM_ID)\n",
    ");"
   ]
  },
  {
   "cell_type": "markdown",
   "metadata": {},
   "source": [
    "## Import CSV Files"
   ]
  },
  {
   "cell_type": "markdown",
   "metadata": {},
   "source": [
    "#### Import Courses CSVs"
   ]
  },
  {
   "cell_type": "code",
   "execution_count": 49,
   "metadata": {},
   "outputs": [],
   "source": [
    "fall = ['SourceData/Fall2014/courses.csv',\n",
    "        'SourceData/Fall2015/courses.csv', \n",
    "        'SourceData/Fall2016/courses.csv',\n",
    "        'SourceData/Fall2017/courses.csv',\n",
    "        'SourceData/Fall2018/courses.csv']\n",
    "fall_0 = pd.read_csv(fall[0])\n",
    "fall_1 = pd.read_csv(fall[1])\n",
    "fall_2 = pd.read_csv(fall[2])    \n",
    "fall_3 = pd.read_csv(fall[3])\n",
    "fall_4 = pd.read_csv(fall[4])"
   ]
  },
  {
   "cell_type": "code",
   "execution_count": 50,
   "metadata": {},
   "outputs": [],
   "source": [
    "winter = ['SourceData/Winter2015/courses.csv', \n",
    "          'SourceData/Winter2016/courses.csv',\n",
    "          'SourceData/Winter2017/courses.csv',\n",
    "          'SourceData/Winter2018/courses.csv']\n",
    "winter_0 = pd.read_csv(winter[0])\n",
    "winter_1 = pd.read_csv(winter[1])\n",
    "winter_2 = pd.read_csv(winter[2])    \n",
    "winter_3 = pd.read_csv(winter[3])"
   ]
  },
  {
   "cell_type": "code",
   "execution_count": 51,
   "metadata": {},
   "outputs": [],
   "source": [
    "spring = ['SourceData/Spring2015/courses.csv',\n",
    "          'SourceData/Spring2016/courses.csv', \n",
    "          'SourceData/Spring2017/courses.csv',\n",
    "          'SourceData/Spring2018/courses.csv',\n",
    "          'SourceData/Spring2019/courses.csv',\n",
    "          'SourceData/SpringBreak2017/courses.csv']\n",
    "spring_0 = pd.read_csv(spring[0])\n",
    "spring_1 = pd.read_csv(spring[1])\n",
    "spring_2 = pd.read_csv(spring[2])    \n",
    "spring_3 = pd.read_csv(spring[3])\n",
    "spring_4 = pd.read_csv(spring[4])\n",
    "spring_5 = pd.read_csv(spring[5])"
   ]
  },
  {
   "cell_type": "code",
   "execution_count": 52,
   "metadata": {},
   "outputs": [],
   "source": [
    "summer = ['SourceData/Summer2015/courses.csv', \n",
    "          'SourceData/Summer2016/courses.csv',\n",
    "          'SourceData/Summer2017/courses.csv',\n",
    "          'SourceData/Summer2018/courses.csv']\n",
    "summer_0 = pd.read_csv(summer[0])\n",
    "summer_1 = pd.read_csv(summer[1])\n",
    "summer_2 = pd.read_csv(summer[2])    \n",
    "summer_3 = pd.read_csv(summer[3])"
   ]
  },
  {
   "cell_type": "code",
   "execution_count": 53,
   "metadata": {},
   "outputs": [],
   "source": [
    "df_fall = pd.concat([fall_0,fall_1,fall_2,fall_3,fall_4], axis=0)"
   ]
  },
  {
   "cell_type": "code",
   "execution_count": 55,
   "metadata": {},
   "outputs": [],
   "source": [
    "df_winter = pd.concat([winter_0,winter_1,winter_2,winter_3], axis=0)"
   ]
  },
  {
   "cell_type": "code",
   "execution_count": 56,
   "metadata": {},
   "outputs": [],
   "source": [
    "df_spring = pd.concat([spring_0,spring_1,spring_2,spring_3,spring_4,spring_5], axis=0)"
   ]
  },
  {
   "cell_type": "code",
   "execution_count": 57,
   "metadata": {},
   "outputs": [],
   "source": [
    "df_summer = pd.concat([summer_0,summer_1,summer_2,summer_3], axis=0)"
   ]
  },
  {
   "cell_type": "code",
   "execution_count": 83,
   "metadata": {},
   "outputs": [],
   "source": [
    "df_course = pd.concat([df_fall, df_winter, df_spring, df_summer], axis=0)"
   ]
  },
  {
   "cell_type": "code",
   "execution_count": 58,
   "metadata": {},
   "outputs": [
    {
     "data": {
      "text/html": [
       "<div>\n",
       "<style scoped>\n",
       "    .dataframe tbody tr th:only-of-type {\n",
       "        vertical-align: middle;\n",
       "    }\n",
       "\n",
       "    .dataframe tbody tr th {\n",
       "        vertical-align: top;\n",
       "    }\n",
       "\n",
       "    .dataframe thead th {\n",
       "        text-align: right;\n",
       "    }\n",
       "</style>\n",
       "<table border=\"1\" class=\"dataframe\">\n",
       "  <thead>\n",
       "    <tr style=\"text-align: right;\">\n",
       "      <th></th>\n",
       "      <th>term</th>\n",
       "      <th>crn</th>\n",
       "      <th>catalog_id</th>\n",
       "      <th>section</th>\n",
       "      <th>credits</th>\n",
       "      <th>title</th>\n",
       "      <th>meetings</th>\n",
       "      <th>timecodes</th>\n",
       "      <th>primary_instructor</th>\n",
       "      <th>cap</th>\n",
       "      <th>act</th>\n",
       "      <th>rem</th>\n",
       "    </tr>\n",
       "  </thead>\n",
       "  <tbody>\n",
       "    <tr>\n",
       "      <th>0</th>\n",
       "      <td>Fall2014</td>\n",
       "      <td>70384</td>\n",
       "      <td>AC 0011</td>\n",
       "      <td>C01</td>\n",
       "      <td>3.000</td>\n",
       "      <td>Introduction to Financial Accounting</td>\n",
       "      <td>[{'days': 'TF', 'times': '0800am-0915am', 'dat...</td>\n",
       "      <td>['TF 0800am-0915am 09/02-12/08 DSB 105']</td>\n",
       "      <td>Michael P.  Coyne</td>\n",
       "      <td>0</td>\n",
       "      <td>31</td>\n",
       "      <td>-31</td>\n",
       "    </tr>\n",
       "  </tbody>\n",
       "</table>\n",
       "</div>"
      ],
      "text/plain": [
       "       term    crn catalog_id section credits  \\\n",
       "0  Fall2014  70384    AC 0011     C01   3.000   \n",
       "\n",
       "                                  title  \\\n",
       "0  Introduction to Financial Accounting   \n",
       "\n",
       "                                            meetings  \\\n",
       "0  [{'days': 'TF', 'times': '0800am-0915am', 'dat...   \n",
       "\n",
       "                                  timecodes primary_instructor  cap  act  rem  \n",
       "0  ['TF 0800am-0915am 09/02-12/08 DSB 105']  Michael P.  Coyne    0   31  -31  "
      ]
     },
     "execution_count": 58,
     "metadata": {},
     "output_type": "execute_result"
    }
   ],
   "source": [
    "df_fall.head(1)"
   ]
  },
  {
   "cell_type": "code",
   "execution_count": 59,
   "metadata": {},
   "outputs": [
    {
     "data": {
      "text/html": [
       "<div>\n",
       "<style scoped>\n",
       "    .dataframe tbody tr th:only-of-type {\n",
       "        vertical-align: middle;\n",
       "    }\n",
       "\n",
       "    .dataframe tbody tr th {\n",
       "        vertical-align: top;\n",
       "    }\n",
       "\n",
       "    .dataframe thead th {\n",
       "        text-align: right;\n",
       "    }\n",
       "</style>\n",
       "<table border=\"1\" class=\"dataframe\">\n",
       "  <thead>\n",
       "    <tr style=\"text-align: right;\">\n",
       "      <th></th>\n",
       "      <th>term</th>\n",
       "      <th>crn</th>\n",
       "      <th>catalog_id</th>\n",
       "      <th>section</th>\n",
       "      <th>credits</th>\n",
       "      <th>title</th>\n",
       "      <th>meetings</th>\n",
       "      <th>timecodes</th>\n",
       "      <th>primary_instructor</th>\n",
       "      <th>cap</th>\n",
       "      <th>act</th>\n",
       "      <th>rem</th>\n",
       "    </tr>\n",
       "  </thead>\n",
       "  <tbody>\n",
       "    <tr>\n",
       "      <th>0</th>\n",
       "      <td>Winter2015</td>\n",
       "      <td>10913</td>\n",
       "      <td>AC 0555</td>\n",
       "      <td>01</td>\n",
       "      <td>3.000</td>\n",
       "      <td>Issues in Internal Audit</td>\n",
       "      <td>[{'days': 'MTWRF', 'times': '1000am-0600pm', '...</td>\n",
       "      <td>['MTWRF 1000am-0600pm 01/05-01/17 DSB 115', 'S...</td>\n",
       "      <td>Dawn W  Massey</td>\n",
       "      <td>18</td>\n",
       "      <td>10</td>\n",
       "      <td>8</td>\n",
       "    </tr>\n",
       "  </tbody>\n",
       "</table>\n",
       "</div>"
      ],
      "text/plain": [
       "         term    crn catalog_id section credits                     title  \\\n",
       "0  Winter2015  10913    AC 0555      01   3.000  Issues in Internal Audit   \n",
       "\n",
       "                                            meetings  \\\n",
       "0  [{'days': 'MTWRF', 'times': '1000am-0600pm', '...   \n",
       "\n",
       "                                           timecodes primary_instructor  cap  \\\n",
       "0  ['MTWRF 1000am-0600pm 01/05-01/17 DSB 115', 'S...     Dawn W  Massey   18   \n",
       "\n",
       "   act  rem  \n",
       "0   10    8  "
      ]
     },
     "execution_count": 59,
     "metadata": {},
     "output_type": "execute_result"
    }
   ],
   "source": [
    "df_winter.head(1)"
   ]
  },
  {
   "cell_type": "code",
   "execution_count": 60,
   "metadata": {},
   "outputs": [
    {
     "data": {
      "text/html": [
       "<div>\n",
       "<style scoped>\n",
       "    .dataframe tbody tr th:only-of-type {\n",
       "        vertical-align: middle;\n",
       "    }\n",
       "\n",
       "    .dataframe tbody tr th {\n",
       "        vertical-align: top;\n",
       "    }\n",
       "\n",
       "    .dataframe thead th {\n",
       "        text-align: right;\n",
       "    }\n",
       "</style>\n",
       "<table border=\"1\" class=\"dataframe\">\n",
       "  <thead>\n",
       "    <tr style=\"text-align: right;\">\n",
       "      <th></th>\n",
       "      <th>term</th>\n",
       "      <th>crn</th>\n",
       "      <th>catalog_id</th>\n",
       "      <th>section</th>\n",
       "      <th>credits</th>\n",
       "      <th>title</th>\n",
       "      <th>meetings</th>\n",
       "      <th>timecodes</th>\n",
       "      <th>primary_instructor</th>\n",
       "      <th>cap</th>\n",
       "      <th>act</th>\n",
       "      <th>rem</th>\n",
       "    </tr>\n",
       "  </thead>\n",
       "  <tbody>\n",
       "    <tr>\n",
       "      <th>0</th>\n",
       "      <td>Spring2015</td>\n",
       "      <td>32436</td>\n",
       "      <td>AC 0011</td>\n",
       "      <td>A</td>\n",
       "      <td>3.000</td>\n",
       "      <td>Introduction to Financial Accounting</td>\n",
       "      <td>[{'days': 'MR', 'times': '0200pm-0315pm', 'dat...</td>\n",
       "      <td>['MR 0200pm-0315pm 01/20-04/30 DSB 108']</td>\n",
       "      <td>Dawn W  Massey</td>\n",
       "      <td>28</td>\n",
       "      <td>28</td>\n",
       "      <td>0</td>\n",
       "    </tr>\n",
       "  </tbody>\n",
       "</table>\n",
       "</div>"
      ],
      "text/plain": [
       "         term    crn catalog_id section credits  \\\n",
       "0  Spring2015  32436    AC 0011       A   3.000   \n",
       "\n",
       "                                  title  \\\n",
       "0  Introduction to Financial Accounting   \n",
       "\n",
       "                                            meetings  \\\n",
       "0  [{'days': 'MR', 'times': '0200pm-0315pm', 'dat...   \n",
       "\n",
       "                                  timecodes primary_instructor  cap  act  rem  \n",
       "0  ['MR 0200pm-0315pm 01/20-04/30 DSB 108']     Dawn W  Massey   28   28    0  "
      ]
     },
     "execution_count": 60,
     "metadata": {},
     "output_type": "execute_result"
    }
   ],
   "source": [
    "df_spring.head(1)"
   ]
  },
  {
   "cell_type": "code",
   "execution_count": 61,
   "metadata": {},
   "outputs": [
    {
     "data": {
      "text/html": [
       "<div>\n",
       "<style scoped>\n",
       "    .dataframe tbody tr th:only-of-type {\n",
       "        vertical-align: middle;\n",
       "    }\n",
       "\n",
       "    .dataframe tbody tr th {\n",
       "        vertical-align: top;\n",
       "    }\n",
       "\n",
       "    .dataframe thead th {\n",
       "        text-align: right;\n",
       "    }\n",
       "</style>\n",
       "<table border=\"1\" class=\"dataframe\">\n",
       "  <thead>\n",
       "    <tr style=\"text-align: right;\">\n",
       "      <th></th>\n",
       "      <th>term</th>\n",
       "      <th>crn</th>\n",
       "      <th>catalog_id</th>\n",
       "      <th>section</th>\n",
       "      <th>credits</th>\n",
       "      <th>title</th>\n",
       "      <th>meetings</th>\n",
       "      <th>timecodes</th>\n",
       "      <th>primary_instructor</th>\n",
       "      <th>cap</th>\n",
       "      <th>act</th>\n",
       "      <th>rem</th>\n",
       "    </tr>\n",
       "  </thead>\n",
       "  <tbody>\n",
       "    <tr>\n",
       "      <th>0</th>\n",
       "      <td>Summer2015</td>\n",
       "      <td>55230</td>\n",
       "      <td>AC 0203</td>\n",
       "      <td>A</td>\n",
       "      <td>3.000</td>\n",
       "      <td>Intermediate Accounting I</td>\n",
       "      <td>[{'days': 'MW', 'times': '0600pm-0930pm', 'dat...</td>\n",
       "      <td>['MW 0600pm-0930pm 05/18-06/24 DSB 106', 'TR 0...</td>\n",
       "      <td>Scott M  Brenner</td>\n",
       "      <td>25</td>\n",
       "      <td>9</td>\n",
       "      <td>16</td>\n",
       "    </tr>\n",
       "  </tbody>\n",
       "</table>\n",
       "</div>"
      ],
      "text/plain": [
       "         term    crn catalog_id section credits                      title  \\\n",
       "0  Summer2015  55230    AC 0203       A   3.000  Intermediate Accounting I   \n",
       "\n",
       "                                            meetings  \\\n",
       "0  [{'days': 'MW', 'times': '0600pm-0930pm', 'dat...   \n",
       "\n",
       "                                           timecodes primary_instructor  cap  \\\n",
       "0  ['MW 0600pm-0930pm 05/18-06/24 DSB 106', 'TR 0...   Scott M  Brenner   25   \n",
       "\n",
       "   act  rem  \n",
       "0    9   16  "
      ]
     },
     "execution_count": 61,
     "metadata": {},
     "output_type": "execute_result"
    }
   ],
   "source": [
    "df_summer.head(1)"
   ]
  },
  {
   "cell_type": "code",
   "execution_count": 84,
   "metadata": {},
   "outputs": [
    {
     "data": {
      "text/html": [
       "<div>\n",
       "<style scoped>\n",
       "    .dataframe tbody tr th:only-of-type {\n",
       "        vertical-align: middle;\n",
       "    }\n",
       "\n",
       "    .dataframe tbody tr th {\n",
       "        vertical-align: top;\n",
       "    }\n",
       "\n",
       "    .dataframe thead th {\n",
       "        text-align: right;\n",
       "    }\n",
       "</style>\n",
       "<table border=\"1\" class=\"dataframe\">\n",
       "  <thead>\n",
       "    <tr style=\"text-align: right;\">\n",
       "      <th></th>\n",
       "      <th>term</th>\n",
       "      <th>crn</th>\n",
       "      <th>catalog_id</th>\n",
       "      <th>section</th>\n",
       "      <th>credits</th>\n",
       "      <th>title</th>\n",
       "      <th>meetings</th>\n",
       "      <th>timecodes</th>\n",
       "      <th>primary_instructor</th>\n",
       "      <th>cap</th>\n",
       "      <th>act</th>\n",
       "      <th>rem</th>\n",
       "    </tr>\n",
       "  </thead>\n",
       "  <tbody>\n",
       "    <tr>\n",
       "      <th>0</th>\n",
       "      <td>Fall2014</td>\n",
       "      <td>70384</td>\n",
       "      <td>AC 0011</td>\n",
       "      <td>C01</td>\n",
       "      <td>3.000</td>\n",
       "      <td>Introduction to Financial Accounting</td>\n",
       "      <td>[{'days': 'TF', 'times': '0800am-0915am', 'dat...</td>\n",
       "      <td>['TF 0800am-0915am 09/02-12/08 DSB 105']</td>\n",
       "      <td>Michael P.  Coyne</td>\n",
       "      <td>0</td>\n",
       "      <td>31</td>\n",
       "      <td>-31</td>\n",
       "    </tr>\n",
       "  </tbody>\n",
       "</table>\n",
       "</div>"
      ],
      "text/plain": [
       "       term    crn catalog_id section credits  \\\n",
       "0  Fall2014  70384    AC 0011     C01   3.000   \n",
       "\n",
       "                                  title  \\\n",
       "0  Introduction to Financial Accounting   \n",
       "\n",
       "                                            meetings  \\\n",
       "0  [{'days': 'TF', 'times': '0800am-0915am', 'dat...   \n",
       "\n",
       "                                  timecodes primary_instructor  cap  act  rem  \n",
       "0  ['TF 0800am-0915am 09/02-12/08 DSB 105']  Michael P.  Coyne    0   31  -31  "
      ]
     },
     "execution_count": 84,
     "metadata": {},
     "output_type": "execute_result"
    }
   ],
   "source": [
    "df_course.head(1)"
   ]
  },
  {
   "cell_type": "code",
   "execution_count": 85,
   "metadata": {},
   "outputs": [],
   "source": [
    "df_course.to_sql('courses', conn, if_exists='append', index=False)"
   ]
  },
  {
   "cell_type": "code",
   "execution_count": 87,
   "metadata": {},
   "outputs": [
    {
     "name": "stdout",
     "output_type": "stream",
     "text": [
      " * sqlite:///CourseData.db\n",
      "Done.\n"
     ]
    },
    {
     "data": {
      "text/html": [
       "<table>\n",
       "    <tr>\n",
       "        <th>term</th>\n",
       "        <th>crn</th>\n",
       "        <th>catalog_id</th>\n",
       "        <th>section</th>\n",
       "        <th>credits</th>\n",
       "        <th>title</th>\n",
       "        <th>meetings</th>\n",
       "        <th>timecodes</th>\n",
       "        <th>primary_instructor</th>\n",
       "        <th>cap</th>\n",
       "        <th>act</th>\n",
       "        <th>rem</th>\n",
       "    </tr>\n",
       "    <tr>\n",
       "        <td>Fall2014</td>\n",
       "        <td>70384</td>\n",
       "        <td>AC 0011</td>\n",
       "        <td>C01</td>\n",
       "        <td>3.000</td>\n",
       "        <td>Introduction to Financial Accounting</td>\n",
       "        <td>[{&#x27;days&#x27;: &#x27;TF&#x27;, &#x27;times&#x27;: &#x27;0800am-0915am&#x27;, &#x27;dates&#x27;: &#x27;09/02-12/08&#x27;, &#x27;location&#x27;: &#x27;DSB 105&#x27;}]</td>\n",
       "        <td>[&#x27;TF 0800am-0915am 09/02-12/08 DSB 105&#x27;]</td>\n",
       "        <td>Michael P.  Coyne</td>\n",
       "        <td>0</td>\n",
       "        <td>31</td>\n",
       "        <td>-31</td>\n",
       "    </tr>\n",
       "</table>"
      ],
      "text/plain": [
       "[('Fall2014', 70384, 'AC 0011', 'C01', '3.000', 'Introduction to Financial Accounting', \"[{'days': 'TF', 'times': '0800am-0915am', 'dates': '09/02-12/08', 'location': 'DSB 105'}]\", \"['TF 0800am-0915am 09/02-12/08 DSB 105']\", 'Michael P.  Coyne', 0, 31, -31)]"
      ]
     },
     "execution_count": 87,
     "metadata": {},
     "output_type": "execute_result"
    }
   ],
   "source": [
    "%%sql\n",
    "select *\n",
    "from courses\n",
    "limit 1;"
   ]
  },
  {
   "cell_type": "markdown",
   "metadata": {},
   "source": [
    "#### Import Course Meetings CSVs"
   ]
  },
  {
   "cell_type": "code",
   "execution_count": 62,
   "metadata": {},
   "outputs": [],
   "source": [
    "fall_2 = ['SourceData/Fall2014/course_meetings.csv',\n",
    "         'SourceData/Fall2015/course_meetings.csv',\n",
    "         'SourceData/Fall2016/course_meetings.csv',\n",
    "         'SourceData/Fall2017/course_meetings.csv',\n",
    "         'SourceData/Fall2018/course_meetings.csv']\n",
    "fall_2_0  = pd.read_csv(fall_2[0])\n",
    "fall_2_1  = pd.read_csv(fall_2[1])\n",
    "fall_2_2  = pd.read_csv(fall_2[2])\n",
    "fall_2_3  = pd.read_csv(fall_2[3])\n",
    "fall_2_4  = pd.read_csv(fall_2[4])"
   ]
  },
  {
   "cell_type": "code",
   "execution_count": 63,
   "metadata": {},
   "outputs": [],
   "source": [
    "winter_2 = ['SourceData/Winter2015/course_meetings.csv',\n",
    "           'SourceData/Winter2016/course_meetings.csv',\n",
    "           'SourceData/Winter2017/course_meetings.csv',\n",
    "           'SourceData/Winter2018/course_meetings.csv']\n",
    "winter_2_0  = pd.read_csv(winter_2[0])\n",
    "winter_2_1  = pd.read_csv(winter_2[1])\n",
    "winter_2_2  = pd.read_csv(winter_2[2])\n",
    "winter_2_3  = pd.read_csv(winter_2[3])"
   ]
  },
  {
   "cell_type": "code",
   "execution_count": 64,
   "metadata": {},
   "outputs": [],
   "source": [
    "spring_2 = ['SourceData/Spring2015/course_meetings.csv',\n",
    "           'SourceData/Spring2016/course_meetings.csv',\n",
    "           'SourceData/Spring2017/course_meetings.csv',\n",
    "           'SourceData/Spring2018/course_meetings.csv',\n",
    "           'SourceData/Spring2019/course_meetings.csv',\n",
    "           'SourceData/SpringBreak2017/course_meetings.csv']\n",
    "spring_2_0  = pd.read_csv(spring_2[0])\n",
    "spring_2_1  = pd.read_csv(spring_2[1])\n",
    "spring_2_2  = pd.read_csv(spring_2[2])\n",
    "spring_2_3  = pd.read_csv(spring_2[3])\n",
    "spring_2_4  = pd.read_csv(spring_2[4])\n",
    "spring_2_5  = pd.read_csv(spring_2[5])"
   ]
  },
  {
   "cell_type": "code",
   "execution_count": 66,
   "metadata": {},
   "outputs": [],
   "source": [
    "summer_2 = ['SourceData/Summer2015/course_meetings.csv',\n",
    "           'SourceData/Summer2016/course_meetings.csv',\n",
    "           'SourceData/Summer2017/course_meetings.csv',\n",
    "           'SourceData/Summer2018/course_meetings.csv']\n",
    "summer_2_0  = pd.read_csv(summer_2[0])\n",
    "summer_2_1  = pd.read_csv(summer_2[1])\n",
    "summer_2_2  = pd.read_csv(summer_2[2])\n",
    "summer_2_3  = pd.read_csv(summer_2[3])"
   ]
  },
  {
   "cell_type": "code",
   "execution_count": 69,
   "metadata": {},
   "outputs": [],
   "source": [
    "df_fall_2 = pd.concat([fall_2_0,fall_2_1,fall_2_2,fall_2_3,fall_2_4], axis=0)"
   ]
  },
  {
   "cell_type": "code",
   "execution_count": 70,
   "metadata": {},
   "outputs": [],
   "source": [
    "df_winter_2 = pd.concat([winter_2_0,winter_2_1,winter_2_2,winter_2_3], axis=0)"
   ]
  },
  {
   "cell_type": "code",
   "execution_count": 72,
   "metadata": {},
   "outputs": [],
   "source": [
    "df_spring_2 = pd.concat([spring_2_0,spring_2_1,spring_2_2,spring_2_3,\n",
    "spring_2_4,spring_2_5], axis=0)"
   ]
  },
  {
   "cell_type": "code",
   "execution_count": 73,
   "metadata": {},
   "outputs": [],
   "source": [
    "df_summer_2 = pd.concat([summer_2_0,summer_2_1,summer_2_2,summer_2_3], axis=0)"
   ]
  },
  {
   "cell_type": "code",
   "execution_count": 88,
   "metadata": {},
   "outputs": [],
   "source": [
    "df_cmeetings = pd.concat([df_fall_2,df_winter_2,df_spring_2,df_summer_2], axis=0)"
   ]
  },
  {
   "cell_type": "code",
   "execution_count": 68,
   "metadata": {},
   "outputs": [
    {
     "data": {
      "text/html": [
       "<div>\n",
       "<style scoped>\n",
       "    .dataframe tbody tr th:only-of-type {\n",
       "        vertical-align: middle;\n",
       "    }\n",
       "\n",
       "    .dataframe tbody tr th {\n",
       "        vertical-align: top;\n",
       "    }\n",
       "\n",
       "    .dataframe thead th {\n",
       "        text-align: right;\n",
       "    }\n",
       "</style>\n",
       "<table border=\"1\" class=\"dataframe\">\n",
       "  <thead>\n",
       "    <tr style=\"text-align: right;\">\n",
       "      <th></th>\n",
       "      <th>term</th>\n",
       "      <th>crn</th>\n",
       "      <th>location</th>\n",
       "      <th>day</th>\n",
       "      <th>start</th>\n",
       "      <th>end</th>\n",
       "    </tr>\n",
       "  </thead>\n",
       "  <tbody>\n",
       "    <tr>\n",
       "      <th>0</th>\n",
       "      <td>Fall2014</td>\n",
       "      <td>70384</td>\n",
       "      <td>DSB 105</td>\n",
       "      <td>T</td>\n",
       "      <td>2014-09-02T08:00:00</td>\n",
       "      <td>2014-09-02T09:15:00</td>\n",
       "    </tr>\n",
       "  </tbody>\n",
       "</table>\n",
       "</div>"
      ],
      "text/plain": [
       "       term    crn location day                start                  end\n",
       "0  Fall2014  70384  DSB 105   T  2014-09-02T08:00:00  2014-09-02T09:15:00"
      ]
     },
     "execution_count": 68,
     "metadata": {},
     "output_type": "execute_result"
    }
   ],
   "source": [
    "df_fall_2.head(1)"
   ]
  },
  {
   "cell_type": "code",
   "execution_count": 74,
   "metadata": {},
   "outputs": [
    {
     "data": {
      "text/html": [
       "<div>\n",
       "<style scoped>\n",
       "    .dataframe tbody tr th:only-of-type {\n",
       "        vertical-align: middle;\n",
       "    }\n",
       "\n",
       "    .dataframe tbody tr th {\n",
       "        vertical-align: top;\n",
       "    }\n",
       "\n",
       "    .dataframe thead th {\n",
       "        text-align: right;\n",
       "    }\n",
       "</style>\n",
       "<table border=\"1\" class=\"dataframe\">\n",
       "  <thead>\n",
       "    <tr style=\"text-align: right;\">\n",
       "      <th></th>\n",
       "      <th>term</th>\n",
       "      <th>crn</th>\n",
       "      <th>location</th>\n",
       "      <th>day</th>\n",
       "      <th>start</th>\n",
       "      <th>end</th>\n",
       "    </tr>\n",
       "  </thead>\n",
       "  <tbody>\n",
       "    <tr>\n",
       "      <th>0</th>\n",
       "      <td>Winter2015</td>\n",
       "      <td>10913</td>\n",
       "      <td>DSB 115</td>\n",
       "      <td>M</td>\n",
       "      <td>2015-01-05T10:00:00</td>\n",
       "      <td>2015-01-05T18:00:00</td>\n",
       "    </tr>\n",
       "  </tbody>\n",
       "</table>\n",
       "</div>"
      ],
      "text/plain": [
       "         term    crn location day                start                  end\n",
       "0  Winter2015  10913  DSB 115   M  2015-01-05T10:00:00  2015-01-05T18:00:00"
      ]
     },
     "execution_count": 74,
     "metadata": {},
     "output_type": "execute_result"
    }
   ],
   "source": [
    "df_winter_2.head(1)"
   ]
  },
  {
   "cell_type": "code",
   "execution_count": 75,
   "metadata": {},
   "outputs": [
    {
     "data": {
      "text/html": [
       "<div>\n",
       "<style scoped>\n",
       "    .dataframe tbody tr th:only-of-type {\n",
       "        vertical-align: middle;\n",
       "    }\n",
       "\n",
       "    .dataframe tbody tr th {\n",
       "        vertical-align: top;\n",
       "    }\n",
       "\n",
       "    .dataframe thead th {\n",
       "        text-align: right;\n",
       "    }\n",
       "</style>\n",
       "<table border=\"1\" class=\"dataframe\">\n",
       "  <thead>\n",
       "    <tr style=\"text-align: right;\">\n",
       "      <th></th>\n",
       "      <th>term</th>\n",
       "      <th>crn</th>\n",
       "      <th>location</th>\n",
       "      <th>day</th>\n",
       "      <th>start</th>\n",
       "      <th>end</th>\n",
       "    </tr>\n",
       "  </thead>\n",
       "  <tbody>\n",
       "    <tr>\n",
       "      <th>0</th>\n",
       "      <td>Spring2015</td>\n",
       "      <td>32436</td>\n",
       "      <td>DSB 108</td>\n",
       "      <td>R</td>\n",
       "      <td>2015-01-22T14:00:00</td>\n",
       "      <td>2015-01-22T15:15:00</td>\n",
       "    </tr>\n",
       "  </tbody>\n",
       "</table>\n",
       "</div>"
      ],
      "text/plain": [
       "         term    crn location day                start                  end\n",
       "0  Spring2015  32436  DSB 108   R  2015-01-22T14:00:00  2015-01-22T15:15:00"
      ]
     },
     "execution_count": 75,
     "metadata": {},
     "output_type": "execute_result"
    }
   ],
   "source": [
    "df_spring_2.head(1)"
   ]
  },
  {
   "cell_type": "code",
   "execution_count": 76,
   "metadata": {},
   "outputs": [
    {
     "data": {
      "text/html": [
       "<div>\n",
       "<style scoped>\n",
       "    .dataframe tbody tr th:only-of-type {\n",
       "        vertical-align: middle;\n",
       "    }\n",
       "\n",
       "    .dataframe tbody tr th {\n",
       "        vertical-align: top;\n",
       "    }\n",
       "\n",
       "    .dataframe thead th {\n",
       "        text-align: right;\n",
       "    }\n",
       "</style>\n",
       "<table border=\"1\" class=\"dataframe\">\n",
       "  <thead>\n",
       "    <tr style=\"text-align: right;\">\n",
       "      <th></th>\n",
       "      <th>term</th>\n",
       "      <th>crn</th>\n",
       "      <th>location</th>\n",
       "      <th>day</th>\n",
       "      <th>start</th>\n",
       "      <th>end</th>\n",
       "    </tr>\n",
       "  </thead>\n",
       "  <tbody>\n",
       "    <tr>\n",
       "      <th>0</th>\n",
       "      <td>Summer2015</td>\n",
       "      <td>55230</td>\n",
       "      <td>DSB 106</td>\n",
       "      <td>M</td>\n",
       "      <td>2015-05-18T18:00:00</td>\n",
       "      <td>2015-05-18T21:30:00</td>\n",
       "    </tr>\n",
       "  </tbody>\n",
       "</table>\n",
       "</div>"
      ],
      "text/plain": [
       "         term    crn location day                start                  end\n",
       "0  Summer2015  55230  DSB 106   M  2015-05-18T18:00:00  2015-05-18T21:30:00"
      ]
     },
     "execution_count": 76,
     "metadata": {},
     "output_type": "execute_result"
    }
   ],
   "source": [
    "df_summer_2.head(1)"
   ]
  },
  {
   "cell_type": "code",
   "execution_count": 89,
   "metadata": {},
   "outputs": [
    {
     "data": {
      "text/html": [
       "<div>\n",
       "<style scoped>\n",
       "    .dataframe tbody tr th:only-of-type {\n",
       "        vertical-align: middle;\n",
       "    }\n",
       "\n",
       "    .dataframe tbody tr th {\n",
       "        vertical-align: top;\n",
       "    }\n",
       "\n",
       "    .dataframe thead th {\n",
       "        text-align: right;\n",
       "    }\n",
       "</style>\n",
       "<table border=\"1\" class=\"dataframe\">\n",
       "  <thead>\n",
       "    <tr style=\"text-align: right;\">\n",
       "      <th></th>\n",
       "      <th>term</th>\n",
       "      <th>crn</th>\n",
       "      <th>location</th>\n",
       "      <th>day</th>\n",
       "      <th>start</th>\n",
       "      <th>end</th>\n",
       "    </tr>\n",
       "  </thead>\n",
       "  <tbody>\n",
       "    <tr>\n",
       "      <th>0</th>\n",
       "      <td>Fall2014</td>\n",
       "      <td>70384</td>\n",
       "      <td>DSB 105</td>\n",
       "      <td>T</td>\n",
       "      <td>2014-09-02T08:00:00</td>\n",
       "      <td>2014-09-02T09:15:00</td>\n",
       "    </tr>\n",
       "  </tbody>\n",
       "</table>\n",
       "</div>"
      ],
      "text/plain": [
       "       term    crn location day                start                  end\n",
       "0  Fall2014  70384  DSB 105   T  2014-09-02T08:00:00  2014-09-02T09:15:00"
      ]
     },
     "execution_count": 89,
     "metadata": {},
     "output_type": "execute_result"
    }
   ],
   "source": [
    "df_cmeetings.head(1)"
   ]
  },
  {
   "cell_type": "code",
   "execution_count": 90,
   "metadata": {},
   "outputs": [],
   "source": [
    "df_cmeetings.to_sql('cmeetings', conn, if_exists='append', index=False)"
   ]
  },
  {
   "cell_type": "code",
   "execution_count": 91,
   "metadata": {},
   "outputs": [
    {
     "name": "stdout",
     "output_type": "stream",
     "text": [
      " * sqlite:///CourseData.db\n",
      "Done.\n"
     ]
    },
    {
     "data": {
      "text/html": [
       "<table>\n",
       "    <tr>\n",
       "        <th>term</th>\n",
       "        <th>crn</th>\n",
       "        <th>location</th>\n",
       "        <th>day</th>\n",
       "        <th>start</th>\n",
       "        <th>end</th>\n",
       "    </tr>\n",
       "    <tr>\n",
       "        <td>Fall2014</td>\n",
       "        <td>70384</td>\n",
       "        <td>DSB 105</td>\n",
       "        <td>T</td>\n",
       "        <td>2014-09-02T08:00:00</td>\n",
       "        <td>2014-09-02T09:15:00</td>\n",
       "    </tr>\n",
       "</table>"
      ],
      "text/plain": [
       "[('Fall2014', 70384, 'DSB 105', 'T', '2014-09-02T08:00:00', '2014-09-02T09:15:00')]"
      ]
     },
     "execution_count": 91,
     "metadata": {},
     "output_type": "execute_result"
    }
   ],
   "source": [
    "%%sql\n",
    "select *\n",
    "from cmeetings\n",
    "limit 1;"
   ]
  },
  {
   "cell_type": "markdown",
   "metadata": {},
   "source": [
    "#### Import CourseCatalog CSVs"
   ]
  },
  {
   "cell_type": "code",
   "execution_count": 93,
   "metadata": {},
   "outputs": [],
   "source": [
    "catalog2017 = ['SourceData/Catalogs/CourseCatalog2017_2018.csv']\n",
    "catalog2017_2018 = pd.read_csv(catalog2017[0])"
   ]
  },
  {
   "cell_type": "code",
   "execution_count": 94,
   "metadata": {},
   "outputs": [],
   "source": [
    "catalog2018 = ['SourceData/Catalogs/CourseCatalog2018_2019.csv']\n",
    "catalog2018_2019 = pd.read_csv(catalog2018[0])"
   ]
  },
  {
   "cell_type": "code",
   "execution_count": 95,
   "metadata": {},
   "outputs": [],
   "source": [
    "df_catalog = pd.concat([catalog2017_2018,catalog2018_2019], axis=0)"
   ]
  },
  {
   "cell_type": "code",
   "execution_count": 97,
   "metadata": {},
   "outputs": [],
   "source": [
    "df_catalog.to_sql('catalog', conn, if_exists='append', index=False)"
   ]
  },
  {
   "cell_type": "code",
   "execution_count": 98,
   "metadata": {},
   "outputs": [
    {
     "name": "stdout",
     "output_type": "stream",
     "text": [
      " * sqlite:///CourseData.db\n",
      "Done.\n"
     ]
    },
    {
     "data": {
      "text/html": [
       "<table>\n",
       "    <tr>\n",
       "        <th>program_code</th>\n",
       "        <th>program_name</th>\n",
       "        <th>catalog_id</th>\n",
       "        <th>course_title</th>\n",
       "        <th>credits</th>\n",
       "        <th>prereqs</th>\n",
       "        <th>coreqs</th>\n",
       "        <th>fees</th>\n",
       "        <th>attributes</th>\n",
       "        <th>description</th>\n",
       "    </tr>\n",
       "    <tr>\n",
       "        <td>AN</td>\n",
       "        <td>Asian Studies</td>\n",
       "        <td>AN 0301</td>\n",
       "        <td>Independent Study</td>\n",
       "        <td>1-3 Credits</td>\n",
       "        <td>None</td>\n",
       "        <td>None</td>\n",
       "        <td>None</td>\n",
       "        <td>None</td>\n",
       "        <td>Students undertake an individualized program of study in consultation with a director from the Asian studies faculty.</td>\n",
       "    </tr>\n",
       "</table>"
      ],
      "text/plain": [
       "[('AN', 'Asian Studies', 'AN 0301', 'Independent Study', '1-3 Credits', None, None, None, None, 'Students undertake an individualized program of study in consultation with a director from the Asian studies faculty.')]"
      ]
     },
     "execution_count": 98,
     "metadata": {},
     "output_type": "execute_result"
    }
   ],
   "source": [
    "%%sql\n",
    "select *\n",
    "from catalog\n",
    "limit 1;"
   ]
  },
  {
   "cell_type": "markdown",
   "metadata": {},
   "source": [
    "#### Insert Data to ERD Tables"
   ]
  },
  {
   "cell_type": "markdown",
   "metadata": {},
   "source": [
    "Write SELECT Queries to Transform the data in your IMPORT Tables\n",
    "to match your ERD tables"
   ]
  },
  {
   "cell_type": "markdown",
   "metadata": {},
   "source": [
    "Use INSERT INTO tablename SELECT to populate the ERD tables"
   ]
  },
  {
   "cell_type": "code",
   "execution_count": null,
   "metadata": {},
   "outputs": [],
   "source": []
  },
  {
   "cell_type": "markdown",
   "metadata": {},
   "source": []
  },
  {
   "cell_type": "code",
   "execution_count": null,
   "metadata": {},
   "outputs": [],
   "source": []
  },
  {
   "cell_type": "code",
   "execution_count": null,
   "metadata": {},
   "outputs": [],
   "source": []
  },
  {
   "cell_type": "code",
   "execution_count": null,
   "metadata": {},
   "outputs": [],
   "source": []
  },
  {
   "cell_type": "code",
   "execution_count": null,
   "metadata": {},
   "outputs": [],
   "source": []
  },
  {
   "cell_type": "markdown",
   "metadata": {},
   "source": []
  },
  {
   "cell_type": "code",
   "execution_count": null,
   "metadata": {},
   "outputs": [],
   "source": []
  },
  {
   "cell_type": "code",
   "execution_count": null,
   "metadata": {},
   "outputs": [],
   "source": []
  },
  {
   "cell_type": "code",
   "execution_count": null,
   "metadata": {},
   "outputs": [],
   "source": []
  }
 ],
 "metadata": {
  "kernelspec": {
   "display_name": "Python 3",
   "language": "python",
   "name": "python3"
  },
  "language_info": {
   "codemirror_mode": {
    "name": "ipython",
    "version": 3
   },
   "file_extension": ".py",
   "mimetype": "text/x-python",
   "name": "python",
   "nbconvert_exporter": "python",
   "pygments_lexer": "ipython3",
   "version": "3.6.5"
  }
 },
 "nbformat": 4,
 "nbformat_minor": 2
}
