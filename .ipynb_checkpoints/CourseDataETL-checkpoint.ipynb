{
 "cells": [
  {
   "cell_type": "markdown",
   "metadata": {},
   "source": [
    "## Import pandas, numpy, sqlite3"
   ]
  },
  {
   "cell_type": "code",
   "execution_count": 1,
   "metadata": {},
   "outputs": [],
   "source": [
    "import pandas as pd \n",
    "import numpy as np\n",
    "import sqlite3\n",
    "conn = sqlite3.connect('CourseData.db')\n",
    "c = conn.cursor()"
   ]
  },
  {
   "cell_type": "markdown",
   "metadata": {},
   "source": [
    "## Run this to set up %sql and %%sql magics and connect to CourseData Database"
   ]
  },
  {
   "cell_type": "code",
   "execution_count": 2,
   "metadata": {},
   "outputs": [],
   "source": [
    "%load_ext sql"
   ]
  },
  {
   "cell_type": "code",
   "execution_count": 3,
   "metadata": {},
   "outputs": [
    {
     "data": {
      "text/plain": [
       "'Connected: @CourseData.db'"
      ]
     },
     "execution_count": 3,
     "metadata": {},
     "output_type": "execute_result"
    }
   ],
   "source": [
    "%%sql\n",
    "sqlite:///CourseData.db"
   ]
  },
  {
   "cell_type": "markdown",
   "metadata": {},
   "source": [
    "## Drop Import Tables For Any Future Rerun of Code"
   ]
  },
  {
   "cell_type": "code",
   "execution_count": 4,
   "metadata": {},
   "outputs": [
    {
     "name": "stdout",
     "output_type": "stream",
     "text": [
      " * sqlite:///CourseData.db\n",
      "Done.\n"
     ]
    },
    {
     "data": {
      "text/plain": [
       "[]"
      ]
     },
     "execution_count": 4,
     "metadata": {},
     "output_type": "execute_result"
    }
   ],
   "source": [
    "%%sql\n",
    "drop table if exists import_courses;"
   ]
  },
  {
   "cell_type": "code",
   "execution_count": 5,
   "metadata": {},
   "outputs": [
    {
     "name": "stdout",
     "output_type": "stream",
     "text": [
      " * sqlite:///CourseData.db\n",
      "Done.\n"
     ]
    },
    {
     "data": {
      "text/plain": [
       "[]"
      ]
     },
     "execution_count": 5,
     "metadata": {},
     "output_type": "execute_result"
    }
   ],
   "source": [
    "%%sql\n",
    "drop table if exists import_cmeetings;"
   ]
  },
  {
   "cell_type": "code",
   "execution_count": 6,
   "metadata": {},
   "outputs": [
    {
     "name": "stdout",
     "output_type": "stream",
     "text": [
      " * sqlite:///CourseData.db\n",
      "Done.\n"
     ]
    },
    {
     "data": {
      "text/plain": [
       "[]"
      ]
     },
     "execution_count": 6,
     "metadata": {},
     "output_type": "execute_result"
    }
   ],
   "source": [
    "%%sql\n",
    "drop table if exists import_catalog;"
   ]
  },
  {
   "cell_type": "markdown",
   "metadata": {},
   "source": [
    "## Create Import Tables"
   ]
  },
  {
   "cell_type": "code",
   "execution_count": 7,
   "metadata": {},
   "outputs": [
    {
     "name": "stdout",
     "output_type": "stream",
     "text": [
      " * sqlite:///CourseData.db\n",
      "Done.\n"
     ]
    },
    {
     "data": {
      "text/plain": [
       "[]"
      ]
     },
     "execution_count": 7,
     "metadata": {},
     "output_type": "execute_result"
    }
   ],
   "source": [
    "%%sql\n",
    "create table 'import_catalog' (\n",
    "    program_code TEXT NOT NULL,\n",
    "    program_name VARCHAR NOT NULL,\n",
    "    catalog_id VARCHAR NOT NULL,\n",
    "    course_title VARCHAR NOT NULL, \n",
    "    credits VARCHAR NOT NULL,\n",
    "    prereqs VARCHAR, \n",
    "    coreqs VARCHAR,\n",
    "    fees VARCHAR,\n",
    "    attributes VARCHAR,\n",
    "    description VARCHAR \n",
    ");"
   ]
  },
  {
   "cell_type": "code",
   "execution_count": 8,
   "metadata": {},
   "outputs": [
    {
     "name": "stdout",
     "output_type": "stream",
     "text": [
      " * sqlite:///CourseData.db\n",
      "Done.\n"
     ]
    },
    {
     "data": {
      "text/plain": [
       "[]"
      ]
     },
     "execution_count": 8,
     "metadata": {},
     "output_type": "execute_result"
    }
   ],
   "source": [
    "%%sql\n",
    "create table 'import_cmeetings' (\n",
    "    term VARCHAR NOT NULL,\n",
    "    crn INTEGER NOT NULL,\n",
    "    location VARCHAR NOT NULL,\n",
    "    day TEXT NOT NULL,\n",
    "    start VARCHAR NOT NULL,\n",
    "    end VARCHAR NOT NULL \n",
    ");"
   ]
  },
  {
   "cell_type": "code",
   "execution_count": 9,
   "metadata": {},
   "outputs": [
    {
     "name": "stdout",
     "output_type": "stream",
     "text": [
      " * sqlite:///CourseData.db\n",
      "Done.\n"
     ]
    },
    {
     "data": {
      "text/plain": [
       "[]"
      ]
     },
     "execution_count": 9,
     "metadata": {},
     "output_type": "execute_result"
    }
   ],
   "source": [
    "%%sql\n",
    "create table 'import_courses' (\n",
    "    term VARCHAR NOT NULL,\n",
    "    crn INTEGER NOT NULL,\n",
    "    catalog_id VARCHAR NOT NULL,\n",
    "    section VARCHAR NOT NULL,\n",
    "    credits VARCHAR,\n",
    "    title VARCHAR, \n",
    "    meetings VARCHAR,\n",
    "    timecodes VARCHAR, \n",
    "    primary_instructor TEXT,\n",
    "    cap INTEGER, \n",
    "    act INTEGER, \n",
    "    rem INTEGER \n",
    ");"
   ]
  },
  {
   "cell_type": "markdown",
   "metadata": {},
   "source": [
    "## Import CSV Files"
   ]
  },
  {
   "cell_type": "markdown",
   "metadata": {},
   "source": [
    "#### Import Courses CSVs using Python Pandas"
   ]
  },
  {
   "cell_type": "markdown",
   "metadata": {},
   "source": [
    "Loading Files By Season"
   ]
  },
  {
   "cell_type": "code",
   "execution_count": 10,
   "metadata": {},
   "outputs": [],
   "source": [
    "fall = ['SourceData/Fall2014/courses.csv',\n",
    "        'SourceData/Fall2015/courses.csv', \n",
    "        'SourceData/Fall2016/courses.csv',\n",
    "        'SourceData/Fall2017/courses.csv',\n",
    "        'SourceData/Fall2018/courses.csv']\n",
    "fall_0 = pd.read_csv(fall[0])\n",
    "fall_1 = pd.read_csv(fall[1])\n",
    "fall_2 = pd.read_csv(fall[2])    \n",
    "fall_3 = pd.read_csv(fall[3])\n",
    "fall_4 = pd.read_csv(fall[4])"
   ]
  },
  {
   "cell_type": "code",
   "execution_count": 11,
   "metadata": {},
   "outputs": [],
   "source": [
    "winter = ['SourceData/Winter2015/courses.csv', \n",
    "          'SourceData/Winter2016/courses.csv',\n",
    "          'SourceData/Winter2017/courses.csv',\n",
    "          'SourceData/Winter2018/courses.csv']\n",
    "winter_0 = pd.read_csv(winter[0])\n",
    "winter_1 = pd.read_csv(winter[1])\n",
    "winter_2 = pd.read_csv(winter[2])    \n",
    "winter_3 = pd.read_csv(winter[3])"
   ]
  },
  {
   "cell_type": "code",
   "execution_count": 12,
   "metadata": {},
   "outputs": [],
   "source": [
    "spring = ['SourceData/Spring2015/courses.csv',\n",
    "          'SourceData/Spring2016/courses.csv', \n",
    "          'SourceData/Spring2017/courses.csv',\n",
    "          'SourceData/Spring2018/courses.csv',\n",
    "          'SourceData/Spring2019/courses.csv',\n",
    "          'SourceData/SpringBreak2017/courses.csv']\n",
    "spring_0 = pd.read_csv(spring[0])\n",
    "spring_1 = pd.read_csv(spring[1])\n",
    "spring_2 = pd.read_csv(spring[2])    \n",
    "spring_3 = pd.read_csv(spring[3])\n",
    "spring_4 = pd.read_csv(spring[4])\n",
    "spring_5 = pd.read_csv(spring[5])"
   ]
  },
  {
   "cell_type": "code",
   "execution_count": 13,
   "metadata": {},
   "outputs": [],
   "source": [
    "summer = ['SourceData/Summer2015/courses.csv', \n",
    "          'SourceData/Summer2016/courses.csv',\n",
    "          'SourceData/Summer2017/courses.csv',\n",
    "          'SourceData/Summer2018/courses.csv']\n",
    "summer_0 = pd.read_csv(summer[0])\n",
    "summer_1 = pd.read_csv(summer[1])\n",
    "summer_2 = pd.read_csv(summer[2])    \n",
    "summer_3 = pd.read_csv(summer[3])"
   ]
  },
  {
   "cell_type": "markdown",
   "metadata": {},
   "source": [
    "Concatenating to Master Season Dataframes as well as a Master Course Dataframe"
   ]
  },
  {
   "cell_type": "code",
   "execution_count": 14,
   "metadata": {},
   "outputs": [],
   "source": [
    "df_fall = pd.concat([fall_0,fall_1,fall_2,fall_3,fall_4], axis=0)"
   ]
  },
  {
   "cell_type": "code",
   "execution_count": 15,
   "metadata": {},
   "outputs": [],
   "source": [
    "df_winter = pd.concat([winter_0,winter_1,winter_2,winter_3], axis=0)"
   ]
  },
  {
   "cell_type": "code",
   "execution_count": 16,
   "metadata": {},
   "outputs": [],
   "source": [
    "df_spring = pd.concat([spring_0,spring_1,spring_2,spring_3,spring_4,spring_5], axis=0)"
   ]
  },
  {
   "cell_type": "code",
   "execution_count": 17,
   "metadata": {},
   "outputs": [],
   "source": [
    "df_summer = pd.concat([summer_0,summer_1,summer_2,summer_3], axis=0)"
   ]
  },
  {
   "cell_type": "code",
   "execution_count": 18,
   "metadata": {},
   "outputs": [],
   "source": [
    "df_course = pd.concat([df_fall, df_winter, df_spring, df_summer], axis=0)"
   ]
  },
  {
   "cell_type": "markdown",
   "metadata": {},
   "source": [
    "Preview Dataframes"
   ]
  },
  {
   "cell_type": "code",
   "execution_count": 19,
   "metadata": {},
   "outputs": [
    {
     "data": {
      "text/html": [
       "<div>\n",
       "<style scoped>\n",
       "    .dataframe tbody tr th:only-of-type {\n",
       "        vertical-align: middle;\n",
       "    }\n",
       "\n",
       "    .dataframe tbody tr th {\n",
       "        vertical-align: top;\n",
       "    }\n",
       "\n",
       "    .dataframe thead th {\n",
       "        text-align: right;\n",
       "    }\n",
       "</style>\n",
       "<table border=\"1\" class=\"dataframe\">\n",
       "  <thead>\n",
       "    <tr style=\"text-align: right;\">\n",
       "      <th></th>\n",
       "      <th>term</th>\n",
       "      <th>crn</th>\n",
       "      <th>catalog_id</th>\n",
       "      <th>section</th>\n",
       "      <th>credits</th>\n",
       "      <th>title</th>\n",
       "      <th>meetings</th>\n",
       "      <th>timecodes</th>\n",
       "      <th>primary_instructor</th>\n",
       "      <th>cap</th>\n",
       "      <th>act</th>\n",
       "      <th>rem</th>\n",
       "    </tr>\n",
       "  </thead>\n",
       "  <tbody>\n",
       "    <tr>\n",
       "      <th>0</th>\n",
       "      <td>Fall2014</td>\n",
       "      <td>70384</td>\n",
       "      <td>AC 0011</td>\n",
       "      <td>C01</td>\n",
       "      <td>3.000</td>\n",
       "      <td>Introduction to Financial Accounting</td>\n",
       "      <td>[{'days': 'TF', 'times': '0800am-0915am', 'dat...</td>\n",
       "      <td>['TF 0800am-0915am 09/02-12/08 DSB 105']</td>\n",
       "      <td>Michael P.  Coyne</td>\n",
       "      <td>0</td>\n",
       "      <td>31</td>\n",
       "      <td>-31</td>\n",
       "    </tr>\n",
       "  </tbody>\n",
       "</table>\n",
       "</div>"
      ],
      "text/plain": [
       "       term    crn catalog_id section credits  \\\n",
       "0  Fall2014  70384    AC 0011     C01   3.000   \n",
       "\n",
       "                                  title  \\\n",
       "0  Introduction to Financial Accounting   \n",
       "\n",
       "                                            meetings  \\\n",
       "0  [{'days': 'TF', 'times': '0800am-0915am', 'dat...   \n",
       "\n",
       "                                  timecodes primary_instructor  cap  act  rem  \n",
       "0  ['TF 0800am-0915am 09/02-12/08 DSB 105']  Michael P.  Coyne    0   31  -31  "
      ]
     },
     "execution_count": 19,
     "metadata": {},
     "output_type": "execute_result"
    }
   ],
   "source": [
    "df_fall.head(1)"
   ]
  },
  {
   "cell_type": "code",
   "execution_count": 20,
   "metadata": {},
   "outputs": [
    {
     "data": {
      "text/html": [
       "<div>\n",
       "<style scoped>\n",
       "    .dataframe tbody tr th:only-of-type {\n",
       "        vertical-align: middle;\n",
       "    }\n",
       "\n",
       "    .dataframe tbody tr th {\n",
       "        vertical-align: top;\n",
       "    }\n",
       "\n",
       "    .dataframe thead th {\n",
       "        text-align: right;\n",
       "    }\n",
       "</style>\n",
       "<table border=\"1\" class=\"dataframe\">\n",
       "  <thead>\n",
       "    <tr style=\"text-align: right;\">\n",
       "      <th></th>\n",
       "      <th>term</th>\n",
       "      <th>crn</th>\n",
       "      <th>catalog_id</th>\n",
       "      <th>section</th>\n",
       "      <th>credits</th>\n",
       "      <th>title</th>\n",
       "      <th>meetings</th>\n",
       "      <th>timecodes</th>\n",
       "      <th>primary_instructor</th>\n",
       "      <th>cap</th>\n",
       "      <th>act</th>\n",
       "      <th>rem</th>\n",
       "    </tr>\n",
       "  </thead>\n",
       "  <tbody>\n",
       "    <tr>\n",
       "      <th>0</th>\n",
       "      <td>Winter2015</td>\n",
       "      <td>10913</td>\n",
       "      <td>AC 0555</td>\n",
       "      <td>01</td>\n",
       "      <td>3.000</td>\n",
       "      <td>Issues in Internal Audit</td>\n",
       "      <td>[{'days': 'MTWRF', 'times': '1000am-0600pm', '...</td>\n",
       "      <td>['MTWRF 1000am-0600pm 01/05-01/17 DSB 115', 'S...</td>\n",
       "      <td>Dawn W  Massey</td>\n",
       "      <td>18</td>\n",
       "      <td>10</td>\n",
       "      <td>8</td>\n",
       "    </tr>\n",
       "  </tbody>\n",
       "</table>\n",
       "</div>"
      ],
      "text/plain": [
       "         term    crn catalog_id section credits                     title  \\\n",
       "0  Winter2015  10913    AC 0555      01   3.000  Issues in Internal Audit   \n",
       "\n",
       "                                            meetings  \\\n",
       "0  [{'days': 'MTWRF', 'times': '1000am-0600pm', '...   \n",
       "\n",
       "                                           timecodes primary_instructor  cap  \\\n",
       "0  ['MTWRF 1000am-0600pm 01/05-01/17 DSB 115', 'S...     Dawn W  Massey   18   \n",
       "\n",
       "   act  rem  \n",
       "0   10    8  "
      ]
     },
     "execution_count": 20,
     "metadata": {},
     "output_type": "execute_result"
    }
   ],
   "source": [
    "df_winter.head(1)"
   ]
  },
  {
   "cell_type": "code",
   "execution_count": 21,
   "metadata": {},
   "outputs": [
    {
     "data": {
      "text/html": [
       "<div>\n",
       "<style scoped>\n",
       "    .dataframe tbody tr th:only-of-type {\n",
       "        vertical-align: middle;\n",
       "    }\n",
       "\n",
       "    .dataframe tbody tr th {\n",
       "        vertical-align: top;\n",
       "    }\n",
       "\n",
       "    .dataframe thead th {\n",
       "        text-align: right;\n",
       "    }\n",
       "</style>\n",
       "<table border=\"1\" class=\"dataframe\">\n",
       "  <thead>\n",
       "    <tr style=\"text-align: right;\">\n",
       "      <th></th>\n",
       "      <th>term</th>\n",
       "      <th>crn</th>\n",
       "      <th>catalog_id</th>\n",
       "      <th>section</th>\n",
       "      <th>credits</th>\n",
       "      <th>title</th>\n",
       "      <th>meetings</th>\n",
       "      <th>timecodes</th>\n",
       "      <th>primary_instructor</th>\n",
       "      <th>cap</th>\n",
       "      <th>act</th>\n",
       "      <th>rem</th>\n",
       "    </tr>\n",
       "  </thead>\n",
       "  <tbody>\n",
       "    <tr>\n",
       "      <th>0</th>\n",
       "      <td>Spring2015</td>\n",
       "      <td>32436</td>\n",
       "      <td>AC 0011</td>\n",
       "      <td>A</td>\n",
       "      <td>3.000</td>\n",
       "      <td>Introduction to Financial Accounting</td>\n",
       "      <td>[{'days': 'MR', 'times': '0200pm-0315pm', 'dat...</td>\n",
       "      <td>['MR 0200pm-0315pm 01/20-04/30 DSB 108']</td>\n",
       "      <td>Dawn W  Massey</td>\n",
       "      <td>28</td>\n",
       "      <td>28</td>\n",
       "      <td>0</td>\n",
       "    </tr>\n",
       "  </tbody>\n",
       "</table>\n",
       "</div>"
      ],
      "text/plain": [
       "         term    crn catalog_id section credits  \\\n",
       "0  Spring2015  32436    AC 0011       A   3.000   \n",
       "\n",
       "                                  title  \\\n",
       "0  Introduction to Financial Accounting   \n",
       "\n",
       "                                            meetings  \\\n",
       "0  [{'days': 'MR', 'times': '0200pm-0315pm', 'dat...   \n",
       "\n",
       "                                  timecodes primary_instructor  cap  act  rem  \n",
       "0  ['MR 0200pm-0315pm 01/20-04/30 DSB 108']     Dawn W  Massey   28   28    0  "
      ]
     },
     "execution_count": 21,
     "metadata": {},
     "output_type": "execute_result"
    }
   ],
   "source": [
    "df_spring.head(1)"
   ]
  },
  {
   "cell_type": "code",
   "execution_count": 22,
   "metadata": {},
   "outputs": [
    {
     "data": {
      "text/html": [
       "<div>\n",
       "<style scoped>\n",
       "    .dataframe tbody tr th:only-of-type {\n",
       "        vertical-align: middle;\n",
       "    }\n",
       "\n",
       "    .dataframe tbody tr th {\n",
       "        vertical-align: top;\n",
       "    }\n",
       "\n",
       "    .dataframe thead th {\n",
       "        text-align: right;\n",
       "    }\n",
       "</style>\n",
       "<table border=\"1\" class=\"dataframe\">\n",
       "  <thead>\n",
       "    <tr style=\"text-align: right;\">\n",
       "      <th></th>\n",
       "      <th>term</th>\n",
       "      <th>crn</th>\n",
       "      <th>catalog_id</th>\n",
       "      <th>section</th>\n",
       "      <th>credits</th>\n",
       "      <th>title</th>\n",
       "      <th>meetings</th>\n",
       "      <th>timecodes</th>\n",
       "      <th>primary_instructor</th>\n",
       "      <th>cap</th>\n",
       "      <th>act</th>\n",
       "      <th>rem</th>\n",
       "    </tr>\n",
       "  </thead>\n",
       "  <tbody>\n",
       "    <tr>\n",
       "      <th>0</th>\n",
       "      <td>Summer2015</td>\n",
       "      <td>55230</td>\n",
       "      <td>AC 0203</td>\n",
       "      <td>A</td>\n",
       "      <td>3.000</td>\n",
       "      <td>Intermediate Accounting I</td>\n",
       "      <td>[{'days': 'MW', 'times': '0600pm-0930pm', 'dat...</td>\n",
       "      <td>['MW 0600pm-0930pm 05/18-06/24 DSB 106', 'TR 0...</td>\n",
       "      <td>Scott M  Brenner</td>\n",
       "      <td>25</td>\n",
       "      <td>9</td>\n",
       "      <td>16</td>\n",
       "    </tr>\n",
       "  </tbody>\n",
       "</table>\n",
       "</div>"
      ],
      "text/plain": [
       "         term    crn catalog_id section credits                      title  \\\n",
       "0  Summer2015  55230    AC 0203       A   3.000  Intermediate Accounting I   \n",
       "\n",
       "                                            meetings  \\\n",
       "0  [{'days': 'MW', 'times': '0600pm-0930pm', 'dat...   \n",
       "\n",
       "                                           timecodes primary_instructor  cap  \\\n",
       "0  ['MW 0600pm-0930pm 05/18-06/24 DSB 106', 'TR 0...   Scott M  Brenner   25   \n",
       "\n",
       "   act  rem  \n",
       "0    9   16  "
      ]
     },
     "execution_count": 22,
     "metadata": {},
     "output_type": "execute_result"
    }
   ],
   "source": [
    "df_summer.head(1)"
   ]
  },
  {
   "cell_type": "code",
   "execution_count": 23,
   "metadata": {},
   "outputs": [
    {
     "data": {
      "text/html": [
       "<div>\n",
       "<style scoped>\n",
       "    .dataframe tbody tr th:only-of-type {\n",
       "        vertical-align: middle;\n",
       "    }\n",
       "\n",
       "    .dataframe tbody tr th {\n",
       "        vertical-align: top;\n",
       "    }\n",
       "\n",
       "    .dataframe thead th {\n",
       "        text-align: right;\n",
       "    }\n",
       "</style>\n",
       "<table border=\"1\" class=\"dataframe\">\n",
       "  <thead>\n",
       "    <tr style=\"text-align: right;\">\n",
       "      <th></th>\n",
       "      <th>term</th>\n",
       "      <th>crn</th>\n",
       "      <th>catalog_id</th>\n",
       "      <th>section</th>\n",
       "      <th>credits</th>\n",
       "      <th>title</th>\n",
       "      <th>meetings</th>\n",
       "      <th>timecodes</th>\n",
       "      <th>primary_instructor</th>\n",
       "      <th>cap</th>\n",
       "      <th>act</th>\n",
       "      <th>rem</th>\n",
       "    </tr>\n",
       "  </thead>\n",
       "  <tbody>\n",
       "    <tr>\n",
       "      <th>0</th>\n",
       "      <td>Fall2014</td>\n",
       "      <td>70384</td>\n",
       "      <td>AC 0011</td>\n",
       "      <td>C01</td>\n",
       "      <td>3.000</td>\n",
       "      <td>Introduction to Financial Accounting</td>\n",
       "      <td>[{'days': 'TF', 'times': '0800am-0915am', 'dat...</td>\n",
       "      <td>['TF 0800am-0915am 09/02-12/08 DSB 105']</td>\n",
       "      <td>Michael P.  Coyne</td>\n",
       "      <td>0</td>\n",
       "      <td>31</td>\n",
       "      <td>-31</td>\n",
       "    </tr>\n",
       "  </tbody>\n",
       "</table>\n",
       "</div>"
      ],
      "text/plain": [
       "       term    crn catalog_id section credits  \\\n",
       "0  Fall2014  70384    AC 0011     C01   3.000   \n",
       "\n",
       "                                  title  \\\n",
       "0  Introduction to Financial Accounting   \n",
       "\n",
       "                                            meetings  \\\n",
       "0  [{'days': 'TF', 'times': '0800am-0915am', 'dat...   \n",
       "\n",
       "                                  timecodes primary_instructor  cap  act  rem  \n",
       "0  ['TF 0800am-0915am 09/02-12/08 DSB 105']  Michael P.  Coyne    0   31  -31  "
      ]
     },
     "execution_count": 23,
     "metadata": {},
     "output_type": "execute_result"
    }
   ],
   "source": [
    "df_course.head(1)"
   ]
  },
  {
   "cell_type": "markdown",
   "metadata": {},
   "source": [
    "Moving Dataframe from Python to SQL"
   ]
  },
  {
   "cell_type": "code",
   "execution_count": 24,
   "metadata": {},
   "outputs": [],
   "source": [
    "df_course.to_sql('import_courses', conn, if_exists='append', index=False)"
   ]
  },
  {
   "cell_type": "markdown",
   "metadata": {},
   "source": [
    "Preview the Import Courses Table"
   ]
  },
  {
   "cell_type": "code",
   "execution_count": 25,
   "metadata": {},
   "outputs": [
    {
     "name": "stdout",
     "output_type": "stream",
     "text": [
      " * sqlite:///CourseData.db\n",
      "Done.\n"
     ]
    },
    {
     "data": {
      "text/html": [
       "<table>\n",
       "    <tr>\n",
       "        <th>term</th>\n",
       "        <th>crn</th>\n",
       "        <th>catalog_id</th>\n",
       "        <th>section</th>\n",
       "        <th>credits</th>\n",
       "        <th>title</th>\n",
       "        <th>meetings</th>\n",
       "        <th>timecodes</th>\n",
       "        <th>primary_instructor</th>\n",
       "        <th>cap</th>\n",
       "        <th>act</th>\n",
       "        <th>rem</th>\n",
       "    </tr>\n",
       "    <tr>\n",
       "        <td>Fall2014</td>\n",
       "        <td>70384</td>\n",
       "        <td>AC 0011</td>\n",
       "        <td>C01</td>\n",
       "        <td>3.000</td>\n",
       "        <td>Introduction to Financial Accounting</td>\n",
       "        <td>[{&#x27;days&#x27;: &#x27;TF&#x27;, &#x27;times&#x27;: &#x27;0800am-0915am&#x27;, &#x27;dates&#x27;: &#x27;09/02-12/08&#x27;, &#x27;location&#x27;: &#x27;DSB 105&#x27;}]</td>\n",
       "        <td>[&#x27;TF 0800am-0915am 09/02-12/08 DSB 105&#x27;]</td>\n",
       "        <td>Michael P.  Coyne</td>\n",
       "        <td>0</td>\n",
       "        <td>31</td>\n",
       "        <td>-31</td>\n",
       "    </tr>\n",
       "</table>"
      ],
      "text/plain": [
       "[('Fall2014', 70384, 'AC 0011', 'C01', '3.000', 'Introduction to Financial Accounting', \"[{'days': 'TF', 'times': '0800am-0915am', 'dates': '09/02-12/08', 'location': 'DSB 105'}]\", \"['TF 0800am-0915am 09/02-12/08 DSB 105']\", 'Michael P.  Coyne', 0, 31, -31)]"
      ]
     },
     "execution_count": 25,
     "metadata": {},
     "output_type": "execute_result"
    }
   ],
   "source": [
    "%%sql\n",
    "select *\n",
    "from import_courses\n",
    "limit 1;"
   ]
  },
  {
   "cell_type": "markdown",
   "metadata": {},
   "source": [
    "#### Import Course Meetings CSVs using Python Pandas"
   ]
  },
  {
   "cell_type": "markdown",
   "metadata": {},
   "source": [
    "Loading Files By Season"
   ]
  },
  {
   "cell_type": "code",
   "execution_count": 26,
   "metadata": {},
   "outputs": [],
   "source": [
    "fall_2 = ['SourceData/Fall2014/course_meetings.csv',\n",
    "         'SourceData/Fall2015/course_meetings.csv',\n",
    "         'SourceData/Fall2016/course_meetings.csv',\n",
    "         'SourceData/Fall2017/course_meetings.csv',\n",
    "         'SourceData/Fall2018/course_meetings.csv']\n",
    "fall_2_0  = pd.read_csv(fall_2[0])\n",
    "fall_2_1  = pd.read_csv(fall_2[1])\n",
    "fall_2_2  = pd.read_csv(fall_2[2])\n",
    "fall_2_3  = pd.read_csv(fall_2[3])\n",
    "fall_2_4  = pd.read_csv(fall_2[4])"
   ]
  },
  {
   "cell_type": "code",
   "execution_count": 27,
   "metadata": {},
   "outputs": [],
   "source": [
    "winter_2 = ['SourceData/Winter2015/course_meetings.csv',\n",
    "           'SourceData/Winter2016/course_meetings.csv',\n",
    "           'SourceData/Winter2017/course_meetings.csv',\n",
    "           'SourceData/Winter2018/course_meetings.csv']\n",
    "winter_2_0  = pd.read_csv(winter_2[0])\n",
    "winter_2_1  = pd.read_csv(winter_2[1])\n",
    "winter_2_2  = pd.read_csv(winter_2[2])\n",
    "winter_2_3  = pd.read_csv(winter_2[3])"
   ]
  },
  {
   "cell_type": "code",
   "execution_count": 28,
   "metadata": {},
   "outputs": [],
   "source": [
    "spring_2 = ['SourceData/Spring2015/course_meetings.csv',\n",
    "           'SourceData/Spring2016/course_meetings.csv',\n",
    "           'SourceData/Spring2017/course_meetings.csv',\n",
    "           'SourceData/Spring2018/course_meetings.csv',\n",
    "           'SourceData/Spring2019/course_meetings.csv',\n",
    "           'SourceData/SpringBreak2017/course_meetings.csv']\n",
    "spring_2_0  = pd.read_csv(spring_2[0])\n",
    "spring_2_1  = pd.read_csv(spring_2[1])\n",
    "spring_2_2  = pd.read_csv(spring_2[2])\n",
    "spring_2_3  = pd.read_csv(spring_2[3])\n",
    "spring_2_4  = pd.read_csv(spring_2[4])\n",
    "spring_2_5  = pd.read_csv(spring_2[5])"
   ]
  },
  {
   "cell_type": "code",
   "execution_count": 29,
   "metadata": {},
   "outputs": [],
   "source": [
    "summer_2 = ['SourceData/Summer2015/course_meetings.csv',\n",
    "           'SourceData/Summer2016/course_meetings.csv',\n",
    "           'SourceData/Summer2017/course_meetings.csv',\n",
    "           'SourceData/Summer2018/course_meetings.csv']\n",
    "summer_2_0  = pd.read_csv(summer_2[0])\n",
    "summer_2_1  = pd.read_csv(summer_2[1])\n",
    "summer_2_2  = pd.read_csv(summer_2[2])\n",
    "summer_2_3  = pd.read_csv(summer_2[3])"
   ]
  },
  {
   "cell_type": "markdown",
   "metadata": {},
   "source": [
    "Concatenating to Master Season Dataframes as well as a Master Course Meetings Dataframe"
   ]
  },
  {
   "cell_type": "code",
   "execution_count": 30,
   "metadata": {},
   "outputs": [],
   "source": [
    "df_fall_2 = pd.concat([fall_2_0,fall_2_1,fall_2_2,fall_2_3,fall_2_4], axis=0)"
   ]
  },
  {
   "cell_type": "code",
   "execution_count": 31,
   "metadata": {},
   "outputs": [],
   "source": [
    "df_winter_2 = pd.concat([winter_2_0,winter_2_1,winter_2_2,winter_2_3], axis=0)"
   ]
  },
  {
   "cell_type": "code",
   "execution_count": 32,
   "metadata": {},
   "outputs": [],
   "source": [
    "df_spring_2 = pd.concat([spring_2_0,spring_2_1,spring_2_2,spring_2_3,\n",
    "spring_2_4,spring_2_5], axis=0)"
   ]
  },
  {
   "cell_type": "code",
   "execution_count": 33,
   "metadata": {},
   "outputs": [],
   "source": [
    "df_summer_2 = pd.concat([summer_2_0,summer_2_1,summer_2_2,summer_2_3], axis=0)"
   ]
  },
  {
   "cell_type": "code",
   "execution_count": 34,
   "metadata": {},
   "outputs": [],
   "source": [
    "df_cmeetings = pd.concat([df_fall_2,df_winter_2,df_spring_2,df_summer_2], axis=0)"
   ]
  },
  {
   "cell_type": "markdown",
   "metadata": {},
   "source": [
    "Preview Dataframes"
   ]
  },
  {
   "cell_type": "code",
   "execution_count": 35,
   "metadata": {},
   "outputs": [
    {
     "data": {
      "text/html": [
       "<div>\n",
       "<style scoped>\n",
       "    .dataframe tbody tr th:only-of-type {\n",
       "        vertical-align: middle;\n",
       "    }\n",
       "\n",
       "    .dataframe tbody tr th {\n",
       "        vertical-align: top;\n",
       "    }\n",
       "\n",
       "    .dataframe thead th {\n",
       "        text-align: right;\n",
       "    }\n",
       "</style>\n",
       "<table border=\"1\" class=\"dataframe\">\n",
       "  <thead>\n",
       "    <tr style=\"text-align: right;\">\n",
       "      <th></th>\n",
       "      <th>term</th>\n",
       "      <th>crn</th>\n",
       "      <th>location</th>\n",
       "      <th>day</th>\n",
       "      <th>start</th>\n",
       "      <th>end</th>\n",
       "    </tr>\n",
       "  </thead>\n",
       "  <tbody>\n",
       "    <tr>\n",
       "      <th>0</th>\n",
       "      <td>Fall2014</td>\n",
       "      <td>70384</td>\n",
       "      <td>DSB 105</td>\n",
       "      <td>T</td>\n",
       "      <td>2014-09-02T08:00:00</td>\n",
       "      <td>2014-09-02T09:15:00</td>\n",
       "    </tr>\n",
       "  </tbody>\n",
       "</table>\n",
       "</div>"
      ],
      "text/plain": [
       "       term    crn location day                start                  end\n",
       "0  Fall2014  70384  DSB 105   T  2014-09-02T08:00:00  2014-09-02T09:15:00"
      ]
     },
     "execution_count": 35,
     "metadata": {},
     "output_type": "execute_result"
    }
   ],
   "source": [
    "df_fall_2.head(1)"
   ]
  },
  {
   "cell_type": "code",
   "execution_count": 36,
   "metadata": {},
   "outputs": [
    {
     "data": {
      "text/html": [
       "<div>\n",
       "<style scoped>\n",
       "    .dataframe tbody tr th:only-of-type {\n",
       "        vertical-align: middle;\n",
       "    }\n",
       "\n",
       "    .dataframe tbody tr th {\n",
       "        vertical-align: top;\n",
       "    }\n",
       "\n",
       "    .dataframe thead th {\n",
       "        text-align: right;\n",
       "    }\n",
       "</style>\n",
       "<table border=\"1\" class=\"dataframe\">\n",
       "  <thead>\n",
       "    <tr style=\"text-align: right;\">\n",
       "      <th></th>\n",
       "      <th>term</th>\n",
       "      <th>crn</th>\n",
       "      <th>location</th>\n",
       "      <th>day</th>\n",
       "      <th>start</th>\n",
       "      <th>end</th>\n",
       "    </tr>\n",
       "  </thead>\n",
       "  <tbody>\n",
       "    <tr>\n",
       "      <th>0</th>\n",
       "      <td>Winter2015</td>\n",
       "      <td>10913</td>\n",
       "      <td>DSB 115</td>\n",
       "      <td>M</td>\n",
       "      <td>2015-01-05T10:00:00</td>\n",
       "      <td>2015-01-05T18:00:00</td>\n",
       "    </tr>\n",
       "  </tbody>\n",
       "</table>\n",
       "</div>"
      ],
      "text/plain": [
       "         term    crn location day                start                  end\n",
       "0  Winter2015  10913  DSB 115   M  2015-01-05T10:00:00  2015-01-05T18:00:00"
      ]
     },
     "execution_count": 36,
     "metadata": {},
     "output_type": "execute_result"
    }
   ],
   "source": [
    "df_winter_2.head(1)"
   ]
  },
  {
   "cell_type": "code",
   "execution_count": 37,
   "metadata": {},
   "outputs": [
    {
     "data": {
      "text/html": [
       "<div>\n",
       "<style scoped>\n",
       "    .dataframe tbody tr th:only-of-type {\n",
       "        vertical-align: middle;\n",
       "    }\n",
       "\n",
       "    .dataframe tbody tr th {\n",
       "        vertical-align: top;\n",
       "    }\n",
       "\n",
       "    .dataframe thead th {\n",
       "        text-align: right;\n",
       "    }\n",
       "</style>\n",
       "<table border=\"1\" class=\"dataframe\">\n",
       "  <thead>\n",
       "    <tr style=\"text-align: right;\">\n",
       "      <th></th>\n",
       "      <th>term</th>\n",
       "      <th>crn</th>\n",
       "      <th>location</th>\n",
       "      <th>day</th>\n",
       "      <th>start</th>\n",
       "      <th>end</th>\n",
       "    </tr>\n",
       "  </thead>\n",
       "  <tbody>\n",
       "    <tr>\n",
       "      <th>0</th>\n",
       "      <td>Spring2015</td>\n",
       "      <td>32436</td>\n",
       "      <td>DSB 108</td>\n",
       "      <td>R</td>\n",
       "      <td>2015-01-22T14:00:00</td>\n",
       "      <td>2015-01-22T15:15:00</td>\n",
       "    </tr>\n",
       "  </tbody>\n",
       "</table>\n",
       "</div>"
      ],
      "text/plain": [
       "         term    crn location day                start                  end\n",
       "0  Spring2015  32436  DSB 108   R  2015-01-22T14:00:00  2015-01-22T15:15:00"
      ]
     },
     "execution_count": 37,
     "metadata": {},
     "output_type": "execute_result"
    }
   ],
   "source": [
    "df_spring_2.head(1)"
   ]
  },
  {
   "cell_type": "code",
   "execution_count": 38,
   "metadata": {},
   "outputs": [
    {
     "data": {
      "text/html": [
       "<div>\n",
       "<style scoped>\n",
       "    .dataframe tbody tr th:only-of-type {\n",
       "        vertical-align: middle;\n",
       "    }\n",
       "\n",
       "    .dataframe tbody tr th {\n",
       "        vertical-align: top;\n",
       "    }\n",
       "\n",
       "    .dataframe thead th {\n",
       "        text-align: right;\n",
       "    }\n",
       "</style>\n",
       "<table border=\"1\" class=\"dataframe\">\n",
       "  <thead>\n",
       "    <tr style=\"text-align: right;\">\n",
       "      <th></th>\n",
       "      <th>term</th>\n",
       "      <th>crn</th>\n",
       "      <th>location</th>\n",
       "      <th>day</th>\n",
       "      <th>start</th>\n",
       "      <th>end</th>\n",
       "    </tr>\n",
       "  </thead>\n",
       "  <tbody>\n",
       "    <tr>\n",
       "      <th>0</th>\n",
       "      <td>Summer2015</td>\n",
       "      <td>55230</td>\n",
       "      <td>DSB 106</td>\n",
       "      <td>M</td>\n",
       "      <td>2015-05-18T18:00:00</td>\n",
       "      <td>2015-05-18T21:30:00</td>\n",
       "    </tr>\n",
       "  </tbody>\n",
       "</table>\n",
       "</div>"
      ],
      "text/plain": [
       "         term    crn location day                start                  end\n",
       "0  Summer2015  55230  DSB 106   M  2015-05-18T18:00:00  2015-05-18T21:30:00"
      ]
     },
     "execution_count": 38,
     "metadata": {},
     "output_type": "execute_result"
    }
   ],
   "source": [
    "df_summer_2.head(1)"
   ]
  },
  {
   "cell_type": "code",
   "execution_count": 39,
   "metadata": {},
   "outputs": [
    {
     "data": {
      "text/html": [
       "<div>\n",
       "<style scoped>\n",
       "    .dataframe tbody tr th:only-of-type {\n",
       "        vertical-align: middle;\n",
       "    }\n",
       "\n",
       "    .dataframe tbody tr th {\n",
       "        vertical-align: top;\n",
       "    }\n",
       "\n",
       "    .dataframe thead th {\n",
       "        text-align: right;\n",
       "    }\n",
       "</style>\n",
       "<table border=\"1\" class=\"dataframe\">\n",
       "  <thead>\n",
       "    <tr style=\"text-align: right;\">\n",
       "      <th></th>\n",
       "      <th>term</th>\n",
       "      <th>crn</th>\n",
       "      <th>location</th>\n",
       "      <th>day</th>\n",
       "      <th>start</th>\n",
       "      <th>end</th>\n",
       "    </tr>\n",
       "  </thead>\n",
       "  <tbody>\n",
       "    <tr>\n",
       "      <th>0</th>\n",
       "      <td>Fall2014</td>\n",
       "      <td>70384</td>\n",
       "      <td>DSB 105</td>\n",
       "      <td>T</td>\n",
       "      <td>2014-09-02T08:00:00</td>\n",
       "      <td>2014-09-02T09:15:00</td>\n",
       "    </tr>\n",
       "  </tbody>\n",
       "</table>\n",
       "</div>"
      ],
      "text/plain": [
       "       term    crn location day                start                  end\n",
       "0  Fall2014  70384  DSB 105   T  2014-09-02T08:00:00  2014-09-02T09:15:00"
      ]
     },
     "execution_count": 39,
     "metadata": {},
     "output_type": "execute_result"
    }
   ],
   "source": [
    "df_cmeetings.head(1)"
   ]
  },
  {
   "cell_type": "markdown",
   "metadata": {},
   "source": [
    "Moving Dataframe from Python to SQL"
   ]
  },
  {
   "cell_type": "code",
   "execution_count": 40,
   "metadata": {},
   "outputs": [],
   "source": [
    "df_cmeetings.to_sql('import_cmeetings', conn, if_exists='append', index=False)"
   ]
  },
  {
   "cell_type": "markdown",
   "metadata": {},
   "source": [
    "Preview the Import Courses Table"
   ]
  },
  {
   "cell_type": "code",
   "execution_count": 41,
   "metadata": {},
   "outputs": [
    {
     "name": "stdout",
     "output_type": "stream",
     "text": [
      " * sqlite:///CourseData.db\n",
      "Done.\n"
     ]
    },
    {
     "data": {
      "text/html": [
       "<table>\n",
       "    <tr>\n",
       "        <th>term</th>\n",
       "        <th>crn</th>\n",
       "        <th>location</th>\n",
       "        <th>day</th>\n",
       "        <th>start</th>\n",
       "        <th>end</th>\n",
       "    </tr>\n",
       "    <tr>\n",
       "        <td>Fall2014</td>\n",
       "        <td>70384</td>\n",
       "        <td>DSB 105</td>\n",
       "        <td>T</td>\n",
       "        <td>2014-09-02T08:00:00</td>\n",
       "        <td>2014-09-02T09:15:00</td>\n",
       "    </tr>\n",
       "</table>"
      ],
      "text/plain": [
       "[('Fall2014', 70384, 'DSB 105', 'T', '2014-09-02T08:00:00', '2014-09-02T09:15:00')]"
      ]
     },
     "execution_count": 41,
     "metadata": {},
     "output_type": "execute_result"
    }
   ],
   "source": [
    "%%sql\n",
    "select *\n",
    "from import_cmeetings\n",
    "limit 1;"
   ]
  },
  {
   "cell_type": "markdown",
   "metadata": {},
   "source": [
    "#### Import CourseCatalog CSVs"
   ]
  },
  {
   "cell_type": "code",
   "execution_count": 42,
   "metadata": {},
   "outputs": [],
   "source": [
    "catalog2017 = ['SourceData/Catalogs/CourseCatalog2017_2018.csv']\n",
    "catalog2017_2018 = pd.read_csv(catalog2017[0])"
   ]
  },
  {
   "cell_type": "code",
   "execution_count": 43,
   "metadata": {},
   "outputs": [],
   "source": [
    "catalog2018 = ['SourceData/Catalogs/CourseCatalog2018_2019.csv']\n",
    "catalog2018_2019 = pd.read_csv(catalog2018[0])"
   ]
  },
  {
   "cell_type": "markdown",
   "metadata": {},
   "source": [
    "Concatenating to Master Catalog Dataframe"
   ]
  },
  {
   "cell_type": "code",
   "execution_count": 44,
   "metadata": {},
   "outputs": [],
   "source": [
    "df_catalog = pd.concat([catalog2017_2018,catalog2018_2019], axis=0)"
   ]
  },
  {
   "cell_type": "markdown",
   "metadata": {},
   "source": [
    "Moving Dataframe from Python to SQL"
   ]
  },
  {
   "cell_type": "code",
   "execution_count": 45,
   "metadata": {},
   "outputs": [],
   "source": [
    "df_catalog.to_sql('import_catalog', conn, if_exists='append', index=False)"
   ]
  },
  {
   "cell_type": "markdown",
   "metadata": {},
   "source": [
    "Preview the Import Courses Table"
   ]
  },
  {
   "cell_type": "code",
   "execution_count": 46,
   "metadata": {},
   "outputs": [
    {
     "name": "stdout",
     "output_type": "stream",
     "text": [
      " * sqlite:///CourseData.db\n",
      "Done.\n"
     ]
    },
    {
     "data": {
      "text/html": [
       "<table>\n",
       "    <tr>\n",
       "        <th>program_code</th>\n",
       "        <th>program_name</th>\n",
       "        <th>catalog_id</th>\n",
       "        <th>course_title</th>\n",
       "        <th>credits</th>\n",
       "        <th>prereqs</th>\n",
       "        <th>coreqs</th>\n",
       "        <th>fees</th>\n",
       "        <th>attributes</th>\n",
       "        <th>description</th>\n",
       "    </tr>\n",
       "    <tr>\n",
       "        <td>AN</td>\n",
       "        <td>Asian Studies</td>\n",
       "        <td>AN 0301</td>\n",
       "        <td>Independent Study</td>\n",
       "        <td>1-3 Credits</td>\n",
       "        <td>None</td>\n",
       "        <td>None</td>\n",
       "        <td>None</td>\n",
       "        <td>None</td>\n",
       "        <td>Students undertake an individualized program of study in consultation with a director from the Asian studies faculty.</td>\n",
       "    </tr>\n",
       "</table>"
      ],
      "text/plain": [
       "[('AN', 'Asian Studies', 'AN 0301', 'Independent Study', '1-3 Credits', None, None, None, None, 'Students undertake an individualized program of study in consultation with a director from the Asian studies faculty.')]"
      ]
     },
     "execution_count": 46,
     "metadata": {},
     "output_type": "execute_result"
    }
   ],
   "source": [
    "%%sql\n",
    "select *\n",
    "from import_catalog\n",
    "limit 1;"
   ]
  },
  {
   "cell_type": "markdown",
   "metadata": {},
   "source": [
    "## Drop ERD Tables For Any Future Rerun of Code"
   ]
  },
  {
   "cell_type": "markdown",
   "metadata": {},
   "source": [
    "In individual cells so we could drop individual tables as needed"
   ]
  },
  {
   "cell_type": "code",
   "execution_count": 47,
   "metadata": {},
   "outputs": [
    {
     "name": "stdout",
     "output_type": "stream",
     "text": [
      " * sqlite:///CourseData.db\n",
      "Done.\n"
     ]
    },
    {
     "data": {
      "text/plain": [
       "[]"
      ]
     },
     "execution_count": 47,
     "metadata": {},
     "output_type": "execute_result"
    }
   ],
   "source": [
    "%%sql\n",
    "drop table if exists catalog_program;"
   ]
  },
  {
   "cell_type": "code",
   "execution_count": 48,
   "metadata": {},
   "outputs": [
    {
     "name": "stdout",
     "output_type": "stream",
     "text": [
      " * sqlite:///CourseData.db\n",
      "Done.\n"
     ]
    },
    {
     "data": {
      "text/plain": [
       "[]"
      ]
     },
     "execution_count": 48,
     "metadata": {},
     "output_type": "execute_result"
    }
   ],
   "source": [
    "%%sql\n",
    "drop table if exists catalog_course;"
   ]
  },
  {
   "cell_type": "code",
   "execution_count": 49,
   "metadata": {},
   "outputs": [
    {
     "name": "stdout",
     "output_type": "stream",
     "text": [
      " * sqlite:///CourseData.db\n",
      "Done.\n"
     ]
    },
    {
     "data": {
      "text/plain": [
       "[]"
      ]
     },
     "execution_count": 49,
     "metadata": {},
     "output_type": "execute_result"
    }
   ],
   "source": [
    "%%sql\n",
    "drop table if exists term;"
   ]
  },
  {
   "cell_type": "code",
   "execution_count": 50,
   "metadata": {},
   "outputs": [
    {
     "name": "stdout",
     "output_type": "stream",
     "text": [
      " * sqlite:///CourseData.db\n",
      "Done.\n"
     ]
    },
    {
     "data": {
      "text/plain": [
       "[]"
      ]
     },
     "execution_count": 50,
     "metadata": {},
     "output_type": "execute_result"
    }
   ],
   "source": [
    "%%sql\n",
    "drop table if exists course_offering;"
   ]
  },
  {
   "cell_type": "code",
   "execution_count": 51,
   "metadata": {},
   "outputs": [
    {
     "name": "stdout",
     "output_type": "stream",
     "text": [
      " * sqlite:///CourseData.db\n",
      "Done.\n"
     ]
    },
    {
     "data": {
      "text/plain": [
       "[]"
      ]
     },
     "execution_count": 51,
     "metadata": {},
     "output_type": "execute_result"
    }
   ],
   "source": [
    "%%sql\n",
    "drop table if exists instructor;"
   ]
  },
  {
   "cell_type": "code",
   "execution_count": 52,
   "metadata": {},
   "outputs": [
    {
     "name": "stdout",
     "output_type": "stream",
     "text": [
      " * sqlite:///CourseData.db\n",
      "Done.\n"
     ]
    },
    {
     "data": {
      "text/plain": [
       "[]"
      ]
     },
     "execution_count": 52,
     "metadata": {},
     "output_type": "execute_result"
    }
   ],
   "source": [
    "%%sql\n",
    "drop table if exists course_meeting;"
   ]
  },
  {
   "cell_type": "code",
   "execution_count": 53,
   "metadata": {},
   "outputs": [
    {
     "name": "stdout",
     "output_type": "stream",
     "text": [
      " * sqlite:///CourseData.db\n",
      "Done.\n"
     ]
    },
    {
     "data": {
      "text/plain": [
       "[]"
      ]
     },
     "execution_count": 53,
     "metadata": {},
     "output_type": "execute_result"
    }
   ],
   "source": [
    "%%sql\n",
    "drop table if exists time_code;"
   ]
  },
  {
   "cell_type": "code",
   "execution_count": 54,
   "metadata": {},
   "outputs": [
    {
     "name": "stdout",
     "output_type": "stream",
     "text": [
      " * sqlite:///CourseData.db\n",
      "Done.\n"
     ]
    },
    {
     "data": {
      "text/plain": [
       "[]"
      ]
     },
     "execution_count": 54,
     "metadata": {},
     "output_type": "execute_result"
    }
   ],
   "source": [
    "%%sql\n",
    "drop table if exists location;"
   ]
  },
  {
   "cell_type": "markdown",
   "metadata": {},
   "source": [
    "## Create Database Tables From ERD"
   ]
  },
  {
   "cell_type": "code",
   "execution_count": 55,
   "metadata": {},
   "outputs": [
    {
     "name": "stdout",
     "output_type": "stream",
     "text": [
      " * sqlite:///CourseData.db\n",
      "Done.\n"
     ]
    },
    {
     "data": {
      "text/plain": [
       "[]"
      ]
     },
     "execution_count": 55,
     "metadata": {},
     "output_type": "execute_result"
    }
   ],
   "source": [
    "%%sql\n",
    "create table CATALOG_PROGRAM (\n",
    "    CATALOG_ID VARCHAR PRIMARY KEY,\n",
    "    PROGRAM_CODE TEXT NOT NULL,\n",
    "    PROGRAM_NAME VARCHAR NOT NULL,\n",
    "    COURSE_TITLE VARCHAR NOT NULL\n",
    ");"
   ]
  },
  {
   "cell_type": "code",
   "execution_count": 56,
   "metadata": {},
   "outputs": [
    {
     "name": "stdout",
     "output_type": "stream",
     "text": [
      " * sqlite:///CourseData.db\n",
      "Done.\n"
     ]
    },
    {
     "data": {
      "text/plain": [
       "[]"
      ]
     },
     "execution_count": 56,
     "metadata": {},
     "output_type": "execute_result"
    }
   ],
   "source": [
    "%%sql\n",
    "create table CATALOG_COURSE (\n",
    "    CC_ID INTEGER PRIMARY KEY,\n",
    "    COURSE_TITLE VARCHAR NOT NULL,\n",
    "    PRE_REQS VARCHAR,\n",
    "    CO_REQS VARCHAR,\n",
    "    CATALOG_ID VARCHAR NOT NULL,\n",
    "    FOREIGN KEY (CATALOG_ID) REFERENCES CATALOG_PROGRAM (CATALOG_ID)\n",
    ");"
   ]
  },
  {
   "cell_type": "code",
   "execution_count": 57,
   "metadata": {},
   "outputs": [
    {
     "name": "stdout",
     "output_type": "stream",
     "text": [
      " * sqlite:///CourseData.db\n",
      "Done.\n"
     ]
    },
    {
     "data": {
      "text/plain": [
       "[]"
      ]
     },
     "execution_count": 57,
     "metadata": {},
     "output_type": "execute_result"
    }
   ],
   "source": [
    "%%sql\n",
    "create table TERM (\n",
    "    TERM_ID INTEGER PRIMARY KEY,\n",
    "    TERM_NAME VARCHAR NOT NULL\n",
    ");"
   ]
  },
  {
   "cell_type": "code",
   "execution_count": 58,
   "metadata": {},
   "outputs": [
    {
     "name": "stdout",
     "output_type": "stream",
     "text": [
      " * sqlite:///CourseData.db\n",
      "Done.\n"
     ]
    },
    {
     "data": {
      "text/plain": [
       "[]"
      ]
     },
     "execution_count": 58,
     "metadata": {},
     "output_type": "execute_result"
    }
   ],
   "source": [
    "%%sql\n",
    "create table COURSE_OFFERING (\n",
    "    CO_ID INTEGER PRIMARY KEY,\n",
    "    CRN INTEGER NOT NULL,\n",
    "    SECTION VARCHAR NOT NULL,\n",
    "    COURSE_TITLE VARCHAR NOT NULL,\n",
    "    CREDITS VARCHAR NOT NULL,\n",
    "    TERM_NAME INTEGER NOT NULL,\n",
    "    FOREIGN KEY (COURSE_TITLE) REFERENCES CATALOG_COURSE (COURSE_TITLE)\n",
    "    FOREIGN KEY (TERM_NAME) REFERENCES TERM (TERM_NAME)\n",
    ");"
   ]
  },
  {
   "cell_type": "code",
   "execution_count": 59,
   "metadata": {},
   "outputs": [
    {
     "name": "stdout",
     "output_type": "stream",
     "text": [
      " * sqlite:///CourseData.db\n",
      "Done.\n"
     ]
    },
    {
     "data": {
      "text/plain": [
       "[]"
      ]
     },
     "execution_count": 59,
     "metadata": {},
     "output_type": "execute_result"
    }
   ],
   "source": [
    "%%sql\n",
    "create table INSTRUCTOR (\n",
    "    I_ID INTEGER PRIMARY KEY,\n",
    "    NAME TEXT NOT NULL,\n",
    "    COURSE_TITLE VARCHAR NOT NULL,\n",
    "    CRN INTEGER NOT NULL,\n",
    "    TERM_NAME INTEGER NOT NULL,\n",
    "    FOREIGN KEY (CRN) REFERENCES COURSE_OFFERING (CRN)\n",
    "    FOREIGN KEY (TERM_NAME) REFERENCES TERM (TERM_NAME)\n",
    ");"
   ]
  },
  {
   "cell_type": "code",
   "execution_count": 60,
   "metadata": {},
   "outputs": [
    {
     "name": "stdout",
     "output_type": "stream",
     "text": [
      " * sqlite:///CourseData.db\n",
      "Done.\n"
     ]
    },
    {
     "data": {
      "text/plain": [
       "[]"
      ]
     },
     "execution_count": 60,
     "metadata": {},
     "output_type": "execute_result"
    }
   ],
   "source": [
    "%%sql\n",
    "create table COURSE_MEETING (\n",
    "    CM_ID INTEGER PRIMARY KEY,\n",
    "    CRN INTEGER NOT NULL,\n",
    "    CAP INTEGER NOT NULL,\n",
    "    ACT INTEGER,\n",
    "    REM INTEGER,\n",
    "    SECTION VARCHAR NOT NULL,\n",
    "    TERM_NAME INTEGER NOT NULL,\n",
    "    FOREIGN KEY (SECTION) REFERENCES COURSE_OFFERING (SECTION)\n",
    "    FOREIGN KEY (TERM_NAME) REFERENCES TERM (TERM_NAME)\n",
    ");"
   ]
  },
  {
   "cell_type": "code",
   "execution_count": 61,
   "metadata": {},
   "outputs": [
    {
     "name": "stdout",
     "output_type": "stream",
     "text": [
      " * sqlite:///CourseData.db\n",
      "Done.\n"
     ]
    },
    {
     "data": {
      "text/plain": [
       "[]"
      ]
     },
     "execution_count": 61,
     "metadata": {},
     "output_type": "execute_result"
    }
   ],
   "source": [
    "%%sql\n",
    "create table TIME_CODE (\n",
    "    TIME_ID INTEGER PRIMARY KEY,\n",
    "    START_TIME VARCHAR NOT NULL,\n",
    "    END_TIME VARCHAR NOT NULL,\n",
    "    CRN INTEGER NOT NULL,\n",
    "    TERM_NAME INTERGER NOT NULL,\n",
    "    FOREIGN KEY (CRN) REFERENCES COURSE_OFFERING (CRN)\n",
    "    FOREIGN KEY (TERM_NAME) REFERENCES TERM (TERM_NAME)\n",
    ");"
   ]
  },
  {
   "cell_type": "code",
   "execution_count": 62,
   "metadata": {},
   "outputs": [
    {
     "name": "stdout",
     "output_type": "stream",
     "text": [
      " * sqlite:///CourseData.db\n",
      "Done.\n"
     ]
    },
    {
     "data": {
      "text/plain": [
       "[]"
      ]
     },
     "execution_count": 62,
     "metadata": {},
     "output_type": "execute_result"
    }
   ],
   "source": [
    "%%sql\n",
    "create table LOCATION (\n",
    "    ROOM_ID INTEGER PRIMARY KEY,\n",
    "    Room_No VARCHAR NOT NULL,\n",
    "    CRN INTEGER NOT NULL,\n",
    "    TERM_NAME INTERGER NOT NULL,\n",
    "    FOREIGN KEY (CRN) REFERENCES COURSE_MEETING (CRN)\n",
    "    FOREIGN KEY (TERM_NAME) REFERENCES TERM (TERM_NAME)\n",
    ");"
   ]
  },
  {
   "cell_type": "markdown",
   "metadata": {},
   "source": [
    "#### Insert Data into ERD Tables"
   ]
  },
  {
   "cell_type": "code",
   "execution_count": 63,
   "metadata": {},
   "outputs": [
    {
     "name": "stdout",
     "output_type": "stream",
     "text": [
      " * sqlite:///CourseData.db\n",
      "2220 rows affected.\n"
     ]
    },
    {
     "data": {
      "text/plain": [
       "[]"
      ]
     },
     "execution_count": 63,
     "metadata": {},
     "output_type": "execute_result"
    }
   ],
   "source": [
    "%%sql\n",
    "INSERT INTO CATALOG_PROGRAM (CATALOG_ID, PROGRAM_CODE, PROGRAM_NAME, COURSE_TITLE)\n",
    "    SELECT DISTINCT CATALOG_ID, PROGRAM_CODE, PROGRAM_NAME, COURSE_TITLE\n",
    "    FROM IMPORT_CATALOG;"
   ]
  },
  {
   "cell_type": "code",
   "execution_count": 64,
   "metadata": {},
   "outputs": [
    {
     "name": "stdout",
     "output_type": "stream",
     "text": [
      " * sqlite:///CourseData.db\n",
      "2220 rows affected.\n"
     ]
    },
    {
     "data": {
      "text/plain": [
       "[]"
      ]
     },
     "execution_count": 64,
     "metadata": {},
     "output_type": "execute_result"
    }
   ],
   "source": [
    "%%sql\n",
    "INSERT INTO CATALOG_COURSE (COURSE_TITLE, PRE_REQS, CO_REQS, CATALOG_ID)\n",
    "    SELECT DISTINCT import_catalog.course_title, prereqs, coreqs, import_catalog.CATALOG_ID\n",
    "    FROM IMPORT_CATALOG\n",
    "    JOIN CATALOG_PROGRAM ON (IMPORT_CATALOG.catalog_id = CATALOG_PROGRAM.CATALOG_ID);"
   ]
  },
  {
   "cell_type": "code",
   "execution_count": 65,
   "metadata": {},
   "outputs": [
    {
     "name": "stdout",
     "output_type": "stream",
     "text": [
      " * sqlite:///CourseData.db\n",
      "19 rows affected.\n"
     ]
    },
    {
     "data": {
      "text/plain": [
       "[]"
      ]
     },
     "execution_count": 65,
     "metadata": {},
     "output_type": "execute_result"
    }
   ],
   "source": [
    "%%sql\n",
    "INSERT INTO TERM (TERM_NAME)\n",
    "    SELECT DISTINCT TERM\n",
    "    FROM IMPORT_CMEETINGS;"
   ]
  },
  {
   "cell_type": "code",
   "execution_count": 66,
   "metadata": {},
   "outputs": [
    {
     "name": "stdout",
     "output_type": "stream",
     "text": [
      " * sqlite:///CourseData.db\n",
      "14330 rows affected.\n"
     ]
    },
    {
     "data": {
      "text/plain": [
       "[]"
      ]
     },
     "execution_count": 66,
     "metadata": {},
     "output_type": "execute_result"
    }
   ],
   "source": [
    "%%sql\n",
    "INSERT INTO COURSE_OFFERING (CRN, SECTION, COURSE_TITLE, CREDITS, TERM_NAME)\n",
    "    SELECT DISTINCT CRN, SECTION, COURSE_TITLE, CREDITS, TERM_NAME\n",
    "    FROM IMPORT_COURSES\n",
    "    JOIN CATALOG_COURSE ON (CATALOG_COURSE.COURSE_TITLE = IMPORT_COURSES.title)\n",
    "    JOIN TERM on (IMPORT_COURSES.TERM = TERM.TERM_NAME);"
   ]
  },
  {
   "cell_type": "code",
   "execution_count": 67,
   "metadata": {},
   "outputs": [
    {
     "name": "stdout",
     "output_type": "stream",
     "text": [
      " * sqlite:///CourseData.db\n",
      "14330 rows affected.\n"
     ]
    },
    {
     "data": {
      "text/plain": [
       "[]"
      ]
     },
     "execution_count": 67,
     "metadata": {},
     "output_type": "execute_result"
    }
   ],
   "source": [
    "%%sql\n",
    "INSERT INTO COURSE_MEETING (CRN, TERM_NAME, SECTION, CAP, ACT, REM)\n",
    "    SELECT DISTINCT IMPORT_COURSES.CRN, TERM.TERM_NAME, IMPORT_COURSES.SECTION, CAP, ACT, REM\n",
    "    FROM IMPORT_COURSES\n",
    "    JOIN COURSE_OFFERING ON (COURSE_OFFERING.CRN = IMPORT_COURSES.CRN and course_offering.term_name = import_courses.term)\n",
    "    JOIN TERM on (IMPORT_COURSES.TERM = TERM.TERM_NAME);"
   ]
  },
  {
   "cell_type": "code",
   "execution_count": 68,
   "metadata": {},
   "outputs": [
    {
     "name": "stdout",
     "output_type": "stream",
     "text": [
      " * sqlite:///CourseData.db\n",
      "14330 rows affected.\n"
     ]
    },
    {
     "data": {
      "text/plain": [
       "[]"
      ]
     },
     "execution_count": 68,
     "metadata": {},
     "output_type": "execute_result"
    }
   ],
   "source": [
    "%%sql\n",
    "INSERT INTO INSTRUCTOR (NAME, COURSE_TITLE, CRN, TERM_NAME)\n",
    "    SELECT DISTINCT primary_instructor, COURSE_TITLE, IMPORT_COURSES.CRN, TERM.TERM_NAME\n",
    "    FROM IMPORT_COURSES\n",
    "    JOIN COURSE_OFFERING ON (COURSE_OFFERING.COURSE_TITLE = IMPORT_COURSES.title)\n",
    "    JOIN TERM on (IMPORT_COURSES.TERM = TERM.TERM_NAME);"
   ]
  },
  {
   "cell_type": "code",
   "execution_count": 69,
   "metadata": {},
   "outputs": [
    {
     "name": "stdout",
     "output_type": "stream",
     "text": [
      " * sqlite:///CourseData.db\n",
      "296781 rows affected.\n"
     ]
    },
    {
     "data": {
      "text/plain": [
       "[]"
      ]
     },
     "execution_count": 69,
     "metadata": {},
     "output_type": "execute_result"
    }
   ],
   "source": [
    "%%sql\n",
    "INSERT INTO TIME_CODE (CRN, START_TIME, END_TIME, TERM_NAME)\n",
    "    SELECT DISTINCT IMPORT_CMEETINGS.CRN, START, END, TERM.TERM_NAME\n",
    "    FROM IMPORT_CMEETINGS\n",
    "    JOIN COURSE_OFFERING ON (COURSE_OFFERING.CRN = IMPORT_CMEETINGS.crn)\n",
    "    JOIN TERM on (IMPORT_CMEETINGS.TERM = TERM.TERM_NAME);"
   ]
  },
  {
   "cell_type": "code",
   "execution_count": 70,
   "metadata": {},
   "outputs": [
    {
     "name": "stdout",
     "output_type": "stream",
     "text": [
      " * sqlite:///CourseData.db\n",
      "13032 rows affected.\n"
     ]
    },
    {
     "data": {
      "text/plain": [
       "[]"
      ]
     },
     "execution_count": 70,
     "metadata": {},
     "output_type": "execute_result"
    }
   ],
   "source": [
    "%%sql\n",
    "INSERT INTO LOCATION (ROOM_NO, CRN, TERM_NAME)\n",
    "    SELECT DISTINCT LOCATION, IMPORT_CMEETINGS.CRN, TERM.TERM_NAME\n",
    "    FROM IMPORT_CMEETINGS\n",
    "    JOIN COURSE_MEETING ON (COURSE_MEETING.CRN = IMPORT_CMEETINGS.crn)\n",
    "    JOIN TERM on (IMPORT_CMEETINGS.TERM = TERM.TERM_NAME);"
   ]
  },
  {
   "cell_type": "markdown",
   "metadata": {},
   "source": [
    "#### Data Checks"
   ]
  },
  {
   "cell_type": "markdown",
   "metadata": {},
   "source": [
    "View 1 row from every ERD Table"
   ]
  },
  {
   "cell_type": "code",
   "execution_count": 72,
   "metadata": {},
   "outputs": [
    {
     "name": "stdout",
     "output_type": "stream",
     "text": [
      " * sqlite:///CourseData.db\n",
      "Done.\n"
     ]
    },
    {
     "data": {
      "text/html": [
       "<table>\n",
       "    <tr>\n",
       "        <th>CATALOG_ID</th>\n",
       "        <th>PROGRAM_CODE</th>\n",
       "        <th>PROGRAM_NAME</th>\n",
       "        <th>COURSE_TITLE</th>\n",
       "    </tr>\n",
       "    <tr>\n",
       "        <td>AN 0301</td>\n",
       "        <td>AN</td>\n",
       "        <td>Asian Studies</td>\n",
       "        <td>Independent Study</td>\n",
       "    </tr>\n",
       "</table>"
      ],
      "text/plain": [
       "[('AN 0301', 'AN', 'Asian Studies', 'Independent Study')]"
      ]
     },
     "execution_count": 72,
     "metadata": {},
     "output_type": "execute_result"
    }
   ],
   "source": [
    "%%sql\n",
    "select * from CATALOG_PROGRAM limit 1;"
   ]
  },
  {
   "cell_type": "code",
   "execution_count": 73,
   "metadata": {},
   "outputs": [
    {
     "name": "stdout",
     "output_type": "stream",
     "text": [
      " * sqlite:///CourseData.db\n",
      "Done.\n"
     ]
    },
    {
     "data": {
      "text/html": [
       "<table>\n",
       "    <tr>\n",
       "        <th>CC_ID</th>\n",
       "        <th>COURSE_TITLE</th>\n",
       "        <th>PRE_REQS</th>\n",
       "        <th>CO_REQS</th>\n",
       "        <th>CATALOG_ID</th>\n",
       "    </tr>\n",
       "    <tr>\n",
       "        <td>1</td>\n",
       "        <td>Independent Study</td>\n",
       "        <td>None</td>\n",
       "        <td>None</td>\n",
       "        <td>AN 0301</td>\n",
       "    </tr>\n",
       "</table>"
      ],
      "text/plain": [
       "[(1, 'Independent Study', None, None, 'AN 0301')]"
      ]
     },
     "execution_count": 73,
     "metadata": {},
     "output_type": "execute_result"
    }
   ],
   "source": [
    "%%sql\n",
    "select * from CATALOG_COURSE limit 1;"
   ]
  },
  {
   "cell_type": "code",
   "execution_count": 74,
   "metadata": {},
   "outputs": [
    {
     "name": "stdout",
     "output_type": "stream",
     "text": [
      " * sqlite:///CourseData.db\n",
      "Done.\n"
     ]
    },
    {
     "data": {
      "text/html": [
       "<table>\n",
       "    <tr>\n",
       "        <th>CO_ID</th>\n",
       "        <th>CRN</th>\n",
       "        <th>SECTION</th>\n",
       "        <th>COURSE_TITLE</th>\n",
       "        <th>CREDITS</th>\n",
       "        <th>TERM_NAME</th>\n",
       "    </tr>\n",
       "    <tr>\n",
       "        <td>1</td>\n",
       "        <td>70384</td>\n",
       "        <td>C01</td>\n",
       "        <td>Introduction to Financial Accounting</td>\n",
       "        <td>3.000</td>\n",
       "        <td>Fall2014</td>\n",
       "    </tr>\n",
       "</table>"
      ],
      "text/plain": [
       "[(1, 70384, 'C01', 'Introduction to Financial Accounting', '3.000', 'Fall2014')]"
      ]
     },
     "execution_count": 74,
     "metadata": {},
     "output_type": "execute_result"
    }
   ],
   "source": [
    "%%sql\n",
    "select * from COURSE_OFFERING limit 1;"
   ]
  },
  {
   "cell_type": "code",
   "execution_count": 75,
   "metadata": {},
   "outputs": [
    {
     "name": "stdout",
     "output_type": "stream",
     "text": [
      " * sqlite:///CourseData.db\n",
      "Done.\n"
     ]
    },
    {
     "data": {
      "text/html": [
       "<table>\n",
       "    <tr>\n",
       "        <th>TERM_ID</th>\n",
       "        <th>TERM_NAME</th>\n",
       "    </tr>\n",
       "    <tr>\n",
       "        <td>1</td>\n",
       "        <td>Fall2014</td>\n",
       "    </tr>\n",
       "</table>"
      ],
      "text/plain": [
       "[(1, 'Fall2014')]"
      ]
     },
     "execution_count": 75,
     "metadata": {},
     "output_type": "execute_result"
    }
   ],
   "source": [
    "%%sql\n",
    "select * from TERM limit 1;"
   ]
  },
  {
   "cell_type": "code",
   "execution_count": 76,
   "metadata": {},
   "outputs": [
    {
     "name": "stdout",
     "output_type": "stream",
     "text": [
      " * sqlite:///CourseData.db\n",
      "Done.\n"
     ]
    },
    {
     "data": {
      "text/html": [
       "<table>\n",
       "    <tr>\n",
       "        <th>CM_ID</th>\n",
       "        <th>CRN</th>\n",
       "        <th>CAP</th>\n",
       "        <th>ACT</th>\n",
       "        <th>REM</th>\n",
       "        <th>SECTION</th>\n",
       "        <th>TERM_NAME</th>\n",
       "    </tr>\n",
       "    <tr>\n",
       "        <td>1</td>\n",
       "        <td>70384</td>\n",
       "        <td>0</td>\n",
       "        <td>31</td>\n",
       "        <td>-31</td>\n",
       "        <td>C01</td>\n",
       "        <td>Fall2014</td>\n",
       "    </tr>\n",
       "</table>"
      ],
      "text/plain": [
       "[(1, 70384, 0, 31, -31, 'C01', 'Fall2014')]"
      ]
     },
     "execution_count": 76,
     "metadata": {},
     "output_type": "execute_result"
    }
   ],
   "source": [
    "%%sql\n",
    "select * from COURSE_MEETING limit 1;"
   ]
  },
  {
   "cell_type": "code",
   "execution_count": 77,
   "metadata": {},
   "outputs": [
    {
     "name": "stdout",
     "output_type": "stream",
     "text": [
      " * sqlite:///CourseData.db\n",
      "Done.\n"
     ]
    },
    {
     "data": {
      "text/html": [
       "<table>\n",
       "    <tr>\n",
       "        <th>I_ID</th>\n",
       "        <th>NAME</th>\n",
       "        <th>COURSE_TITLE</th>\n",
       "        <th>CRN</th>\n",
       "        <th>TERM_NAME</th>\n",
       "    </tr>\n",
       "    <tr>\n",
       "        <td>1</td>\n",
       "        <td>Michael P.  Coyne</td>\n",
       "        <td>Introduction to Financial Accounting</td>\n",
       "        <td>70384</td>\n",
       "        <td>Fall2014</td>\n",
       "    </tr>\n",
       "</table>"
      ],
      "text/plain": [
       "[(1, 'Michael P.  Coyne', 'Introduction to Financial Accounting', 70384, 'Fall2014')]"
      ]
     },
     "execution_count": 77,
     "metadata": {},
     "output_type": "execute_result"
    }
   ],
   "source": [
    "%%sql\n",
    "select * from INSTRUCTOR limit 1;"
   ]
  },
  {
   "cell_type": "code",
   "execution_count": 78,
   "metadata": {},
   "outputs": [
    {
     "name": "stdout",
     "output_type": "stream",
     "text": [
      " * sqlite:///CourseData.db\n",
      "Done.\n"
     ]
    },
    {
     "data": {
      "text/html": [
       "<table>\n",
       "    <tr>\n",
       "        <th>TIME_ID</th>\n",
       "        <th>START_TIME</th>\n",
       "        <th>END_TIME</th>\n",
       "        <th>CRN</th>\n",
       "        <th>TERM_NAME</th>\n",
       "    </tr>\n",
       "    <tr>\n",
       "        <td>1</td>\n",
       "        <td>2014-09-02T08:00:00</td>\n",
       "        <td>2014-09-02T09:15:00</td>\n",
       "        <td>70384</td>\n",
       "        <td>Fall2014</td>\n",
       "    </tr>\n",
       "</table>"
      ],
      "text/plain": [
       "[(1, '2014-09-02T08:00:00', '2014-09-02T09:15:00', 70384, 'Fall2014')]"
      ]
     },
     "execution_count": 78,
     "metadata": {},
     "output_type": "execute_result"
    }
   ],
   "source": [
    "%%sql\n",
    "select * from TIME_CODE limit 1;"
   ]
  },
  {
   "cell_type": "code",
   "execution_count": 79,
   "metadata": {},
   "outputs": [
    {
     "name": "stdout",
     "output_type": "stream",
     "text": [
      " * sqlite:///CourseData.db\n",
      "Done.\n"
     ]
    },
    {
     "data": {
      "text/html": [
       "<table>\n",
       "    <tr>\n",
       "        <th>ROOM_ID</th>\n",
       "        <th>Room_No</th>\n",
       "        <th>CRN</th>\n",
       "        <th>TERM_NAME</th>\n",
       "    </tr>\n",
       "    <tr>\n",
       "        <td>1</td>\n",
       "        <td>DSB 105</td>\n",
       "        <td>70384</td>\n",
       "        <td>Fall2014</td>\n",
       "    </tr>\n",
       "</table>"
      ],
      "text/plain": [
       "[(1, 'DSB 105', 70384, 'Fall2014')]"
      ]
     },
     "execution_count": 79,
     "metadata": {},
     "output_type": "execute_result"
    }
   ],
   "source": [
    "%%sql\n",
    "select * from LOCATION limit 1;"
   ]
  },
  {
   "cell_type": "markdown",
   "metadata": {},
   "source": [
    "#### Queries on Database"
   ]
  },
  {
   "cell_type": "markdown",
   "metadata": {},
   "source": [
    "How many 5 credit classes are offered across the whole timeframe?"
   ]
  },
  {
   "cell_type": "code",
   "execution_count": 80,
   "metadata": {},
   "outputs": [
    {
     "name": "stdout",
     "output_type": "stream",
     "text": [
      " * sqlite:///CourseData.db\n",
      "Done.\n"
     ]
    },
    {
     "data": {
      "text/html": [
       "<table>\n",
       "    <tr>\n",
       "        <th>count(CO_ID)</th>\n",
       "    </tr>\n",
       "    <tr>\n",
       "        <td>38</td>\n",
       "    </tr>\n",
       "</table>"
      ],
      "text/plain": [
       "[(38,)]"
      ]
     },
     "execution_count": 80,
     "metadata": {},
     "output_type": "execute_result"
    }
   ],
   "source": [
    "%%sql\n",
    "select count(CO_ID)\n",
    "from course_offering\n",
    "where credits = '5.000';"
   ]
  },
  {
   "cell_type": "markdown",
   "metadata": {},
   "source": [
    "Which terms has Python for Business Analytics been offered? "
   ]
  },
  {
   "cell_type": "code",
   "execution_count": 81,
   "metadata": {},
   "outputs": [
    {
     "name": "stdout",
     "output_type": "stream",
     "text": [
      " * sqlite:///CourseData.db\n",
      "Done.\n"
     ]
    },
    {
     "data": {
      "text/html": [
       "<table>\n",
       "    <tr>\n",
       "        <th>CATALOG_ID</th>\n",
       "        <th>CRN</th>\n",
       "        <th>COURSE_TITLE</th>\n",
       "        <th>CREDITS</th>\n",
       "        <th>TERM_NAME</th>\n",
       "    </tr>\n",
       "    <tr>\n",
       "        <td>IS 0505</td>\n",
       "        <td>72913</td>\n",
       "        <td>Python for Business Analytics</td>\n",
       "        <td>3.000</td>\n",
       "        <td>Fall2017</td>\n",
       "    </tr>\n",
       "    <tr>\n",
       "        <td>IS 0505</td>\n",
       "        <td>75942</td>\n",
       "        <td>Python for Business Analytics</td>\n",
       "        <td>3.000</td>\n",
       "        <td>Fall2018</td>\n",
       "    </tr>\n",
       "</table>"
      ],
      "text/plain": [
       "[('IS 0505', 72913, 'Python for Business Analytics', '3.000', 'Fall2017'),\n",
       " ('IS 0505', 75942, 'Python for Business Analytics', '3.000', 'Fall2018')]"
      ]
     },
     "execution_count": 81,
     "metadata": {},
     "output_type": "execute_result"
    }
   ],
   "source": [
    "%%sql\n",
    "select a.CATALOG_ID, b.CRN, b.COURSE_TITLE, b.CREDITS, c.TERM_NAME\n",
    "from CATALOG_COURSE a, COURSE_OFFERING b, TERM c\n",
    "where a.COURSE_TITLE=b.COURSE_TITLE\n",
    "and b.term_name=c.term_name\n",
    "and a.COURSE_TITLE = 'Python for Business Analytics';"
   ]
  },
  {
   "cell_type": "markdown",
   "metadata": {},
   "source": [
    "Which instructors have taught/teach General Chemistry?"
   ]
  },
  {
   "cell_type": "code",
   "execution_count": 82,
   "metadata": {},
   "outputs": [
    {
     "name": "stdout",
     "output_type": "stream",
     "text": [
      " * sqlite:///CourseData.db\n",
      "Done.\n"
     ]
    },
    {
     "data": {
      "text/html": [
       "<table>\n",
       "    <tr>\n",
       "        <th>NAME</th>\n",
       "        <th>COURSE_TITLE</th>\n",
       "    </tr>\n",
       "    <tr>\n",
       "        <td>Donald J.  Wolanin</td>\n",
       "        <td>General Chemistry I</td>\n",
       "    </tr>\n",
       "    <tr>\n",
       "        <td>Gary H.  Weddle</td>\n",
       "        <td>General Chemistry I</td>\n",
       "    </tr>\n",
       "    <tr>\n",
       "        <td>Jillian E.  Smith-Carpenter</td>\n",
       "        <td>General Chemistry I</td>\n",
       "    </tr>\n",
       "    <tr>\n",
       "        <td>John R.  Miecznikowski</td>\n",
       "        <td>General Chemistry I</td>\n",
       "    </tr>\n",
       "    <tr>\n",
       "        <td>Matthew A.  Kubasik</td>\n",
       "        <td>General Chemistry I</td>\n",
       "    </tr>\n",
       "    <tr>\n",
       "        <td>Robert G.  Fischer</td>\n",
       "        <td>General Chemistry I</td>\n",
       "    </tr>\n",
       "    <tr>\n",
       "        <td>Sangamithra   Chintapalli</td>\n",
       "        <td>General Chemistry I</td>\n",
       "    </tr>\n",
       "</table>"
      ],
      "text/plain": [
       "[('Donald J.  Wolanin', 'General Chemistry I'),\n",
       " ('Gary H.  Weddle', 'General Chemistry I'),\n",
       " ('Jillian E.  Smith-Carpenter', 'General Chemistry I'),\n",
       " ('John R.  Miecznikowski', 'General Chemistry I'),\n",
       " ('Matthew A.  Kubasik', 'General Chemistry I'),\n",
       " ('Robert G.  Fischer', 'General Chemistry I'),\n",
       " ('Sangamithra   Chintapalli', 'General Chemistry I')]"
      ]
     },
     "execution_count": 82,
     "metadata": {},
     "output_type": "execute_result"
    }
   ],
   "source": [
    "%%sql\n",
    "select distinct b.name, a.course_title\n",
    "from COURSE_OFFERING a, INSTRUCTOR b\n",
    "where a.COURSE_TITLE=b.COURSE_TITLE\n",
    "and a.COURSE_TITLE = 'General Chemistry I';"
   ]
  },
  {
   "cell_type": "markdown",
   "metadata": {},
   "source": [
    "Which rooms has Money and Banking been taught in?"
   ]
  },
  {
   "cell_type": "code",
   "execution_count": 83,
   "metadata": {},
   "outputs": [
    {
     "name": "stdout",
     "output_type": "stream",
     "text": [
      " * sqlite:///CourseData.db\n",
      "Done.\n"
     ]
    },
    {
     "data": {
      "text/html": [
       "<table>\n",
       "    <tr>\n",
       "        <th>Room_No</th>\n",
       "        <th>COURSE_TITLE</th>\n",
       "    </tr>\n",
       "    <tr>\n",
       "        <td>CNS 1</td>\n",
       "        <td>Money and Banking</td>\n",
       "    </tr>\n",
       "    <tr>\n",
       "        <td>CNS 15</td>\n",
       "        <td>Money and Banking</td>\n",
       "    </tr>\n",
       "    <tr>\n",
       "        <td>CNS 305</td>\n",
       "        <td>Money and Banking</td>\n",
       "    </tr>\n",
       "    <tr>\n",
       "        <td>DMH 149</td>\n",
       "        <td>Money and Banking</td>\n",
       "    </tr>\n",
       "    <tr>\n",
       "        <td>BNW 341</td>\n",
       "        <td>Money and Banking</td>\n",
       "    </tr>\n",
       "    <tr>\n",
       "        <td>LYL 227B</td>\n",
       "        <td>Money and Banking</td>\n",
       "    </tr>\n",
       "    <tr>\n",
       "        <td>NHS 403</td>\n",
       "        <td>Money and Banking</td>\n",
       "    </tr>\n",
       "    <tr>\n",
       "        <td>LNG 109</td>\n",
       "        <td>Money and Banking</td>\n",
       "    </tr>\n",
       "    <tr>\n",
       "        <td>DMH 350</td>\n",
       "        <td>Money and Banking</td>\n",
       "    </tr>\n",
       "    <tr>\n",
       "        <td>DMH 347</td>\n",
       "        <td>Money and Banking</td>\n",
       "    </tr>\n",
       "</table>"
      ],
      "text/plain": [
       "[('CNS 1', 'Money and Banking'),\n",
       " ('CNS 15', 'Money and Banking'),\n",
       " ('CNS 305', 'Money and Banking'),\n",
       " ('DMH 149', 'Money and Banking'),\n",
       " ('BNW 341', 'Money and Banking'),\n",
       " ('LYL 227B', 'Money and Banking'),\n",
       " ('NHS 403', 'Money and Banking'),\n",
       " ('LNG 109', 'Money and Banking'),\n",
       " ('DMH 350', 'Money and Banking'),\n",
       " ('DMH 347', 'Money and Banking')]"
      ]
     },
     "execution_count": 83,
     "metadata": {},
     "output_type": "execute_result"
    }
   ],
   "source": [
    "%%sql\n",
    "select distinct c.ROOM_NO, a.COURSE_TITLE \n",
    "from COURSE_OFFERING a, COURSE_MEETING b, LOCATION c\n",
    "where a.CRN=b.CRN\n",
    "and b.CRN=c.CRN\n",
    "and a.COURSE_TITLE = 'Money and Banking';"
   ]
  },
  {
   "cell_type": "markdown",
   "metadata": {},
   "source": [
    "Which classes in Fall 2018 were over overcapacity? <br/> and limit 1 for preview"
   ]
  },
  {
   "cell_type": "code",
   "execution_count": 84,
   "metadata": {},
   "outputs": [
    {
     "name": "stdout",
     "output_type": "stream",
     "text": [
      " * sqlite:///CourseData.db\n",
      "Done.\n"
     ]
    },
    {
     "data": {
      "text/html": [
       "<table>\n",
       "    <tr>\n",
       "        <th>COURSE_TITLE</th>\n",
       "        <th>CAP</th>\n",
       "        <th>ACT</th>\n",
       "    </tr>\n",
       "    <tr>\n",
       "        <td>Introduction to Financial Accounting</td>\n",
       "        <td>31</td>\n",
       "        <td>33</td>\n",
       "    </tr>\n",
       "</table>"
      ],
      "text/plain": [
       "[('Introduction to Financial Accounting', 31, 33)]"
      ]
     },
     "execution_count": 84,
     "metadata": {},
     "output_type": "execute_result"
    }
   ],
   "source": [
    "%%sql\n",
    "select a.course_title, b.CAP, b.ACT\n",
    "from COURSE_OFFERING a, COURSE_MEETING b, TERM c\n",
    "where a.CRN=b.CRN\n",
    "and b.TERM_NAME=c.TERM_NAME\n",
    "and b.act > b.cap\n",
    "and cap <> 0\n",
    "and c.term_name = 'Fall2018'\n",
    "limit 1;"
   ]
  },
  {
   "cell_type": "markdown",
   "metadata": {},
   "source": [
    "#### Drop Import Tables to Save Space and also vacuum"
   ]
  },
  {
   "cell_type": "code",
   "execution_count": 85,
   "metadata": {},
   "outputs": [
    {
     "name": "stdout",
     "output_type": "stream",
     "text": [
      " * sqlite:///CourseData.db\n",
      "Done.\n",
      "Done.\n",
      "Done.\n",
      "Done.\n"
     ]
    },
    {
     "data": {
      "text/plain": [
       "[]"
      ]
     },
     "execution_count": 85,
     "metadata": {},
     "output_type": "execute_result"
    }
   ],
   "source": [
    "%%sql\n",
    "DROP TABLE IF EXISTS import_courses;\n",
    "DROP TABLE IF EXISTS import_cmeetings;\n",
    "DROP TABLE IF EXISTS import_catalog;\n",
    "vacuum;"
   ]
  },
  {
   "cell_type": "code",
   "execution_count": null,
   "metadata": {},
   "outputs": [],
   "source": []
  }
 ],
 "metadata": {
  "kernelspec": {
   "display_name": "Python 3",
   "language": "python",
   "name": "python3"
  },
  "language_info": {
   "codemirror_mode": {
    "name": "ipython",
    "version": 3
   },
   "file_extension": ".py",
   "mimetype": "text/x-python",
   "name": "python",
   "nbconvert_exporter": "python",
   "pygments_lexer": "ipython3",
   "version": "3.6.5"
  }
 },
 "nbformat": 4,
 "nbformat_minor": 2
}
