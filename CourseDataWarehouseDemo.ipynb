{
 "cells": [
  {
   "cell_type": "markdown",
   "metadata": {},
   "source": [
    "#### Queries on Database"
   ]
  },
  {
   "cell_type": "code",
   "execution_count": 1,
   "metadata": {},
   "outputs": [],
   "source": [
    "import sqlite3"
   ]
  },
  {
   "cell_type": "code",
   "execution_count": 2,
   "metadata": {},
   "outputs": [],
   "source": [
    "%load_ext sql"
   ]
  },
  {
   "cell_type": "code",
   "execution_count": 3,
   "metadata": {},
   "outputs": [
    {
     "data": {
      "text/plain": [
       "'Connected: @CourseDataWareHouse.db'"
      ]
     },
     "execution_count": 3,
     "metadata": {},
     "output_type": "execute_result"
    }
   ],
   "source": [
    "%%sql\n",
    "sqlite:///CourseDataWareHouse.db"
   ]
  },
  {
   "cell_type": "markdown",
   "metadata": {},
   "source": [
    "#### 1. What are the pre-requisites, co-requisites for course 'Project Management'"
   ]
  },
  {
   "cell_type": "code",
   "execution_count": 4,
   "metadata": {},
   "outputs": [
    {
     "name": "stdout",
     "output_type": "stream",
     "text": [
      " * sqlite:///CourseDataWareHouse.db\n",
      "Done.\n"
     ]
    },
    {
     "data": {
      "text/html": [
       "<table>\n",
       "    <tr>\n",
       "        <th>CC_ID</th>\n",
       "        <th>PRE_REQS</th>\n",
       "        <th>CO_REQS</th>\n",
       "    </tr>\n",
       "    <tr>\n",
       "        <td>528</td>\n",
       "        <td>EC 0278 or MA 0017 or MA 0217.</td>\n",
       "        <td>None</td>\n",
       "    </tr>\n",
       "    <tr>\n",
       "        <td>729</td>\n",
       "        <td>None</td>\n",
       "        <td>None</td>\n",
       "    </tr>\n",
       "    <tr>\n",
       "        <td>1153</td>\n",
       "        <td>IS 0500 or OM 0400.</td>\n",
       "        <td>None</td>\n",
       "    </tr>\n",
       "</table>"
      ],
      "text/plain": [
       "[(528, 'EC 0278 or MA 0017 or MA 0217.', None),\n",
       " (729, None, None),\n",
       " (1153, 'IS 0500 or OM 0400.', None)]"
      ]
     },
     "execution_count": 4,
     "metadata": {},
     "output_type": "execute_result"
    }
   ],
   "source": [
    "%%sql\n",
    "select CC_ID, PRE_REQS, CO_REQS\n",
    "from COURSES\n",
    "where COURSE_TITLE = 'Project Management';"
   ]
  },
  {
   "cell_type": "markdown",
   "metadata": {},
   "source": [
    "EC 0278 or MA 0017 or MA 0217 and IS 0500 or OM 400 are needed as pre reqs for Project Management <br/> Insight: Make sure to take your pre reqs"
   ]
  },
  {
   "cell_type": "markdown",
   "metadata": {},
   "source": [
    "#### 2. Where were the course meetings for Fundamentals of Business Analytics held in Fall 2018?"
   ]
  },
  {
   "cell_type": "code",
   "execution_count": 5,
   "metadata": {},
   "outputs": [
    {
     "name": "stdout",
     "output_type": "stream",
     "text": [
      " * sqlite:///CourseDataWareHouse.db\n",
      "Done.\n"
     ]
    },
    {
     "data": {
      "text/html": [
       "<table>\n",
       "    <tr>\n",
       "        <th>ROOM_NO</th>\n",
       "        <th>CC_ID</th>\n",
       "        <th>COURSE_TITLE</th>\n",
       "    </tr>\n",
       "    <tr>\n",
       "        <td>DSB 107</td>\n",
       "        <td>921</td>\n",
       "        <td>Fundamentals of Business Analytics</td>\n",
       "    </tr>\n",
       "</table>"
      ],
      "text/plain": [
       "[('DSB 107', 921, 'Fundamentals of Business Analytics')]"
      ]
     },
     "execution_count": 5,
     "metadata": {},
     "output_type": "execute_result"
    }
   ],
   "source": [
    "%%sql\n",
    "select distinct MEETINGS.ROOM_NO, COURSE_FACTS.CC_ID, COURSES.COURSE_TITLE \n",
    "from COURSE_FACTS, MEETINGS, COURSES\n",
    "where COURSE_FACTS.CC_ID=COURSES.CC_ID\n",
    "and COURSE_FACTS.ROOM_ID=MEETINGS.ROOM_ID\n",
    "and COURSES.COURSE_TITLE = 'Fundamentals of Business Analytics'\n",
    "and COURSE_FACTS.TERM_NAME = 'Fall2018';"
   ]
  },
  {
   "cell_type": "markdown",
   "metadata": {},
   "source": [
    "Fundamentals of Business Analytics was held in DSB 107 in the Fall of 2018 <br/> Insight: A lot of classes seem to change rooms/be held in multiple rooms, perhaps a future database can capture mid semester room changes"
   ]
  },
  {
   "cell_type": "markdown",
   "metadata": {},
   "source": [
    "#### 3. What courses (and number of courses) did Professor Huntley teach in Spring 2019?"
   ]
  },
  {
   "cell_type": "code",
   "execution_count": 6,
   "metadata": {},
   "outputs": [
    {
     "name": "stdout",
     "output_type": "stream",
     "text": [
      " * sqlite:///CourseDataWareHouse.db\n",
      "Done.\n"
     ]
    },
    {
     "data": {
      "text/html": [
       "<table>\n",
       "    <tr>\n",
       "        <th>I_ID</th>\n",
       "        <th>COURSE_TITLE</th>\n",
       "        <th>NAME</th>\n",
       "    </tr>\n",
       "    <tr>\n",
       "        <td>12869</td>\n",
       "        <td>Operations Management</td>\n",
       "        <td>Christopher L.  Huntley</td>\n",
       "    </tr>\n",
       "    <tr>\n",
       "        <td>12870</td>\n",
       "        <td>Operations Management</td>\n",
       "        <td>Christopher L.  Huntley</td>\n",
       "    </tr>\n",
       "    <tr>\n",
       "        <td>12005</td>\n",
       "        <td>Databases for Business Analytics</td>\n",
       "        <td>Christopher L.  Huntley</td>\n",
       "    </tr>\n",
       "</table>"
      ],
      "text/plain": [
       "[(12869, 'Operations Management', 'Christopher L.  Huntley'),\n",
       " (12870, 'Operations Management', 'Christopher L.  Huntley'),\n",
       " (12005, 'Databases for Business Analytics', 'Christopher L.  Huntley')]"
      ]
     },
     "execution_count": 6,
     "metadata": {},
     "output_type": "execute_result"
    }
   ],
   "source": [
    "%%sql\n",
    "select distinct COURSE_FACTS.I_ID, COURSES.COURSE_TITLE, PROFESSOR.NAME\n",
    "from COURSE_FACTS, COURSES, PROFESSOR\n",
    "where COURSE_FACTS.CC_ID = COURSES.CC_ID\n",
    "and COURSE_FACTS.I_ID = PROFESSOR.I_ID\n",
    "and PROFESSOR.NAME like '%Huntley%'\n",
    "and COURSE_FACTS.TERM_NAME = 'Spring2019';"
   ]
  },
  {
   "cell_type": "markdown",
   "metadata": {},
   "source": [
    "Professor Huntley taught two Operations Management courses and our Database for Business Analytics class <br/> Insight: Professor Huntley is a busy man!"
   ]
  },
  {
   "cell_type": "markdown",
   "metadata": {},
   "source": [
    "#### 4. Which classes were held in DSB 105 in Spring 2019?"
   ]
  },
  {
   "cell_type": "code",
   "execution_count": 7,
   "metadata": {},
   "outputs": [
    {
     "name": "stdout",
     "output_type": "stream",
     "text": [
      " * sqlite:///CourseDataWareHouse.db\n",
      "Done.\n"
     ]
    },
    {
     "data": {
      "text/html": [
       "<table>\n",
       "    <tr>\n",
       "        <th>COURSE_TITLE</th>\n",
       "        <th>ROOM_NO</th>\n",
       "    </tr>\n",
       "    <tr>\n",
       "        <td>Entrepreneurship</td>\n",
       "        <td>DSB 105</td>\n",
       "    </tr>\n",
       "    <tr>\n",
       "        <td>Forensic Accounting</td>\n",
       "        <td>DSB 105</td>\n",
       "    </tr>\n",
       "    <tr>\n",
       "        <td>Legal Environment of Business</td>\n",
       "        <td>DSB 105</td>\n",
       "    </tr>\n",
       "    <tr>\n",
       "        <td>Global Competitive Strategy</td>\n",
       "        <td>DSB 105</td>\n",
       "    </tr>\n",
       "    <tr>\n",
       "        <td>Global Capital Markets</td>\n",
       "        <td>DSB 105</td>\n",
       "    </tr>\n",
       "    <tr>\n",
       "        <td>Sports Management</td>\n",
       "        <td>DSB 105</td>\n",
       "    </tr>\n",
       "    <tr>\n",
       "        <td>Intermediate Accounting II</td>\n",
       "        <td>DSB 105</td>\n",
       "    </tr>\n",
       "    <tr>\n",
       "        <td>Introduction to Management Accounting</td>\n",
       "        <td>DSB 105</td>\n",
       "    </tr>\n",
       "    <tr>\n",
       "        <td>Principles of Marketing</td>\n",
       "        <td>DSB 105</td>\n",
       "    </tr>\n",
       "    <tr>\n",
       "        <td>Introduction to Management</td>\n",
       "        <td>DSB 105</td>\n",
       "    </tr>\n",
       "    <tr>\n",
       "        <td>Business Strategies in the Global Environment</td>\n",
       "        <td>DSB 105</td>\n",
       "    </tr>\n",
       "    <tr>\n",
       "        <td>Databases for Business Analytics</td>\n",
       "        <td>DSB 105</td>\n",
       "    </tr>\n",
       "</table>"
      ],
      "text/plain": [
       "[('Entrepreneurship', 'DSB 105'),\n",
       " ('Forensic Accounting', 'DSB 105'),\n",
       " ('Legal Environment of Business', 'DSB 105'),\n",
       " ('Global Competitive Strategy', 'DSB 105'),\n",
       " ('Global Capital Markets', 'DSB 105'),\n",
       " ('Sports Management', 'DSB 105'),\n",
       " ('Intermediate Accounting II', 'DSB 105'),\n",
       " ('Introduction to Management Accounting', 'DSB 105'),\n",
       " ('Principles of Marketing', 'DSB 105'),\n",
       " ('Introduction to Management', 'DSB 105'),\n",
       " ('Business Strategies in the Global Environment', 'DSB 105'),\n",
       " ('Databases for Business Analytics', 'DSB 105')]"
      ]
     },
     "execution_count": 7,
     "metadata": {},
     "output_type": "execute_result"
    }
   ],
   "source": [
    "%%sql\n",
    "select distinct COURSES.COURSE_TITLE, MEETINGS.ROOM_NO\n",
    "from COURSE_FACTS, COURSES, MEETINGS\n",
    "where COURSE_FACTS.CC_ID = COURSES.CC_ID\n",
    "and COURSE_FACTS.ROOM_ID = MEETINGS.ROOM_ID\n",
    "and MEETINGS.ROOM_NO = 'DSB 105'\n",
    "and COURSE_FACTS.TERM_NAME = 'Spring2019';"
   ]
  },
  {
   "cell_type": "markdown",
   "metadata": {},
   "source": [
    "All the courses listed above were taught in DSB 105 this Spring 2019 semester <br/> Insight: 3 accounting classes listed, perhaps accounting professors really like this room and request it"
   ]
  },
  {
   "cell_type": "markdown",
   "metadata": {},
   "source": [
    "#### 5. Which professors taught the classes for Marketing Research in Spring 2019? "
   ]
  },
  {
   "cell_type": "code",
   "execution_count": 8,
   "metadata": {},
   "outputs": [
    {
     "name": "stdout",
     "output_type": "stream",
     "text": [
      " * sqlite:///CourseDataWareHouse.db\n",
      "Done.\n"
     ]
    },
    {
     "data": {
      "text/html": [
       "<table>\n",
       "    <tr>\n",
       "        <th>NAME</th>\n",
       "        <th>COURSE_TITLE</th>\n",
       "    </tr>\n",
       "    <tr>\n",
       "        <td>Camelia   Micu</td>\n",
       "        <td>Marketing Research</td>\n",
       "    </tr>\n",
       "    <tr>\n",
       "        <td>Andrew M.  Blum</td>\n",
       "        <td>Marketing Research</td>\n",
       "    </tr>\n",
       "</table>"
      ],
      "text/plain": [
       "[('Camelia   Micu', 'Marketing Research'),\n",
       " ('Andrew M.  Blum', 'Marketing Research')]"
      ]
     },
     "execution_count": 8,
     "metadata": {},
     "output_type": "execute_result"
    }
   ],
   "source": [
    "%%sql\n",
    "select distinct PROFESSOR.NAME, COURSES.COURSE_TITLE \n",
    "from COURSE_FACTS, COURSES, PROFESSOR\n",
    "where COURSE_FACTS.CC_ID = COURSES.CC_ID\n",
    "and COURSE_FACTS.I_ID = PROFESSOR.I_ID\n",
    "and COURSES.COURSE_Title = 'Marketing Research'\n",
    "and COURSE_FACTS.TERM_NAME = 'Spring2019';"
   ]
  },
  {
   "cell_type": "markdown",
   "metadata": {},
   "source": [
    "Camelia Micu and Andrew Blum taught Marketing Research in the Spring of 2019 <br/> Insight: Perhaps they specialize in this subject"
   ]
  },
  {
   "cell_type": "markdown",
   "metadata": {},
   "source": [
    "#### 6. What was the first day of class for the Entrepreneurship course in Spring 2019?"
   ]
  },
  {
   "cell_type": "code",
   "execution_count": 10,
   "metadata": {},
   "outputs": [
    {
     "name": "stdout",
     "output_type": "stream",
     "text": [
      " * sqlite:///CourseDataWareHouse.db\n",
      "Done.\n"
     ]
    },
    {
     "data": {
      "text/html": [
       "<table>\n",
       "    <tr>\n",
       "        <th>min(TIME.START_TIME)</th>\n",
       "        <th>COURSE_TITLE</th>\n",
       "    </tr>\n",
       "    <tr>\n",
       "        <td>2019-01-25T08:00:00</td>\n",
       "        <td>Entrepreneurship</td>\n",
       "    </tr>\n",
       "</table>"
      ],
      "text/plain": [
       "[('2019-01-25T08:00:00', 'Entrepreneurship')]"
      ]
     },
     "execution_count": 10,
     "metadata": {},
     "output_type": "execute_result"
    }
   ],
   "source": [
    "%%sql\n",
    "select min(TIME.START_TIME), course_title\n",
    "from COURSE_FACTS, COURSES, TIME\n",
    "where COURSE_FACTS.TIME_ID = TIME.TIME_ID\n",
    "and COURSE_FACTS.CC_ID = COURSES.CC_ID\n",
    "and COURSE_FACTS.TERM_NAME = 'Spring2019'\n",
    "and COURSE_TITLE = 'Entrepreneurship'\n",
    "group by course_title;"
   ]
  },
  {
   "cell_type": "markdown",
   "metadata": {},
   "source": [
    "January 25th was their first day of class <br/> Insight: Friday class at 8 AM, students make sure you're on time!"
   ]
  },
  {
   "cell_type": "markdown",
   "metadata": {},
   "source": [
    "#### 7. Which courses were over capacity in Spring2019? "
   ]
  },
  {
   "cell_type": "code",
   "execution_count": 99,
   "metadata": {},
   "outputs": [
    {
     "name": "stdout",
     "output_type": "stream",
     "text": [
      " * sqlite:///CourseDataWareHouse.db\n",
      "Done.\n"
     ]
    },
    {
     "data": {
      "text/html": [
       "<table>\n",
       "    <tr>\n",
       "        <th>COURSE_TITLE</th>\n",
       "        <th>OVER_CAP</th>\n",
       "    </tr>\n",
       "    <tr>\n",
       "        <td>Abnormal Psychology for Majors</td>\n",
       "        <td>1</td>\n",
       "    </tr>\n",
       "    <tr>\n",
       "        <td>Accounting Information Systems and Technology</td>\n",
       "        <td>4</td>\n",
       "    </tr>\n",
       "    <tr>\n",
       "        <td>All About Eve</td>\n",
       "        <td>3</td>\n",
       "    </tr>\n",
       "    <tr>\n",
       "        <td>Assessment Techniques in Marriage and Family Therapy</td>\n",
       "        <td>3</td>\n",
       "    </tr>\n",
       "    <tr>\n",
       "        <td>Auditing</td>\n",
       "        <td>4</td>\n",
       "    </tr>\n",
       "    <tr>\n",
       "        <td>Career Development: Theory and Practice</td>\n",
       "        <td>3</td>\n",
       "    </tr>\n",
       "    <tr>\n",
       "        <td>Celtic and Early Irish Art</td>\n",
       "        <td>2</td>\n",
       "    </tr>\n",
       "    <tr>\n",
       "        <td>Conflict Communication</td>\n",
       "        <td>1</td>\n",
       "    </tr>\n",
       "    <tr>\n",
       "        <td>Counseling Practicum</td>\n",
       "        <td>1</td>\n",
       "    </tr>\n",
       "    <tr>\n",
       "        <td>Cultural Anthropology</td>\n",
       "        <td>1</td>\n",
       "    </tr>\n",
       "    <tr>\n",
       "        <td>Customer Behavior</td>\n",
       "        <td>1</td>\n",
       "    </tr>\n",
       "    <tr>\n",
       "        <td>Databases for Business Analytics</td>\n",
       "        <td>2</td>\n",
       "    </tr>\n",
       "    <tr>\n",
       "        <td>Design of Mechatronics Systems</td>\n",
       "        <td>1</td>\n",
       "    </tr>\n",
       "    <tr>\n",
       "        <td>Early America to 1800</td>\n",
       "        <td>3</td>\n",
       "    </tr>\n",
       "    <tr>\n",
       "        <td>Ethics and Communication</td>\n",
       "        <td>2</td>\n",
       "    </tr>\n",
       "    <tr>\n",
       "        <td>Explorations in Education: Introduction to Teaching, Learning, and Schooling</td>\n",
       "        <td>5</td>\n",
       "    </tr>\n",
       "    <tr>\n",
       "        <td>Federal Income Taxation I</td>\n",
       "        <td>2</td>\n",
       "    </tr>\n",
       "    <tr>\n",
       "        <td>Finite Element Analysis</td>\n",
       "        <td>1</td>\n",
       "    </tr>\n",
       "    <tr>\n",
       "        <td>Fluid Mechanics</td>\n",
       "        <td>1</td>\n",
       "    </tr>\n",
       "    <tr>\n",
       "        <td>Gender, Sexuality, and Media</td>\n",
       "        <td>1</td>\n",
       "    </tr>\n",
       "    <tr>\n",
       "        <td>General Chemistry for Health Science</td>\n",
       "        <td>1</td>\n",
       "    </tr>\n",
       "    <tr>\n",
       "        <td>General Chemistry for Health Science Lab</td>\n",
       "        <td>1</td>\n",
       "    </tr>\n",
       "    <tr>\n",
       "        <td>God and Modern Biology</td>\n",
       "        <td>1</td>\n",
       "    </tr>\n",
       "    <tr>\n",
       "        <td>Graphic Novels as Thriller and Chillers</td>\n",
       "        <td>1</td>\n",
       "    </tr>\n",
       "    <tr>\n",
       "        <td>Health Communication</td>\n",
       "        <td>1</td>\n",
       "    </tr>\n",
       "    <tr>\n",
       "        <td>Historical Perspectives on Contemporary Global Crises</td>\n",
       "        <td>1</td>\n",
       "    </tr>\n",
       "    <tr>\n",
       "        <td>In the Wake of Destruction: Europe Since World War II</td>\n",
       "        <td>2</td>\n",
       "    </tr>\n",
       "    <tr>\n",
       "        <td>Introduction to Clinical Supervision</td>\n",
       "        <td>1</td>\n",
       "    </tr>\n",
       "    <tr>\n",
       "        <td>Introduction to Financial Accounting</td>\n",
       "        <td>1</td>\n",
       "    </tr>\n",
       "    <tr>\n",
       "        <td>Issues in Internal Audit</td>\n",
       "        <td>2</td>\n",
       "    </tr>\n",
       "    <tr>\n",
       "        <td>Language of Food in Italian Culture</td>\n",
       "        <td>2</td>\n",
       "    </tr>\n",
       "    <tr>\n",
       "        <td>Modern China: 1800 to Present</td>\n",
       "        <td>1</td>\n",
       "    </tr>\n",
       "    <tr>\n",
       "        <td>Modern Experimental Methods Lab</td>\n",
       "        <td>1</td>\n",
       "    </tr>\n",
       "    <tr>\n",
       "        <td>Music of the 20th Century</td>\n",
       "        <td>4</td>\n",
       "    </tr>\n",
       "    <tr>\n",
       "        <td>News Writing</td>\n",
       "        <td>1</td>\n",
       "    </tr>\n",
       "    <tr>\n",
       "        <td>Persuasion</td>\n",
       "        <td>2</td>\n",
       "    </tr>\n",
       "    <tr>\n",
       "        <td>Private Lessons: Piano</td>\n",
       "        <td>1</td>\n",
       "    </tr>\n",
       "    <tr>\n",
       "        <td>Public Relations</td>\n",
       "        <td>1</td>\n",
       "    </tr>\n",
       "    <tr>\n",
       "        <td>STEM of Guitar</td>\n",
       "        <td>1</td>\n",
       "    </tr>\n",
       "    <tr>\n",
       "        <td>Senior Design Project II</td>\n",
       "        <td>2</td>\n",
       "    </tr>\n",
       "    <tr>\n",
       "        <td>TESOL/Bilingual Student Teaching and DSAP I Seminar</td>\n",
       "        <td>2</td>\n",
       "    </tr>\n",
       "    <tr>\n",
       "        <td>Texts and Contexts I: Writing as Craft and Inquiry</td>\n",
       "        <td>1</td>\n",
       "    </tr>\n",
       "    <tr>\n",
       "        <td>The Roman World in Late Antiquity, 284-642 AD</td>\n",
       "        <td>1</td>\n",
       "    </tr>\n",
       "    <tr>\n",
       "        <td>Violence and the Sacred</td>\n",
       "        <td>1</td>\n",
       "    </tr>\n",
       "    <tr>\n",
       "        <td>Web Development II with ASP.NET</td>\n",
       "        <td>3</td>\n",
       "    </tr>\n",
       "    <tr>\n",
       "        <td>World Language Seminar</td>\n",
       "        <td>1</td>\n",
       "    </tr>\n",
       "</table>"
      ],
      "text/plain": [
       "[('Abnormal Psychology for Majors', 1),\n",
       " ('Accounting Information Systems and Technology', 4),\n",
       " ('All About Eve', 3),\n",
       " ('Assessment Techniques in Marriage and Family Therapy', 3),\n",
       " ('Auditing', 4),\n",
       " ('Career Development: Theory and Practice', 3),\n",
       " ('Celtic and Early Irish Art', 2),\n",
       " ('Conflict Communication', 1),\n",
       " ('Counseling Practicum', 1),\n",
       " ('Cultural Anthropology', 1),\n",
       " ('Customer Behavior', 1),\n",
       " ('Databases for Business Analytics', 2),\n",
       " ('Design of Mechatronics Systems', 1),\n",
       " ('Early America to 1800', 3),\n",
       " ('Ethics and Communication', 2),\n",
       " ('Explorations in Education: Introduction to Teaching, Learning, and Schooling', 5),\n",
       " ('Federal Income Taxation I', 2),\n",
       " ('Finite Element Analysis', 1),\n",
       " ('Fluid Mechanics', 1),\n",
       " ('Gender, Sexuality, and Media', 1),\n",
       " ('General Chemistry for Health Science', 1),\n",
       " ('General Chemistry for Health Science Lab', 1),\n",
       " ('God and Modern Biology', 1),\n",
       " ('Graphic Novels as Thriller and Chillers', 1),\n",
       " ('Health Communication', 1),\n",
       " ('Historical Perspectives on Contemporary Global Crises', 1),\n",
       " ('In the Wake of Destruction: Europe Since World War II', 2),\n",
       " ('Introduction to Clinical Supervision', 1),\n",
       " ('Introduction to Financial Accounting', 1),\n",
       " ('Issues in Internal Audit', 2),\n",
       " ('Language of Food in Italian Culture', 2),\n",
       " ('Modern China: 1800 to Present', 1),\n",
       " ('Modern Experimental Methods Lab', 1),\n",
       " ('Music of the 20th Century', 4),\n",
       " ('News Writing', 1),\n",
       " ('Persuasion', 2),\n",
       " ('Private Lessons: Piano', 1),\n",
       " ('Public Relations', 1),\n",
       " ('STEM of Guitar', 1),\n",
       " ('Senior Design Project II', 2),\n",
       " ('TESOL/Bilingual Student Teaching and DSAP I Seminar', 2),\n",
       " ('Texts and Contexts I: Writing as Craft and Inquiry', 1),\n",
       " ('The Roman World in Late Antiquity, 284-642 AD', 1),\n",
       " ('Violence and the Sacred', 1),\n",
       " ('Web Development II with ASP.NET', 3),\n",
       " ('World Language Seminar', 1)]"
      ]
     },
     "execution_count": 99,
     "metadata": {},
     "output_type": "execute_result"
    }
   ],
   "source": [
    "%%sql\n",
    "select distinct COURSES.COURSE_TITLE, (COURSE_FACTS.ACT-COURSE_FACTS.CAP) AS OVER_CAP\n",
    "from COURSE_FACTS, COURSES\n",
    "where COURSE_FACTS.CC_ID = COURSES.CC_ID\n",
    "and COURSE_FACTS.TERM_NAME = 'Spring2019'\n",
    "GROUP BY COURSE_TITLE\n",
    "HAVING OVER_CAP > 0;"
   ]
  },
  {
   "cell_type": "markdown",
   "metadata": {},
   "source": [
    "All these courses were over capacity above. <br/> Insight: Maybe Farifield U needs more professors to teach more sections"
   ]
  }
 ],
 "metadata": {
  "kernelspec": {
   "display_name": "Python 3",
   "language": "python",
   "name": "python3"
  },
  "language_info": {
   "codemirror_mode": {
    "name": "ipython",
    "version": 3
   },
   "file_extension": ".py",
   "mimetype": "text/x-python",
   "name": "python",
   "nbconvert_exporter": "python",
   "pygments_lexer": "ipython3",
   "version": "3.6.5"
  }
 },
 "nbformat": 4,
 "nbformat_minor": 2
}
