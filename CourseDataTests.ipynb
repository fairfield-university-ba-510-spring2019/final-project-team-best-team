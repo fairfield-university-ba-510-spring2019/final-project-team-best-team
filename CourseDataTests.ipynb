{
 "cells": [
  {
   "cell_type": "code",
   "execution_count": 1,
   "metadata": {},
   "outputs": [],
   "source": [
    "%load_ext sql"
   ]
  },
  {
   "cell_type": "code",
   "execution_count": 2,
   "metadata": {},
   "outputs": [
    {
     "data": {
      "text/plain": [
       "'Connected: @CourseData.db'"
      ]
     },
     "execution_count": 2,
     "metadata": {},
     "output_type": "execute_result"
    }
   ],
   "source": [
    "%%sql\n",
    "sqlite:///CourseData.db"
   ]
  },
  {
   "cell_type": "markdown",
   "metadata": {},
   "source": [
    "## Domain integrity"
   ]
  },
  {
   "cell_type": "markdown",
   "metadata": {},
   "source": [
    "Check Data Types for tables"
   ]
  },
  {
   "cell_type": "code",
   "execution_count": 3,
   "metadata": {},
   "outputs": [
    {
     "name": "stdout",
     "output_type": "stream",
     "text": [
      " * sqlite:///CourseData.db\n",
      "Done.\n"
     ]
    },
    {
     "data": {
      "text/html": [
       "<table>\n",
       "    <tr>\n",
       "        <th>typeof(CATALOG_ID)</th>\n",
       "        <th>typeof(PROGRAM_CODE)</th>\n",
       "        <th>typeof(PROGRAM_NAME)</th>\n",
       "        <th>typeof(COURSE_TITLE)</th>\n",
       "    </tr>\n",
       "    <tr>\n",
       "        <td>text</td>\n",
       "        <td>text</td>\n",
       "        <td>text</td>\n",
       "        <td>text</td>\n",
       "    </tr>\n",
       "</table>"
      ],
      "text/plain": [
       "[('text', 'text', 'text', 'text')]"
      ]
     },
     "execution_count": 3,
     "metadata": {},
     "output_type": "execute_result"
    }
   ],
   "source": [
    "%%sql\n",
    "SELECT typeof(CATALOG_ID), typeof(PROGRAM_CODE), typeof(PROGRAM_NAME),typeof(COURSE_TITLE)\n",
    "FROM CATALOG_PROGRAM\n",
    "limit 1;"
   ]
  },
  {
   "cell_type": "code",
   "execution_count": 4,
   "metadata": {},
   "outputs": [
    {
     "name": "stdout",
     "output_type": "stream",
     "text": [
      " * sqlite:///CourseData.db\n",
      "Done.\n"
     ]
    },
    {
     "data": {
      "text/html": [
       "<table>\n",
       "    <tr>\n",
       "        <th>typeof(CC_ID)</th>\n",
       "        <th>typeof(COURSE_TITLE)</th>\n",
       "        <th>typeof(PRE_REQS)</th>\n",
       "        <th>typeof(CO_REQS)</th>\n",
       "        <th>typeof(CATALOG_ID)</th>\n",
       "    </tr>\n",
       "    <tr>\n",
       "        <td>integer</td>\n",
       "        <td>text</td>\n",
       "        <td>text</td>\n",
       "        <td>text</td>\n",
       "        <td>text</td>\n",
       "    </tr>\n",
       "</table>"
      ],
      "text/plain": [
       "[('integer', 'text', 'text', 'text', 'text')]"
      ]
     },
     "execution_count": 4,
     "metadata": {},
     "output_type": "execute_result"
    }
   ],
   "source": [
    "%%sql\n",
    "SELECT typeof(CC_ID), typeof(COURSE_TITLE), typeof(PRE_REQS), typeof(CO_REQS),\n",
    "typeof(CATALOG_ID)\n",
    "FROM CATALOG_COURSE\n",
    "where PRE_REQS is not null\n",
    "and CO_REQS is not null\n",
    "limit 1;"
   ]
  },
  {
   "cell_type": "code",
   "execution_count": 8,
   "metadata": {},
   "outputs": [
    {
     "name": "stdout",
     "output_type": "stream",
     "text": [
      " * sqlite:///CourseData.db\n",
      "Done.\n"
     ]
    },
    {
     "data": {
      "text/html": [
       "<table>\n",
       "    <tr>\n",
       "        <th>typeof(CO_ID)</th>\n",
       "        <th>typeof(CRN)</th>\n",
       "        <th>typeof(SECTION)</th>\n",
       "        <th>typeof(COURSE_TITLE)</th>\n",
       "        <th>typeof(CREDITS)</th>\n",
       "        <th>typeof(TERM_NAME)</th>\n",
       "    </tr>\n",
       "    <tr>\n",
       "        <td>integer</td>\n",
       "        <td>integer</td>\n",
       "        <td>text</td>\n",
       "        <td>text</td>\n",
       "        <td>text</td>\n",
       "        <td>text</td>\n",
       "    </tr>\n",
       "</table>"
      ],
      "text/plain": [
       "[('integer', 'integer', 'text', 'text', 'text', 'text')]"
      ]
     },
     "execution_count": 8,
     "metadata": {},
     "output_type": "execute_result"
    }
   ],
   "source": [
    "%%sql\n",
    "SELECT typeof(CO_ID), typeof(CRN), typeof(SECTION), typeof(COURSE_TITLE),\n",
    "typeof(CREDITS), typeof(TERM_NAME)\n",
    "FROM COURSE_OFFERING\n",
    "limit 1;"
   ]
  },
  {
   "cell_type": "code",
   "execution_count": 9,
   "metadata": {},
   "outputs": [
    {
     "name": "stdout",
     "output_type": "stream",
     "text": [
      " * sqlite:///CourseData.db\n",
      "Done.\n"
     ]
    },
    {
     "data": {
      "text/html": [
       "<table>\n",
       "    <tr>\n",
       "        <th>typeof(CM_ID)</th>\n",
       "        <th>typeof(CRN)</th>\n",
       "        <th>typeof(CAP)</th>\n",
       "        <th>typeof(ACT)</th>\n",
       "        <th>typeof(REM)</th>\n",
       "        <th>typeof(SECTION)</th>\n",
       "        <th>typeof(TERM_NAME)</th>\n",
       "    </tr>\n",
       "    <tr>\n",
       "        <td>integer</td>\n",
       "        <td>integer</td>\n",
       "        <td>integer</td>\n",
       "        <td>integer</td>\n",
       "        <td>integer</td>\n",
       "        <td>text</td>\n",
       "        <td>text</td>\n",
       "    </tr>\n",
       "</table>"
      ],
      "text/plain": [
       "[('integer', 'integer', 'integer', 'integer', 'integer', 'text', 'text')]"
      ]
     },
     "execution_count": 9,
     "metadata": {},
     "output_type": "execute_result"
    }
   ],
   "source": [
    "%%sql\n",
    "SELECT typeof(CM_ID), typeof(CRN), typeof(CAP), typeof(ACT),\n",
    "typeof(REM), typeof(SECTION), typeof(TERM_NAME)\n",
    "FROM COURSE_MEETING\n",
    "limit 1;"
   ]
  },
  {
   "cell_type": "code",
   "execution_count": 10,
   "metadata": {},
   "outputs": [
    {
     "name": "stdout",
     "output_type": "stream",
     "text": [
      " * sqlite:///CourseData.db\n",
      "Done.\n"
     ]
    },
    {
     "data": {
      "text/html": [
       "<table>\n",
       "    <tr>\n",
       "        <th>typeof(ROOM_ID)</th>\n",
       "        <th>typeof(Room_No)</th>\n",
       "        <th>typeof(CRN)</th>\n",
       "        <th>typeof(TERM_NAME)</th>\n",
       "    </tr>\n",
       "    <tr>\n",
       "        <td>integer</td>\n",
       "        <td>text</td>\n",
       "        <td>integer</td>\n",
       "        <td>text</td>\n",
       "    </tr>\n",
       "</table>"
      ],
      "text/plain": [
       "[('integer', 'text', 'integer', 'text')]"
      ]
     },
     "execution_count": 10,
     "metadata": {},
     "output_type": "execute_result"
    }
   ],
   "source": [
    "%%sql\n",
    "SELECT typeof(ROOM_ID), typeof(Room_No), typeof(CRN), typeof(TERM_NAME)\n",
    "FROM LOCATION\n",
    "limit 1;"
   ]
  },
  {
   "cell_type": "code",
   "execution_count": 12,
   "metadata": {},
   "outputs": [
    {
     "name": "stdout",
     "output_type": "stream",
     "text": [
      " * sqlite:///CourseData.db\n",
      "Done.\n"
     ]
    },
    {
     "data": {
      "text/html": [
       "<table>\n",
       "    <tr>\n",
       "        <th>typeof(TERM_ID)</th>\n",
       "        <th>typeof(TERM_NAME)</th>\n",
       "    </tr>\n",
       "    <tr>\n",
       "        <td>integer</td>\n",
       "        <td>text</td>\n",
       "    </tr>\n",
       "</table>"
      ],
      "text/plain": [
       "[('integer', 'text')]"
      ]
     },
     "execution_count": 12,
     "metadata": {},
     "output_type": "execute_result"
    }
   ],
   "source": [
    "%%sql\n",
    "SELECT typeof(TERM_ID), typeof(TERM_NAME)\n",
    "FROM TERM\n",
    "limit 1;"
   ]
  },
  {
   "cell_type": "code",
   "execution_count": 14,
   "metadata": {},
   "outputs": [
    {
     "name": "stdout",
     "output_type": "stream",
     "text": [
      " * sqlite:///CourseData.db\n",
      "Done.\n"
     ]
    },
    {
     "data": {
      "text/html": [
       "<table>\n",
       "    <tr>\n",
       "        <th>typeof(TIME_ID)</th>\n",
       "        <th>typeof(START_TIME)</th>\n",
       "        <th>typeof(END_TIME)</th>\n",
       "        <th>typeof(CRN)</th>\n",
       "        <th>typeof(TERM_NAME)</th>\n",
       "    </tr>\n",
       "    <tr>\n",
       "        <td>integer</td>\n",
       "        <td>text</td>\n",
       "        <td>text</td>\n",
       "        <td>integer</td>\n",
       "        <td>text</td>\n",
       "    </tr>\n",
       "</table>"
      ],
      "text/plain": [
       "[('integer', 'text', 'text', 'integer', 'text')]"
      ]
     },
     "execution_count": 14,
     "metadata": {},
     "output_type": "execute_result"
    }
   ],
   "source": [
    "%%sql\n",
    "SELECT typeof(TIME_ID), typeof(START_TIME), typeof(END_TIME), typeof(CRN), typeof(TERM_NAME)\n",
    "FROM TIME_CODE\n",
    "limit 1;"
   ]
  },
  {
   "cell_type": "code",
   "execution_count": 13,
   "metadata": {},
   "outputs": [
    {
     "name": "stdout",
     "output_type": "stream",
     "text": [
      " * sqlite:///CourseData.db\n",
      "Done.\n"
     ]
    },
    {
     "data": {
      "text/html": [
       "<table>\n",
       "    <tr>\n",
       "        <th>typeof(I_ID)</th>\n",
       "        <th>typeof(NAME)</th>\n",
       "        <th>typeof(COURSE_TITLE)</th>\n",
       "        <th>typeof(CRN)</th>\n",
       "        <th>typeof(TERM_NAME)</th>\n",
       "    </tr>\n",
       "    <tr>\n",
       "        <td>integer</td>\n",
       "        <td>text</td>\n",
       "        <td>text</td>\n",
       "        <td>integer</td>\n",
       "        <td>text</td>\n",
       "    </tr>\n",
       "</table>"
      ],
      "text/plain": [
       "[('integer', 'text', 'text', 'integer', 'text')]"
      ]
     },
     "execution_count": 13,
     "metadata": {},
     "output_type": "execute_result"
    }
   ],
   "source": [
    "%%sql\n",
    "SELECT typeof(I_ID), typeof(NAME), typeof(COURSE_TITLE), typeof(CRN), typeof(TERM_NAME)\n",
    "FROM INSTRUCTOR\n",
    "limit 1;"
   ]
  },
  {
   "cell_type": "markdown",
   "metadata": {},
   "source": [
    "## Entity integrity"
   ]
  },
  {
   "cell_type": "markdown",
   "metadata": {},
   "source": [
    "Check for duplicates in tables"
   ]
  },
  {
   "cell_type": "code",
   "execution_count": 15,
   "metadata": {},
   "outputs": [
    {
     "name": "stdout",
     "output_type": "stream",
     "text": [
      " * sqlite:///CourseData.db\n",
      "Done.\n"
     ]
    },
    {
     "data": {
      "text/html": [
       "<table>\n",
       "    <tr>\n",
       "        <th>COUNT(CATALOG_ID)</th>\n",
       "    </tr>\n",
       "    <tr>\n",
       "        <td>2220</td>\n",
       "    </tr>\n",
       "</table>"
      ],
      "text/plain": [
       "[(2220,)]"
      ]
     },
     "execution_count": 15,
     "metadata": {},
     "output_type": "execute_result"
    }
   ],
   "source": [
    "%%sql\n",
    "SELECT COUNT(CATALOG_ID)\n",
    "FROM CATALOG_PROGRAM;"
   ]
  },
  {
   "cell_type": "code",
   "execution_count": 16,
   "metadata": {},
   "outputs": [
    {
     "name": "stdout",
     "output_type": "stream",
     "text": [
      " * sqlite:///CourseData.db\n",
      "Done.\n"
     ]
    },
    {
     "data": {
      "text/html": [
       "<table>\n",
       "    <tr>\n",
       "        <th>COUNT(CATALOG_ID)</th>\n",
       "    </tr>\n",
       "    <tr>\n",
       "        <td>2220</td>\n",
       "    </tr>\n",
       "</table>"
      ],
      "text/plain": [
       "[(2220,)]"
      ]
     },
     "execution_count": 16,
     "metadata": {},
     "output_type": "execute_result"
    }
   ],
   "source": [
    "%%sql\n",
    "SELECT DISTINCT COUNT(CATALOG_ID)\n",
    "FROM CATALOG_PROGRAM;"
   ]
  },
  {
   "cell_type": "code",
   "execution_count": 17,
   "metadata": {},
   "outputs": [
    {
     "name": "stdout",
     "output_type": "stream",
     "text": [
      " * sqlite:///CourseData.db\n",
      "Done.\n"
     ]
    },
    {
     "data": {
      "text/html": [
       "<table>\n",
       "    <tr>\n",
       "        <th>COUNT(CC_ID)</th>\n",
       "    </tr>\n",
       "    <tr>\n",
       "        <td>2220</td>\n",
       "    </tr>\n",
       "</table>"
      ],
      "text/plain": [
       "[(2220,)]"
      ]
     },
     "execution_count": 17,
     "metadata": {},
     "output_type": "execute_result"
    }
   ],
   "source": [
    "%%sql\n",
    "SELECT COUNT(CC_ID)\n",
    "FROM CATALOG_COURSE;"
   ]
  },
  {
   "cell_type": "code",
   "execution_count": 18,
   "metadata": {},
   "outputs": [
    {
     "name": "stdout",
     "output_type": "stream",
     "text": [
      " * sqlite:///CourseData.db\n",
      "Done.\n"
     ]
    },
    {
     "data": {
      "text/html": [
       "<table>\n",
       "    <tr>\n",
       "        <th>COUNT(CC_ID)</th>\n",
       "    </tr>\n",
       "    <tr>\n",
       "        <td>2220</td>\n",
       "    </tr>\n",
       "</table>"
      ],
      "text/plain": [
       "[(2220,)]"
      ]
     },
     "execution_count": 18,
     "metadata": {},
     "output_type": "execute_result"
    }
   ],
   "source": [
    "%%sql\n",
    "SELECT DISTINCT COUNT(CC_ID)\n",
    "FROM CATALOG_COURSE;"
   ]
  },
  {
   "cell_type": "code",
   "execution_count": 19,
   "metadata": {},
   "outputs": [
    {
     "name": "stdout",
     "output_type": "stream",
     "text": [
      " * sqlite:///CourseData.db\n",
      "Done.\n"
     ]
    },
    {
     "data": {
      "text/html": [
       "<table>\n",
       "    <tr>\n",
       "        <th>COUNT(COURSE_TITLE)</th>\n",
       "    </tr>\n",
       "    <tr>\n",
       "        <td>14330</td>\n",
       "    </tr>\n",
       "</table>"
      ],
      "text/plain": [
       "[(14330,)]"
      ]
     },
     "execution_count": 19,
     "metadata": {},
     "output_type": "execute_result"
    }
   ],
   "source": [
    "%%sql\n",
    "SELECT COUNT(COURSE_TITLE)\n",
    "FROM COURSE_OFFERING;"
   ]
  },
  {
   "cell_type": "code",
   "execution_count": 20,
   "metadata": {},
   "outputs": [
    {
     "name": "stdout",
     "output_type": "stream",
     "text": [
      " * sqlite:///CourseData.db\n",
      "Done.\n"
     ]
    },
    {
     "data": {
      "text/html": [
       "<table>\n",
       "    <tr>\n",
       "        <th>COUNT(COURSE_TITLE)</th>\n",
       "    </tr>\n",
       "    <tr>\n",
       "        <td>14330</td>\n",
       "    </tr>\n",
       "</table>"
      ],
      "text/plain": [
       "[(14330,)]"
      ]
     },
     "execution_count": 20,
     "metadata": {},
     "output_type": "execute_result"
    }
   ],
   "source": [
    "%%sql\n",
    "SELECT DISTINCT COUNT(COURSE_TITLE)\n",
    "FROM COURSE_OFFERING;"
   ]
  },
  {
   "cell_type": "code",
   "execution_count": 21,
   "metadata": {},
   "outputs": [
    {
     "name": "stdout",
     "output_type": "stream",
     "text": [
      " * sqlite:///CourseData.db\n",
      "Done.\n"
     ]
    },
    {
     "data": {
      "text/html": [
       "<table>\n",
       "    <tr>\n",
       "        <th>COUNT(CM_ID)</th>\n",
       "    </tr>\n",
       "    <tr>\n",
       "        <td>14330</td>\n",
       "    </tr>\n",
       "</table>"
      ],
      "text/plain": [
       "[(14330,)]"
      ]
     },
     "execution_count": 21,
     "metadata": {},
     "output_type": "execute_result"
    }
   ],
   "source": [
    "%%sql\n",
    "SELECT COUNT(CM_ID)\n",
    "FROM COURSE_MEETING;"
   ]
  },
  {
   "cell_type": "code",
   "execution_count": 22,
   "metadata": {},
   "outputs": [
    {
     "name": "stdout",
     "output_type": "stream",
     "text": [
      " * sqlite:///CourseData.db\n",
      "Done.\n"
     ]
    },
    {
     "data": {
      "text/html": [
       "<table>\n",
       "    <tr>\n",
       "        <th>COUNT(CM_ID)</th>\n",
       "    </tr>\n",
       "    <tr>\n",
       "        <td>14330</td>\n",
       "    </tr>\n",
       "</table>"
      ],
      "text/plain": [
       "[(14330,)]"
      ]
     },
     "execution_count": 22,
     "metadata": {},
     "output_type": "execute_result"
    }
   ],
   "source": [
    "%%sql\n",
    "SELECT DISTINCT COUNT(CM_ID)\n",
    "FROM COURSE_MEETING;"
   ]
  },
  {
   "cell_type": "code",
   "execution_count": 23,
   "metadata": {},
   "outputs": [
    {
     "name": "stdout",
     "output_type": "stream",
     "text": [
      " * sqlite:///CourseData.db\n",
      "Done.\n"
     ]
    },
    {
     "data": {
      "text/html": [
       "<table>\n",
       "    <tr>\n",
       "        <th>COUNT(Room_No)</th>\n",
       "    </tr>\n",
       "    <tr>\n",
       "        <td>13032</td>\n",
       "    </tr>\n",
       "</table>"
      ],
      "text/plain": [
       "[(13032,)]"
      ]
     },
     "execution_count": 23,
     "metadata": {},
     "output_type": "execute_result"
    }
   ],
   "source": [
    "%%sql\n",
    "SELECT COUNT(Room_No)\n",
    "FROM Location;"
   ]
  },
  {
   "cell_type": "code",
   "execution_count": 24,
   "metadata": {},
   "outputs": [
    {
     "name": "stdout",
     "output_type": "stream",
     "text": [
      " * sqlite:///CourseData.db\n",
      "Done.\n"
     ]
    },
    {
     "data": {
      "text/html": [
       "<table>\n",
       "    <tr>\n",
       "        <th>COUNT(Room_No)</th>\n",
       "    </tr>\n",
       "    <tr>\n",
       "        <td>13032</td>\n",
       "    </tr>\n",
       "</table>"
      ],
      "text/plain": [
       "[(13032,)]"
      ]
     },
     "execution_count": 24,
     "metadata": {},
     "output_type": "execute_result"
    }
   ],
   "source": [
    "%%sql\n",
    "SELECT DISTINCT COUNT(Room_No)\n",
    "FROM Location;"
   ]
  },
  {
   "cell_type": "code",
   "execution_count": 28,
   "metadata": {},
   "outputs": [
    {
     "name": "stdout",
     "output_type": "stream",
     "text": [
      " * sqlite:///CourseData.db\n",
      "Done.\n"
     ]
    },
    {
     "data": {
      "text/html": [
       "<table>\n",
       "    <tr>\n",
       "        <th>COUNT(TERM_NAME)</th>\n",
       "    </tr>\n",
       "    <tr>\n",
       "        <td>19</td>\n",
       "    </tr>\n",
       "</table>"
      ],
      "text/plain": [
       "[(19,)]"
      ]
     },
     "execution_count": 28,
     "metadata": {},
     "output_type": "execute_result"
    }
   ],
   "source": [
    "%%sql\n",
    "SELECT COUNT(TERM_NAME)\n",
    "FROM Term;"
   ]
  },
  {
   "cell_type": "code",
   "execution_count": 29,
   "metadata": {},
   "outputs": [
    {
     "name": "stdout",
     "output_type": "stream",
     "text": [
      " * sqlite:///CourseData.db\n",
      "Done.\n"
     ]
    },
    {
     "data": {
      "text/html": [
       "<table>\n",
       "    <tr>\n",
       "        <th>COUNT(TERM_NAME)</th>\n",
       "    </tr>\n",
       "    <tr>\n",
       "        <td>19</td>\n",
       "    </tr>\n",
       "</table>"
      ],
      "text/plain": [
       "[(19,)]"
      ]
     },
     "execution_count": 29,
     "metadata": {},
     "output_type": "execute_result"
    }
   ],
   "source": [
    "%%sql\n",
    "SELECT DISTINCT COUNT(TERM_NAME)\n",
    "FROM Term;"
   ]
  },
  {
   "cell_type": "code",
   "execution_count": 30,
   "metadata": {},
   "outputs": [
    {
     "name": "stdout",
     "output_type": "stream",
     "text": [
      " * sqlite:///CourseData.db\n",
      "Done.\n"
     ]
    },
    {
     "data": {
      "text/html": [
       "<table>\n",
       "    <tr>\n",
       "        <th>COUNT(Name)</th>\n",
       "    </tr>\n",
       "    <tr>\n",
       "        <td>14330</td>\n",
       "    </tr>\n",
       "</table>"
      ],
      "text/plain": [
       "[(14330,)]"
      ]
     },
     "execution_count": 30,
     "metadata": {},
     "output_type": "execute_result"
    }
   ],
   "source": [
    "%%sql\n",
    "SELECT COUNT(Name)\n",
    "FROM Instructor;"
   ]
  },
  {
   "cell_type": "code",
   "execution_count": 31,
   "metadata": {},
   "outputs": [
    {
     "name": "stdout",
     "output_type": "stream",
     "text": [
      " * sqlite:///CourseData.db\n",
      "Done.\n"
     ]
    },
    {
     "data": {
      "text/html": [
       "<table>\n",
       "    <tr>\n",
       "        <th>COUNT(Name)</th>\n",
       "    </tr>\n",
       "    <tr>\n",
       "        <td>14330</td>\n",
       "    </tr>\n",
       "</table>"
      ],
      "text/plain": [
       "[(14330,)]"
      ]
     },
     "execution_count": 31,
     "metadata": {},
     "output_type": "execute_result"
    }
   ],
   "source": [
    "%%sql\n",
    "SELECT DISTINCT COUNT(Name)\n",
    "FROM Instructor;"
   ]
  },
  {
   "cell_type": "code",
   "execution_count": 32,
   "metadata": {},
   "outputs": [
    {
     "name": "stdout",
     "output_type": "stream",
     "text": [
      " * sqlite:///CourseData.db\n",
      "Done.\n"
     ]
    },
    {
     "data": {
      "text/html": [
       "<table>\n",
       "    <tr>\n",
       "        <th>COUNT(CRN)</th>\n",
       "    </tr>\n",
       "    <tr>\n",
       "        <td>296781</td>\n",
       "    </tr>\n",
       "</table>"
      ],
      "text/plain": [
       "[(296781,)]"
      ]
     },
     "execution_count": 32,
     "metadata": {},
     "output_type": "execute_result"
    }
   ],
   "source": [
    "%%sql\n",
    "SELECT COUNT(CRN)\n",
    "FROM Time_Code;"
   ]
  },
  {
   "cell_type": "code",
   "execution_count": 33,
   "metadata": {},
   "outputs": [
    {
     "name": "stdout",
     "output_type": "stream",
     "text": [
      " * sqlite:///CourseData.db\n",
      "Done.\n"
     ]
    },
    {
     "data": {
      "text/html": [
       "<table>\n",
       "    <tr>\n",
       "        <th>COUNT(CRN)</th>\n",
       "    </tr>\n",
       "    <tr>\n",
       "        <td>296781</td>\n",
       "    </tr>\n",
       "</table>"
      ],
      "text/plain": [
       "[(296781,)]"
      ]
     },
     "execution_count": 33,
     "metadata": {},
     "output_type": "execute_result"
    }
   ],
   "source": [
    "%%sql\n",
    "SELECT DISTINCT COUNT(CRN)\n",
    "FROM Time_Code;"
   ]
  },
  {
   "cell_type": "markdown",
   "metadata": {},
   "source": [
    "## Relational integrity"
   ]
  },
  {
   "cell_type": "markdown",
   "metadata": {},
   "source": [
    "Foreign Keys Joins compatible with the Primary Keys"
   ]
  },
  {
   "cell_type": "code",
   "execution_count": 34,
   "metadata": {},
   "outputs": [
    {
     "name": "stdout",
     "output_type": "stream",
     "text": [
      " * sqlite:///CourseData.db\n",
      "Done.\n"
     ]
    },
    {
     "data": {
      "text/html": [
       "<table>\n",
       "    <tr>\n",
       "        <th>CATALOG_ID</th>\n",
       "        <th>PROGRAM_CODE</th>\n",
       "        <th>PROGRAM_NAME</th>\n",
       "        <th>COURSE_TITLE</th>\n",
       "        <th>CC_ID</th>\n",
       "        <th>COURSE_TITLE_1</th>\n",
       "        <th>PRE_REQS</th>\n",
       "        <th>CO_REQS</th>\n",
       "        <th>CATALOG_ID_1</th>\n",
       "    </tr>\n",
       "    <tr>\n",
       "        <td>AN 0301</td>\n",
       "        <td>AN</td>\n",
       "        <td>Asian Studies</td>\n",
       "        <td>Independent Study</td>\n",
       "        <td>1</td>\n",
       "        <td>Independent Study</td>\n",
       "        <td>None</td>\n",
       "        <td>None</td>\n",
       "        <td>AN 0301</td>\n",
       "    </tr>\n",
       "</table>"
      ],
      "text/plain": [
       "[('AN 0301', 'AN', 'Asian Studies', 'Independent Study', 1, 'Independent Study', None, None, 'AN 0301')]"
      ]
     },
     "execution_count": 34,
     "metadata": {},
     "output_type": "execute_result"
    }
   ],
   "source": [
    "%%sql\n",
    "SELECT *\n",
    "FROM CATALOG_PROGRAM a, CATALOG_COURSE b\n",
    "WHERE a.CATALOG_ID=b.CATALOG_ID\n",
    "limit 1;"
   ]
  },
  {
   "cell_type": "code",
   "execution_count": 35,
   "metadata": {},
   "outputs": [
    {
     "name": "stdout",
     "output_type": "stream",
     "text": [
      " * sqlite:///CourseData.db\n",
      "Done.\n"
     ]
    },
    {
     "data": {
      "text/html": [
       "<table>\n",
       "    <tr>\n",
       "        <th>CC_ID</th>\n",
       "        <th>COURSE_TITLE</th>\n",
       "        <th>PRE_REQS</th>\n",
       "        <th>CO_REQS</th>\n",
       "        <th>CATALOG_ID</th>\n",
       "        <th>CO_ID</th>\n",
       "        <th>CRN</th>\n",
       "        <th>SECTION</th>\n",
       "        <th>COURSE_TITLE_1</th>\n",
       "        <th>CREDITS</th>\n",
       "        <th>TERM_NAME</th>\n",
       "    </tr>\n",
       "    <tr>\n",
       "        <td>1</td>\n",
       "        <td>Independent Study</td>\n",
       "        <td>None</td>\n",
       "        <td>None</td>\n",
       "        <td>AN 0301</td>\n",
       "        <td>6629</td>\n",
       "        <td>11628</td>\n",
       "        <td>DG</td>\n",
       "        <td>Independent Study</td>\n",
       "        <td>1.000</td>\n",
       "        <td>Winter2016</td>\n",
       "    </tr>\n",
       "</table>"
      ],
      "text/plain": [
       "[(1, 'Independent Study', None, None, 'AN 0301', 6629, 11628, 'DG', 'Independent Study', '1.000', 'Winter2016')]"
      ]
     },
     "execution_count": 35,
     "metadata": {},
     "output_type": "execute_result"
    }
   ],
   "source": [
    "%%sql\n",
    "SELECT *\n",
    "FROM CATALOG_COURSE a, COURSE_OFFERING b\n",
    "WHERE a.COURSE_TITLE=b.COURSE_TITLE\n",
    "limit 1;"
   ]
  },
  {
   "cell_type": "code",
   "execution_count": 37,
   "metadata": {},
   "outputs": [
    {
     "name": "stdout",
     "output_type": "stream",
     "text": [
      " * sqlite:///CourseData.db\n",
      "Done.\n"
     ]
    },
    {
     "data": {
      "text/html": [
       "<table>\n",
       "    <tr>\n",
       "        <th>CO_ID</th>\n",
       "        <th>CRN</th>\n",
       "        <th>SECTION</th>\n",
       "        <th>COURSE_TITLE</th>\n",
       "        <th>CREDITS</th>\n",
       "        <th>TERM_NAME</th>\n",
       "        <th>TERM_ID</th>\n",
       "        <th>TERM_NAME_1</th>\n",
       "    </tr>\n",
       "    <tr>\n",
       "        <td>63</td>\n",
       "        <td>70001</td>\n",
       "        <td>A</td>\n",
       "        <td>Ethics of Health Care</td>\n",
       "        <td>3.000</td>\n",
       "        <td>Fall2014</td>\n",
       "        <td>1</td>\n",
       "        <td>Fall2014</td>\n",
       "    </tr>\n",
       "</table>"
      ],
      "text/plain": [
       "[(63, 70001, 'A', 'Ethics of Health Care', '3.000', 'Fall2014', 1, 'Fall2014')]"
      ]
     },
     "execution_count": 37,
     "metadata": {},
     "output_type": "execute_result"
    }
   ],
   "source": [
    "%%sql\n",
    "SELECT *\n",
    "FROM COURSE_OFFERING a, TERM b\n",
    "WHERE a.TERM_NAME=b.TERM_NAME\n",
    "limit 1;"
   ]
  },
  {
   "cell_type": "code",
   "execution_count": 38,
   "metadata": {},
   "outputs": [
    {
     "name": "stdout",
     "output_type": "stream",
     "text": [
      " * sqlite:///CourseData.db\n",
      "Done.\n"
     ]
    },
    {
     "data": {
      "text/html": [
       "<table>\n",
       "    <tr>\n",
       "        <th>CO_ID</th>\n",
       "        <th>CRN</th>\n",
       "        <th>SECTION</th>\n",
       "        <th>COURSE_TITLE</th>\n",
       "        <th>CREDITS</th>\n",
       "        <th>TERM_NAME</th>\n",
       "        <th>I_ID</th>\n",
       "        <th>NAME</th>\n",
       "        <th>COURSE_TITLE_1</th>\n",
       "        <th>CRN_1</th>\n",
       "        <th>TERM_NAME_1</th>\n",
       "    </tr>\n",
       "    <tr>\n",
       "        <td>1</td>\n",
       "        <td>70384</td>\n",
       "        <td>C01</td>\n",
       "        <td>Introduction to Financial Accounting</td>\n",
       "        <td>3.000</td>\n",
       "        <td>Fall2014</td>\n",
       "        <td>1</td>\n",
       "        <td>Michael P.  Coyne</td>\n",
       "        <td>Introduction to Financial Accounting</td>\n",
       "        <td>70384</td>\n",
       "        <td>Fall2014</td>\n",
       "    </tr>\n",
       "</table>"
      ],
      "text/plain": [
       "[(1, 70384, 'C01', 'Introduction to Financial Accounting', '3.000', 'Fall2014', 1, 'Michael P.  Coyne', 'Introduction to Financial Accounting', 70384, 'Fall2014')]"
      ]
     },
     "execution_count": 38,
     "metadata": {},
     "output_type": "execute_result"
    }
   ],
   "source": [
    "%%sql\n",
    "SELECT *\n",
    "FROM COURSE_OFFERING a, INSTRUCTOR b\n",
    "WHERE a.CRN=b.CRN\n",
    "limit 1;"
   ]
  },
  {
   "cell_type": "code",
   "execution_count": 39,
   "metadata": {},
   "outputs": [
    {
     "name": "stdout",
     "output_type": "stream",
     "text": [
      " * sqlite:///CourseData.db\n",
      "Done.\n"
     ]
    },
    {
     "data": {
      "text/html": [
       "<table>\n",
       "    <tr>\n",
       "        <th>CO_ID</th>\n",
       "        <th>CRN</th>\n",
       "        <th>SECTION</th>\n",
       "        <th>COURSE_TITLE</th>\n",
       "        <th>CREDITS</th>\n",
       "        <th>TERM_NAME</th>\n",
       "        <th>CM_ID</th>\n",
       "        <th>CRN_1</th>\n",
       "        <th>CAP</th>\n",
       "        <th>ACT</th>\n",
       "        <th>REM</th>\n",
       "        <th>SECTION_1</th>\n",
       "        <th>TERM_NAME_1</th>\n",
       "    </tr>\n",
       "    <tr>\n",
       "        <td>1</td>\n",
       "        <td>70384</td>\n",
       "        <td>C01</td>\n",
       "        <td>Introduction to Financial Accounting</td>\n",
       "        <td>3.000</td>\n",
       "        <td>Fall2014</td>\n",
       "        <td>377</td>\n",
       "        <td>70015</td>\n",
       "        <td>0</td>\n",
       "        <td>19</td>\n",
       "        <td>-19</td>\n",
       "        <td>C01</td>\n",
       "        <td>Fall2014</td>\n",
       "    </tr>\n",
       "</table>"
      ],
      "text/plain": [
       "[(1, 70384, 'C01', 'Introduction to Financial Accounting', '3.000', 'Fall2014', 377, 70015, 0, 19, -19, 'C01', 'Fall2014')]"
      ]
     },
     "execution_count": 39,
     "metadata": {},
     "output_type": "execute_result"
    }
   ],
   "source": [
    "%%sql\n",
    "SELECT *\n",
    "FROM COURSE_OFFERING a, COURSE_MEETING b\n",
    "WHERE a.SECTION=b.SECTION\n",
    "limit 1;"
   ]
  },
  {
   "cell_type": "code",
   "execution_count": 40,
   "metadata": {},
   "outputs": [
    {
     "name": "stdout",
     "output_type": "stream",
     "text": [
      " * sqlite:///CourseData.db\n",
      "Done.\n"
     ]
    },
    {
     "data": {
      "text/html": [
       "<table>\n",
       "    <tr>\n",
       "        <th>CO_ID</th>\n",
       "        <th>CRN</th>\n",
       "        <th>SECTION</th>\n",
       "        <th>COURSE_TITLE</th>\n",
       "        <th>CREDITS</th>\n",
       "        <th>TERM_NAME</th>\n",
       "        <th>TIME_ID</th>\n",
       "        <th>START_TIME</th>\n",
       "        <th>END_TIME</th>\n",
       "        <th>CRN_1</th>\n",
       "        <th>TERM_NAME_1</th>\n",
       "    </tr>\n",
       "    <tr>\n",
       "        <td>1</td>\n",
       "        <td>70384</td>\n",
       "        <td>C01</td>\n",
       "        <td>Introduction to Financial Accounting</td>\n",
       "        <td>3.000</td>\n",
       "        <td>Fall2014</td>\n",
       "        <td>1</td>\n",
       "        <td>2014-09-02T08:00:00</td>\n",
       "        <td>2014-09-02T09:15:00</td>\n",
       "        <td>70384</td>\n",
       "        <td>Fall2014</td>\n",
       "    </tr>\n",
       "</table>"
      ],
      "text/plain": [
       "[(1, 70384, 'C01', 'Introduction to Financial Accounting', '3.000', 'Fall2014', 1, '2014-09-02T08:00:00', '2014-09-02T09:15:00', 70384, 'Fall2014')]"
      ]
     },
     "execution_count": 40,
     "metadata": {},
     "output_type": "execute_result"
    }
   ],
   "source": [
    "%%sql\n",
    "SELECT *\n",
    "FROM COURSE_OFFERING a, TIME_CODE b\n",
    "WHERE a.CRN=b.CRN\n",
    "limit 1;"
   ]
  },
  {
   "cell_type": "code",
   "execution_count": 41,
   "metadata": {},
   "outputs": [
    {
     "name": "stdout",
     "output_type": "stream",
     "text": [
      " * sqlite:///CourseData.db\n",
      "Done.\n"
     ]
    },
    {
     "data": {
      "text/html": [
       "<table>\n",
       "    <tr>\n",
       "        <th>CM_ID</th>\n",
       "        <th>CRN</th>\n",
       "        <th>CAP</th>\n",
       "        <th>ACT</th>\n",
       "        <th>REM</th>\n",
       "        <th>SECTION</th>\n",
       "        <th>TERM_NAME</th>\n",
       "        <th>ROOM_ID</th>\n",
       "        <th>Room_No</th>\n",
       "        <th>CRN_1</th>\n",
       "        <th>TERM_NAME_1</th>\n",
       "    </tr>\n",
       "    <tr>\n",
       "        <td>1</td>\n",
       "        <td>70384</td>\n",
       "        <td>0</td>\n",
       "        <td>31</td>\n",
       "        <td>-31</td>\n",
       "        <td>C01</td>\n",
       "        <td>Fall2014</td>\n",
       "        <td>1</td>\n",
       "        <td>DSB 105</td>\n",
       "        <td>70384</td>\n",
       "        <td>Fall2014</td>\n",
       "    </tr>\n",
       "</table>"
      ],
      "text/plain": [
       "[(1, 70384, 0, 31, -31, 'C01', 'Fall2014', 1, 'DSB 105', 70384, 'Fall2014')]"
      ]
     },
     "execution_count": 41,
     "metadata": {},
     "output_type": "execute_result"
    }
   ],
   "source": [
    "%%sql\n",
    "SELECT *\n",
    "FROM COURSE_MEETING a, LOCATION b\n",
    "WHERE a.CRN=b.CRN\n",
    "limit 1;"
   ]
  },
  {
   "cell_type": "markdown",
   "metadata": {},
   "source": [
    "#### We Noticed Muliple CRNs across Terms"
   ]
  },
  {
   "cell_type": "markdown",
   "metadata": {},
   "source": [
    "Which is why we went back in and changed our ERDs to include CRN and Term as unique"
   ]
  },
  {
   "cell_type": "code",
   "execution_count": 42,
   "metadata": {},
   "outputs": [
    {
     "name": "stdout",
     "output_type": "stream",
     "text": [
      " * sqlite:///CourseData.db\n",
      "Done.\n"
     ]
    },
    {
     "data": {
      "text/html": [
       "<table>\n",
       "    <tr>\n",
       "        <th>CM_ID</th>\n",
       "        <th>CRN</th>\n",
       "        <th>CAP</th>\n",
       "        <th>ACT</th>\n",
       "        <th>REM</th>\n",
       "        <th>SECTION</th>\n",
       "        <th>TERM_NAME</th>\n",
       "    </tr>\n",
       "    <tr>\n",
       "        <td>7870</td>\n",
       "        <td>31888</td>\n",
       "        <td>0</td>\n",
       "        <td>7</td>\n",
       "        <td>-7</td>\n",
       "        <td>01</td>\n",
       "        <td>Spring2015</td>\n",
       "    </tr>\n",
       "    <tr>\n",
       "        <td>9616</td>\n",
       "        <td>31888</td>\n",
       "        <td>15</td>\n",
       "        <td>12</td>\n",
       "        <td>3</td>\n",
       "        <td>01</td>\n",
       "        <td>Spring2017</td>\n",
       "    </tr>\n",
       "</table>"
      ],
      "text/plain": [
       "[(7870, 31888, 0, 7, -7, '01', 'Spring2015'),\n",
       " (9616, 31888, 15, 12, 3, '01', 'Spring2017')]"
      ]
     },
     "execution_count": 42,
     "metadata": {},
     "output_type": "execute_result"
    }
   ],
   "source": [
    "%%sql\n",
    "select *\n",
    "from course_meeting\n",
    "where crn = 31888"
   ]
  },
  {
   "cell_type": "code",
   "execution_count": 43,
   "metadata": {},
   "outputs": [
    {
     "name": "stdout",
     "output_type": "stream",
     "text": [
      " * sqlite:///CourseData.db\n",
      "Done.\n"
     ]
    },
    {
     "data": {
      "text/html": [
       "<table>\n",
       "    <tr>\n",
       "        <th>CO_ID</th>\n",
       "        <th>CRN</th>\n",
       "        <th>SECTION</th>\n",
       "        <th>COURSE_TITLE</th>\n",
       "        <th>CREDITS</th>\n",
       "        <th>TERM_NAME</th>\n",
       "    </tr>\n",
       "    <tr>\n",
       "        <td>7870</td>\n",
       "        <td>31888</td>\n",
       "        <td>01</td>\n",
       "        <td>Curriculum and Methods for Students with Mild to Moderate Disabilities</td>\n",
       "        <td>3.000</td>\n",
       "        <td>Spring2015</td>\n",
       "    </tr>\n",
       "    <tr>\n",
       "        <td>9616</td>\n",
       "        <td>31888</td>\n",
       "        <td>01</td>\n",
       "        <td>Teaching and Writing</td>\n",
       "        <td>3.000</td>\n",
       "        <td>Spring2017</td>\n",
       "    </tr>\n",
       "</table>"
      ],
      "text/plain": [
       "[(7870, 31888, '01', 'Curriculum and Methods for Students with Mild to Moderate Disabilities', '3.000', 'Spring2015'),\n",
       " (9616, 31888, '01', 'Teaching and Writing', '3.000', 'Spring2017')]"
      ]
     },
     "execution_count": 43,
     "metadata": {},
     "output_type": "execute_result"
    }
   ],
   "source": [
    "%%sql\n",
    "select *\n",
    "from course_offering\n",
    "where crn = 31888"
   ]
  },
  {
   "cell_type": "code",
   "execution_count": null,
   "metadata": {},
   "outputs": [],
   "source": []
  }
 ],
 "metadata": {
  "kernelspec": {
   "display_name": "Python 3",
   "language": "python",
   "name": "python3"
  },
  "language_info": {
   "codemirror_mode": {
    "name": "ipython",
    "version": 3
   },
   "file_extension": ".py",
   "mimetype": "text/x-python",
   "name": "python",
   "nbconvert_exporter": "python",
   "pygments_lexer": "ipython3",
   "version": "3.6.5"
  }
 },
 "nbformat": 4,
 "nbformat_minor": 2
}
