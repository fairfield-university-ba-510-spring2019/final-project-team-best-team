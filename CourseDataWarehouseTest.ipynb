{
 "cells": [
  {
   "cell_type": "code",
   "execution_count": 1,
   "metadata": {},
   "outputs": [],
   "source": [
    "%load_ext sql"
   ]
  },
  {
   "cell_type": "code",
   "execution_count": 2,
   "metadata": {},
   "outputs": [
    {
     "data": {
      "text/plain": [
       "'Connected: @CourseDataWareHouse.db'"
      ]
     },
     "execution_count": 2,
     "metadata": {},
     "output_type": "execute_result"
    }
   ],
   "source": [
    "%%sql\n",
    "sqlite:///CourseDataWareHouse.db"
   ]
  },
  {
   "cell_type": "markdown",
   "metadata": {},
   "source": [
    "## Domain integrity"
   ]
  },
  {
   "cell_type": "markdown",
   "metadata": {},
   "source": [
    "Check Data Types for tables"
   ]
  },
  {
   "cell_type": "code",
   "execution_count": 3,
   "metadata": {},
   "outputs": [
    {
     "name": "stdout",
     "output_type": "stream",
     "text": [
      " * sqlite:///CourseDataWareHouse.db\n",
      "(sqlite3.OperationalError) no such column: CC_ID [SQL: 'SELECT typeof(CC_ID), typeof(COURSE_TITLE), typeof(PRE_REQS),typeof(CO_REQS)\\nFROM COURSES\\nlimit 1;'] (Background on this error at: http://sqlalche.me/e/e3q8)\n"
     ]
    }
   ],
   "source": [
    "%%sql\n",
    "SELECT typeof(CC_ID),typeof(COURSE_TITLE),typeof(PRE_REQS),typeof(CO_REQS)\n",
    "FROM COURSES\n",
    "limit 1;"
   ]
  },
  {
   "cell_type": "code",
   "execution_count": 8,
   "metadata": {},
   "outputs": [
    {
     "name": "stdout",
     "output_type": "stream",
     "text": [
      " * sqlite:///CourseDataWareHouse.db\n",
      "Done.\n"
     ]
    },
    {
     "data": {
      "text/html": [
       "<table>\n",
       "    <tr>\n",
       "        <th>typeof(ROOM_ID)</th>\n",
       "        <th>typeof(ROOM_NO)</th>\n",
       "    </tr>\n",
       "</table>"
      ],
      "text/plain": [
       "[]"
      ]
     },
     "execution_count": 8,
     "metadata": {},
     "output_type": "execute_result"
    }
   ],
   "source": [
    "%%sql\n",
    "SELECT typeof(ROOM_ID),typeof(ROOM_NO)\n",
    "FROM MEETINGS\n",
    "limit 1;"
   ]
  },
  {
   "cell_type": "code",
   "execution_count": 9,
   "metadata": {},
   "outputs": [
    {
     "name": "stdout",
     "output_type": "stream",
     "text": [
      " * sqlite:///CourseDataWareHouse.db\n",
      "(sqlite3.OperationalError) no such table: PROFESSOR [SQL: 'SELECT typeof(I_ID),typeof(NAME),typeof(COURSE_TITLE)\\nFROM PROFESSOR\\nlimit 1;'] (Background on this error at: http://sqlalche.me/e/e3q8)\n"
     ]
    }
   ],
   "source": [
    "%%sql\n",
    "SELECT typeof(I_ID),typeof(NAME),typeof(COURSE_TITLE)\n",
    "FROM PROFESSOR\n",
    "limit 1;"
   ]
  },
  {
   "cell_type": "code",
   "execution_count": 71,
   "metadata": {},
   "outputs": [
    {
     "name": "stdout",
     "output_type": "stream",
     "text": [
      " * sqlite:///CourseData.db\n",
      "Done.\n"
     ]
    },
    {
     "data": {
      "text/html": [
       "<table>\n",
       "    <tr>\n",
       "        <th>typeof(CM_ID)</th>\n",
       "        <th>typeof(CRN)</th>\n",
       "        <th>typeof(CAP)</th>\n",
       "        <th>typeof(ACT)</th>\n",
       "        <th>typeof(REM)</th>\n",
       "        <th>typeof(SECTION)</th>\n",
       "    </tr>\n",
       "    <tr>\n",
       "        <td>integer</td>\n",
       "        <td>integer</td>\n",
       "        <td>integer</td>\n",
       "        <td>integer</td>\n",
       "        <td>integer</td>\n",
       "        <td>text</td>\n",
       "    </tr>\n",
       "</table>"
      ],
      "text/plain": [
       "[('integer', 'integer', 'integer', 'integer', 'integer', 'text')]"
      ]
     },
     "execution_count": 71,
     "metadata": {},
     "output_type": "execute_result"
    }
   ],
   "source": [
    "%%sql\n",
    "SELECT typeof(CM_ID), typeof(CRN), typeof(CAP), typeof(ACT),\n",
    "typeof(REM), typeof(SECTION)\n",
    "FROM COURSE_MEETING\n",
    "limit 1;"
   ]
  },
  {
   "cell_type": "code",
   "execution_count": 72,
   "metadata": {},
   "outputs": [
    {
     "name": "stdout",
     "output_type": "stream",
     "text": [
      " * sqlite:///CourseData.db\n",
      "Done.\n"
     ]
    },
    {
     "data": {
      "text/html": [
       "<table>\n",
       "    <tr>\n",
       "        <th>typeof(ROOM_ID)</th>\n",
       "        <th>typeof(Room_No)</th>\n",
       "        <th>typeof(CRN)</th>\n",
       "    </tr>\n",
       "    <tr>\n",
       "        <td>integer</td>\n",
       "        <td>text</td>\n",
       "        <td>integer</td>\n",
       "    </tr>\n",
       "</table>"
      ],
      "text/plain": [
       "[('integer', 'text', 'integer')]"
      ]
     },
     "execution_count": 72,
     "metadata": {},
     "output_type": "execute_result"
    }
   ],
   "source": [
    "%%sql\n",
    "SELECT typeof(ROOM_ID), typeof(Room_No), typeof(CRN)\n",
    "FROM LOCATION\n",
    "limit 1;"
   ]
  },
  {
   "cell_type": "code",
   "execution_count": 67,
   "metadata": {},
   "outputs": [
    {
     "name": "stdout",
     "output_type": "stream",
     "text": [
      " * sqlite:///CourseData.db\n",
      "Done.\n"
     ]
    },
    {
     "data": {
      "text/html": [
       "<table>\n",
       "    <tr>\n",
       "        <th>typeof(TERM_ID)</th>\n",
       "        <th>typeof(TERM_NAME)</th>\n",
       "        <th>typeof(CRN)</th>\n",
       "    </tr>\n",
       "    <tr>\n",
       "        <td>integer</td>\n",
       "        <td>text</td>\n",
       "        <td>integer</td>\n",
       "    </tr>\n",
       "</table>"
      ],
      "text/plain": [
       "[('integer', 'text', 'integer')]"
      ]
     },
     "execution_count": 67,
     "metadata": {},
     "output_type": "execute_result"
    }
   ],
   "source": [
    "%%sql\n",
    "SELECT typeof(TERM_ID), typeof(TERM_NAME), typeof(CRN)\n",
    "FROM TERM\n",
    "limit 1;"
   ]
  },
  {
   "cell_type": "code",
   "execution_count": 73,
   "metadata": {},
   "outputs": [
    {
     "name": "stdout",
     "output_type": "stream",
     "text": [
      " * sqlite:///CourseData.db\n",
      "Done.\n"
     ]
    },
    {
     "data": {
      "text/html": [
       "<table>\n",
       "    <tr>\n",
       "        <th>typeof(TIME_ID)</th>\n",
       "        <th>typeof(START_TIME)</th>\n",
       "        <th>typeof(END_TIME)</th>\n",
       "        <th>typeof(CRN)</th>\n",
       "    </tr>\n",
       "    <tr>\n",
       "        <td>integer</td>\n",
       "        <td>text</td>\n",
       "        <td>text</td>\n",
       "        <td>integer</td>\n",
       "    </tr>\n",
       "</table>"
      ],
      "text/plain": [
       "[('integer', 'text', 'text', 'integer')]"
      ]
     },
     "execution_count": 73,
     "metadata": {},
     "output_type": "execute_result"
    }
   ],
   "source": [
    "%%sql\n",
    "SELECT typeof(TIME_ID), typeof(START_TIME), typeof(END_TIME), typeof(CRN)\n",
    "FROM TIME_CODE\n",
    "limit 1;"
   ]
  },
  {
   "cell_type": "code",
   "execution_count": 74,
   "metadata": {},
   "outputs": [
    {
     "name": "stdout",
     "output_type": "stream",
     "text": [
      " * sqlite:///CourseData.db\n",
      "Done.\n"
     ]
    },
    {
     "data": {
      "text/html": [
       "<table>\n",
       "    <tr>\n",
       "        <th>typeof(I_ID)</th>\n",
       "        <th>typeof(NAME)</th>\n",
       "        <th>typeof(COURSE_TITLE)</th>\n",
       "        <th>typeof(CRN)</th>\n",
       "    </tr>\n",
       "    <tr>\n",
       "        <td>integer</td>\n",
       "        <td>text</td>\n",
       "        <td>text</td>\n",
       "        <td>integer</td>\n",
       "    </tr>\n",
       "</table>"
      ],
      "text/plain": [
       "[('integer', 'text', 'text', 'integer')]"
      ]
     },
     "execution_count": 74,
     "metadata": {},
     "output_type": "execute_result"
    }
   ],
   "source": [
    "%%sql\n",
    "SELECT typeof(I_ID), typeof(NAME), typeof(COURSE_TITLE), typeof(CRN)\n",
    "FROM INSTRUCTOR\n",
    "limit 1;"
   ]
  },
  {
   "cell_type": "markdown",
   "metadata": {},
   "source": [
    "## Entity integrity"
   ]
  },
  {
   "cell_type": "markdown",
   "metadata": {},
   "source": [
    "Check for duplicates in tables"
   ]
  },
  {
   "cell_type": "code",
   "execution_count": 19,
   "metadata": {},
   "outputs": [
    {
     "name": "stdout",
     "output_type": "stream",
     "text": [
      " * sqlite:///CourseData.db\n",
      "Done.\n"
     ]
    },
    {
     "data": {
      "text/html": [
       "<table>\n",
       "    <tr>\n",
       "        <th>COUNT(CATALOG_ID)</th>\n",
       "    </tr>\n",
       "    <tr>\n",
       "        <td>2220</td>\n",
       "    </tr>\n",
       "</table>"
      ],
      "text/plain": [
       "[(2220,)]"
      ]
     },
     "execution_count": 19,
     "metadata": {},
     "output_type": "execute_result"
    }
   ],
   "source": [
    "%%sql\n",
    "SELECT COUNT(CATALOG_ID)\n",
    "FROM CATALOG_PROGRAM;"
   ]
  },
  {
   "cell_type": "code",
   "execution_count": 12,
   "metadata": {},
   "outputs": [
    {
     "name": "stdout",
     "output_type": "stream",
     "text": [
      " * sqlite:///CourseData.db\n",
      "Done.\n"
     ]
    },
    {
     "data": {
      "text/html": [
       "<table>\n",
       "    <tr>\n",
       "        <th>COUNT(CATALOG_ID)</th>\n",
       "    </tr>\n",
       "    <tr>\n",
       "        <td>2220</td>\n",
       "    </tr>\n",
       "</table>"
      ],
      "text/plain": [
       "[(2220,)]"
      ]
     },
     "execution_count": 12,
     "metadata": {},
     "output_type": "execute_result"
    }
   ],
   "source": [
    "%%sql\n",
    "SELECT DISTINCT COUNT(CATALOG_ID)\n",
    "FROM CATALOG_PROGRAM;"
   ]
  },
  {
   "cell_type": "code",
   "execution_count": 29,
   "metadata": {},
   "outputs": [
    {
     "name": "stdout",
     "output_type": "stream",
     "text": [
      " * sqlite:///CourseData.db\n",
      "Done.\n"
     ]
    },
    {
     "data": {
      "text/html": [
       "<table>\n",
       "    <tr>\n",
       "        <th>COUNT(CC_ID)</th>\n",
       "    </tr>\n",
       "    <tr>\n",
       "        <td>2220</td>\n",
       "    </tr>\n",
       "</table>"
      ],
      "text/plain": [
       "[(2220,)]"
      ]
     },
     "execution_count": 29,
     "metadata": {},
     "output_type": "execute_result"
    }
   ],
   "source": [
    "%%sql\n",
    "SELECT COUNT(CC_ID)\n",
    "FROM CATALOG_COURSE;"
   ]
  },
  {
   "cell_type": "code",
   "execution_count": 30,
   "metadata": {},
   "outputs": [
    {
     "name": "stdout",
     "output_type": "stream",
     "text": [
      " * sqlite:///CourseData.db\n",
      "Done.\n"
     ]
    },
    {
     "data": {
      "text/html": [
       "<table>\n",
       "    <tr>\n",
       "        <th>COUNT(CC_ID)</th>\n",
       "    </tr>\n",
       "    <tr>\n",
       "        <td>2220</td>\n",
       "    </tr>\n",
       "</table>"
      ],
      "text/plain": [
       "[(2220,)]"
      ]
     },
     "execution_count": 30,
     "metadata": {},
     "output_type": "execute_result"
    }
   ],
   "source": [
    "%%sql\n",
    "SELECT DISTINCT COUNT(CC_ID)\n",
    "FROM CATALOG_COURSE;"
   ]
  },
  {
   "cell_type": "code",
   "execution_count": 33,
   "metadata": {},
   "outputs": [
    {
     "name": "stdout",
     "output_type": "stream",
     "text": [
      " * sqlite:///CourseData.db\n",
      "Done.\n"
     ]
    },
    {
     "data": {
      "text/html": [
       "<table>\n",
       "    <tr>\n",
       "        <th>COUNT(COURSE_TITLE)</th>\n",
       "    </tr>\n",
       "    <tr>\n",
       "        <td>14330</td>\n",
       "    </tr>\n",
       "</table>"
      ],
      "text/plain": [
       "[(14330,)]"
      ]
     },
     "execution_count": 33,
     "metadata": {},
     "output_type": "execute_result"
    }
   ],
   "source": [
    "%%sql\n",
    "SELECT COUNT(COURSE_TITLE)\n",
    "FROM COURSE_OFFERING;"
   ]
  },
  {
   "cell_type": "code",
   "execution_count": 34,
   "metadata": {},
   "outputs": [
    {
     "name": "stdout",
     "output_type": "stream",
     "text": [
      " * sqlite:///CourseData.db\n",
      "Done.\n"
     ]
    },
    {
     "data": {
      "text/html": [
       "<table>\n",
       "    <tr>\n",
       "        <th>COUNT(COURSE_TITLE)</th>\n",
       "    </tr>\n",
       "    <tr>\n",
       "        <td>14330</td>\n",
       "    </tr>\n",
       "</table>"
      ],
      "text/plain": [
       "[(14330,)]"
      ]
     },
     "execution_count": 34,
     "metadata": {},
     "output_type": "execute_result"
    }
   ],
   "source": [
    "%%sql\n",
    "SELECT DISTINCT COUNT(COURSE_TITLE)\n",
    "FROM COURSE_OFFERING;"
   ]
  },
  {
   "cell_type": "code",
   "execution_count": 35,
   "metadata": {},
   "outputs": [
    {
     "name": "stdout",
     "output_type": "stream",
     "text": [
      " * sqlite:///CourseData.db\n",
      "Done.\n"
     ]
    },
    {
     "data": {
      "text/html": [
       "<table>\n",
       "    <tr>\n",
       "        <th>COUNT(CM_ID)</th>\n",
       "    </tr>\n",
       "    <tr>\n",
       "        <td>15908</td>\n",
       "    </tr>\n",
       "</table>"
      ],
      "text/plain": [
       "[(15908,)]"
      ]
     },
     "execution_count": 35,
     "metadata": {},
     "output_type": "execute_result"
    }
   ],
   "source": [
    "%%sql\n",
    "SELECT COUNT(CM_ID)\n",
    "FROM COURSE_MEETING;"
   ]
  },
  {
   "cell_type": "code",
   "execution_count": 36,
   "metadata": {},
   "outputs": [
    {
     "name": "stdout",
     "output_type": "stream",
     "text": [
      " * sqlite:///CourseData.db\n",
      "Done.\n"
     ]
    },
    {
     "data": {
      "text/html": [
       "<table>\n",
       "    <tr>\n",
       "        <th>COUNT(CM_ID)</th>\n",
       "    </tr>\n",
       "    <tr>\n",
       "        <td>15908</td>\n",
       "    </tr>\n",
       "</table>"
      ],
      "text/plain": [
       "[(15908,)]"
      ]
     },
     "execution_count": 36,
     "metadata": {},
     "output_type": "execute_result"
    }
   ],
   "source": [
    "%%sql\n",
    "SELECT DISTINCT COUNT(CM_ID)\n",
    "FROM COURSE_MEETING;"
   ]
  },
  {
   "cell_type": "code",
   "execution_count": 18,
   "metadata": {},
   "outputs": [
    {
     "name": "stdout",
     "output_type": "stream",
     "text": [
      " * sqlite:///CourseData.db\n",
      "Done.\n"
     ]
    },
    {
     "data": {
      "text/html": [
       "<table>\n",
       "    <tr>\n",
       "        <th>COUNT(Room_No)</th>\n",
       "    </tr>\n",
       "    <tr>\n",
       "        <td>13731</td>\n",
       "    </tr>\n",
       "</table>"
      ],
      "text/plain": [
       "[(13731,)]"
      ]
     },
     "execution_count": 18,
     "metadata": {},
     "output_type": "execute_result"
    }
   ],
   "source": [
    "%%sql\n",
    "SELECT COUNT(Room_No)\n",
    "FROM Location;"
   ]
  },
  {
   "cell_type": "code",
   "execution_count": 17,
   "metadata": {},
   "outputs": [
    {
     "name": "stdout",
     "output_type": "stream",
     "text": [
      " * sqlite:///CourseData.db\n",
      "Done.\n"
     ]
    },
    {
     "data": {
      "text/html": [
       "<table>\n",
       "    <tr>\n",
       "        <th>COUNT(Room_No)</th>\n",
       "    </tr>\n",
       "    <tr>\n",
       "        <td>13731</td>\n",
       "    </tr>\n",
       "</table>"
      ],
      "text/plain": [
       "[(13731,)]"
      ]
     },
     "execution_count": 17,
     "metadata": {},
     "output_type": "execute_result"
    }
   ],
   "source": [
    "%%sql\n",
    "SELECT DISTINCT COUNT(Room_No)\n",
    "FROM Location;"
   ]
  },
  {
   "cell_type": "code",
   "execution_count": 37,
   "metadata": {},
   "outputs": [
    {
     "name": "stdout",
     "output_type": "stream",
     "text": [
      " * sqlite:///CourseData.db\n",
      "Done.\n"
     ]
    },
    {
     "data": {
      "text/html": [
       "<table>\n",
       "    <tr>\n",
       "        <th>COUNT(CRN)</th>\n",
       "    </tr>\n",
       "    <tr>\n",
       "        <td>12697</td>\n",
       "    </tr>\n",
       "</table>"
      ],
      "text/plain": [
       "[(12697,)]"
      ]
     },
     "execution_count": 37,
     "metadata": {},
     "output_type": "execute_result"
    }
   ],
   "source": [
    "%%sql\n",
    "SELECT COUNT(CRN)\n",
    "FROM Term;"
   ]
  },
  {
   "cell_type": "code",
   "execution_count": 38,
   "metadata": {},
   "outputs": [
    {
     "name": "stdout",
     "output_type": "stream",
     "text": [
      " * sqlite:///CourseData.db\n",
      "Done.\n"
     ]
    },
    {
     "data": {
      "text/html": [
       "<table>\n",
       "    <tr>\n",
       "        <th>COUNT(CRN)</th>\n",
       "    </tr>\n",
       "    <tr>\n",
       "        <td>12697</td>\n",
       "    </tr>\n",
       "</table>"
      ],
      "text/plain": [
       "[(12697,)]"
      ]
     },
     "execution_count": 38,
     "metadata": {},
     "output_type": "execute_result"
    }
   ],
   "source": [
    "%%sql\n",
    "SELECT DISTINCT COUNT(CRN)\n",
    "FROM Term;"
   ]
  },
  {
   "cell_type": "code",
   "execution_count": 20,
   "metadata": {},
   "outputs": [
    {
     "name": "stdout",
     "output_type": "stream",
     "text": [
      " * sqlite:///CourseData.db\n",
      "Done.\n"
     ]
    },
    {
     "data": {
      "text/html": [
       "<table>\n",
       "    <tr>\n",
       "        <th>COUNT(Name)</th>\n",
       "    </tr>\n",
       "    <tr>\n",
       "        <td>14329</td>\n",
       "    </tr>\n",
       "</table>"
      ],
      "text/plain": [
       "[(14329,)]"
      ]
     },
     "execution_count": 20,
     "metadata": {},
     "output_type": "execute_result"
    }
   ],
   "source": [
    "%%sql\n",
    "SELECT COUNT(Name)\n",
    "FROM Instructor;"
   ]
  },
  {
   "cell_type": "code",
   "execution_count": 21,
   "metadata": {},
   "outputs": [
    {
     "name": "stdout",
     "output_type": "stream",
     "text": [
      " * sqlite:///CourseData.db\n",
      "Done.\n"
     ]
    },
    {
     "data": {
      "text/html": [
       "<table>\n",
       "    <tr>\n",
       "        <th>COUNT(Name)</th>\n",
       "    </tr>\n",
       "    <tr>\n",
       "        <td>14329</td>\n",
       "    </tr>\n",
       "</table>"
      ],
      "text/plain": [
       "[(14329,)]"
      ]
     },
     "execution_count": 21,
     "metadata": {},
     "output_type": "execute_result"
    }
   ],
   "source": [
    "%%sql\n",
    "SELECT DISTINCT COUNT(Name)\n",
    "FROM Instructor;"
   ]
  },
  {
   "cell_type": "code",
   "execution_count": 39,
   "metadata": {},
   "outputs": [
    {
     "name": "stdout",
     "output_type": "stream",
     "text": [
      " * sqlite:///CourseData.db\n",
      "Done.\n"
     ]
    },
    {
     "data": {
      "text/html": [
       "<table>\n",
       "    <tr>\n",
       "        <th>COUNT(CRN)</th>\n",
       "    </tr>\n",
       "    <tr>\n",
       "        <td>296781</td>\n",
       "    </tr>\n",
       "</table>"
      ],
      "text/plain": [
       "[(296781,)]"
      ]
     },
     "execution_count": 39,
     "metadata": {},
     "output_type": "execute_result"
    }
   ],
   "source": [
    "%%sql\n",
    "SELECT COUNT(CRN)\n",
    "FROM Time_Code;"
   ]
  },
  {
   "cell_type": "code",
   "execution_count": 40,
   "metadata": {},
   "outputs": [
    {
     "name": "stdout",
     "output_type": "stream",
     "text": [
      " * sqlite:///CourseData.db\n",
      "Done.\n"
     ]
    },
    {
     "data": {
      "text/html": [
       "<table>\n",
       "    <tr>\n",
       "        <th>COUNT(CRN)</th>\n",
       "    </tr>\n",
       "    <tr>\n",
       "        <td>296781</td>\n",
       "    </tr>\n",
       "</table>"
      ],
      "text/plain": [
       "[(296781,)]"
      ]
     },
     "execution_count": 40,
     "metadata": {},
     "output_type": "execute_result"
    }
   ],
   "source": [
    "%%sql\n",
    "SELECT DISTINCT COUNT(CRN)\n",
    "FROM Time_Code;"
   ]
  },
  {
   "cell_type": "markdown",
   "metadata": {},
   "source": [
    "## Relational integrity"
   ]
  },
  {
   "cell_type": "markdown",
   "metadata": {},
   "source": [
    "Foreign Keys Joins compatible with the Primary Keys"
   ]
  },
  {
   "cell_type": "code",
   "execution_count": 42,
   "metadata": {},
   "outputs": [
    {
     "name": "stdout",
     "output_type": "stream",
     "text": [
      " * sqlite:///CourseData.db\n",
      "Done.\n"
     ]
    },
    {
     "data": {
      "text/html": [
       "<table>\n",
       "    <tr>\n",
       "        <th>CATALOG_ID</th>\n",
       "        <th>PROGRAM_CODE</th>\n",
       "        <th>PROGRAM_NAME</th>\n",
       "        <th>COURSE_TITLE</th>\n",
       "        <th>CC_ID</th>\n",
       "        <th>COURSE_TITLE_1</th>\n",
       "        <th>PRE_REQS</th>\n",
       "        <th>CO_REQS</th>\n",
       "        <th>CATALOG_ID_1</th>\n",
       "    </tr>\n",
       "    <tr>\n",
       "        <td>AN 0301</td>\n",
       "        <td>AN</td>\n",
       "        <td>Asian Studies</td>\n",
       "        <td>Independent Study</td>\n",
       "        <td>1</td>\n",
       "        <td>Independent Study</td>\n",
       "        <td>None</td>\n",
       "        <td>None</td>\n",
       "        <td>AN 0301</td>\n",
       "    </tr>\n",
       "</table>"
      ],
      "text/plain": [
       "[('AN 0301', 'AN', 'Asian Studies', 'Independent Study', 1, 'Independent Study', None, None, 'AN 0301')]"
      ]
     },
     "execution_count": 42,
     "metadata": {},
     "output_type": "execute_result"
    }
   ],
   "source": [
    "%%sql\n",
    "SELECT *\n",
    "FROM CATALOG_PROGRAM a, CATALOG_COURSE b\n",
    "WHERE a.CATALOG_ID=b.CATALOG_ID\n",
    "limit 1;"
   ]
  },
  {
   "cell_type": "code",
   "execution_count": 43,
   "metadata": {},
   "outputs": [
    {
     "name": "stdout",
     "output_type": "stream",
     "text": [
      " * sqlite:///CourseData.db\n",
      "Done.\n"
     ]
    },
    {
     "data": {
      "text/html": [
       "<table>\n",
       "    <tr>\n",
       "        <th>CC_ID</th>\n",
       "        <th>COURSE_TITLE</th>\n",
       "        <th>PRE_REQS</th>\n",
       "        <th>CO_REQS</th>\n",
       "        <th>CATALOG_ID</th>\n",
       "        <th>CO_ID</th>\n",
       "        <th>CRN</th>\n",
       "        <th>SECTION</th>\n",
       "        <th>COURSE_TITLE_1</th>\n",
       "        <th>CREDITS</th>\n",
       "    </tr>\n",
       "    <tr>\n",
       "        <td>1</td>\n",
       "        <td>Independent Study</td>\n",
       "        <td>None</td>\n",
       "        <td>None</td>\n",
       "        <td>AN 0301</td>\n",
       "        <td>6629</td>\n",
       "        <td>11628</td>\n",
       "        <td>DG</td>\n",
       "        <td>Independent Study</td>\n",
       "        <td>1.000</td>\n",
       "    </tr>\n",
       "</table>"
      ],
      "text/plain": [
       "[(1, 'Independent Study', None, None, 'AN 0301', 6629, 11628, 'DG', 'Independent Study', '1.000')]"
      ]
     },
     "execution_count": 43,
     "metadata": {},
     "output_type": "execute_result"
    }
   ],
   "source": [
    "%%sql\n",
    "SELECT *\n",
    "FROM CATALOG_COURSE a, COURSE_OFFERING b\n",
    "WHERE a.COURSE_TITLE=b.COURSE_TITLE\n",
    "limit 1;"
   ]
  },
  {
   "cell_type": "code",
   "execution_count": 44,
   "metadata": {},
   "outputs": [
    {
     "name": "stdout",
     "output_type": "stream",
     "text": [
      " * sqlite:///CourseData.db\n",
      "Done.\n"
     ]
    },
    {
     "data": {
      "text/html": [
       "<table>\n",
       "    <tr>\n",
       "        <th>CO_ID</th>\n",
       "        <th>CRN</th>\n",
       "        <th>SECTION</th>\n",
       "        <th>COURSE_TITLE</th>\n",
       "        <th>CREDITS</th>\n",
       "        <th>TERM_ID</th>\n",
       "        <th>TERM_NAME</th>\n",
       "        <th>CRN_1</th>\n",
       "    </tr>\n",
       "    <tr>\n",
       "        <td>1</td>\n",
       "        <td>70384</td>\n",
       "        <td>C01</td>\n",
       "        <td>Introduction to Financial Accounting</td>\n",
       "        <td>3.000</td>\n",
       "        <td>1</td>\n",
       "        <td>Fall2014</td>\n",
       "        <td>70384</td>\n",
       "    </tr>\n",
       "</table>"
      ],
      "text/plain": [
       "[(1, 70384, 'C01', 'Introduction to Financial Accounting', '3.000', 1, 'Fall2014', 70384)]"
      ]
     },
     "execution_count": 44,
     "metadata": {},
     "output_type": "execute_result"
    }
   ],
   "source": [
    "%%sql\n",
    "SELECT *\n",
    "FROM COURSE_OFFERING a, TERM b\n",
    "WHERE a.CRN=b.CRN\n",
    "limit 1;"
   ]
  },
  {
   "cell_type": "code",
   "execution_count": 45,
   "metadata": {},
   "outputs": [
    {
     "name": "stdout",
     "output_type": "stream",
     "text": [
      " * sqlite:///CourseData.db\n",
      "Done.\n"
     ]
    },
    {
     "data": {
      "text/html": [
       "<table>\n",
       "    <tr>\n",
       "        <th>CO_ID</th>\n",
       "        <th>CRN</th>\n",
       "        <th>SECTION</th>\n",
       "        <th>COURSE_TITLE</th>\n",
       "        <th>CREDITS</th>\n",
       "        <th>I_ID</th>\n",
       "        <th>NAME</th>\n",
       "        <th>COURSE_TITLE_1</th>\n",
       "        <th>CRN_1</th>\n",
       "    </tr>\n",
       "    <tr>\n",
       "        <td>1</td>\n",
       "        <td>70384</td>\n",
       "        <td>C01</td>\n",
       "        <td>Introduction to Financial Accounting</td>\n",
       "        <td>3.000</td>\n",
       "        <td>1</td>\n",
       "        <td>Michael P.  Coyne</td>\n",
       "        <td>Introduction to Financial Accounting</td>\n",
       "        <td>70384</td>\n",
       "    </tr>\n",
       "</table>"
      ],
      "text/plain": [
       "[(1, 70384, 'C01', 'Introduction to Financial Accounting', '3.000', 1, 'Michael P.  Coyne', 'Introduction to Financial Accounting', 70384)]"
      ]
     },
     "execution_count": 45,
     "metadata": {},
     "output_type": "execute_result"
    }
   ],
   "source": [
    "%%sql\n",
    "SELECT *\n",
    "FROM COURSE_OFFERING a, INSTRUCTOR b\n",
    "WHERE a.CRN=b.CRN\n",
    "limit 1;"
   ]
  },
  {
   "cell_type": "code",
   "execution_count": 46,
   "metadata": {},
   "outputs": [
    {
     "name": "stdout",
     "output_type": "stream",
     "text": [
      " * sqlite:///CourseData.db\n",
      "Done.\n"
     ]
    },
    {
     "data": {
      "text/html": [
       "<table>\n",
       "    <tr>\n",
       "        <th>CO_ID</th>\n",
       "        <th>CRN</th>\n",
       "        <th>SECTION</th>\n",
       "        <th>COURSE_TITLE</th>\n",
       "        <th>CREDITS</th>\n",
       "        <th>CM_ID</th>\n",
       "        <th>CRN_1</th>\n",
       "        <th>CAP</th>\n",
       "        <th>ACT</th>\n",
       "        <th>REM</th>\n",
       "        <th>SECTION_1</th>\n",
       "    </tr>\n",
       "    <tr>\n",
       "        <td>1</td>\n",
       "        <td>70384</td>\n",
       "        <td>C01</td>\n",
       "        <td>Introduction to Financial Accounting</td>\n",
       "        <td>3.000</td>\n",
       "        <td>434</td>\n",
       "        <td>70015</td>\n",
       "        <td>0</td>\n",
       "        <td>19</td>\n",
       "        <td>-19</td>\n",
       "        <td>C01</td>\n",
       "    </tr>\n",
       "</table>"
      ],
      "text/plain": [
       "[(1, 70384, 'C01', 'Introduction to Financial Accounting', '3.000', 434, 70015, 0, 19, -19, 'C01')]"
      ]
     },
     "execution_count": 46,
     "metadata": {},
     "output_type": "execute_result"
    }
   ],
   "source": [
    "%%sql\n",
    "SELECT *\n",
    "FROM COURSE_OFFERING a, COURSE_MEETING b\n",
    "WHERE a.SECTION=b.SECTION\n",
    "limit 1;"
   ]
  },
  {
   "cell_type": "code",
   "execution_count": 47,
   "metadata": {},
   "outputs": [
    {
     "name": "stdout",
     "output_type": "stream",
     "text": [
      " * sqlite:///CourseData.db\n",
      "Done.\n"
     ]
    },
    {
     "data": {
      "text/html": [
       "<table>\n",
       "    <tr>\n",
       "        <th>CO_ID</th>\n",
       "        <th>CRN</th>\n",
       "        <th>SECTION</th>\n",
       "        <th>COURSE_TITLE</th>\n",
       "        <th>CREDITS</th>\n",
       "        <th>TIME_ID</th>\n",
       "        <th>START_TIME</th>\n",
       "        <th>END_TIME</th>\n",
       "        <th>CRN_1</th>\n",
       "    </tr>\n",
       "    <tr>\n",
       "        <td>1</td>\n",
       "        <td>70384</td>\n",
       "        <td>C01</td>\n",
       "        <td>Introduction to Financial Accounting</td>\n",
       "        <td>3.000</td>\n",
       "        <td>1</td>\n",
       "        <td>2014-09-02T08:00:00</td>\n",
       "        <td>2014-09-02T09:15:00</td>\n",
       "        <td>70384</td>\n",
       "    </tr>\n",
       "</table>"
      ],
      "text/plain": [
       "[(1, 70384, 'C01', 'Introduction to Financial Accounting', '3.000', 1, '2014-09-02T08:00:00', '2014-09-02T09:15:00', 70384)]"
      ]
     },
     "execution_count": 47,
     "metadata": {},
     "output_type": "execute_result"
    }
   ],
   "source": [
    "%%sql\n",
    "SELECT *\n",
    "FROM COURSE_OFFERING a, TIME_CODE b\n",
    "WHERE a.CRN=b.CRN\n",
    "limit 1;"
   ]
  },
  {
   "cell_type": "code",
   "execution_count": 48,
   "metadata": {},
   "outputs": [
    {
     "name": "stdout",
     "output_type": "stream",
     "text": [
      " * sqlite:///CourseData.db\n",
      "Done.\n"
     ]
    },
    {
     "data": {
      "text/html": [
       "<table>\n",
       "    <tr>\n",
       "        <th>CM_ID</th>\n",
       "        <th>CRN</th>\n",
       "        <th>CAP</th>\n",
       "        <th>ACT</th>\n",
       "        <th>REM</th>\n",
       "        <th>SECTION</th>\n",
       "        <th>ROOM_ID</th>\n",
       "        <th>Room_No</th>\n",
       "        <th>CRN_1</th>\n",
       "    </tr>\n",
       "    <tr>\n",
       "        <td>1</td>\n",
       "        <td>70384</td>\n",
       "        <td>0</td>\n",
       "        <td>31</td>\n",
       "        <td>-31</td>\n",
       "        <td>C01</td>\n",
       "        <td>1</td>\n",
       "        <td>DSB 105</td>\n",
       "        <td>70384</td>\n",
       "    </tr>\n",
       "</table>"
      ],
      "text/plain": [
       "[(1, 70384, 0, 31, -31, 'C01', 1, 'DSB 105', 70384)]"
      ]
     },
     "execution_count": 48,
     "metadata": {},
     "output_type": "execute_result"
    }
   ],
   "source": [
    "%%sql\n",
    "SELECT *\n",
    "FROM COURSE_MEETING a, LOCATION b\n",
    "WHERE a.CRN=b.CRN\n",
    "limit 1;"
   ]
  }
 ],
 "metadata": {
  "kernelspec": {
   "display_name": "Python 3",
   "language": "python",
   "name": "python3"
  },
  "language_info": {
   "codemirror_mode": {
    "name": "ipython",
    "version": 3
   },
   "file_extension": ".py",
   "mimetype": "text/x-python",
   "name": "python",
   "nbconvert_exporter": "python",
   "pygments_lexer": "ipython3",
   "version": "3.6.5"
  }
 },
 "nbformat": 4,
 "nbformat_minor": 2
}
